{
 "cells": [
  {
   "cell_type": "code",
   "execution_count": 1,
   "id": "67a69a38",
   "metadata": {},
   "outputs": [],
   "source": [
    "import numpy as np\n",
    "import pandas as pd\n",
    "import matplotlib.pyplot as plt"
   ]
  },
  {
   "cell_type": "code",
   "execution_count": 2,
   "id": "7856805b",
   "metadata": {},
   "outputs": [],
   "source": [
    "import seaborn as sns"
   ]
  },
  {
   "cell_type": "markdown",
   "id": "26b6ab5f",
   "metadata": {},
   "source": [
    "驱虫市场分析"
   ]
  },
  {
   "cell_type": "markdown",
   "id": "ee7433af",
   "metadata": {},
   "source": [
    "分析目的:针对各个子类目市场近三年的交易额数据,以及top100品牌数据(2017年\n",
    "11月到2018年10月),通过描述性分析,在年变化的维度上:\n",
    "分析过程:\n",
    "·\n",
    "1. 分析整个市场的总体趋势\n",
    "2. 分析各子类目市场占比及变化趋势\n",
    "3. 分析市场集中度,即是否存在垄断\n",
    "·\n",
    "读取各子类目市场近三年交易额数"
   ]
  },
  {
   "cell_type": "code",
   "execution_count": 3,
   "id": "7b0df6ee",
   "metadata": {},
   "outputs": [],
   "source": [
    "sns.set()"
   ]
  },
  {
   "cell_type": "code",
   "execution_count": 4,
   "id": "f116ac18",
   "metadata": {},
   "outputs": [],
   "source": [
    "import os"
   ]
  },
  {
   "cell_type": "code",
   "execution_count": 5,
   "id": "afe19161",
   "metadata": {},
   "outputs": [],
   "source": [
    "os.chdir(r'C:\\Users\\ause\\Desktop\\Python2101\\2101\\day20\\data\\驱虫剂市场')"
   ]
  },
  {
   "cell_type": "code",
   "execution_count": 6,
   "id": "9467062d",
   "metadata": {},
   "outputs": [],
   "source": [
    "import glob"
   ]
  },
  {
   "cell_type": "code",
   "execution_count": 7,
   "id": "3d0c2603",
   "metadata": {},
   "outputs": [
    {
     "data": {
      "text/plain": [
       "['灭鼠杀虫剂市场近三年交易额.xlsx',\n",
       " '电蚊香套装市场近三年交易额.xlsx',\n",
       " '盘香灭蟑香蚊香盘市场近三年交易额.xlsx',\n",
       " '蚊香加热器市场近三年交易额.xlsx',\n",
       " '蚊香液市场近三年交易额.xlsx',\n",
       " '蚊香片市场近三年交易额.xlsx',\n",
       " '防霉防蛀片市场近三年交易额.xlsx']"
      ]
     },
     "execution_count": 7,
     "metadata": {},
     "output_type": "execute_result"
    }
   ],
   "source": [
    "files = glob.glob(f'*近三年交易额.xlsx')\n",
    "files"
   ]
  },
  {
   "cell_type": "code",
   "execution_count": 8,
   "id": "d785c8f8",
   "metadata": {},
   "outputs": [
    {
     "data": {
      "text/html": [
       "<div>\n",
       "<style scoped>\n",
       "    .dataframe tbody tr th:only-of-type {\n",
       "        vertical-align: middle;\n",
       "    }\n",
       "\n",
       "    .dataframe tbody tr th {\n",
       "        vertical-align: top;\n",
       "    }\n",
       "\n",
       "    .dataframe thead th {\n",
       "        text-align: right;\n",
       "    }\n",
       "</style>\n",
       "<table border=\"1\" class=\"dataframe\">\n",
       "  <thead>\n",
       "    <tr style=\"text-align: right;\">\n",
       "      <th></th>\n",
       "      <th>时间</th>\n",
       "      <th>交易金额</th>\n",
       "    </tr>\n",
       "  </thead>\n",
       "  <tbody>\n",
       "    <tr>\n",
       "      <th>0</th>\n",
       "      <td>43374</td>\n",
       "      <td>106531.29</td>\n",
       "    </tr>\n",
       "    <tr>\n",
       "      <th>1</th>\n",
       "      <td>43344</td>\n",
       "      <td>105666.63</td>\n",
       "    </tr>\n",
       "    <tr>\n",
       "      <th>2</th>\n",
       "      <td>43313</td>\n",
       "      <td>201467.03</td>\n",
       "    </tr>\n",
       "    <tr>\n",
       "      <th>3</th>\n",
       "      <td>43282</td>\n",
       "      <td>438635.29</td>\n",
       "    </tr>\n",
       "    <tr>\n",
       "      <th>4</th>\n",
       "      <td>43252</td>\n",
       "      <td>953749.78</td>\n",
       "    </tr>\n",
       "  </tbody>\n",
       "</table>\n",
       "</div>"
      ],
      "text/plain": [
       "      时间       交易金额\n",
       "0  43374  106531.29\n",
       "1  43344  105666.63\n",
       "2  43313  201467.03\n",
       "3  43282  438635.29\n",
       "4  43252  953749.78"
      ]
     },
     "execution_count": 8,
     "metadata": {},
     "output_type": "execute_result"
    }
   ],
   "source": [
    "temp = pd.read_excel(files[1])\n",
    "temp.head()"
   ]
  },
  {
   "cell_type": "code",
   "execution_count": 9,
   "id": "dd5cc4f0",
   "metadata": {},
   "outputs": [
    {
     "data": {
      "text/plain": [
       "dtype('int64')"
      ]
     },
     "execution_count": 9,
     "metadata": {},
     "output_type": "execute_result"
    }
   ],
   "source": [
    "temp.时间.dtype"
   ]
  },
  {
   "cell_type": "code",
   "execution_count": 10,
   "id": "8bc38d93",
   "metadata": {},
   "outputs": [
    {
     "data": {
      "text/plain": [
       "0    2018-10-01\n",
       "1    2018-09-01\n",
       "2    2018-08-01\n",
       "3    2018-07-01\n",
       "4    2018-06-01\n",
       "5    2018-05-01\n",
       "6    2018-04-01\n",
       "7    2018-03-01\n",
       "8    2018-02-01\n",
       "9    2018-01-01\n",
       "10   2017-12-01\n",
       "11   2017-11-01\n",
       "12   2017-10-01\n",
       "13   2017-09-01\n",
       "14   2017-08-01\n",
       "15   2017-07-01\n",
       "16   2017-06-01\n",
       "17   2017-05-01\n",
       "18   2017-04-01\n",
       "19   2017-03-01\n",
       "20   2017-02-01\n",
       "21   2017-01-01\n",
       "22   2016-12-01\n",
       "23   2016-11-01\n",
       "24   2016-10-01\n",
       "25   2016-09-01\n",
       "26   2016-08-01\n",
       "27   2016-07-01\n",
       "28   2016-06-01\n",
       "29   2016-05-01\n",
       "30   2016-04-01\n",
       "31   2016-03-01\n",
       "32   2016-02-01\n",
       "33   2016-01-01\n",
       "34   2015-12-01\n",
       "35   2015-11-01\n",
       "Name: 时间, dtype: datetime64[ns]"
      ]
     },
     "execution_count": 10,
     "metadata": {},
     "output_type": "execute_result"
    }
   ],
   "source": [
    "# 如何把int型的数字转化为datetime类型.\n",
    "# 数字实际上是时间戳.是以天为单位的时间戳\n",
    "pd.to_datetime(temp['时间'], unit='D', origin='1899-12-30')"
   ]
  },
  {
   "cell_type": "code",
   "execution_count": 11,
   "id": "41882cd0",
   "metadata": {},
   "outputs": [],
   "source": [
    "s = '灭鼠杀虫剂市场近三年交易额.xlsx'"
   ]
  },
  {
   "cell_type": "code",
   "execution_count": 12,
   "id": "b79cd1d9",
   "metadata": {},
   "outputs": [],
   "source": [
    "import re"
   ]
  },
  {
   "cell_type": "code",
   "execution_count": 13,
   "id": "a1562f56",
   "metadata": {},
   "outputs": [
    {
     "data": {
      "text/plain": [
       "'灭鼠杀虫剂'"
      ]
     },
     "execution_count": 13,
     "metadata": {},
     "output_type": "execute_result"
    }
   ],
   "source": [
    "re.match(r'(.*?)市场近三年交易额.*?', s).group(1)"
   ]
  },
  {
   "cell_type": "code",
   "execution_count": 14,
   "id": "3bc04992",
   "metadata": {},
   "outputs": [],
   "source": [
    "temps = []\n",
    "for file_name in files:\n",
    "    temp = pd.read_excel(file_name)\n",
    "    if temp.时间.dtype == 'int64':\n",
    "        temp['时间'] = pd.to_datetime(temp['时间'], unit='D', origin='1899-12-30')\n",
    "    # 把时间设为行索引\n",
    "    temp.set_index(keys='时间', inplace=True)\n",
    "    # 设置各个市场的列名\n",
    "    col_name = re.match(r'(.*?)市场近三年交易额.*?', file_name).group(1)\n",
    "    temp.columns = [col_name]\n",
    "    temps.append(temp)"
   ]
  },
  {
   "cell_type": "code",
   "execution_count": 15,
   "id": "718c14bd",
   "metadata": {},
   "outputs": [
    {
     "data": {
      "text/plain": [
       "7"
      ]
     },
     "execution_count": 15,
     "metadata": {},
     "output_type": "execute_result"
    }
   ],
   "source": [
    "len(temps)"
   ]
  },
  {
   "cell_type": "code",
   "execution_count": 16,
   "id": "3df80f3e",
   "metadata": {},
   "outputs": [],
   "source": [
    "df = pd.concat(temps, axis=1)"
   ]
  },
  {
   "cell_type": "code",
   "execution_count": 17,
   "id": "45ed286a",
   "metadata": {},
   "outputs": [],
   "source": [
    "df.reset_index(inplace=True)"
   ]
  },
  {
   "cell_type": "code",
   "execution_count": 18,
   "id": "635b97a6",
   "metadata": {},
   "outputs": [],
   "source": [
    "# 对18年少了11, 12月份的数据进行填充, 这种销售数据是很有规律性的数据, 不太好用平均值这样的数字去填充.\n",
    "\n",
    "# 既然是有规律的数据, 那我们可以使用往年的历史数据去预测未来的数据.\n",
    "# 取出11, 12月的数据\n",
    "# 时间类型通过dt 可以把pandas的datetime类型变成Python的datetime对象,这样就可以使用Python datetime对象的方法\n",
    "df['month'] = df.时间.dt.month"
   ]
  },
  {
   "cell_type": "code",
   "execution_count": 19,
   "id": "3caadd4b",
   "metadata": {},
   "outputs": [],
   "source": [
    "# 可以通过月份提取11, 12月的数据\n",
    "month11 = df.loc[df['month'] == 11, '灭鼠杀虫剂']"
   ]
  },
  {
   "cell_type": "code",
   "execution_count": 20,
   "id": "1b1ec8eb",
   "metadata": {},
   "outputs": [],
   "source": [
    "plt.rcParams['font.sans-serif'] = 'SimHei'"
   ]
  },
  {
   "cell_type": "code",
   "execution_count": 21,
   "id": "a628e8f6",
   "metadata": {},
   "outputs": [
    {
     "data": {
      "text/plain": [
       "Index(['灭鼠杀虫剂', '电蚊香套装', '盘香灭蟑香蚊香盘', '蚊香加热器', '蚊香液', '蚊香片', '防霉防蛀片'], dtype='object')"
      ]
     },
     "execution_count": 21,
     "metadata": {},
     "output_type": "execute_result"
    }
   ],
   "source": [
    "df.columns[1:-1]"
   ]
  },
  {
   "cell_type": "code",
   "execution_count": 22,
   "id": "0bba6a68",
   "metadata": {
    "scrolled": true
   },
   "outputs": [
    {
     "data": {
      "image/png": "[encoded data removed]",
      "text/plain": [
       "<Figure size 432x2016 with 7 Axes>"
      ]
     },
     "metadata": {},
     "output_type": "display_data"
    }
   ],
   "source": [
    "plt.figure(figsize=(1*6, 4*7))\n",
    "for i, col in enumerate(df.columns[1:-1]):\n",
    "    month11 = df.loc[df['month'] == 11, col][::-1]\n",
    "    month11.index = ['2015', '2016', '2017']\n",
    "    axes = plt.subplot(7, 1, i+1)\n",
    "    month11.plot(ax=axes)\n",
    "    axes.set_title(col)"
   ]
  },
  {
   "cell_type": "code",
   "execution_count": 23,
   "id": "2e661bb9",
   "metadata": {
    "scrolled": true
   },
   "outputs": [
    {
     "data": {
      "image/png": "[encoded data removed]",
      "text/plain": [
       "<Figure size 432x2016 with 7 Axes>"
      ]
     },
     "metadata": {},
     "output_type": "display_data"
    }
   ],
   "source": [
    "plt.figure(figsize=(1*6, 4*7))\n",
    "for i, col in enumerate(df.columns[1:-1]):\n",
    "    month12 = df.loc[df['month'] == 12, col][::-1]\n",
    "    month12.index = ['2015', '2016', '2017']\n",
    "    axes = plt.subplot(7, 1, i+1)\n",
    "    month12.plot(ax=axes)\n",
    "    axes.set_title(col)"
   ]
  },
  {
   "cell_type": "code",
   "execution_count": 24,
   "id": "d1bb2db6",
   "metadata": {},
   "outputs": [],
   "source": [
    "from sklearn.linear_model import LinearRegression"
   ]
  },
  {
   "cell_type": "code",
   "execution_count": 25,
   "id": "b418d15d",
   "metadata": {},
   "outputs": [],
   "source": [
    "from pandas import DataFrame"
   ]
  },
  {
   "cell_type": "code",
   "execution_count": 26,
   "id": "83b8840a",
   "metadata": {},
   "outputs": [],
   "source": [
    "# 1.准备数据"
   ]
  },
  {
   "cell_type": "code",
   "execution_count": 27,
   "id": "742d6494",
   "metadata": {},
   "outputs": [],
   "source": [
    "import datetime"
   ]
  },
  {
   "cell_type": "code",
   "execution_count": 28,
   "id": "bfae1f61",
   "metadata": {},
   "outputs": [],
   "source": [
    "df.drop(columns='month', inplace=True)"
   ]
  },
  {
   "cell_type": "code",
   "execution_count": 29,
   "id": "78d82965",
   "metadata": {},
   "outputs": [
    {
     "data": {
      "text/plain": [
       "Index(['灭鼠杀虫剂', '电蚊香套装', '盘香灭蟑香蚊香盘', '蚊香加热器', '蚊香液', '蚊香片', '防霉防蛀片'], dtype='object')"
      ]
     },
     "execution_count": 29,
     "metadata": {},
     "output_type": "execute_result"
    }
   ],
   "source": [
    "df.columns[1:]"
   ]
  },
  {
   "cell_type": "code",
   "execution_count": 30,
   "id": "c26a2268",
   "metadata": {
    "collapsed": true
   },
   "outputs": [
    {
     "name": "stdout",
     "output_type": "stream",
     "text": [
      "[datetime.datetime(2018, 11, 1, 0, 0), 71752495.99333572, 38692.609999999404, 1801318.8199999928, 193874.38666665554, 5543203.826666832, 776627.0433334112, 6678677.549999952]\n",
      "Index(['时间', '灭鼠杀虫剂', '电蚊香套装', '盘香灭蟑香蚊香盘', '蚊香加热器', '蚊香液', '蚊香片', '防霉防蛀片'], dtype='object')\n",
      "[datetime.datetime(2018, 12, 1, 0, 0), 52567630.680000305, 50204.52999999374, 928554.256666664, 86849.16666666418, 3081491.990000248, 426812.5866666734, 3958717.5799999237]\n",
      "Index(['时间', '灭鼠杀虫剂', '电蚊香套装', '盘香灭蟑香蚊香盘', '蚊香加热器', '蚊香液', '蚊香片', '防霉防蛀片'], dtype='object')\n"
     ]
    },
    {
     "name": "stderr",
     "output_type": "stream",
     "text": [
      "c:\\users\\ause\\desktop\\python2101\\2101\\env\\lib\\site-packages\\sklearn\\utils\\validation.py:63: FutureWarning: Arrays of bytes/strings is being converted to decimal numbers if dtype='numeric'. This behavior is deprecated in 0.24 and will be removed in 1.1 (renaming of 0.26). Please convert your data to numeric values explicitly instead.\n",
      "  return f(*args, **kwargs)\n",
      "c:\\users\\ause\\desktop\\python2101\\2101\\env\\lib\\site-packages\\sklearn\\utils\\validation.py:63: FutureWarning: Arrays of bytes/strings is being converted to decimal numbers if dtype='numeric'. This behavior is deprecated in 0.24 and will be removed in 1.1 (renaming of 0.26). Please convert your data to numeric values explicitly instead.\n",
      "  return f(*args, **kwargs)\n",
      "c:\\users\\ause\\desktop\\python2101\\2101\\env\\lib\\site-packages\\sklearn\\utils\\validation.py:63: FutureWarning: Arrays of bytes/strings is being converted to decimal numbers if dtype='numeric'. This behavior is deprecated in 0.24 and will be removed in 1.1 (renaming of 0.26). Please convert your data to numeric values explicitly instead.\n",
      "  return f(*args, **kwargs)\n",
      "c:\\users\\ause\\desktop\\python2101\\2101\\env\\lib\\site-packages\\sklearn\\utils\\validation.py:63: FutureWarning: Arrays of bytes/strings is being converted to decimal numbers if dtype='numeric'. This behavior is deprecated in 0.24 and will be removed in 1.1 (renaming of 0.26). Please convert your data to numeric values explicitly instead.\n",
      "  return f(*args, **kwargs)\n",
      "c:\\users\\ause\\desktop\\python2101\\2101\\env\\lib\\site-packages\\sklearn\\utils\\validation.py:63: FutureWarning: Arrays of bytes/strings is being converted to decimal numbers if dtype='numeric'. This behavior is deprecated in 0.24 and will be removed in 1.1 (renaming of 0.26). Please convert your data to numeric values explicitly instead.\n",
      "  return f(*args, **kwargs)\n",
      "c:\\users\\ause\\desktop\\python2101\\2101\\env\\lib\\site-packages\\sklearn\\utils\\validation.py:63: FutureWarning: Arrays of bytes/strings is being converted to decimal numbers if dtype='numeric'. This behavior is deprecated in 0.24 and will be removed in 1.1 (renaming of 0.26). Please convert your data to numeric values explicitly instead.\n",
      "  return f(*args, **kwargs)\n",
      "c:\\users\\ause\\desktop\\python2101\\2101\\env\\lib\\site-packages\\sklearn\\utils\\validation.py:63: FutureWarning: Arrays of bytes/strings is being converted to decimal numbers if dtype='numeric'. This behavior is deprecated in 0.24 and will be removed in 1.1 (renaming of 0.26). Please convert your data to numeric values explicitly instead.\n",
      "  return f(*args, **kwargs)\n",
      "c:\\users\\ause\\desktop\\python2101\\2101\\env\\lib\\site-packages\\sklearn\\utils\\validation.py:63: FutureWarning: Arrays of bytes/strings is being converted to decimal numbers if dtype='numeric'. This behavior is deprecated in 0.24 and will be removed in 1.1 (renaming of 0.26). Please convert your data to numeric values explicitly instead.\n",
      "  return f(*args, **kwargs)\n",
      "c:\\users\\ause\\desktop\\python2101\\2101\\env\\lib\\site-packages\\sklearn\\utils\\validation.py:63: FutureWarning: Arrays of bytes/strings is being converted to decimal numbers if dtype='numeric'. This behavior is deprecated in 0.24 and will be removed in 1.1 (renaming of 0.26). Please convert your data to numeric values explicitly instead.\n",
      "  return f(*args, **kwargs)\n",
      "c:\\users\\ause\\desktop\\python2101\\2101\\env\\lib\\site-packages\\sklearn\\utils\\validation.py:63: FutureWarning: Arrays of bytes/strings is being converted to decimal numbers if dtype='numeric'. This behavior is deprecated in 0.24 and will be removed in 1.1 (renaming of 0.26). Please convert your data to numeric values explicitly instead.\n",
      "  return f(*args, **kwargs)\n",
      "c:\\users\\ause\\desktop\\python2101\\2101\\env\\lib\\site-packages\\sklearn\\utils\\validation.py:63: FutureWarning: Arrays of bytes/strings is being converted to decimal numbers if dtype='numeric'. This behavior is deprecated in 0.24 and will be removed in 1.1 (renaming of 0.26). Please convert your data to numeric values explicitly instead.\n",
      "  return f(*args, **kwargs)\n",
      "c:\\users\\ause\\desktop\\python2101\\2101\\env\\lib\\site-packages\\sklearn\\utils\\validation.py:63: FutureWarning: Arrays of bytes/strings is being converted to decimal numbers if dtype='numeric'. This behavior is deprecated in 0.24 and will be removed in 1.1 (renaming of 0.26). Please convert your data to numeric values explicitly instead.\n",
      "  return f(*args, **kwargs)\n",
      "c:\\users\\ause\\desktop\\python2101\\2101\\env\\lib\\site-packages\\sklearn\\utils\\validation.py:63: FutureWarning: Arrays of bytes/strings is being converted to decimal numbers if dtype='numeric'. This behavior is deprecated in 0.24 and will be removed in 1.1 (renaming of 0.26). Please convert your data to numeric values explicitly instead.\n",
      "  return f(*args, **kwargs)\n",
      "c:\\users\\ause\\desktop\\python2101\\2101\\env\\lib\\site-packages\\sklearn\\utils\\validation.py:63: FutureWarning: Arrays of bytes/strings is being converted to decimal numbers if dtype='numeric'. This behavior is deprecated in 0.24 and will be removed in 1.1 (renaming of 0.26). Please convert your data to numeric values explicitly instead.\n",
      "  return f(*args, **kwargs)\n"
     ]
    }
   ],
   "source": [
    "# 经过观察,发现确实很有规律, 用机器学习算法, 比如线性回归,根据历史的年份, 预测未来数据\n",
    "for month in [11, 12]:\n",
    "    y_s = []\n",
    "    for col in df.columns[1:]:\n",
    "        month_data = df.loc[df.时间.dt.month == month, col][::-1]\n",
    "        X_train = np.array(['2015', '2016', '2017']).reshape(-1, 1)\n",
    "        y_train = month_data.values.copy()\n",
    "        # 训练\n",
    "        linear = LinearRegression()\n",
    "        linear.fit(X_train, y_train)\n",
    "        # 准备预测数据\n",
    "        X_test = np.array([2018]).reshape(-1, 1)\n",
    "        # 预测结果是一个ndarry\n",
    "        y_ = linear.predict(X_test)[0]\n",
    "        y_s.append(y_)\n",
    "    # 把预测的数据拼接到原始数据上\n",
    "    data = [datetime.datetime(year=2018, month=month, day=1)] + y_s\n",
    "    print(data)\n",
    "    columns = df.columns\n",
    "    print(columns)\n",
    "    temp = DataFrame(data=[data], columns=columns)\n",
    "    df = temp.append(df)"
   ]
  },
  {
   "cell_type": "code",
   "execution_count": 31,
   "id": "9787c9b4",
   "metadata": {
    "scrolled": true
   },
   "outputs": [],
   "source": [
    "df.reset_index(drop=True, inplace=True)"
   ]
  },
  {
   "cell_type": "code",
   "execution_count": 62,
   "id": "c358ec3e",
   "metadata": {},
   "outputs": [
    {
     "data": {
      "text/html": [
       "<div>\n",
       "<style scoped>\n",
       "    .dataframe tbody tr th:only-of-type {\n",
       "        vertical-align: middle;\n",
       "    }\n",
       "\n",
       "    .dataframe tbody tr th {\n",
       "        vertical-align: top;\n",
       "    }\n",
       "\n",
       "    .dataframe thead th {\n",
       "        text-align: right;\n",
       "    }\n",
       "</style>\n",
       "<table border=\"1\" class=\"dataframe\">\n",
       "  <thead>\n",
       "    <tr style=\"text-align: right;\">\n",
       "      <th></th>\n",
       "      <th>时间</th>\n",
       "      <th>年份</th>\n",
       "      <th>灭鼠杀虫剂</th>\n",
       "      <th>电蚊香套装</th>\n",
       "      <th>盘香灭蟑香蚊香盘</th>\n",
       "      <th>蚊香加热器</th>\n",
       "      <th>蚊香液</th>\n",
       "      <th>蚊香片</th>\n",
       "      <th>防霉防蛀片</th>\n",
       "    </tr>\n",
       "  </thead>\n",
       "  <tbody>\n",
       "    <tr>\n",
       "      <th>0</th>\n",
       "      <td>2018-12-01</td>\n",
       "      <td>2018</td>\n",
       "      <td>5.256763e+07</td>\n",
       "      <td>50204.53</td>\n",
       "      <td>9.285543e+05</td>\n",
       "      <td>86849.166667</td>\n",
       "      <td>3.081492e+06</td>\n",
       "      <td>4.268126e+05</td>\n",
       "      <td>3958717.58</td>\n",
       "    </tr>\n",
       "    <tr>\n",
       "      <th>1</th>\n",
       "      <td>2018-11-01</td>\n",
       "      <td>2018</td>\n",
       "      <td>7.175250e+07</td>\n",
       "      <td>38692.61</td>\n",
       "      <td>1.801319e+06</td>\n",
       "      <td>193874.386667</td>\n",
       "      <td>5.543204e+06</td>\n",
       "      <td>7.766270e+05</td>\n",
       "      <td>6678677.55</td>\n",
       "    </tr>\n",
       "    <tr>\n",
       "      <th>2</th>\n",
       "      <td>2018-10-01</td>\n",
       "      <td>2018</td>\n",
       "      <td>1.136548e+08</td>\n",
       "      <td>106531.29</td>\n",
       "      <td>4.171283e+06</td>\n",
       "      <td>315639.480000</td>\n",
       "      <td>7.814546e+06</td>\n",
       "      <td>1.032414e+06</td>\n",
       "      <td>8541153.59</td>\n",
       "    </tr>\n",
       "    <tr>\n",
       "      <th>3</th>\n",
       "      <td>2018-09-01</td>\n",
       "      <td>2018</td>\n",
       "      <td>1.440261e+08</td>\n",
       "      <td>105666.63</td>\n",
       "      <td>6.784500e+06</td>\n",
       "      <td>457366.410000</td>\n",
       "      <td>1.065497e+07</td>\n",
       "      <td>1.566652e+06</td>\n",
       "      <td>8825870.43</td>\n",
       "    </tr>\n",
       "    <tr>\n",
       "      <th>4</th>\n",
       "      <td>2018-08-01</td>\n",
       "      <td>2018</td>\n",
       "      <td>1.540426e+08</td>\n",
       "      <td>201467.03</td>\n",
       "      <td>1.070968e+07</td>\n",
       "      <td>746513.130000</td>\n",
       "      <td>1.783558e+07</td>\n",
       "      <td>2.617149e+06</td>\n",
       "      <td>6320153.44</td>\n",
       "    </tr>\n",
       "  </tbody>\n",
       "</table>\n",
       "</div>"
      ],
      "text/plain": [
       "          时间    年份         灭鼠杀虫剂      电蚊香套装      盘香灭蟑香蚊香盘          蚊香加热器  \\\n",
       "0 2018-12-01  2018  5.256763e+07   50204.53  9.285543e+05   86849.166667   \n",
       "1 2018-11-01  2018  7.175250e+07   38692.61  1.801319e+06  193874.386667   \n",
       "2 2018-10-01  2018  1.136548e+08  106531.29  4.171283e+06  315639.480000   \n",
       "3 2018-09-01  2018  1.440261e+08  105666.63  6.784500e+06  457366.410000   \n",
       "4 2018-08-01  2018  1.540426e+08  201467.03  1.070968e+07  746513.130000   \n",
       "\n",
       "            蚊香液           蚊香片       防霉防蛀片  \n",
       "0  3.081492e+06  4.268126e+05  3958717.58  \n",
       "1  5.543204e+06  7.766270e+05  6678677.55  \n",
       "2  7.814546e+06  1.032414e+06  8541153.59  \n",
       "3  1.065497e+07  1.566652e+06  8825870.43  \n",
       "4  1.783558e+07  2.617149e+06  6320153.44  "
      ]
     },
     "execution_count": 62,
     "metadata": {},
     "output_type": "execute_result"
    }
   ],
   "source": [
    "df.head()"
   ]
  },
  {
   "cell_type": "code",
   "execution_count": 32,
   "id": "be0f6876",
   "metadata": {
    "collapsed": true
   },
   "outputs": [
    {
     "data": {
      "image/png": "[encoded data removed]",
      "text/plain": [
       "<Figure size 432x2016 with 7 Axes>"
      ]
     },
     "metadata": {},
     "output_type": "display_data"
    }
   ],
   "source": [
    "plt.figure(figsize=(1*6, 4*7))\n",
    "for i, col in enumerate(df.columns[1:]):\n",
    "    month12 = df.loc[df.时间.dt.month == 12, col][::-1]\n",
    "    month12.index = ['2015', '2016', '2017', '2018']\n",
    "    axes = plt.subplot(7, 1, i+1)\n",
    "    month12.plot(ax=axes)\n",
    "    axes.set_title(col)"
   ]
  },
  {
   "cell_type": "code",
   "execution_count": 33,
   "id": "059ad82a",
   "metadata": {},
   "outputs": [],
   "source": [
    "# 按照年份查看驱虫市场的总体变化趋势\n",
    "df = df.iloc[:-2].copy()"
   ]
  },
  {
   "cell_type": "code",
   "execution_count": 34,
   "id": "7d5c31a6",
   "metadata": {
    "scrolled": true
   },
   "outputs": [],
   "source": [
    "# 创建一列年份\n",
    "df.insert(1, '年份', df.时间.dt.year)"
   ]
  },
  {
   "cell_type": "code",
   "execution_count": 35,
   "id": "2a57f6e8",
   "metadata": {},
   "outputs": [],
   "source": [
    "# 按照年份进行分组\n",
    "data_year = df.groupby(by='年份').sum()"
   ]
  },
  {
   "cell_type": "code",
   "execution_count": 40,
   "id": "4792e19f",
   "metadata": {},
   "outputs": [
    {
     "data": {
      "text/plain": [
       "年份\n",
       "2016    9.179661e+08\n",
       "2017    1.395873e+09\n",
       "2018    1.760111e+09\n",
       "dtype: float64"
      ]
     },
     "execution_count": 40,
     "metadata": {},
     "output_type": "execute_result"
    }
   ],
   "source": [
    "data_year.sum(axis=1)"
   ]
  },
  {
   "cell_type": "code",
   "execution_count": 41,
   "id": "41eefb44",
   "metadata": {},
   "outputs": [],
   "source": [
    "data_ratio = data_year.div(data_year.sum(axis=1), axis='index')"
   ]
  },
  {
   "cell_type": "code",
   "execution_count": 42,
   "id": "8324caab",
   "metadata": {},
   "outputs": [
    {
     "data": {
      "text/html": [
       "<div>\n",
       "<style scoped>\n",
       "    .dataframe tbody tr th:only-of-type {\n",
       "        vertical-align: middle;\n",
       "    }\n",
       "\n",
       "    .dataframe tbody tr th {\n",
       "        vertical-align: top;\n",
       "    }\n",
       "\n",
       "    .dataframe thead th {\n",
       "        text-align: right;\n",
       "    }\n",
       "</style>\n",
       "<table border=\"1\" class=\"dataframe\">\n",
       "  <thead>\n",
       "    <tr style=\"text-align: right;\">\n",
       "      <th></th>\n",
       "      <th>灭鼠杀虫剂</th>\n",
       "      <th>电蚊香套装</th>\n",
       "      <th>盘香灭蟑香蚊香盘</th>\n",
       "      <th>蚊香加热器</th>\n",
       "      <th>蚊香液</th>\n",
       "      <th>蚊香片</th>\n",
       "      <th>防霉防蛀片</th>\n",
       "    </tr>\n",
       "    <tr>\n",
       "      <th>年份</th>\n",
       "      <th></th>\n",
       "      <th></th>\n",
       "      <th></th>\n",
       "      <th></th>\n",
       "      <th></th>\n",
       "      <th></th>\n",
       "      <th></th>\n",
       "    </tr>\n",
       "  </thead>\n",
       "  <tbody>\n",
       "    <tr>\n",
       "      <th>2016</th>\n",
       "      <td>0.662385</td>\n",
       "      <td>0.008352</td>\n",
       "      <td>0.052129</td>\n",
       "      <td>0.006433</td>\n",
       "      <td>0.185726</td>\n",
       "      <td>0.030481</td>\n",
       "      <td>0.054493</td>\n",
       "    </tr>\n",
       "    <tr>\n",
       "      <th>2017</th>\n",
       "      <td>0.607343</td>\n",
       "      <td>0.006718</td>\n",
       "      <td>0.061865</td>\n",
       "      <td>0.007560</td>\n",
       "      <td>0.236458</td>\n",
       "      <td>0.035153</td>\n",
       "      <td>0.044903</td>\n",
       "    </tr>\n",
       "    <tr>\n",
       "      <th>2018</th>\n",
       "      <td>0.646489</td>\n",
       "      <td>0.002578</td>\n",
       "      <td>0.067092</td>\n",
       "      <td>0.009566</td>\n",
       "      <td>0.203514</td>\n",
       "      <td>0.029456</td>\n",
       "      <td>0.041305</td>\n",
       "    </tr>\n",
       "  </tbody>\n",
       "</table>\n",
       "</div>"
      ],
      "text/plain": [
       "         灭鼠杀虫剂     电蚊香套装  盘香灭蟑香蚊香盘     蚊香加热器       蚊香液       蚊香片     防霉防蛀片\n",
       "年份                                                                        \n",
       "2016  0.662385  0.008352  0.052129  0.006433  0.185726  0.030481  0.054493\n",
       "2017  0.607343  0.006718  0.061865  0.007560  0.236458  0.035153  0.044903\n",
       "2018  0.646489  0.002578  0.067092  0.009566  0.203514  0.029456  0.041305"
      ]
     },
     "execution_count": 42,
     "metadata": {},
     "output_type": "execute_result"
    }
   ],
   "source": [
    "data_ratio"
   ]
  },
  {
   "cell_type": "code",
   "execution_count": 43,
   "id": "5492e58e",
   "metadata": {},
   "outputs": [
    {
     "data": {
      "text/plain": [
       "Text(-0.1, 0.5, '66.23%')"
      ]
     },
     "execution_count": 43,
     "metadata": {},
     "output_type": "execute_result"
    },
    {
     "data": {
      "image/png": "[encoded data removed]",
      "text/plain": [
       "<Figure size 504x504 with 1 Axes>"
      ]
     },
     "metadata": {},
     "output_type": "display_data"
    }
   ],
   "source": [
    "data_ratio.plot(kind='bar', stacked=True, figsize=(7, 7), rot='40')\n",
    "plt.ylabel('总交易额占比')\n",
    "plt.title('近三年各类目市场交易占比')\n",
    "plt.text(0-0.1, 0.5, '66.23%', fontdict=dict(color='white'))"
   ]
  },
  {
   "cell_type": "code",
   "execution_count": 44,
   "id": "25f01da4",
   "metadata": {},
   "outputs": [
    {
     "data": {
      "text/html": [
       "<div>\n",
       "<style scoped>\n",
       "    .dataframe tbody tr th:only-of-type {\n",
       "        vertical-align: middle;\n",
       "    }\n",
       "\n",
       "    .dataframe tbody tr th {\n",
       "        vertical-align: top;\n",
       "    }\n",
       "\n",
       "    .dataframe thead th {\n",
       "        text-align: right;\n",
       "    }\n",
       "</style>\n",
       "<table border=\"1\" class=\"dataframe\">\n",
       "  <thead>\n",
       "    <tr style=\"text-align: right;\">\n",
       "      <th></th>\n",
       "      <th>灭鼠杀虫剂</th>\n",
       "      <th>电蚊香套装</th>\n",
       "      <th>盘香灭蟑香蚊香盘</th>\n",
       "      <th>蚊香加热器</th>\n",
       "      <th>蚊香液</th>\n",
       "      <th>蚊香片</th>\n",
       "      <th>防霉防蛀片</th>\n",
       "    </tr>\n",
       "    <tr>\n",
       "      <th>年份</th>\n",
       "      <th></th>\n",
       "      <th></th>\n",
       "      <th></th>\n",
       "      <th></th>\n",
       "      <th></th>\n",
       "      <th></th>\n",
       "      <th></th>\n",
       "    </tr>\n",
       "  </thead>\n",
       "  <tbody>\n",
       "    <tr>\n",
       "      <th>2016</th>\n",
       "      <td>6.080471e+08</td>\n",
       "      <td>7666572.12</td>\n",
       "      <td>4.785285e+07</td>\n",
       "      <td>5.905205e+06</td>\n",
       "      <td>1.704905e+08</td>\n",
       "      <td>27980839.47</td>\n",
       "      <td>50023001.94</td>\n",
       "    </tr>\n",
       "    <tr>\n",
       "      <th>2017</th>\n",
       "      <td>8.477740e+08</td>\n",
       "      <td>9377531.68</td>\n",
       "      <td>8.635539e+07</td>\n",
       "      <td>1.055284e+07</td>\n",
       "      <td>3.300656e+08</td>\n",
       "      <td>49068587.96</td>\n",
       "      <td>62678822.18</td>\n",
       "    </tr>\n",
       "    <tr>\n",
       "      <th>2018</th>\n",
       "      <td>1.137893e+09</td>\n",
       "      <td>4537682.09</td>\n",
       "      <td>1.180885e+08</td>\n",
       "      <td>1.683672e+07</td>\n",
       "      <td>3.582077e+08</td>\n",
       "      <td>51845921.56</td>\n",
       "      <td>72701365.23</td>\n",
       "    </tr>\n",
       "  </tbody>\n",
       "</table>\n",
       "</div>"
      ],
      "text/plain": [
       "             灭鼠杀虫剂       电蚊香套装      盘香灭蟑香蚊香盘         蚊香加热器           蚊香液  \\\n",
       "年份                                                                         \n",
       "2016  6.080471e+08  7666572.12  4.785285e+07  5.905205e+06  1.704905e+08   \n",
       "2017  8.477740e+08  9377531.68  8.635539e+07  1.055284e+07  3.300656e+08   \n",
       "2018  1.137893e+09  4537682.09  1.180885e+08  1.683672e+07  3.582077e+08   \n",
       "\n",
       "              蚊香片        防霉防蛀片  \n",
       "年份                              \n",
       "2016  27980839.47  50023001.94  \n",
       "2017  49068587.96  62678822.18  \n",
       "2018  51845921.56  72701365.23  "
      ]
     },
     "execution_count": 44,
     "metadata": {},
     "output_type": "execute_result"
    }
   ],
   "source": [
    "data_year"
   ]
  },
  {
   "cell_type": "code",
   "execution_count": 45,
   "id": "beac7f9a",
   "metadata": {
    "scrolled": true
   },
   "outputs": [],
   "source": [
    "growth2016 = (data_year.loc[2017] - data_year.loc[2016]) / data_year.loc[2016]"
   ]
  },
  {
   "cell_type": "code",
   "execution_count": 46,
   "id": "3dfb7e2e",
   "metadata": {},
   "outputs": [],
   "source": [
    "growth2017 = (data_year.loc[2018] - data_year.loc[2017]) / data_year.loc[2017]"
   ]
  },
  {
   "cell_type": "code",
   "execution_count": 47,
   "id": "2d3aecc2",
   "metadata": {},
   "outputs": [],
   "source": [
    "year_growth = pd.concat((growth2016, growth2017), axis=1).stack().unstack(level=0)"
   ]
  },
  {
   "cell_type": "code",
   "execution_count": 48,
   "id": "12e4b7fa",
   "metadata": {},
   "outputs": [],
   "source": [
    "year_growth.index = ['2016', '2017']"
   ]
  },
  {
   "cell_type": "code",
   "execution_count": 49,
   "id": "1823e4f0",
   "metadata": {},
   "outputs": [
    {
     "data": {
      "text/html": [
       "<div>\n",
       "<style scoped>\n",
       "    .dataframe tbody tr th:only-of-type {\n",
       "        vertical-align: middle;\n",
       "    }\n",
       "\n",
       "    .dataframe tbody tr th {\n",
       "        vertical-align: top;\n",
       "    }\n",
       "\n",
       "    .dataframe thead th {\n",
       "        text-align: right;\n",
       "    }\n",
       "</style>\n",
       "<table border=\"1\" class=\"dataframe\">\n",
       "  <thead>\n",
       "    <tr style=\"text-align: right;\">\n",
       "      <th></th>\n",
       "      <th>灭鼠杀虫剂</th>\n",
       "      <th>电蚊香套装</th>\n",
       "      <th>盘香灭蟑香蚊香盘</th>\n",
       "      <th>蚊香加热器</th>\n",
       "      <th>蚊香液</th>\n",
       "      <th>蚊香片</th>\n",
       "      <th>防霉防蛀片</th>\n",
       "    </tr>\n",
       "  </thead>\n",
       "  <tbody>\n",
       "    <tr>\n",
       "      <th>2016</th>\n",
       "      <td>0.394257</td>\n",
       "      <td>0.223171</td>\n",
       "      <td>0.804603</td>\n",
       "      <td>0.787041</td>\n",
       "      <td>0.935976</td>\n",
       "      <td>0.753650</td>\n",
       "      <td>0.253000</td>\n",
       "    </tr>\n",
       "    <tr>\n",
       "      <th>2017</th>\n",
       "      <td>0.342213</td>\n",
       "      <td>-0.516111</td>\n",
       "      <td>0.367471</td>\n",
       "      <td>0.595468</td>\n",
       "      <td>0.085262</td>\n",
       "      <td>0.056601</td>\n",
       "      <td>0.159903</td>\n",
       "    </tr>\n",
       "  </tbody>\n",
       "</table>\n",
       "</div>"
      ],
      "text/plain": [
       "         灭鼠杀虫剂     电蚊香套装  盘香灭蟑香蚊香盘     蚊香加热器       蚊香液       蚊香片     防霉防蛀片\n",
       "2016  0.394257  0.223171  0.804603  0.787041  0.935976  0.753650  0.253000\n",
       "2017  0.342213 -0.516111  0.367471  0.595468  0.085262  0.056601  0.159903"
      ]
     },
     "execution_count": 49,
     "metadata": {},
     "output_type": "execute_result"
    }
   ],
   "source": [
    "year_growth"
   ]
  },
  {
   "cell_type": "code",
   "execution_count": 50,
   "id": "9b135402",
   "metadata": {},
   "outputs": [],
   "source": [
    "plt.rcParams['axes.unicode_minus'] = False"
   ]
  },
  {
   "cell_type": "code",
   "execution_count": 51,
   "id": "f5af715c",
   "metadata": {
    "scrolled": false
   },
   "outputs": [
    {
     "data": {
      "text/plain": [
       "([<matplotlib.axis.XTick at 0x22df81c7748>,\n",
       "  <matplotlib.axis.XTick at 0x22df81c70f0>],\n",
       " [Text(0, 0, '16-17'), Text(1, 0, '17-18')])"
      ]
     },
     "execution_count": 51,
     "metadata": {},
     "output_type": "execute_result"
    },
    {
     "data": {
      "image/png": "[encoded data removed]",
      "text/plain": [
       "<Figure size 720x432 with 1 Axes>"
      ]
     },
     "metadata": {},
     "output_type": "display_data"
    }
   ],
   "source": [
    "year_growth.plot(figsize=(10, 6))\n",
    "plt.xticks([0, 1], ['16-17', '17-18'])"
   ]
  },
  {
   "cell_type": "code",
   "execution_count": 52,
   "id": "2c72adc5",
   "metadata": {},
   "outputs": [],
   "source": [
    " # 从年增幅看"
   ]
  },
  {
   "cell_type": "code",
   "execution_count": 53,
   "id": "0941d5b8",
   "metadata": {},
   "outputs": [],
   "source": [
    "top100 = pd.read_excel('top100品牌数据.xlsx')"
   ]
  },
  {
   "cell_type": "code",
   "execution_count": 54,
   "id": "0067bc5a",
   "metadata": {},
   "outputs": [
    {
     "data": {
      "text/html": [
       "<div>\n",
       "<style scoped>\n",
       "    .dataframe tbody tr th:only-of-type {\n",
       "        vertical-align: middle;\n",
       "    }\n",
       "\n",
       "    .dataframe tbody tr th {\n",
       "        vertical-align: top;\n",
       "    }\n",
       "\n",
       "    .dataframe thead th {\n",
       "        text-align: right;\n",
       "    }\n",
       "</style>\n",
       "<table border=\"1\" class=\"dataframe\">\n",
       "  <thead>\n",
       "    <tr style=\"text-align: right;\">\n",
       "      <th></th>\n",
       "      <th>品牌</th>\n",
       "      <th>行业排名</th>\n",
       "      <th>交易指数</th>\n",
       "      <th>交易增长幅度</th>\n",
       "      <th>支付转化指数</th>\n",
       "      <th>操作</th>\n",
       "    </tr>\n",
       "  </thead>\n",
       "  <tbody>\n",
       "    <tr>\n",
       "      <th>0</th>\n",
       "      <td>PREMISE/拜灭士</td>\n",
       "      <td>1</td>\n",
       "      <td>530344</td>\n",
       "      <td>-0.3235</td>\n",
       "      <td>1521</td>\n",
       "      <td>趋势分析</td>\n",
       "    </tr>\n",
       "    <tr>\n",
       "      <th>1</th>\n",
       "      <td>科凌虫控</td>\n",
       "      <td>2</td>\n",
       "      <td>474937</td>\n",
       "      <td>-0.1910</td>\n",
       "      <td>1581</td>\n",
       "      <td>趋势分析</td>\n",
       "    </tr>\n",
       "    <tr>\n",
       "      <th>2</th>\n",
       "      <td>ARS/安速</td>\n",
       "      <td>3</td>\n",
       "      <td>402372</td>\n",
       "      <td>-0.2682</td>\n",
       "      <td>1448</td>\n",
       "      <td>趋势分析</td>\n",
       "    </tr>\n",
       "    <tr>\n",
       "      <th>3</th>\n",
       "      <td>思乐智</td>\n",
       "      <td>4</td>\n",
       "      <td>360780</td>\n",
       "      <td>0.2056</td>\n",
       "      <td>841</td>\n",
       "      <td>趋势分析</td>\n",
       "    </tr>\n",
       "    <tr>\n",
       "      <th>4</th>\n",
       "      <td>希诺</td>\n",
       "      <td>5</td>\n",
       "      <td>346656</td>\n",
       "      <td>-0.1085</td>\n",
       "      <td>1865</td>\n",
       "      <td>趋势分析</td>\n",
       "    </tr>\n",
       "    <tr>\n",
       "      <th>...</th>\n",
       "      <td>...</td>\n",
       "      <td>...</td>\n",
       "      <td>...</td>\n",
       "      <td>...</td>\n",
       "      <td>...</td>\n",
       "      <td>...</td>\n",
       "    </tr>\n",
       "    <tr>\n",
       "      <th>95</th>\n",
       "      <td>BK/帮科</td>\n",
       "      <td>96</td>\n",
       "      <td>67812</td>\n",
       "      <td>-0.5008</td>\n",
       "      <td>1134</td>\n",
       "      <td>趋势分析</td>\n",
       "    </tr>\n",
       "    <tr>\n",
       "      <th>96</th>\n",
       "      <td>博尔康</td>\n",
       "      <td>97</td>\n",
       "      <td>66180</td>\n",
       "      <td>-0.2571</td>\n",
       "      <td>792</td>\n",
       "      <td>趋势分析</td>\n",
       "    </tr>\n",
       "    <tr>\n",
       "      <th>97</th>\n",
       "      <td>无比滴</td>\n",
       "      <td>98</td>\n",
       "      <td>65779</td>\n",
       "      <td>-0.6264</td>\n",
       "      <td>959</td>\n",
       "      <td>趋势分析</td>\n",
       "    </tr>\n",
       "    <tr>\n",
       "      <th>98</th>\n",
       "      <td>厚生</td>\n",
       "      <td>99</td>\n",
       "      <td>65520</td>\n",
       "      <td>-0.4708</td>\n",
       "      <td>1600</td>\n",
       "      <td>趋势分析</td>\n",
       "    </tr>\n",
       "    <tr>\n",
       "      <th>99</th>\n",
       "      <td>百户喜</td>\n",
       "      <td>100</td>\n",
       "      <td>65194</td>\n",
       "      <td>-0.0187</td>\n",
       "      <td>822</td>\n",
       "      <td>趋势分析</td>\n",
       "    </tr>\n",
       "  </tbody>\n",
       "</table>\n",
       "<p>100 rows × 6 columns</p>\n",
       "</div>"
      ],
      "text/plain": [
       "             品牌  行业排名    交易指数  交易增长幅度  支付转化指数    操作\n",
       "0   PREMISE/拜灭士     1  530344 -0.3235    1521  趋势分析\n",
       "1          科凌虫控     2  474937 -0.1910    1581  趋势分析\n",
       "2        ARS/安速     3  402372 -0.2682    1448  趋势分析\n",
       "3           思乐智     4  360780  0.2056     841  趋势分析\n",
       "4            希诺     5  346656 -0.1085    1865  趋势分析\n",
       "..          ...   ...     ...     ...     ...   ...\n",
       "95        BK/帮科    96   67812 -0.5008    1134  趋势分析\n",
       "96          博尔康    97   66180 -0.2571     792  趋势分析\n",
       "97          无比滴    98   65779 -0.6264     959  趋势分析\n",
       "98           厚生    99   65520 -0.4708    1600  趋势分析\n",
       "99          百户喜   100   65194 -0.0187     822  趋势分析\n",
       "\n",
       "[100 rows x 6 columns]"
      ]
     },
     "execution_count": 54,
     "metadata": {},
     "output_type": "execute_result"
    }
   ],
   "source": [
    "top100"
   ]
  },
  {
   "cell_type": "code",
   "execution_count": 55,
   "id": "6bc1995c",
   "metadata": {},
   "outputs": [],
   "source": [
    "# 通过交易指数占比, 来模拟市场份额\n",
    "top100_share  = top100.交易指数 / top100.交易指数.sum()"
   ]
  },
  {
   "cell_type": "code",
   "execution_count": 56,
   "id": "7547a08a",
   "metadata": {},
   "outputs": [],
   "source": [
    "top100_share.sort_values(ascending=True, inplace=True)"
   ]
  },
  {
   "cell_type": "code",
   "execution_count": 57,
   "id": "6678bd93",
   "metadata": {},
   "outputs": [
    {
     "data": {
      "text/plain": [
       "99    0.004425\n",
       "98    0.004447\n",
       "97    0.004465\n",
       "96    0.004492\n",
       "95    0.004603\n",
       "        ...   \n",
       "4     0.023530\n",
       "3     0.024488\n",
       "2     0.027311\n",
       "1     0.032237\n",
       "0     0.035998\n",
       "Name: 交易指数, Length: 100, dtype: float64"
      ]
     },
     "execution_count": 57,
     "metadata": {},
     "output_type": "execute_result"
    }
   ],
   "source": [
    "top100_share"
   ]
  },
  {
   "cell_type": "code",
   "execution_count": 58,
   "id": "1f02be3b",
   "metadata": {
    "collapsed": true
   },
   "outputs": [
    {
     "data": {
      "text/plain": [
       "<AxesSubplot:>"
      ]
     },
     "execution_count": 58,
     "metadata": {},
     "output_type": "execute_result"
    },
    {
     "data": {
      "image/png": "[encoded data removed]",
      "text/plain": [
       "<Figure size 504x1440 with 1 Axes>"
      ]
     },
     "metadata": {},
     "output_type": "display_data"
    }
   ],
   "source": [
    "top100_share.index = top100.品牌.values[::-1]\n",
    "top100_share.plot(kind='barh', figsize=(7, 20))"
   ]
  },
  {
   "cell_type": "code",
   "execution_count": 64,
   "id": "54eb7cca",
   "metadata": {},
   "outputs": [
    {
     "data": {
      "text/plain": [
       "array([0.00442511, 0.00444723, 0.00446481, 0.00449203, 0.0046028 ,\n",
       "       0.00460776, 0.00480528, 0.00484594, 0.00487736, 0.00488951,\n",
       "       0.00495433, 0.00505574, 0.00510739, 0.00524715, 0.00527437,\n",
       "       0.00541121, 0.00543815, 0.00550311, 0.00551879, 0.00553203,\n",
       "       0.00559257, 0.00559705, 0.00563187, 0.00568801, 0.00569887,\n",
       "       0.00589516, 0.00606051, 0.00624133, 0.00644061, 0.00652356,\n",
       "       0.00688323, 0.00690434, 0.00707166, 0.00711333, 0.00716919,\n",
       "       0.00725777, 0.00726361, 0.00728072, 0.00730868, 0.00734364,\n",
       "       0.00745733, 0.00747803, 0.00759668, 0.00761643, 0.00762776,\n",
       "       0.00765118, 0.00791685, 0.00792146, 0.0079292 , 0.00794427,\n",
       "       0.00816711, 0.00819874, 0.00820681, 0.00824964, 0.00826193,\n",
       "       0.00838526, 0.00843393, 0.00864163, 0.00864292, 0.0087184 ,\n",
       "       0.00908438, 0.009104  , 0.00914357, 0.00926561, 0.00928428,\n",
       "       0.0094275 , 0.00968549, 0.00974651, 0.00976701, 0.01018479,\n",
       "       0.0103405 , 0.0105279 , 0.01058587, 0.01105774, 0.01108489,\n",
       "       0.01110179, 0.01172883, 0.01330444, 0.01343951, 0.0134915 ,\n",
       "       0.01379274, 0.01390636, 0.01439194, 0.01473818, 0.01495871,\n",
       "       0.01531669, 0.0162138 , 0.01639428, 0.01666423, 0.01810191,\n",
       "       0.01853346, 0.01886714, 0.01918568, 0.02081423, 0.02168942,\n",
       "       0.02352961, 0.02448829, 0.02731139, 0.03223681, 0.03599761])"
      ]
     },
     "execution_count": 64,
     "metadata": {},
     "output_type": "execute_result"
    }
   ],
   "source": [
    "top100_share.values"
   ]
  },
  {
   "cell_type": "code",
   "execution_count": 59,
   "id": "70bafbd4",
   "metadata": {},
   "outputs": [
    {
     "data": {
      "text/plain": [
       "0.013546334007208914"
      ]
     },
     "execution_count": 59,
     "metadata": {},
     "output_type": "execute_result"
    }
   ],
   "source": [
    "HHI = (top100_share.values ** 2).sum()\n",
    "HHI"
   ]
  },
  {
   "cell_type": "code",
   "execution_count": 60,
   "id": "057d2bd9",
   "metadata": {},
   "outputs": [
    {
     "data": {
      "text/plain": [
       "73.82071042009099"
      ]
     },
     "execution_count": 60,
     "metadata": {},
     "output_type": "execute_result"
    }
   ],
   "source": [
    "1 / HHI"
   ]
  },
  {
   "cell_type": "markdown",
   "id": "418e244f",
   "metadata": {},
   "source": [
    "驱虫市场的潜力分析-结论\n",
    "1. 整体驱虫市场处于快速增长阶段,趋向于成长期到成熟期\n",
    "2. 灭鼠杀虫剂市场份额较大(大于60%),约是第二名蚊香液的二倍,市场增长率接近40%,\n",
    "可以认为是明星产品类目,需要持续投资和重点关注\n",
    "3. 驱虫市场不存在垄断,结构不集中,竞争相对激烈,即没有明显的来自大公司的压力"
   ]
  },
  {
   "cell_type": "markdown",
   "id": "1f7b8f6b",
   "metadata": {},
   "source": [
    "### 灭鼠杀虫剂市场机会点-业务逻辑\n",
    "1. 子类目市场确定后(灭鼠杀虫剂市场):确定市场中最受欢迎的产品类别–>细分价格段\n",
    "    –>属性进一步分析:什么样的价格作为主市场,什么样的商品符合大众口味\n",
    "2. 不同用途的商品定位:\n",
    "    1. 引流商品:价格低,利润空间几乎没有,目的是为了引流\n",
    "        获取流量的方式有免费和付费两种,免费流量看缘分(lian),控制付费流量成本\n",
    "        即是对流量精准度的要求,即精准营销\n",
    "    2. 利润商品:价格合理,只要的盈利来源\n",
    "    3. 品牌商品:价格偏高,门面商品或奢侈品\n",
    "3. 商品布局时要考虑的问题:价格,产品特征,用户喜好度,商品需求等"
   ]
  },
  {
   "cell_type": "code",
   "execution_count": 86,
   "id": "7e046cf5",
   "metadata": {},
   "outputs": [],
   "source": [
    "# 切换目录\n",
    "os.chdir(r'C:\\Users\\ause\\Desktop\\Python2101\\2101\\day20\\data\\灭鼠杀虫剂细分市场')"
   ]
  },
  {
   "cell_type": "code",
   "execution_count": 87,
   "id": "f61670f7",
   "metadata": {},
   "outputs": [
    {
     "data": {
      "text/plain": [
       "['杀虫.xlsx', '灭鼠.xlsx', '虱子.xlsx', '螨.xlsx', '蟑螂.xlsx']"
      ]
     },
     "execution_count": 87,
     "metadata": {},
     "output_type": "execute_result"
    }
   ],
   "source": [
    "files = glob.glob('*.xlsx')\n",
    "files"
   ]
  },
  {
   "cell_type": "code",
   "execution_count": 88,
   "id": "3ae7b78b",
   "metadata": {},
   "outputs": [],
   "source": [
    "temps = []\n",
    "temps = [pd.read_excel(file_name) for file_name in files]"
   ]
  },
  {
   "cell_type": "code",
   "execution_count": 89,
   "id": "48c69a50",
   "metadata": {},
   "outputs": [
    {
     "data": {
      "text/plain": [
       "5"
      ]
     },
     "execution_count": 89,
     "metadata": {},
     "output_type": "execute_result"
    }
   ],
   "source": [
    "len(temps)"
   ]
  },
  {
   "cell_type": "code",
   "execution_count": 90,
   "id": "6dadd497",
   "metadata": {},
   "outputs": [],
   "source": [
    "# 把5个细分市场的数据级联在一起\n",
    "df = pd.concat(temps)"
   ]
  },
  {
   "cell_type": "code",
   "execution_count": 91,
   "id": "8c35cc3c",
   "metadata": {},
   "outputs": [
    {
     "name": "stdout",
     "output_type": "stream",
     "text": [
      "<class 'pandas.core.frame.DataFrame'>\n",
      "Int64Index: 6556 entries, 0 to 1742\n",
      "Columns: 229 entries, 类别 to 产品名\n",
      "dtypes: float64(129), int64(5), object(95)\n",
      "memory usage: 11.5+ MB\n"
     ]
    }
   ],
   "source": [
    "df.info()"
   ]
  },
  {
   "cell_type": "code",
   "execution_count": 92,
   "id": "c27623ac",
   "metadata": {
    "collapsed": true
   },
   "outputs": [
    {
     "data": {
      "text/plain": [
       "类别      False\n",
       "时间      False\n",
       "页码      False\n",
       "排名      False\n",
       "链接      False\n",
       "        ...  \n",
       "宝贝成份     True\n",
       "规格：      True\n",
       "樟脑       True\n",
       "包装       True\n",
       "产品名      True\n",
       "Length: 229, dtype: bool"
      ]
     },
     "execution_count": 92,
     "metadata": {},
     "output_type": "execute_result"
    }
   ],
   "source": [
    "# 缺失值处理\n",
    "df.isnull().any()"
   ]
  },
  {
   "cell_type": "code",
   "execution_count": 93,
   "id": "1c2ab49d",
   "metadata": {
    "collapsed": true
   },
   "outputs": [
    {
     "data": {
      "text/plain": [
       "类别      0.0\n",
       "时间      0.0\n",
       "页码      0.0\n",
       "排名      0.0\n",
       "链接      0.0\n",
       "       ... \n",
       "宝贝成份    1.0\n",
       "规格：     1.0\n",
       "樟脑      1.0\n",
       "包装      1.0\n",
       "产品名     1.0\n",
       "Length: 229, dtype: float64"
      ]
     },
     "execution_count": 93,
     "metadata": {},
     "output_type": "execute_result"
    }
   ],
   "source": [
    "# 查看每一列, 缺失的比例\n",
    "df.isnull().mean()"
   ]
  },
  {
   "cell_type": "code",
   "execution_count": 94,
   "id": "a6ed6b7a",
   "metadata": {
    "collapsed": true
   },
   "outputs": [
    {
     "data": {
      "text/plain": [
       "类别      False\n",
       "时间      False\n",
       "页码      False\n",
       "排名      False\n",
       "链接      False\n",
       "        ...  \n",
       "宝贝成份     True\n",
       "规格：      True\n",
       "樟脑       True\n",
       "包装       True\n",
       "产品名      True\n",
       "Length: 229, dtype: bool"
      ]
     },
     "execution_count": 94,
     "metadata": {},
     "output_type": "execute_result"
    }
   ],
   "source": [
    "# 定一个阈值, 缺失值大于0.98的特征, 删掉, 缺太多, 没用\n",
    "df.isnull().mean() >= 0.98"
   ]
  },
  {
   "cell_type": "code",
   "execution_count": 95,
   "id": "af96ab1f",
   "metadata": {},
   "outputs": [],
   "source": [
    "df = df.loc[:, ~(df.isnull().mean() >= 0.98)].copy()"
   ]
  },
  {
   "cell_type": "code",
   "execution_count": 96,
   "id": "580a6ff7",
   "metadata": {
    "collapsed": true
   },
   "outputs": [
    {
     "data": {
      "text/html": [
       "<div>\n",
       "<style scoped>\n",
       "    .dataframe tbody tr th:only-of-type {\n",
       "        vertical-align: middle;\n",
       "    }\n",
       "\n",
       "    .dataframe tbody tr th {\n",
       "        vertical-align: top;\n",
       "    }\n",
       "\n",
       "    .dataframe thead th {\n",
       "        text-align: right;\n",
       "    }\n",
       "</style>\n",
       "<table border=\"1\" class=\"dataframe\">\n",
       "  <thead>\n",
       "    <tr style=\"text-align: right;\">\n",
       "      <th></th>\n",
       "      <th>类别</th>\n",
       "      <th>时间</th>\n",
       "      <th>页码</th>\n",
       "      <th>排名</th>\n",
       "      <th>链接</th>\n",
       "      <th>主图链接</th>\n",
       "      <th>主图视频链接</th>\n",
       "      <th>宝贝标题</th>\n",
       "      <th>宝贝ID</th>\n",
       "      <th>销量（人数）</th>\n",
       "      <th>...</th>\n",
       "      <th>生产企业</th>\n",
       "      <th>农药生产许可证/批准文号</th>\n",
       "      <th>农药产品标准证号</th>\n",
       "      <th>农药名称</th>\n",
       "      <th>剂型</th>\n",
       "      <th>农药成分</th>\n",
       "      <th>有效成分总含量</th>\n",
       "      <th>毒性</th>\n",
       "      <th>防治对象</th>\n",
       "      <th>农药类型</th>\n",
       "    </tr>\n",
       "  </thead>\n",
       "  <tbody>\n",
       "    <tr>\n",
       "      <th>0</th>\n",
       "      <td>杀虫</td>\n",
       "      <td>2018/11/22 18:49:48</td>\n",
       "      <td>16</td>\n",
       "      <td>18</td>\n",
       "      <td>https://item.taobao.com/item.htm?id=578459866289</td>\n",
       "      <td>https://gw3.alicdn.com/bao/uploaded/i3/4089164...</td>\n",
       "      <td>https://cloud.video.taobao.com/play/u/40891647...</td>\n",
       "      <td>德国拜耳臭虫杀虫剂家用杀灭除跳蚤药苍蝇猫狗窝喷剂蟑螂药</td>\n",
       "      <td>578459866289</td>\n",
       "      <td>99</td>\n",
       "      <td>...</td>\n",
       "      <td>NaN</td>\n",
       "      <td>NaN</td>\n",
       "      <td>NaN</td>\n",
       "      <td>NaN</td>\n",
       "      <td>NaN</td>\n",
       "      <td>NaN</td>\n",
       "      <td>NaN</td>\n",
       "      <td>NaN</td>\n",
       "      <td>NaN</td>\n",
       "      <td>NaN</td>\n",
       "    </tr>\n",
       "    <tr>\n",
       "      <th>1</th>\n",
       "      <td>杀虫</td>\n",
       "      <td>2018/11/22 18:49:49</td>\n",
       "      <td>16</td>\n",
       "      <td>19</td>\n",
       "      <td>https://item.taobao.com/item.htm?id=548196868239</td>\n",
       "      <td>https://gw3.alicdn.com/bao/uploaded/i3/1519846...</td>\n",
       "      <td>NaN</td>\n",
       "      <td>蟑螂屋灭蟑螂药家用强力灭蟑清捕捉器除杀蟑螂贴粘板粉杀虫剂特价</td>\n",
       "      <td>548196868239</td>\n",
       "      <td>99</td>\n",
       "      <td>...</td>\n",
       "      <td>NaN</td>\n",
       "      <td>NaN</td>\n",
       "      <td>NaN</td>\n",
       "      <td>NaN</td>\n",
       "      <td>NaN</td>\n",
       "      <td>NaN</td>\n",
       "      <td>NaN</td>\n",
       "      <td>NaN</td>\n",
       "      <td>NaN</td>\n",
       "      <td>NaN</td>\n",
       "    </tr>\n",
       "    <tr>\n",
       "      <th>2</th>\n",
       "      <td>杀虫</td>\n",
       "      <td>2018/11/22 18:49:49</td>\n",
       "      <td>16</td>\n",
       "      <td>20</td>\n",
       "      <td>https://item.taobao.com/item.htm?id=580839295562</td>\n",
       "      <td>https://gw3.alicdn.com/bao/uploaded/i2/1052281...</td>\n",
       "      <td>NaN</td>\n",
       "      <td>日本Hengai哼爱螨虫贴除螨虫垫祛螨床上用品沙发吸螨包家用杀虫</td>\n",
       "      <td>580839295562</td>\n",
       "      <td>99</td>\n",
       "      <td>...</td>\n",
       "      <td>NaN</td>\n",
       "      <td>NaN</td>\n",
       "      <td>NaN</td>\n",
       "      <td>NaN</td>\n",
       "      <td>NaN</td>\n",
       "      <td>NaN</td>\n",
       "      <td>NaN</td>\n",
       "      <td>NaN</td>\n",
       "      <td>NaN</td>\n",
       "      <td>NaN</td>\n",
       "    </tr>\n",
       "    <tr>\n",
       "      <th>3</th>\n",
       "      <td>杀虫</td>\n",
       "      <td>2018/11/22 18:49:50</td>\n",
       "      <td>17</td>\n",
       "      <td>1</td>\n",
       "      <td>https://item.taobao.com/item.htm?id=580264662322</td>\n",
       "      <td>https://gw2.alicdn.com/bao/uploaded/i4/2844890...</td>\n",
       "      <td>NaN</td>\n",
       "      <td>蚧壳虫专杀小白药小黑飞多肉花卉介壳虫用专治dx柑橘树植物杀虫剂</td>\n",
       "      <td>580264662322</td>\n",
       "      <td>99</td>\n",
       "      <td>...</td>\n",
       "      <td>NaN</td>\n",
       "      <td>NaN</td>\n",
       "      <td>NaN</td>\n",
       "      <td>NaN</td>\n",
       "      <td>NaN</td>\n",
       "      <td>NaN</td>\n",
       "      <td>NaN</td>\n",
       "      <td>NaN</td>\n",
       "      <td>NaN</td>\n",
       "      <td>NaN</td>\n",
       "    </tr>\n",
       "    <tr>\n",
       "      <th>4</th>\n",
       "      <td>杀虫</td>\n",
       "      <td>2018/11/22 18:49:52</td>\n",
       "      <td>17</td>\n",
       "      <td>2</td>\n",
       "      <td>https://item.taobao.com/item.htm?id=44484517973</td>\n",
       "      <td>https://gw1.alicdn.com/bao/uploaded/i3/2094913...</td>\n",
       "      <td>NaN</td>\n",
       "      <td>雷达杀虫气雾剂清香型家用式蚊子苍蝇蟑螂蚂蚁除虫杀虫剂害虫喷剂</td>\n",
       "      <td>44484517973</td>\n",
       "      <td>99</td>\n",
       "      <td>...</td>\n",
       "      <td>NaN</td>\n",
       "      <td>NaN</td>\n",
       "      <td>NaN</td>\n",
       "      <td>NaN</td>\n",
       "      <td>NaN</td>\n",
       "      <td>NaN</td>\n",
       "      <td>NaN</td>\n",
       "      <td>NaN</td>\n",
       "      <td>NaN</td>\n",
       "      <td>NaN</td>\n",
       "    </tr>\n",
       "    <tr>\n",
       "      <th>...</th>\n",
       "      <td>...</td>\n",
       "      <td>...</td>\n",
       "      <td>...</td>\n",
       "      <td>...</td>\n",
       "      <td>...</td>\n",
       "      <td>...</td>\n",
       "      <td>...</td>\n",
       "      <td>...</td>\n",
       "      <td>...</td>\n",
       "      <td>...</td>\n",
       "      <td>...</td>\n",
       "      <td>...</td>\n",
       "      <td>...</td>\n",
       "      <td>...</td>\n",
       "      <td>...</td>\n",
       "      <td>...</td>\n",
       "      <td>...</td>\n",
       "      <td>...</td>\n",
       "      <td>...</td>\n",
       "      <td>...</td>\n",
       "      <td>...</td>\n",
       "    </tr>\n",
       "    <tr>\n",
       "      <th>1738</th>\n",
       "      <td>蟑螂</td>\n",
       "      <td>2018/11/22 19:22:37</td>\n",
       "      <td>100</td>\n",
       "      <td>16</td>\n",
       "      <td>https://item.taobao.com/item.htm?id=567322968739</td>\n",
       "      <td>https://gw3.alicdn.com/bao/uploaded/i4/1809710...</td>\n",
       "      <td>NaN</td>\n",
       "      <td>达豪杀蟑笔剂正品神笔蟑螂药跳蚤杀蟑粉笔画笔蚂蚁强效触杀全巢灭</td>\n",
       "      <td>567322968739</td>\n",
       "      <td>14</td>\n",
       "      <td>...</td>\n",
       "      <td>NaN</td>\n",
       "      <td>NaN</td>\n",
       "      <td>NaN</td>\n",
       "      <td>NaN</td>\n",
       "      <td>NaN</td>\n",
       "      <td>NaN</td>\n",
       "      <td>NaN</td>\n",
       "      <td>NaN</td>\n",
       "      <td>NaN</td>\n",
       "      <td>NaN</td>\n",
       "    </tr>\n",
       "    <tr>\n",
       "      <th>1739</th>\n",
       "      <td>蟑螂</td>\n",
       "      <td>2018/11/22 19:22:38</td>\n",
       "      <td>100</td>\n",
       "      <td>17</td>\n",
       "      <td>https://item.taobao.com/item.htm?id=547638024194</td>\n",
       "      <td>https://gw3.alicdn.com/bao/uploaded/i4/2825064...</td>\n",
       "      <td>NaN</td>\n",
       "      <td>榄菊速杀杀虫气雾剂 杀蟑螂、跳蚤等蚊虫2件24瓶375元包邮</td>\n",
       "      <td>547638024194</td>\n",
       "      <td>14</td>\n",
       "      <td>...</td>\n",
       "      <td>NaN</td>\n",
       "      <td>NaN</td>\n",
       "      <td>NaN</td>\n",
       "      <td>NaN</td>\n",
       "      <td>NaN</td>\n",
       "      <td>NaN</td>\n",
       "      <td>NaN</td>\n",
       "      <td>NaN</td>\n",
       "      <td>NaN</td>\n",
       "      <td>NaN</td>\n",
       "    </tr>\n",
       "    <tr>\n",
       "      <th>1740</th>\n",
       "      <td>蟑螂</td>\n",
       "      <td>2018/11/22 19:22:39</td>\n",
       "      <td>100</td>\n",
       "      <td>18</td>\n",
       "      <td>https://item.taobao.com/item.htm?id=572950517334</td>\n",
       "      <td>https://gw3.alicdn.com/bao/uploaded/i1/4682278...</td>\n",
       "      <td>NaN</td>\n",
       "      <td>全无敌家用室内600ml杀虫剂无香卧室 驱杀蟑螂蚂蚁苍蝇喷雾气雾剂</td>\n",
       "      <td>572950517334</td>\n",
       "      <td>14</td>\n",
       "      <td>...</td>\n",
       "      <td>NaN</td>\n",
       "      <td>NaN</td>\n",
       "      <td>NaN</td>\n",
       "      <td>NaN</td>\n",
       "      <td>NaN</td>\n",
       "      <td>NaN</td>\n",
       "      <td>NaN</td>\n",
       "      <td>NaN</td>\n",
       "      <td>NaN</td>\n",
       "      <td>NaN</td>\n",
       "    </tr>\n",
       "    <tr>\n",
       "      <th>1741</th>\n",
       "      <td>蟑螂</td>\n",
       "      <td>2018/11/22 19:22:40</td>\n",
       "      <td>100</td>\n",
       "      <td>19</td>\n",
       "      <td>https://item.taobao.com/item.htm?id=540393439567</td>\n",
       "      <td>https://gw2.alicdn.com/bao/uploaded/i4/2995676...</td>\n",
       "      <td>NaN</td>\n",
       "      <td>云杀 蟑螂小强药杀蟑胶饵除灭蟑螂屋粘贴板驱蟑粉厨房家用虫剂</td>\n",
       "      <td>540393439567</td>\n",
       "      <td>14</td>\n",
       "      <td>...</td>\n",
       "      <td>NaN</td>\n",
       "      <td>NaN</td>\n",
       "      <td>NaN</td>\n",
       "      <td>NaN</td>\n",
       "      <td>NaN</td>\n",
       "      <td>NaN</td>\n",
       "      <td>NaN</td>\n",
       "      <td>NaN</td>\n",
       "      <td>NaN</td>\n",
       "      <td>NaN</td>\n",
       "    </tr>\n",
       "    <tr>\n",
       "      <th>1742</th>\n",
       "      <td>蟑螂</td>\n",
       "      <td>2018/11/22 19:22:40</td>\n",
       "      <td>100</td>\n",
       "      <td>20</td>\n",
       "      <td>https://item.taobao.com/item.htm?id=567544678713</td>\n",
       "      <td>https://gw1.alicdn.com/bao/uploaded/i1/2296783...</td>\n",
       "      <td>https://cloud.video.taobao.com/play/u/22967836...</td>\n",
       "      <td>蟑螂屋蟑螂贴粘板贴纸家用无毒灭蟑螂家用强力灭蟑清买20张送10包</td>\n",
       "      <td>567544678713</td>\n",
       "      <td>14</td>\n",
       "      <td>...</td>\n",
       "      <td>NaN</td>\n",
       "      <td>NaN</td>\n",
       "      <td>NaN</td>\n",
       "      <td>NaN</td>\n",
       "      <td>NaN</td>\n",
       "      <td>NaN</td>\n",
       "      <td>NaN</td>\n",
       "      <td>NaN</td>\n",
       "      <td>NaN</td>\n",
       "      <td>NaN</td>\n",
       "    </tr>\n",
       "  </tbody>\n",
       "</table>\n",
       "<p>6556 rows × 38 columns</p>\n",
       "</div>"
      ],
      "text/plain": [
       "      类别                   时间   页码  排名  \\\n",
       "0     杀虫  2018/11/22 18:49:48   16  18   \n",
       "1     杀虫  2018/11/22 18:49:49   16  19   \n",
       "2     杀虫  2018/11/22 18:49:49   16  20   \n",
       "3     杀虫  2018/11/22 18:49:50   17   1   \n",
       "4     杀虫  2018/11/22 18:49:52   17   2   \n",
       "...   ..                  ...  ...  ..   \n",
       "1738  蟑螂  2018/11/22 19:22:37  100  16   \n",
       "1739  蟑螂  2018/11/22 19:22:38  100  17   \n",
       "1740  蟑螂  2018/11/22 19:22:39  100  18   \n",
       "1741  蟑螂  2018/11/22 19:22:40  100  19   \n",
       "1742  蟑螂  2018/11/22 19:22:40  100  20   \n",
       "\n",
       "                                                    链接  \\\n",
       "0     https://item.taobao.com/item.htm?id=578459866289   \n",
       "1     https://item.taobao.com/item.htm?id=548196868239   \n",
       "2     https://item.taobao.com/item.htm?id=580839295562   \n",
       "3     https://item.taobao.com/item.htm?id=580264662322   \n",
       "4      https://item.taobao.com/item.htm?id=44484517973   \n",
       "...                                                ...   \n",
       "1738  https://item.taobao.com/item.htm?id=567322968739   \n",
       "1739  https://item.taobao.com/item.htm?id=547638024194   \n",
       "1740  https://item.taobao.com/item.htm?id=572950517334   \n",
       "1741  https://item.taobao.com/item.htm?id=540393439567   \n",
       "1742  https://item.taobao.com/item.htm?id=567544678713   \n",
       "\n",
       "                                                   主图链接  \\\n",
       "0     https://gw3.alicdn.com/bao/uploaded/i3/4089164...   \n",
       "1     https://gw3.alicdn.com/bao/uploaded/i3/1519846...   \n",
       "2     https://gw3.alicdn.com/bao/uploaded/i2/1052281...   \n",
       "3     https://gw2.alicdn.com/bao/uploaded/i4/2844890...   \n",
       "4     https://gw1.alicdn.com/bao/uploaded/i3/2094913...   \n",
       "...                                                 ...   \n",
       "1738  https://gw3.alicdn.com/bao/uploaded/i4/1809710...   \n",
       "1739  https://gw3.alicdn.com/bao/uploaded/i4/2825064...   \n",
       "1740  https://gw3.alicdn.com/bao/uploaded/i1/4682278...   \n",
       "1741  https://gw2.alicdn.com/bao/uploaded/i4/2995676...   \n",
       "1742  https://gw1.alicdn.com/bao/uploaded/i1/2296783...   \n",
       "\n",
       "                                                 主图视频链接  \\\n",
       "0     https://cloud.video.taobao.com/play/u/40891647...   \n",
       "1                                                   NaN   \n",
       "2                                                   NaN   \n",
       "3                                                   NaN   \n",
       "4                                                   NaN   \n",
       "...                                                 ...   \n",
       "1738                                                NaN   \n",
       "1739                                                NaN   \n",
       "1740                                                NaN   \n",
       "1741                                                NaN   \n",
       "1742  https://cloud.video.taobao.com/play/u/22967836...   \n",
       "\n",
       "                                   宝贝标题          宝贝ID  销量（人数）  ...  生产企业  \\\n",
       "0           德国拜耳臭虫杀虫剂家用杀灭除跳蚤药苍蝇猫狗窝喷剂蟑螂药  578459866289      99  ...   NaN   \n",
       "1        蟑螂屋灭蟑螂药家用强力灭蟑清捕捉器除杀蟑螂贴粘板粉杀虫剂特价  548196868239      99  ...   NaN   \n",
       "2      日本Hengai哼爱螨虫贴除螨虫垫祛螨床上用品沙发吸螨包家用杀虫  580839295562      99  ...   NaN   \n",
       "3       蚧壳虫专杀小白药小黑飞多肉花卉介壳虫用专治dx柑橘树植物杀虫剂  580264662322      99  ...   NaN   \n",
       "4        雷达杀虫气雾剂清香型家用式蚊子苍蝇蟑螂蚂蚁除虫杀虫剂害虫喷剂   44484517973      99  ...   NaN   \n",
       "...                                 ...           ...     ...  ...   ...   \n",
       "1738     达豪杀蟑笔剂正品神笔蟑螂药跳蚤杀蟑粉笔画笔蚂蚁强效触杀全巢灭  567322968739      14  ...   NaN   \n",
       "1739     榄菊速杀杀虫气雾剂 杀蟑螂、跳蚤等蚊虫2件24瓶375元包邮  547638024194      14  ...   NaN   \n",
       "1740  全无敌家用室内600ml杀虫剂无香卧室 驱杀蟑螂蚂蚁苍蝇喷雾气雾剂  572950517334      14  ...   NaN   \n",
       "1741      云杀 蟑螂小强药杀蟑胶饵除灭蟑螂屋粘贴板驱蟑粉厨房家用虫剂  540393439567      14  ...   NaN   \n",
       "1742   蟑螂屋蟑螂贴粘板贴纸家用无毒灭蟑螂家用强力灭蟑清买20张送10包  567544678713      14  ...   NaN   \n",
       "\n",
       "      农药生产许可证/批准文号  农药产品标准证号  农药名称   剂型 农药成分 有效成分总含量   毒性 防治对象 农药类型  \n",
       "0              NaN       NaN   NaN  NaN  NaN     NaN  NaN  NaN  NaN  \n",
       "1              NaN       NaN   NaN  NaN  NaN     NaN  NaN  NaN  NaN  \n",
       "2              NaN       NaN   NaN  NaN  NaN     NaN  NaN  NaN  NaN  \n",
       "3              NaN       NaN   NaN  NaN  NaN     NaN  NaN  NaN  NaN  \n",
       "4              NaN       NaN   NaN  NaN  NaN     NaN  NaN  NaN  NaN  \n",
       "...            ...       ...   ...  ...  ...     ...  ...  ...  ...  \n",
       "1738           NaN       NaN   NaN  NaN  NaN     NaN  NaN  NaN  NaN  \n",
       "1739           NaN       NaN   NaN  NaN  NaN     NaN  NaN  NaN  NaN  \n",
       "1740           NaN       NaN   NaN  NaN  NaN     NaN  NaN  NaN  NaN  \n",
       "1741           NaN       NaN   NaN  NaN  NaN     NaN  NaN  NaN  NaN  \n",
       "1742           NaN       NaN   NaN  NaN  NaN     NaN  NaN  NaN  NaN  \n",
       "\n",
       "[6556 rows x 38 columns]"
      ]
     },
     "execution_count": 96,
     "metadata": {},
     "output_type": "execute_result"
    }
   ],
   "source": [
    "df"
   ]
  },
  {
   "cell_type": "code",
   "execution_count": 102,
   "id": "23338877",
   "metadata": {},
   "outputs": [
    {
     "name": "stdout",
     "output_type": "stream",
     "text": [
      "类目\n"
     ]
    }
   ],
   "source": [
    "# 删除特征值完全一致的特征\n",
    "for col in df.columns:\n",
    "    if df[col].nunique() == 1:\n",
    "        print(col)"
   ]
  },
  {
   "cell_type": "code",
   "execution_count": 106,
   "id": "3d976c4f",
   "metadata": {},
   "outputs": [],
   "source": [
    "df.drop(columns=['类目'], inplace=True)"
   ]
  },
  {
   "cell_type": "code",
   "execution_count": 107,
   "id": "8ec90c19",
   "metadata": {},
   "outputs": [
    {
     "data": {
      "text/plain": [
       "(6556, 37)"
      ]
     },
     "execution_count": 107,
     "metadata": {},
     "output_type": "execute_result"
    }
   ],
   "source": [
    "df.shape"
   ]
  },
  {
   "cell_type": "code",
   "execution_count": 108,
   "id": "63f07843",
   "metadata": {},
   "outputs": [
    {
     "data": {
      "text/plain": [
       "24"
      ]
     },
     "execution_count": 108,
     "metadata": {},
     "output_type": "execute_result"
    }
   ],
   "source": [
    "# 查找列索引的遗失索引\n",
    "df.columns.get_loc('药品登记号')"
   ]
  },
  {
   "cell_type": "code",
   "execution_count": 101,
   "id": "61269eb1",
   "metadata": {},
   "outputs": [
    {
     "data": {
      "text/plain": [
       "物理形态            0.286303\n",
       "药品登记号           0.927090\n",
       "产品名称            0.796980\n",
       "农药登记证号          0.873093\n",
       "生产企业            0.888957\n",
       "农药生产许可证/批准文号    0.889262\n",
       "农药产品标准证号        0.889262\n",
       "农药名称            0.889262\n",
       "剂型              0.882093\n",
       "农药成分            0.885754\n",
       "有效成分总含量         0.889262\n",
       "毒性              0.873093\n",
       "防治对象            0.889262\n",
       "农药类型            0.973612\n",
       "dtype: float64"
      ]
     },
     "execution_count": 101,
     "metadata": {},
     "output_type": "execute_result"
    }
   ],
   "source": [
    "df.iloc[:, 24:].isnull().mean()"
   ]
  },
  {
   "cell_type": "code",
   "execution_count": 111,
   "id": "2544fb65",
   "metadata": {},
   "outputs": [],
   "source": [
    "# 删除药品登记号及其后面的特征\n",
    "df = df.iloc[:, :24].copy()"
   ]
  },
  {
   "cell_type": "markdown",
   "id": "753bcaf5",
   "metadata": {},
   "source": [
    "依据逻辑删除不可能会用到的列,包括：\n",
    "'时间','链接','主图链接','主图视频链接',\n",
    "'页码','排名','宝贝标题','运费','下架时间','旺旺'"
   ]
  },
  {
   "cell_type": "code",
   "execution_count": 121,
   "id": "2e391089",
   "metadata": {},
   "outputs": [],
   "source": [
    "df.drop(columns=['时间','链接','主图链接','主图视频链接',\n",
    "'页码','排名','宝贝标题','运费','下架时间','旺旺'], inplace=True)"
   ]
  },
  {
   "cell_type": "code",
   "execution_count": 122,
   "id": "6c620003",
   "metadata": {},
   "outputs": [
    {
     "data": {
      "text/plain": [
       "(6556, 14)"
      ]
     },
     "execution_count": 122,
     "metadata": {},
     "output_type": "execute_result"
    }
   ],
   "source": [
    "df.shape"
   ]
  },
  {
   "cell_type": "code",
   "execution_count": 123,
   "id": "fb22aac5",
   "metadata": {
    "scrolled": true
   },
   "outputs": [
    {
     "data": {
      "text/plain": [
       "类别         object\n",
       "宝贝ID       object\n",
       "销量（人数）      int64\n",
       "售价        float64\n",
       "预估销售额     float64\n",
       "评价人数      float64\n",
       "收藏人数        int64\n",
       "地域         object\n",
       "店铺类型       object\n",
       "品牌         object\n",
       "型号         object\n",
       "净含量        object\n",
       "适用对象       object\n",
       "物理形态       object\n",
       "dtype: object"
      ]
     },
     "execution_count": 123,
     "metadata": {},
     "output_type": "execute_result"
    }
   ],
   "source": [
    "df.dtypes"
   ]
  },
  {
   "cell_type": "code",
   "execution_count": 124,
   "id": "038476bf",
   "metadata": {
    "collapsed": true
   },
   "outputs": [
    {
     "data": {
      "text/plain": [
       "0       578459866289\n",
       "1       548196868239\n",
       "2       580839295562\n",
       "3       580264662322\n",
       "4        44484517973\n",
       "            ...     \n",
       "6551    567322968739\n",
       "6552    547638024194\n",
       "6553    572950517334\n",
       "6554    540393439567\n",
       "6555    567544678713\n",
       "Name: 宝贝ID, Length: 6556, dtype: object"
      ]
     },
     "execution_count": 124,
     "metadata": {},
     "output_type": "execute_result"
    }
   ],
   "source": [
    "df.宝贝ID"
   ]
  },
  {
   "cell_type": "code",
   "execution_count": 125,
   "id": "6eeba62a",
   "metadata": {},
   "outputs": [],
   "source": [
    "# 把宝贝ID改成字符串类型\n",
    "df = df.astype({'宝贝ID': 'object'}).copy()"
   ]
  },
  {
   "cell_type": "code",
   "execution_count": 126,
   "id": "720196cd",
   "metadata": {},
   "outputs": [],
   "source": [
    "# 重置索引\n",
    "df.reset_index(drop=True, inplace=True)"
   ]
  },
  {
   "cell_type": "markdown",
   "id": "3919b777",
   "metadata": {},
   "source": [
    "灭鼠杀虫剂市场机会点-产品类别"
   ]
  },
  {
   "cell_type": "code",
   "execution_count": 130,
   "id": "9717ebcb",
   "metadata": {
    "collapsed": true
   },
   "outputs": [
    {
     "data": {
      "text/html": [
       "<div>\n",
       "<style scoped>\n",
       "    .dataframe tbody tr th:only-of-type {\n",
       "        vertical-align: middle;\n",
       "    }\n",
       "\n",
       "    .dataframe tbody tr th {\n",
       "        vertical-align: top;\n",
       "    }\n",
       "\n",
       "    .dataframe thead th {\n",
       "        text-align: right;\n",
       "    }\n",
       "</style>\n",
       "<table border=\"1\" class=\"dataframe\">\n",
       "  <thead>\n",
       "    <tr style=\"text-align: right;\">\n",
       "      <th></th>\n",
       "      <th>类别</th>\n",
       "      <th>宝贝ID</th>\n",
       "      <th>销量（人数）</th>\n",
       "      <th>售价</th>\n",
       "      <th>预估销售额</th>\n",
       "      <th>评价人数</th>\n",
       "      <th>收藏人数</th>\n",
       "      <th>地域</th>\n",
       "      <th>店铺类型</th>\n",
       "      <th>品牌</th>\n",
       "      <th>型号</th>\n",
       "      <th>净含量</th>\n",
       "      <th>适用对象</th>\n",
       "      <th>物理形态</th>\n",
       "    </tr>\n",
       "  </thead>\n",
       "  <tbody>\n",
       "    <tr>\n",
       "      <th>0</th>\n",
       "      <td>杀虫</td>\n",
       "      <td>578459866289</td>\n",
       "      <td>99</td>\n",
       "      <td>29.9</td>\n",
       "      <td>2960.1</td>\n",
       "      <td>26.0</td>\n",
       "      <td>202</td>\n",
       "      <td>NaN</td>\n",
       "      <td>天猫</td>\n",
       "      <td>拜耳</td>\n",
       "      <td>特姆得</td>\n",
       "      <td>NaN</td>\n",
       "      <td>蟑螂</td>\n",
       "      <td>液体</td>\n",
       "    </tr>\n",
       "    <tr>\n",
       "      <th>1</th>\n",
       "      <td>杀虫</td>\n",
       "      <td>548196868239</td>\n",
       "      <td>99</td>\n",
       "      <td>0.6</td>\n",
       "      <td>59.4</td>\n",
       "      <td>1330.0</td>\n",
       "      <td>242</td>\n",
       "      <td>浙江 金华</td>\n",
       "      <td>淘宝</td>\n",
       "      <td>佰凌</td>\n",
       "      <td>180325</td>\n",
       "      <td>NaN</td>\n",
       "      <td>NaN</td>\n",
       "      <td>NaN</td>\n",
       "    </tr>\n",
       "    <tr>\n",
       "      <th>2</th>\n",
       "      <td>杀虫</td>\n",
       "      <td>580839295562</td>\n",
       "      <td>99</td>\n",
       "      <td>98.0</td>\n",
       "      <td>9702.0</td>\n",
       "      <td>44.0</td>\n",
       "      <td>27</td>\n",
       "      <td>广东 深圳</td>\n",
       "      <td>淘宝</td>\n",
       "      <td>NaN</td>\n",
       "      <td>NaN</td>\n",
       "      <td>NaN</td>\n",
       "      <td>NaN</td>\n",
       "      <td>NaN</td>\n",
       "    </tr>\n",
       "    <tr>\n",
       "      <th>3</th>\n",
       "      <td>杀虫</td>\n",
       "      <td>580264662322</td>\n",
       "      <td>99</td>\n",
       "      <td>6.9</td>\n",
       "      <td>683.1</td>\n",
       "      <td>24.0</td>\n",
       "      <td>26</td>\n",
       "      <td>河南 商丘</td>\n",
       "      <td>淘宝</td>\n",
       "      <td>SHURONGCROP/树荣作物</td>\n",
       "      <td>NaN</td>\n",
       "      <td>30g</td>\n",
       "      <td>NaN</td>\n",
       "      <td>NaN</td>\n",
       "    </tr>\n",
       "    <tr>\n",
       "      <th>4</th>\n",
       "      <td>杀虫</td>\n",
       "      <td>44484517973</td>\n",
       "      <td>99</td>\n",
       "      <td>18.8</td>\n",
       "      <td>1861.2</td>\n",
       "      <td>121.0</td>\n",
       "      <td>133</td>\n",
       "      <td>河北 秦皇岛</td>\n",
       "      <td>天猫</td>\n",
       "      <td>Raid/雷达</td>\n",
       "      <td>雷达杀虫气雾剂清香</td>\n",
       "      <td>600ml</td>\n",
       "      <td>蟑螂</td>\n",
       "      <td>喷雾</td>\n",
       "    </tr>\n",
       "    <tr>\n",
       "      <th>...</th>\n",
       "      <td>...</td>\n",
       "      <td>...</td>\n",
       "      <td>...</td>\n",
       "      <td>...</td>\n",
       "      <td>...</td>\n",
       "      <td>...</td>\n",
       "      <td>...</td>\n",
       "      <td>...</td>\n",
       "      <td>...</td>\n",
       "      <td>...</td>\n",
       "      <td>...</td>\n",
       "      <td>...</td>\n",
       "      <td>...</td>\n",
       "      <td>...</td>\n",
       "    </tr>\n",
       "    <tr>\n",
       "      <th>6551</th>\n",
       "      <td>蟑螂</td>\n",
       "      <td>567322968739</td>\n",
       "      <td>14</td>\n",
       "      <td>9.9</td>\n",
       "      <td>138.6</td>\n",
       "      <td>536.0</td>\n",
       "      <td>76</td>\n",
       "      <td>上海 上海</td>\n",
       "      <td>淘宝</td>\n",
       "      <td>达豪</td>\n",
       "      <td>NaN</td>\n",
       "      <td>NaN</td>\n",
       "      <td>NaN</td>\n",
       "      <td>NaN</td>\n",
       "    </tr>\n",
       "    <tr>\n",
       "      <th>6552</th>\n",
       "      <td>蟑螂</td>\n",
       "      <td>547638024194</td>\n",
       "      <td>14</td>\n",
       "      <td>375.0</td>\n",
       "      <td>5250.0</td>\n",
       "      <td>16.0</td>\n",
       "      <td>70</td>\n",
       "      <td>湖南 常德</td>\n",
       "      <td>淘宝</td>\n",
       "      <td>榄菊</td>\n",
       "      <td>速杀型杀虫气雾剂600ml</td>\n",
       "      <td>600ML</td>\n",
       "      <td>蟑螂</td>\n",
       "      <td>喷雾</td>\n",
       "    </tr>\n",
       "    <tr>\n",
       "      <th>6553</th>\n",
       "      <td>蟑螂</td>\n",
       "      <td>572950517334</td>\n",
       "      <td>14</td>\n",
       "      <td>20.8</td>\n",
       "      <td>291.2</td>\n",
       "      <td>32.0</td>\n",
       "      <td>14</td>\n",
       "      <td>河北 秦皇岛</td>\n",
       "      <td>天猫</td>\n",
       "      <td>全无敌</td>\n",
       "      <td>全无敌杀虫气雾剂无香600ml</td>\n",
       "      <td>NaN</td>\n",
       "      <td>NaN</td>\n",
       "      <td>喷雾</td>\n",
       "    </tr>\n",
       "    <tr>\n",
       "      <th>6554</th>\n",
       "      <td>蟑螂</td>\n",
       "      <td>540393439567</td>\n",
       "      <td>14</td>\n",
       "      <td>7.9</td>\n",
       "      <td>110.6</td>\n",
       "      <td>180.0</td>\n",
       "      <td>109</td>\n",
       "      <td>浙江 杭州</td>\n",
       "      <td>淘宝</td>\n",
       "      <td>云杀</td>\n",
       "      <td>蟑螂</td>\n",
       "      <td>10g</td>\n",
       "      <td>蟑螂</td>\n",
       "      <td>啫喱</td>\n",
       "    </tr>\n",
       "    <tr>\n",
       "      <th>6555</th>\n",
       "      <td>蟑螂</td>\n",
       "      <td>567544678713</td>\n",
       "      <td>14</td>\n",
       "      <td>14.9</td>\n",
       "      <td>208.6</td>\n",
       "      <td>397.0</td>\n",
       "      <td>37</td>\n",
       "      <td>江西 赣州</td>\n",
       "      <td>淘宝</td>\n",
       "      <td>坤宁王</td>\n",
       "      <td>NaN</td>\n",
       "      <td>10枚/盒</td>\n",
       "      <td>蟑螂</td>\n",
       "      <td>固体</td>\n",
       "    </tr>\n",
       "  </tbody>\n",
       "</table>\n",
       "<p>6556 rows × 14 columns</p>\n",
       "</div>"
      ],
      "text/plain": [
       "      类别          宝贝ID  销量（人数）     售价   预估销售额    评价人数  收藏人数      地域 店铺类型  \\\n",
       "0     杀虫  578459866289      99   29.9  2960.1    26.0   202     NaN   天猫   \n",
       "1     杀虫  548196868239      99    0.6    59.4  1330.0   242   浙江 金华   淘宝   \n",
       "2     杀虫  580839295562      99   98.0  9702.0    44.0    27   广东 深圳   淘宝   \n",
       "3     杀虫  580264662322      99    6.9   683.1    24.0    26   河南 商丘   淘宝   \n",
       "4     杀虫   44484517973      99   18.8  1861.2   121.0   133  河北 秦皇岛   天猫   \n",
       "...   ..           ...     ...    ...     ...     ...   ...     ...  ...   \n",
       "6551  蟑螂  567322968739      14    9.9   138.6   536.0    76   上海 上海   淘宝   \n",
       "6552  蟑螂  547638024194      14  375.0  5250.0    16.0    70   湖南 常德   淘宝   \n",
       "6553  蟑螂  572950517334      14   20.8   291.2    32.0    14  河北 秦皇岛   天猫   \n",
       "6554  蟑螂  540393439567      14    7.9   110.6   180.0   109   浙江 杭州   淘宝   \n",
       "6555  蟑螂  567544678713      14   14.9   208.6   397.0    37   江西 赣州   淘宝   \n",
       "\n",
       "                    品牌               型号    净含量 适用对象 物理形态  \n",
       "0                   拜耳              特姆得    NaN   蟑螂   液体  \n",
       "1                   佰凌           180325    NaN  NaN  NaN  \n",
       "2                  NaN              NaN    NaN  NaN  NaN  \n",
       "3     SHURONGCROP/树荣作物              NaN    30g  NaN  NaN  \n",
       "4              Raid/雷达        雷达杀虫气雾剂清香  600ml   蟑螂   喷雾  \n",
       "...                ...              ...    ...  ...  ...  \n",
       "6551                达豪              NaN    NaN  NaN  NaN  \n",
       "6552                榄菊    速杀型杀虫气雾剂600ml  600ML   蟑螂   喷雾  \n",
       "6553               全无敌  全无敌杀虫气雾剂无香600ml    NaN  NaN   喷雾  \n",
       "6554                云杀               蟑螂    10g   蟑螂   啫喱  \n",
       "6555               坤宁王              NaN  10枚/盒   蟑螂   固体  \n",
       "\n",
       "[6556 rows x 14 columns]"
      ]
     },
     "execution_count": 130,
     "metadata": {},
     "output_type": "execute_result"
    }
   ],
   "source": [
    "df"
   ]
  },
  {
   "cell_type": "code",
   "execution_count": 128,
   "id": "4303cc8d",
   "metadata": {},
   "outputs": [],
   "source": [
    "# 查看各产品’类别’总的’预估销售额’的分布,以此表示市场分布情况"
   ]
  },
  {
   "cell_type": "code",
   "execution_count": 200,
   "id": "5bd790f0",
   "metadata": {},
   "outputs": [
    {
     "data": {
      "text/plain": [
       "<AxesSubplot:ylabel='预估销售额'>"
      ]
     },
     "execution_count": 200,
     "metadata": {},
     "output_type": "execute_result"
    },
    {
     "data": {
      "image/png": "[encoded data removed]",
      "text/plain": [
       "<Figure size 432x288 with 1 Axes>"
      ]
     },
     "metadata": {},
     "output_type": "display_data"
    }
   ],
   "source": [
    "df.groupby(by='类别')['预估销售额'].sum().plot(kind='pie', autopct='%.2f%%')"
   ]
  },
  {
   "cell_type": "code",
   "execution_count": 201,
   "id": "3e63e83d",
   "metadata": {},
   "outputs": [],
   "source": [
    "# 灭鼠占比组高, 选择灭鼠这个细分市场进行研究\n",
    "# 从原始数据中筛选出类别为灭鼠的数据\n",
    "derat = df.loc[df['类别'] == '灭鼠'].copy()"
   ]
  },
  {
   "cell_type": "code",
   "execution_count": 202,
   "id": "f6e1d7fe",
   "metadata": {},
   "outputs": [],
   "source": [
    "# 重置索引\n",
    "derat.reset_index(drop=True, inplace=True)"
   ]
  },
  {
   "cell_type": "code",
   "execution_count": 203,
   "id": "baf02d17",
   "metadata": {},
   "outputs": [
    {
     "data": {
      "text/plain": [
       "<AxesSubplot:xlabel='售价', ylabel='Count'>"
      ]
     },
     "execution_count": 203,
     "metadata": {},
     "output_type": "execute_result"
    },
    {
     "data": {
      "image/png": "[encoded data removed]",
      "text/plain": [
       "<Figure size 432x288 with 1 Axes>"
      ]
     },
     "metadata": {},
     "output_type": "display_data"
    }
   ],
   "source": [
    "sns.histplot(x='售价', data=derat)"
   ]
  },
  {
   "cell_type": "code",
   "execution_count": 204,
   "id": "77862a37",
   "metadata": {},
   "outputs": [],
   "source": [
    "# 对售价进行区分\n",
    "bins = [0, 50, 100, 150, 200, 250, 300, 500]\n",
    "labels = ['0-50', '50-100','100-150', '150-200','200-250', '250-300', '300以上']\n",
    "derat['价格区间'] = pd.cut(derat['售价'], bins=bins, labels=labels)"
   ]
  },
  {
   "cell_type": "code",
   "execution_count": 205,
   "id": "43454665",
   "metadata": {},
   "outputs": [
    {
     "data": {
      "text/html": [
       "<div>\n",
       "<style scoped>\n",
       "    .dataframe tbody tr th:only-of-type {\n",
       "        vertical-align: middle;\n",
       "    }\n",
       "\n",
       "    .dataframe tbody tr th {\n",
       "        vertical-align: top;\n",
       "    }\n",
       "\n",
       "    .dataframe thead th {\n",
       "        text-align: right;\n",
       "    }\n",
       "</style>\n",
       "<table border=\"1\" class=\"dataframe\">\n",
       "  <thead>\n",
       "    <tr style=\"text-align: right;\">\n",
       "      <th></th>\n",
       "      <th>预估销售额</th>\n",
       "    </tr>\n",
       "    <tr>\n",
       "      <th>价格区间</th>\n",
       "      <th></th>\n",
       "    </tr>\n",
       "  </thead>\n",
       "  <tbody>\n",
       "    <tr>\n",
       "      <th>0-50</th>\n",
       "      <td>15162086.51</td>\n",
       "    </tr>\n",
       "    <tr>\n",
       "      <th>50-100</th>\n",
       "      <td>3335060.19</td>\n",
       "    </tr>\n",
       "    <tr>\n",
       "      <th>100-150</th>\n",
       "      <td>2758086.29</td>\n",
       "    </tr>\n",
       "    <tr>\n",
       "      <th>150-200</th>\n",
       "      <td>629813.00</td>\n",
       "    </tr>\n",
       "    <tr>\n",
       "      <th>200-250</th>\n",
       "      <td>2743758.00</td>\n",
       "    </tr>\n",
       "    <tr>\n",
       "      <th>250-300</th>\n",
       "      <td>237740.00</td>\n",
       "    </tr>\n",
       "    <tr>\n",
       "      <th>300以上</th>\n",
       "      <td>819468.00</td>\n",
       "    </tr>\n",
       "  </tbody>\n",
       "</table>\n",
       "</div>"
      ],
      "text/plain": [
       "               预估销售额\n",
       "价格区间                \n",
       "0-50     15162086.51\n",
       "50-100    3335060.19\n",
       "100-150   2758086.29\n",
       "150-200    629813.00\n",
       "200-250   2743758.00\n",
       "250-300    237740.00\n",
       "300以上      819468.00"
      ]
     },
     "execution_count": 205,
     "metadata": {},
     "output_type": "execute_result"
    }
   ],
   "source": [
    "# 计算各个价格区间的预估销售额总和\n",
    "collection = derat.groupby(by='价格区间')[['预估销售额']].sum()\n",
    "collection"
   ]
  },
  {
   "cell_type": "code",
   "execution_count": 206,
   "id": "c3aad5e4",
   "metadata": {},
   "outputs": [],
   "source": [
    "# 计算预估销售额占比\n",
    "collection['预估销售额占比'] = collection.预估销售额 / collection.预估销售额.sum()"
   ]
  },
  {
   "cell_type": "code",
   "execution_count": 207,
   "id": "368843f6",
   "metadata": {},
   "outputs": [
    {
     "data": {
      "text/html": [
       "<div>\n",
       "<style scoped>\n",
       "    .dataframe tbody tr th:only-of-type {\n",
       "        vertical-align: middle;\n",
       "    }\n",
       "\n",
       "    .dataframe tbody tr th {\n",
       "        vertical-align: top;\n",
       "    }\n",
       "\n",
       "    .dataframe thead th {\n",
       "        text-align: right;\n",
       "    }\n",
       "</style>\n",
       "<table border=\"1\" class=\"dataframe\">\n",
       "  <thead>\n",
       "    <tr style=\"text-align: right;\">\n",
       "      <th></th>\n",
       "      <th>预估销售额</th>\n",
       "      <th>预估销售额占比</th>\n",
       "    </tr>\n",
       "    <tr>\n",
       "      <th>价格区间</th>\n",
       "      <th></th>\n",
       "      <th></th>\n",
       "    </tr>\n",
       "  </thead>\n",
       "  <tbody>\n",
       "    <tr>\n",
       "      <th>0-50</th>\n",
       "      <td>15162086.51</td>\n",
       "      <td>0.590286</td>\n",
       "    </tr>\n",
       "    <tr>\n",
       "      <th>50-100</th>\n",
       "      <td>3335060.19</td>\n",
       "      <td>0.129840</td>\n",
       "    </tr>\n",
       "    <tr>\n",
       "      <th>100-150</th>\n",
       "      <td>2758086.29</td>\n",
       "      <td>0.107377</td>\n",
       "    </tr>\n",
       "    <tr>\n",
       "      <th>150-200</th>\n",
       "      <td>629813.00</td>\n",
       "      <td>0.024520</td>\n",
       "    </tr>\n",
       "    <tr>\n",
       "      <th>200-250</th>\n",
       "      <td>2743758.00</td>\n",
       "      <td>0.106819</td>\n",
       "    </tr>\n",
       "    <tr>\n",
       "      <th>250-300</th>\n",
       "      <td>237740.00</td>\n",
       "      <td>0.009256</td>\n",
       "    </tr>\n",
       "    <tr>\n",
       "      <th>300以上</th>\n",
       "      <td>819468.00</td>\n",
       "      <td>0.031903</td>\n",
       "    </tr>\n",
       "  </tbody>\n",
       "</table>\n",
       "</div>"
      ],
      "text/plain": [
       "               预估销售额   预估销售额占比\n",
       "价格区间                          \n",
       "0-50     15162086.51  0.590286\n",
       "50-100    3335060.19  0.129840\n",
       "100-150   2758086.29  0.107377\n",
       "150-200    629813.00  0.024520\n",
       "200-250   2743758.00  0.106819\n",
       "250-300    237740.00  0.009256\n",
       "300以上      819468.00  0.031903"
      ]
     },
     "execution_count": 207,
     "metadata": {},
     "output_type": "execute_result"
    }
   ],
   "source": [
    "collection"
   ]
  },
  {
   "cell_type": "code",
   "execution_count": 208,
   "id": "cbd4ec23",
   "metadata": {},
   "outputs": [
    {
     "data": {
      "text/html": [
       "<div>\n",
       "<style scoped>\n",
       "    .dataframe tbody tr th:only-of-type {\n",
       "        vertical-align: middle;\n",
       "    }\n",
       "\n",
       "    .dataframe tbody tr th {\n",
       "        vertical-align: top;\n",
       "    }\n",
       "\n",
       "    .dataframe thead th {\n",
       "        text-align: right;\n",
       "    }\n",
       "</style>\n",
       "<table border=\"1\" class=\"dataframe\">\n",
       "  <thead>\n",
       "    <tr style=\"text-align: right;\">\n",
       "      <th></th>\n",
       "      <th>宝贝ID</th>\n",
       "    </tr>\n",
       "    <tr>\n",
       "      <th>价格区间</th>\n",
       "      <th></th>\n",
       "    </tr>\n",
       "  </thead>\n",
       "  <tbody>\n",
       "    <tr>\n",
       "      <th>0-50</th>\n",
       "      <td>1138</td>\n",
       "    </tr>\n",
       "    <tr>\n",
       "      <th>50-100</th>\n",
       "      <td>242</td>\n",
       "    </tr>\n",
       "    <tr>\n",
       "      <th>100-150</th>\n",
       "      <td>62</td>\n",
       "    </tr>\n",
       "    <tr>\n",
       "      <th>150-200</th>\n",
       "      <td>35</td>\n",
       "    </tr>\n",
       "    <tr>\n",
       "      <th>200-250</th>\n",
       "      <td>9</td>\n",
       "    </tr>\n",
       "    <tr>\n",
       "      <th>250-300</th>\n",
       "      <td>9</td>\n",
       "    </tr>\n",
       "    <tr>\n",
       "      <th>300以上</th>\n",
       "      <td>28</td>\n",
       "    </tr>\n",
       "  </tbody>\n",
       "</table>\n",
       "</div>"
      ],
      "text/plain": [
       "         宝贝ID\n",
       "价格区间         \n",
       "0-50     1138\n",
       "50-100    242\n",
       "100-150    62\n",
       "150-200    35\n",
       "200-250     9\n",
       "250-300     9\n",
       "300以上      28"
      ]
     },
     "execution_count": 208,
     "metadata": {},
     "output_type": "execute_result"
    }
   ],
   "source": [
    "derat.groupby(by='价格区间')[['宝贝ID']].count()"
   ]
  },
  {
   "cell_type": "code",
   "execution_count": 209,
   "id": "24fc896c",
   "metadata": {},
   "outputs": [],
   "source": [
    "# 宝贝有重复的情况. 所以刚才把宝贝ID改成了object, 就是为了方便去重\n",
    "collection['宝贝数'] = derat.drop_duplicates(subset=['宝贝ID']).groupby(by='价格区间')[['宝贝ID']].count()"
   ]
  },
  {
   "cell_type": "code",
   "execution_count": 210,
   "id": "16736dd4",
   "metadata": {},
   "outputs": [
    {
     "data": {
      "text/html": [
       "<div>\n",
       "<style scoped>\n",
       "    .dataframe tbody tr th:only-of-type {\n",
       "        vertical-align: middle;\n",
       "    }\n",
       "\n",
       "    .dataframe tbody tr th {\n",
       "        vertical-align: top;\n",
       "    }\n",
       "\n",
       "    .dataframe thead th {\n",
       "        text-align: right;\n",
       "    }\n",
       "</style>\n",
       "<table border=\"1\" class=\"dataframe\">\n",
       "  <thead>\n",
       "    <tr style=\"text-align: right;\">\n",
       "      <th></th>\n",
       "      <th>预估销售额</th>\n",
       "      <th>预估销售额占比</th>\n",
       "      <th>宝贝数</th>\n",
       "    </tr>\n",
       "    <tr>\n",
       "      <th>价格区间</th>\n",
       "      <th></th>\n",
       "      <th></th>\n",
       "      <th></th>\n",
       "    </tr>\n",
       "  </thead>\n",
       "  <tbody>\n",
       "    <tr>\n",
       "      <th>0-50</th>\n",
       "      <td>15162086.51</td>\n",
       "      <td>0.590286</td>\n",
       "      <td>854</td>\n",
       "    </tr>\n",
       "    <tr>\n",
       "      <th>50-100</th>\n",
       "      <td>3335060.19</td>\n",
       "      <td>0.129840</td>\n",
       "      <td>172</td>\n",
       "    </tr>\n",
       "    <tr>\n",
       "      <th>100-150</th>\n",
       "      <td>2758086.29</td>\n",
       "      <td>0.107377</td>\n",
       "      <td>46</td>\n",
       "    </tr>\n",
       "    <tr>\n",
       "      <th>150-200</th>\n",
       "      <td>629813.00</td>\n",
       "      <td>0.024520</td>\n",
       "      <td>28</td>\n",
       "    </tr>\n",
       "    <tr>\n",
       "      <th>200-250</th>\n",
       "      <td>2743758.00</td>\n",
       "      <td>0.106819</td>\n",
       "      <td>7</td>\n",
       "    </tr>\n",
       "    <tr>\n",
       "      <th>250-300</th>\n",
       "      <td>237740.00</td>\n",
       "      <td>0.009256</td>\n",
       "      <td>9</td>\n",
       "    </tr>\n",
       "    <tr>\n",
       "      <th>300以上</th>\n",
       "      <td>819468.00</td>\n",
       "      <td>0.031903</td>\n",
       "      <td>18</td>\n",
       "    </tr>\n",
       "  </tbody>\n",
       "</table>\n",
       "</div>"
      ],
      "text/plain": [
       "               预估销售额   预估销售额占比  宝贝数\n",
       "价格区间                               \n",
       "0-50     15162086.51  0.590286  854\n",
       "50-100    3335060.19  0.129840  172\n",
       "100-150   2758086.29  0.107377   46\n",
       "150-200    629813.00  0.024520   28\n",
       "200-250   2743758.00  0.106819    7\n",
       "250-300    237740.00  0.009256    9\n",
       "300以上      819468.00  0.031903   18"
      ]
     },
     "execution_count": 210,
     "metadata": {},
     "output_type": "execute_result"
    }
   ],
   "source": [
    "collection"
   ]
  },
  {
   "cell_type": "code",
   "execution_count": 211,
   "id": "46881645",
   "metadata": {},
   "outputs": [],
   "source": [
    "collection['宝贝数占比'] = collection.宝贝数 / collection.宝贝数.sum()"
   ]
  },
  {
   "cell_type": "code",
   "execution_count": 214,
   "id": "dc013fdd",
   "metadata": {},
   "outputs": [],
   "source": [
    "# 单宝贝平均销售额\n",
    "collection['单宝贝平均销售额'] = collection.预估销售额 / collection.宝贝数"
   ]
  },
  {
   "cell_type": "code",
   "execution_count": 215,
   "id": "a02538a1",
   "metadata": {},
   "outputs": [
    {
     "data": {
      "text/html": [
       "<div>\n",
       "<style scoped>\n",
       "    .dataframe tbody tr th:only-of-type {\n",
       "        vertical-align: middle;\n",
       "    }\n",
       "\n",
       "    .dataframe tbody tr th {\n",
       "        vertical-align: top;\n",
       "    }\n",
       "\n",
       "    .dataframe thead th {\n",
       "        text-align: right;\n",
       "    }\n",
       "</style>\n",
       "<table border=\"1\" class=\"dataframe\">\n",
       "  <thead>\n",
       "    <tr style=\"text-align: right;\">\n",
       "      <th></th>\n",
       "      <th>预估销售额</th>\n",
       "      <th>预估销售额占比</th>\n",
       "      <th>宝贝数</th>\n",
       "      <th>宝贝数占比</th>\n",
       "      <th>单宝贝平均销售额</th>\n",
       "    </tr>\n",
       "    <tr>\n",
       "      <th>价格区间</th>\n",
       "      <th></th>\n",
       "      <th></th>\n",
       "      <th></th>\n",
       "      <th></th>\n",
       "      <th></th>\n",
       "    </tr>\n",
       "  </thead>\n",
       "  <tbody>\n",
       "    <tr>\n",
       "      <th>0-50</th>\n",
       "      <td>15162086.51</td>\n",
       "      <td>0.590286</td>\n",
       "      <td>854</td>\n",
       "      <td>0.753086</td>\n",
       "      <td>17754.199660</td>\n",
       "    </tr>\n",
       "    <tr>\n",
       "      <th>50-100</th>\n",
       "      <td>3335060.19</td>\n",
       "      <td>0.129840</td>\n",
       "      <td>172</td>\n",
       "      <td>0.151675</td>\n",
       "      <td>19389.884826</td>\n",
       "    </tr>\n",
       "    <tr>\n",
       "      <th>100-150</th>\n",
       "      <td>2758086.29</td>\n",
       "      <td>0.107377</td>\n",
       "      <td>46</td>\n",
       "      <td>0.040564</td>\n",
       "      <td>59958.397609</td>\n",
       "    </tr>\n",
       "    <tr>\n",
       "      <th>150-200</th>\n",
       "      <td>629813.00</td>\n",
       "      <td>0.024520</td>\n",
       "      <td>28</td>\n",
       "      <td>0.024691</td>\n",
       "      <td>22493.321429</td>\n",
       "    </tr>\n",
       "    <tr>\n",
       "      <th>200-250</th>\n",
       "      <td>2743758.00</td>\n",
       "      <td>0.106819</td>\n",
       "      <td>7</td>\n",
       "      <td>0.006173</td>\n",
       "      <td>391965.428571</td>\n",
       "    </tr>\n",
       "    <tr>\n",
       "      <th>250-300</th>\n",
       "      <td>237740.00</td>\n",
       "      <td>0.009256</td>\n",
       "      <td>9</td>\n",
       "      <td>0.007937</td>\n",
       "      <td>26415.555556</td>\n",
       "    </tr>\n",
       "    <tr>\n",
       "      <th>300以上</th>\n",
       "      <td>819468.00</td>\n",
       "      <td>0.031903</td>\n",
       "      <td>18</td>\n",
       "      <td>0.015873</td>\n",
       "      <td>45526.000000</td>\n",
       "    </tr>\n",
       "  </tbody>\n",
       "</table>\n",
       "</div>"
      ],
      "text/plain": [
       "               预估销售额   预估销售额占比  宝贝数     宝贝数占比       单宝贝平均销售额\n",
       "价格区间                                                        \n",
       "0-50     15162086.51  0.590286  854  0.753086   17754.199660\n",
       "50-100    3335060.19  0.129840  172  0.151675   19389.884826\n",
       "100-150   2758086.29  0.107377   46  0.040564   59958.397609\n",
       "150-200    629813.00  0.024520   28  0.024691   22493.321429\n",
       "200-250   2743758.00  0.106819    7  0.006173  391965.428571\n",
       "250-300    237740.00  0.009256    9  0.007937   26415.555556\n",
       "300以上      819468.00  0.031903   18  0.015873   45526.000000"
      ]
     },
     "execution_count": 215,
     "metadata": {},
     "output_type": "execute_result"
    }
   ],
   "source": [
    "collection"
   ]
  },
  {
   "cell_type": "code",
   "execution_count": 216,
   "id": "7cc65100",
   "metadata": {},
   "outputs": [],
   "source": [
    "# 根据单宝贝平均销售额, 计算各个价格区间的相对竞争度\n",
    "def convert(x):\n",
    "    return 1 - (x - x.min()) / (x.max() - x.min())"
   ]
  },
  {
   "cell_type": "code",
   "execution_count": 217,
   "id": "a9c21ff7",
   "metadata": {},
   "outputs": [],
   "source": [
    "collection['相对竞争度'] = collection['单宝贝平均销售额'].transform(convert)"
   ]
  },
  {
   "cell_type": "code",
   "execution_count": 218,
   "id": "299b076c",
   "metadata": {
    "scrolled": true
   },
   "outputs": [],
   "source": [
    "collection.sort_values(by='相对竞争度', inplace=True)"
   ]
  },
  {
   "cell_type": "code",
   "execution_count": 219,
   "id": "8d659594",
   "metadata": {},
   "outputs": [
    {
     "data": {
      "text/html": [
       "<div>\n",
       "<style scoped>\n",
       "    .dataframe tbody tr th:only-of-type {\n",
       "        vertical-align: middle;\n",
       "    }\n",
       "\n",
       "    .dataframe tbody tr th {\n",
       "        vertical-align: top;\n",
       "    }\n",
       "\n",
       "    .dataframe thead th {\n",
       "        text-align: right;\n",
       "    }\n",
       "</style>\n",
       "<table border=\"1\" class=\"dataframe\">\n",
       "  <thead>\n",
       "    <tr style=\"text-align: right;\">\n",
       "      <th></th>\n",
       "      <th>预估销售额</th>\n",
       "      <th>预估销售额占比</th>\n",
       "      <th>宝贝数</th>\n",
       "      <th>宝贝数占比</th>\n",
       "      <th>单宝贝平均销售额</th>\n",
       "      <th>相对竞争度</th>\n",
       "    </tr>\n",
       "    <tr>\n",
       "      <th>价格区间</th>\n",
       "      <th></th>\n",
       "      <th></th>\n",
       "      <th></th>\n",
       "      <th></th>\n",
       "      <th></th>\n",
       "      <th></th>\n",
       "    </tr>\n",
       "  </thead>\n",
       "  <tbody>\n",
       "    <tr>\n",
       "      <th>200-250</th>\n",
       "      <td>2743758.00</td>\n",
       "      <td>0.106819</td>\n",
       "      <td>7</td>\n",
       "      <td>0.006173</td>\n",
       "      <td>391965.428571</td>\n",
       "      <td>0.000000</td>\n",
       "    </tr>\n",
       "    <tr>\n",
       "      <th>100-150</th>\n",
       "      <td>2758086.29</td>\n",
       "      <td>0.107377</td>\n",
       "      <td>46</td>\n",
       "      <td>0.040564</td>\n",
       "      <td>59958.397609</td>\n",
       "      <td>0.887218</td>\n",
       "    </tr>\n",
       "    <tr>\n",
       "      <th>300以上</th>\n",
       "      <td>819468.00</td>\n",
       "      <td>0.031903</td>\n",
       "      <td>18</td>\n",
       "      <td>0.015873</td>\n",
       "      <td>45526.000000</td>\n",
       "      <td>0.925786</td>\n",
       "    </tr>\n",
       "    <tr>\n",
       "      <th>250-300</th>\n",
       "      <td>237740.00</td>\n",
       "      <td>0.009256</td>\n",
       "      <td>9</td>\n",
       "      <td>0.007937</td>\n",
       "      <td>26415.555556</td>\n",
       "      <td>0.976854</td>\n",
       "    </tr>\n",
       "    <tr>\n",
       "      <th>150-200</th>\n",
       "      <td>629813.00</td>\n",
       "      <td>0.024520</td>\n",
       "      <td>28</td>\n",
       "      <td>0.024691</td>\n",
       "      <td>22493.321429</td>\n",
       "      <td>0.987336</td>\n",
       "    </tr>\n",
       "    <tr>\n",
       "      <th>50-100</th>\n",
       "      <td>3335060.19</td>\n",
       "      <td>0.129840</td>\n",
       "      <td>172</td>\n",
       "      <td>0.151675</td>\n",
       "      <td>19389.884826</td>\n",
       "      <td>0.995629</td>\n",
       "    </tr>\n",
       "    <tr>\n",
       "      <th>0-50</th>\n",
       "      <td>15162086.51</td>\n",
       "      <td>0.590286</td>\n",
       "      <td>854</td>\n",
       "      <td>0.753086</td>\n",
       "      <td>17754.199660</td>\n",
       "      <td>1.000000</td>\n",
       "    </tr>\n",
       "  </tbody>\n",
       "</table>\n",
       "</div>"
      ],
      "text/plain": [
       "               预估销售额   预估销售额占比  宝贝数     宝贝数占比       单宝贝平均销售额     相对竞争度\n",
       "价格区间                                                                  \n",
       "200-250   2743758.00  0.106819    7  0.006173  391965.428571  0.000000\n",
       "100-150   2758086.29  0.107377   46  0.040564   59958.397609  0.887218\n",
       "300以上      819468.00  0.031903   18  0.015873   45526.000000  0.925786\n",
       "250-300    237740.00  0.009256    9  0.007937   26415.555556  0.976854\n",
       "150-200    629813.00  0.024520   28  0.024691   22493.321429  0.987336\n",
       "50-100    3335060.19  0.129840  172  0.151675   19389.884826  0.995629\n",
       "0-50     15162086.51  0.590286  854  0.753086   17754.199660  1.000000"
      ]
     },
     "execution_count": 219,
     "metadata": {},
     "output_type": "execute_result"
    }
   ],
   "source": [
    "collection"
   ]
  },
  {
   "cell_type": "code",
   "execution_count": 230,
   "id": "c889f2e4",
   "metadata": {},
   "outputs": [
    {
     "data": {
      "text/plain": [
       "Text(0, 0.5, '销售额占比')"
      ]
     },
     "execution_count": 230,
     "metadata": {},
     "output_type": "execute_result"
    },
    {
     "data": {
      "image/png": "[encoded data removed]",
      "text/plain": [
       "<Figure size 720x360 with 1 Axes>"
      ]
     },
     "metadata": {},
     "output_type": "display_data"
    }
   ],
   "source": [
    "# 画出销售额占比的柱状图, 和相对竞争度的折线图\n",
    "plt.figure(figsize=(10, 5))\n",
    "collection['预估销售额占比'].plot(kind='bar', color='wheat')\n",
    "collection['相对竞争度'].plot(marker='o', rot=90)\n",
    "plt.ylabel('销售额占比')"
   ]
  },
  {
   "cell_type": "code",
   "execution_count": null,
   "id": "1d5ab81b",
   "metadata": {},
   "outputs": [],
   "source": [
    "# 0-50区间占了销售的大头, 但是竞争非常激烈\n",
    "# 200-250这个区间, 竞争和鸟"
   ]
  },
  {
   "cell_type": "code",
   "execution_count": 176,
   "id": "8e72ce1f",
   "metadata": {},
   "outputs": [],
   "source": [
    "# 选择容量最大的0-50细分市场进一步分析\n",
    "# 筛选0-50之间价格区间的数据\n",
    "derat50 = derat.loc[derat.loc[:, '价格区间'] == '0-50'].copy()"
   ]
  },
  {
   "cell_type": "code",
   "execution_count": 177,
   "id": "636d19be",
   "metadata": {},
   "outputs": [],
   "source": [
    "bins = [0, 10, 20, 30, 40, 50]\n",
    "labels = ['0-10', '10-20', '20-30', '30-40', '40-50']\n",
    "derat50['价格区间'] = pd.cut(derat50['售价'], bins=bins, labels=labels)"
   ]
  },
  {
   "cell_type": "code",
   "execution_count": 239,
   "id": "84c82119",
   "metadata": {},
   "outputs": [],
   "source": [
    "def process_data(df):\n",
    "    collection = df.groupby(by='价格区间')[['预估销售额']].sum()\n",
    "    collection['预估销售额占比'] = collection.预估销售额 / collection.预估销售额.sum()\n",
    "    collection['宝贝数'] = df.drop_duplicates(subset=['宝贝ID']).groupby(by='价格区间')[['宝贝ID']].count()\n",
    "    collection['宝贝数占比'] = collection.宝贝数 / collection.宝贝数.sum()\n",
    "    collection['单宝贝平均销售额'] = collection.预估销售额 / collection.宝贝数.sum()\n",
    "    collection['相对竞争度'] = collection['单宝贝平均销售额'].transform(convert)\n",
    "    collection.sort_values(by='相对竞争度', inplace=True)\n",
    "    return collection"
   ]
  },
  {
   "cell_type": "code",
   "execution_count": 240,
   "id": "5a61769b",
   "metadata": {},
   "outputs": [],
   "source": [
    "collection50 = process_data(derat50)"
   ]
  },
  {
   "cell_type": "code",
   "execution_count": 241,
   "id": "2dc73914",
   "metadata": {},
   "outputs": [],
   "source": [
    "def draw_collection(collection):\n",
    "    plt.figure(figsize=(10, 5))\n",
    "    collection['预估销售额占比'].plot(kind='bar', color='wheat')\n",
    "    collection['相对竞争度'].plot(marker='o', rot=90)\n",
    "    plt.ylabel('销售额占比')"
   ]
  },
  {
   "cell_type": "code",
   "execution_count": 242,
   "id": "5550b391",
   "metadata": {},
   "outputs": [
    {
     "data": {
      "image/png": "[encoded data removed]",
      "text/plain": [
       "<Figure size 720x360 with 1 Axes>"
      ]
     },
     "metadata": {},
     "output_type": "display_data"
    }
   ],
   "source": [
    "draw_collection(collection50)"
   ]
  },
  {
   "cell_type": "code",
   "execution_count": 227,
   "id": "d3070bba",
   "metadata": {},
   "outputs": [
    {
     "data": {
      "text/plain": [
       "<BarContainer object of 7 artists>"
      ]
     },
     "execution_count": 227,
     "metadata": {},
     "output_type": "execute_result"
    },
    {
     "data": {
      "image/png": "[encoded data removed]",
      "text/plain": [
       "<Figure size 432x288 with 1 Axes>"
      ]
     },
     "metadata": {},
     "output_type": "display_data"
    }
   ],
   "source": [
    "plt.bar(collection.index, height=collection['预估销售额占比'])"
   ]
  },
  {
   "cell_type": "code",
   "execution_count": null,
   "id": "76955d95",
   "metadata": {},
   "outputs": [],
   "source": [
    "collection50.groupby(by='店铺')"
   ]
  }
 ],
 "metadata": {
  "kernelspec": {
   "display_name": "Python 3",
   "language": "python",
   "name": "python3"
  },
  "language_info": {
   "codemirror_mode": {
    "name": "ipython",
    "version": 3
   },
   "file_extension": ".py",
   "mimetype": "text/x-python",
   "name": "python",
   "nbconvert_exporter": "python",
   "pygments_lexer": "ipython3",
   "version": "3.7.1"
  }
 },
 "nbformat": 4,
 "nbformat_minor": 5
}

{
 "cells": [
  {
   "cell_type": "code",
   "execution_count": 1,
   "id": "cc948fdd",
   "metadata": {},
   "outputs": [],
   "source": [
    "import pandas as pd\n",
    "import numpy as np\n",
    "import matplotlib.pyplot as plt"
   ]
  },
  {
   "cell_type": "markdown",
   "id": "665b492b",
   "metadata": {},
   "source": [
    "### 解释方差分 explained_variance_score"
   ]
  },
  {
   "cell_type": "code",
   "execution_count": 2,
   "id": "0e2cce0b",
   "metadata": {},
   "outputs": [],
   "source": [
    "from sklearn.metrics import explained_variance_score"
   ]
  },
  {
   "cell_type": "code",
   "execution_count": 7,
   "id": "499b5b86",
   "metadata": {},
   "outputs": [],
   "source": [
    "y_true = np.array([1, 3.2, 5.6, 7.8, 9.9, 11.2])\n",
    "y_pred = np.array([0.8, 2.9, 5.9, 7.5, 9.7, 11.5])"
   ]
  },
  {
   "cell_type": "code",
   "execution_count": 6,
   "id": "57e6c38e",
   "metadata": {},
   "outputs": [
    {
     "data": {
      "text/plain": [
       "-115.50842230130483"
      ]
     },
     "execution_count": 6,
     "metadata": {},
     "output_type": "execute_result"
    }
   ],
   "source": [
    "explained_variance_score(y_true, y_pred)"
   ]
  },
  {
   "cell_type": "code",
   "execution_count": 15,
   "id": "0e0f2bac",
   "metadata": {},
   "outputs": [],
   "source": [
    "y_true = np.array([[0.5, 1], [-1, 1], [7, -6]])\n",
    "y_pred = np.array([[0, 2], [-1, 2], [8, -5]])"
   ]
  },
  {
   "cell_type": "code",
   "execution_count": 16,
   "id": "d35da0aa",
   "metadata": {
    "scrolled": true
   },
   "outputs": [
    {
     "data": {
      "text/plain": [
       "0.9838709677419355"
      ]
     },
     "execution_count": 16,
     "metadata": {},
     "output_type": "execute_result"
    }
   ],
   "source": [
    "explained_variance_score(y_true, y_pred)"
   ]
  },
  {
   "cell_type": "code",
   "execution_count": 19,
   "id": "1ac86c57",
   "metadata": {},
   "outputs": [
    {
     "data": {
      "text/plain": [
       "array([0.96774194, 1.        ])"
      ]
     },
     "execution_count": 19,
     "metadata": {},
     "output_type": "execute_result"
    }
   ],
   "source": [
    "# raw_values\n",
    "explained_variance_score(y_true, y_pred, multioutput='raw_values')"
   ]
  },
  {
   "cell_type": "code",
   "execution_count": 18,
   "id": "8d04cea6",
   "metadata": {
    "scrolled": true
   },
   "outputs": [
    {
     "data": {
      "text/plain": [
       "0.9830508474576269"
      ]
     },
     "execution_count": 18,
     "metadata": {},
     "output_type": "execute_result"
    }
   ],
   "source": [
    "# variance_weighted\n",
    "explained_variance_score(y_true, y_pred, multioutput='variance_weighted')"
   ]
  },
  {
   "cell_type": "code",
   "execution_count": 20,
   "id": "92929c58",
   "metadata": {},
   "outputs": [
    {
     "data": {
      "text/plain": [
       "0.9903225806451612"
      ]
     },
     "execution_count": 20,
     "metadata": {},
     "output_type": "execute_result"
    }
   ],
   "source": [
    "# 指定权重\n",
    "explained_variance_score(y_true, y_pred, multioutput=[0.3, 0.7])"
   ]
  },
  {
   "cell_type": "code",
   "execution_count": 12,
   "id": "218d3849",
   "metadata": {},
   "outputs": [
    {
     "data": {
      "text/plain": [
       "0.967741935483871"
      ]
     },
     "execution_count": 12,
     "metadata": {},
     "output_type": "execute_result"
    }
   ],
   "source": [
    "y_true = np.array([0.5, -1, 7])\n",
    "y_pred = np.array([0, -1, 8])\n",
    "explained_variance_score(y_true, y_pred)"
   ]
  },
  {
   "cell_type": "code",
   "execution_count": 13,
   "id": "ccb0a306",
   "metadata": {},
   "outputs": [
    {
     "data": {
      "text/plain": [
       "1.0"
      ]
     },
     "execution_count": 13,
     "metadata": {},
     "output_type": "execute_result"
    }
   ],
   "source": [
    "y_true = np.array([1, 1, -6])\n",
    "y_pred = np.array([2, 2,-5])\n",
    "explained_variance_score(y_true, y_pred)"
   ]
  },
  {
   "cell_type": "code",
   "execution_count": 14,
   "id": "eaff315b",
   "metadata": {},
   "outputs": [
    {
     "data": {
      "text/plain": [
       "0.9838709677419355"
      ]
     },
     "execution_count": 14,
     "metadata": {},
     "output_type": "execute_result"
    }
   ],
   "source": [
    "(0.967741935483871 + 1.0) / 2"
   ]
  },
  {
   "cell_type": "code",
   "execution_count": 21,
   "id": "ee3dfb72",
   "metadata": {},
   "outputs": [
    {
     "data": {
      "text/plain": [
       "0.9903225806451612"
      ]
     },
     "execution_count": 21,
     "metadata": {},
     "output_type": "execute_result"
    }
   ],
   "source": [
    "0.967741935483871 * 0.3 + 1* 0.7"
   ]
  },
  {
   "cell_type": "markdown",
   "id": "730a8f91",
   "metadata": {},
   "source": [
    "### 平均绝对误差 mean absolute error(MAE)"
   ]
  },
  {
   "cell_type": "code",
   "execution_count": 22,
   "id": "82cafceb",
   "metadata": {},
   "outputs": [],
   "source": [
    "from sklearn.metrics import mean_absolute_error"
   ]
  },
  {
   "cell_type": "code",
   "execution_count": 23,
   "id": "94ef3ea4",
   "metadata": {},
   "outputs": [
    {
     "data": {
      "text/plain": [
       "0.25000000000000006"
      ]
     },
     "execution_count": 23,
     "metadata": {},
     "output_type": "execute_result"
    }
   ],
   "source": [
    "y_true = np.array([0.1, 4.2, 5.6, 7.9, 8.8, 11.5])\n",
    "y_pred = np.array([0.2, 4.0, 5.5, 7.7, 8.0, 11.4])\n",
    "# 数字越小表示你和效果越好\n",
    "mean_absolute_error(y_true, y_pred)"
   ]
  },
  {
   "cell_type": "markdown",
   "id": "79dbd576",
   "metadata": {},
   "source": [
    "### 均方误差 mean squared error(MSE)"
   ]
  },
  {
   "cell_type": "code",
   "execution_count": 25,
   "id": "f9b7b8ad",
   "metadata": {},
   "outputs": [],
   "source": [
    "from sklearn.metrics import mean_squared_error"
   ]
  },
  {
   "cell_type": "code",
   "execution_count": 27,
   "id": "96390245",
   "metadata": {},
   "outputs": [
    {
     "data": {
      "text/plain": [
       "0.1250000000000002"
      ]
     },
     "execution_count": 27,
     "metadata": {},
     "output_type": "execute_result"
    }
   ],
   "source": [
    "y_true = np.array([0.1, 4.2, 5.6, 7.9, 8.8, 11.5])\n",
    "y_pred = np.array([0.2, 4.0, 5.5, 7.7, 8.0, 11.4])\n",
    "# 平方的特点就是, 越小就越小, 越大就会被放大\n",
    "mean_squared_error(y_true, y_pred)"
   ]
  },
  {
   "cell_type": "code",
   "execution_count": null,
   "id": "3e4464e9",
   "metadata": {},
   "outputs": [],
   "source": [
    "# 比如预测的是深圳房价\n",
    "y_true = np.array([60000, 78000, 10000, ])"
   ]
  },
  {
   "cell_type": "markdown",
   "id": "b2444be0",
   "metadata": {},
   "source": [
    "### 均方误差 mean squared error(MSE)"
   ]
  },
  {
   "cell_type": "code",
   "execution_count": null,
   "id": "d2ebcb37",
   "metadata": {},
   "outputs": [],
   "source": []
  },
  {
   "cell_type": "markdown",
   "id": "462219fd",
   "metadata": {},
   "source": []
  }
 ],
 "metadata": {
  "kernelspec": {
   "display_name": "Python 3",
   "language": "python",
   "name": "python3"
  },
  "language_info": {
   "codemirror_mode": {
    "name": "ipython",
    "version": 3
   },
   "file_extension": ".py",
   "mimetype": "text/x-python",
   "name": "python",
   "nbconvert_exporter": "python",
   "pygments_lexer": "ipython3",
   "version": "3.7.1"
  }
 },
 "nbformat": 4,
 "nbformat_minor": 5
}

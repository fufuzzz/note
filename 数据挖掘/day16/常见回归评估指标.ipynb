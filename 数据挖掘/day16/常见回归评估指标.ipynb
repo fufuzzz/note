{
 "cells": [
  {
   "cell_type": "code",
   "execution_count": 1,
   "id": "71cb5a0b",
   "metadata": {},
   "outputs": [],
   "source": [
    "import pandas as pd\n",
    "import numpy as np\n",
    "import matplotlib.pyplot as plt"
   ]
  },
  {
   "cell_type": "markdown",
   "id": "20a83969",
   "metadata": {},
   "source": [
    "### 解释方差分 explained_variance_score"
   ]
  },
  {
   "cell_type": "code",
   "execution_count": 2,
   "id": "e5c74606",
   "metadata": {},
   "outputs": [],
   "source": [
    "from sklearn.metrics import explained_variance_score"
   ]
  },
  {
   "cell_type": "code",
   "execution_count": 7,
   "id": "a35957e5",
   "metadata": {},
   "outputs": [],
   "source": [
    "y_true = np.array([1, 3.2, 5.6, 7.8, 9.9, 11.2])\n",
    "y_pred = np.array([0.8, 2.9, 5.9, 7.5, 9.7, 11.5])"
   ]
  },
  {
   "cell_type": "code",
   "execution_count": 6,
   "id": "94822986",
   "metadata": {},
   "outputs": [
    {
     "data": {
      "text/plain": [
       "-115.50842230130483"
      ]
     },
     "execution_count": 6,
     "metadata": {},
     "output_type": "execute_result"
    }
   ],
   "source": [
    "explained_variance_score(y_true, y_pred)"
   ]
  },
  {
   "cell_type": "code",
   "execution_count": 15,
   "id": "244a9c06",
   "metadata": {},
   "outputs": [],
   "source": [
    "y_true = np.array([[0.5, 1], [-1, 1], [7, -6]])\n",
    "y_pred = np.array([[0, 2], [-1, 2], [8, -5]])"
   ]
  },
  {
   "cell_type": "code",
   "execution_count": 16,
   "id": "e9c72cc7",
   "metadata": {
    "scrolled": true
   },
   "outputs": [
    {
     "data": {
      "text/plain": [
       "0.9838709677419355"
      ]
     },
     "execution_count": 16,
     "metadata": {},
     "output_type": "execute_result"
    }
   ],
   "source": [
    "explained_variance_score(y_true, y_pred)"
   ]
  },
  {
   "cell_type": "code",
   "execution_count": 19,
   "id": "fe346a17",
   "metadata": {},
   "outputs": [
    {
     "data": {
      "text/plain": [
       "array([0.96774194, 1.        ])"
      ]
     },
     "execution_count": 19,
     "metadata": {},
     "output_type": "execute_result"
    }
   ],
   "source": [
    "# raw_values\n",
    "explained_variance_score(y_true, y_pred, multioutput='raw_values')"
   ]
  },
  {
   "cell_type": "code",
   "execution_count": 18,
   "id": "58837165",
   "metadata": {
    "scrolled": true
   },
   "outputs": [
    {
     "data": {
      "text/plain": [
       "0.9830508474576269"
      ]
     },
     "execution_count": 18,
     "metadata": {},
     "output_type": "execute_result"
    }
   ],
   "source": [
    "# variance_weighted\n",
    "explained_variance_score(y_true, y_pred, multioutput='variance_weighted')"
   ]
  },
  {
   "cell_type": "code",
   "execution_count": 20,
   "id": "6566efeb",
   "metadata": {},
   "outputs": [
    {
     "data": {
      "text/plain": [
       "0.9903225806451612"
      ]
     },
     "execution_count": 20,
     "metadata": {},
     "output_type": "execute_result"
    }
   ],
   "source": [
    "# 指定权重\n",
    "explained_variance_score(y_true, y_pred, multioutput=[0.3, 0.7])"
   ]
  },
  {
   "cell_type": "code",
   "execution_count": 12,
   "id": "1ee0c166",
   "metadata": {},
   "outputs": [
    {
     "data": {
      "text/plain": [
       "0.967741935483871"
      ]
     },
     "execution_count": 12,
     "metadata": {},
     "output_type": "execute_result"
    }
   ],
   "source": [
    "y_true = np.array([0.5, -1, 7])\n",
    "y_pred = np.array([0, -1, 8])\n",
    "explained_variance_score(y_true, y_pred)"
   ]
  },
  {
   "cell_type": "code",
   "execution_count": 13,
   "id": "d58e0b13",
   "metadata": {},
   "outputs": [
    {
     "data": {
      "text/plain": [
       "1.0"
      ]
     },
     "execution_count": 13,
     "metadata": {},
     "output_type": "execute_result"
    }
   ],
   "source": [
    "y_true = np.array([1, 1, -6])\n",
    "y_pred = np.array([2, 2,-5])\n",
    "explained_variance_score(y_true, y_pred)"
   ]
  },
  {
   "cell_type": "code",
   "execution_count": 14,
   "id": "335fbf3b",
   "metadata": {},
   "outputs": [
    {
     "data": {
      "text/plain": [
       "0.9838709677419355"
      ]
     },
     "execution_count": 14,
     "metadata": {},
     "output_type": "execute_result"
    }
   ],
   "source": [
    "(0.967741935483871 + 1.0) / 2"
   ]
  },
  {
   "cell_type": "code",
   "execution_count": 21,
   "id": "ed47162d",
   "metadata": {},
   "outputs": [
    {
     "data": {
      "text/plain": [
       "0.9903225806451612"
      ]
     },
     "execution_count": 21,
     "metadata": {},
     "output_type": "execute_result"
    }
   ],
   "source": [
    "0.967741935483871 * 0.3 + 1* 0.7"
   ]
  },
  {
   "cell_type": "markdown",
   "id": "547fe5d8",
   "metadata": {},
   "source": [
    "### 平均绝对误差 mean absolute error(MAE)"
   ]
  },
  {
   "cell_type": "code",
   "execution_count": 22,
   "id": "bf41446c",
   "metadata": {},
   "outputs": [],
   "source": [
    "from sklearn.metrics import mean_absolute_error"
   ]
  },
  {
   "cell_type": "code",
   "execution_count": 23,
   "id": "4655c9e8",
   "metadata": {},
   "outputs": [
    {
     "data": {
      "text/plain": [
       "0.25000000000000006"
      ]
     },
     "execution_count": 23,
     "metadata": {},
     "output_type": "execute_result"
    }
   ],
   "source": [
    "y_true = np.array([0.1, 4.2, 5.6, 7.9, 8.8, 11.5])\n",
    "y_pred = np.array([0.2, 4.0, 5.5, 7.7, 8.0, 11.4])\n",
    "# 数字越小表示你和效果越好\n",
    "mean_absolute_error(y_true, y_pred)"
   ]
  },
  {
   "cell_type": "markdown",
   "id": "3da8092b",
   "metadata": {},
   "source": [
    "### 均方误差 mean squared error(MSE)"
   ]
  },
  {
   "cell_type": "code",
   "execution_count": 25,
   "id": "789ef1ad",
   "metadata": {},
   "outputs": [],
   "source": [
    "from sklearn.metrics import mean_squared_error"
   ]
  },
  {
   "cell_type": "code",
   "execution_count": 27,
   "id": "13315116",
   "metadata": {},
   "outputs": [
    {
     "data": {
      "text/plain": [
       "0.1250000000000002"
      ]
     },
     "execution_count": 27,
     "metadata": {},
     "output_type": "execute_result"
    }
   ],
   "source": [
    "y_true = np.array([0.1, 4.2, 5.6, 7.9, 8.8, 11.5])\n",
    "y_pred = np.array([0.2, 4.0, 5.5, 7.7, 8.0, 11.4])\n",
    "# 平方的特点就是, 越小就越小, 越大就会被放大\n",
    "mean_squared_error(y_true, y_pred)"
   ]
  },
  {
   "cell_type": "code",
   "execution_count": 29,
   "id": "bc3b9cc5",
   "metadata": {},
   "outputs": [],
   "source": [
    "# 比如预测的是深圳房价\n",
    "y_true = np.array([60000, 78000, 100000, 120000, 135000, 1500000])\n",
    "y_pred = np.array([58000, 76000, 110000, 115000, 138000, 1460000])"
   ]
  },
  {
   "cell_type": "markdown",
   "id": "f939585f",
   "metadata": {},
   "source": [
    "### 均方对数误差 mean squared log error(MSLE)"
   ]
  },
  {
   "cell_type": "code",
   "execution_count": 28,
   "id": "7f489c7e",
   "metadata": {},
   "outputs": [],
   "source": [
    "from sklearn.metrics import mean_squared_log_error"
   ]
  },
  {
   "cell_type": "code",
   "execution_count": 32,
   "id": "9578fb33",
   "metadata": {},
   "outputs": [
    {
     "data": {
      "text/plain": [
       "0.0012048869342514282"
      ]
     },
     "execution_count": 32,
     "metadata": {},
     "output_type": "execute_result"
    }
   ],
   "source": [
    "y_true = np.array([60000, 78000, 100000, 120000, 135000, 1500000])\n",
    "y_pred = np.array([58000, 76000, 105000, 115000, 138000, 1460000])\n",
    "mean_squared_log_error(y_true, y_pred)"
   ]
  },
  {
   "cell_type": "markdown",
   "id": "bca387de",
   "metadata": {},
   "source": [
    "### 中位数绝对误差 median absolute error"
   ]
  },
  {
   "cell_type": "code",
   "execution_count": 33,
   "id": "f6023410",
   "metadata": {},
   "outputs": [],
   "source": [
    "from sklearn.metrics import median_absolute_error"
   ]
  },
  {
   "cell_type": "code",
   "execution_count": 34,
   "id": "74fdbab3",
   "metadata": {},
   "outputs": [],
   "source": [
    "y_true = np.array([0.5, 7.3, 12.6, 15.8])\n",
    "y_pred = np.array([0.6, 7.1, 12.5, 158])"
   ]
  },
  {
   "cell_type": "code",
   "execution_count": 35,
   "id": "fd0ed6ec",
   "metadata": {},
   "outputs": [
    {
     "data": {
      "text/plain": [
       "35.65"
      ]
     },
     "execution_count": 35,
     "metadata": {},
     "output_type": "execute_result"
    }
   ],
   "source": [
    "mean_absolute_error(y_true, y_pred)"
   ]
  },
  {
   "cell_type": "code",
   "execution_count": 36,
   "id": "97374bfa",
   "metadata": {},
   "outputs": [
    {
     "data": {
      "text/plain": [
       "5055.224999999999"
      ]
     },
     "execution_count": 36,
     "metadata": {},
     "output_type": "execute_result"
    }
   ],
   "source": [
    "mean_squared_error(y_true, y_pred)"
   ]
  },
  {
   "cell_type": "code",
   "execution_count": 37,
   "id": "898079ff",
   "metadata": {},
   "outputs": [
    {
     "data": {
      "text/plain": [
       "-112.00454105560932"
      ]
     },
     "execution_count": 37,
     "metadata": {},
     "output_type": "execute_result"
    }
   ],
   "source": [
    "explained_variance_score(y_true, y_pred)"
   ]
  },
  {
   "cell_type": "code",
   "execution_count": 39,
   "id": "ad3a20c6",
   "metadata": {},
   "outputs": [
    {
     "data": {
      "text/plain": [
       "0.15000000000000008"
      ]
     },
     "execution_count": 39,
     "metadata": {},
     "output_type": "execute_result"
    }
   ],
   "source": [
    "# 可以消除异常值带来的影响\n",
    "median_absolute_error(y_true, y_pred)"
   ]
  },
  {
   "cell_type": "markdown",
   "id": "e9670364",
   "metadata": {},
   "source": [
    "### R² score（决定系数、R方)"
   ]
  },
  {
   "cell_type": "code",
   "execution_count": 40,
   "id": "e73be6a2",
   "metadata": {},
   "outputs": [],
   "source": [
    "from sklearn.metrics import r2_score"
   ]
  },
  {
   "cell_type": "code",
   "execution_count": 43,
   "id": "3eabd65c",
   "metadata": {},
   "outputs": [
    {
     "data": {
      "text/plain": [
       "0.9959056055981538"
      ]
     },
     "execution_count": 43,
     "metadata": {},
     "output_type": "execute_result"
    }
   ],
   "source": [
    "y_true = np.array([0.5, 7.3, 12.6, 15.8])\n",
    "y_pred = np.array([0.6, 7.1, 12.5, 15.1])\n",
    "r2_score(y_true, y_pred)"
   ]
  },
  {
   "cell_type": "code",
   "execution_count": null,
   "id": "46cfc388",
   "metadata": {},
   "outputs": [],
   "source": []
  }
 ],
 "metadata": {
  "kernelspec": {
   "display_name": "Python 3",
   "language": "python",
   "name": "python3"
  },
  "language_info": {
   "codemirror_mode": {
    "name": "ipython",
    "version": 3
   },
   "file_extension": ".py",
   "mimetype": "text/x-python",
   "name": "python",
   "nbconvert_exporter": "python",
   "pygments_lexer": "ipython3",
   "version": "3.7.1"
  }
 },
 "nbformat": 4,
 "nbformat_minor": 5
}

{
 "cells": [
  {
   "cell_type": "code",
   "execution_count": null,
   "metadata": {},
   "outputs": [],
   "source": []
  },
  {
   "cell_type": "markdown",
   "metadata": {},
   "source": [
    "Series和DataFrame都有一个用于生成各类图表的plot方法。默认情况下，它们所生成的是线形图"
   ]
  },
  {
   "cell_type": "markdown",
   "metadata": {},
   "source": [
    "## 线形图"
   ]
  },
  {
   "cell_type": "markdown",
   "metadata": {},
   "source": [
    "简单的Series图表示例,plot()"
   ]
  },
  {
   "cell_type": "markdown",
   "metadata": {},
   "source": [
    "简单的DataFrame图表示例,plot()\n",
    "\n",
    "- 图例的位置可能会随着数据的不同而不同"
   ]
  },
  {
   "cell_type": "markdown",
   "metadata": {},
   "source": [
    "## 柱状图"
   ]
  },
  {
   "cell_type": "markdown",
   "metadata": {},
   "source": [
    "Series柱状图示例,kind = 'bar'/'barh'"
   ]
  },
  {
   "cell_type": "markdown",
   "metadata": {},
   "source": [
    "DataFrame柱状图示例"
   ]
  },
  {
   "cell_type": "markdown",
   "metadata": {},
   "source": [
    "读取文件tips.csv，查看每天的聚会人数情况\n",
    "每天各种聚会规模的比例  \n",
    "\n",
    "求和并df.sum()，注意灵活使用axis"
   ]
  },
  {
   "cell_type": "markdown",
   "metadata": {},
   "source": [
    "## 直方图"
   ]
  },
  {
   "cell_type": "markdown",
   "metadata": {
    "collapsed": true
   },
   "source": [
    "rondom生成随机数百分比直方图，调用hist方法\n",
    "\n",
    "- 柱高表示数据的频数，柱宽表示各组数据的组距\n",
    "- 参数bins可以设置直方图方柱的个数上限，越大柱宽越小，数据分组越细致\n",
    "- 设置normed参数为True，可以把频数转换为概率"
   ]
  },
  {
   "cell_type": "markdown",
   "metadata": {},
   "source": [
    "kde图：核密度估计，用于弥补直方图由于参数bins设置的不合理导致的精度缺失问题"
   ]
  },
  {
   "cell_type": "markdown",
   "metadata": {},
   "source": [
    "#### 练习\n",
    "\n",
    "绘制一个由两个不同的标准正态分布组成的的双峰分布"
   ]
  },
  {
   "cell_type": "markdown",
   "metadata": {},
   "source": [
    "## 散布图"
   ]
  },
  {
   "cell_type": "markdown",
   "metadata": {},
   "source": [
    "散布图\n",
    "散布图是观察两个一维数据数列之间的关系的有效方法,DataFrame对象可用 \n",
    "\n",
    "使用方法：\n",
    "设置kind = 'scatter'，给明标签columns"
   ]
  },
  {
   "cell_type": "markdown",
   "metadata": {},
   "source": [
    "散布图矩阵，当有多个点时，两两点的关系  \n",
    "\n",
    "使用函数：pd.plotting.scatter_matrix(),\n",
    "- 参数diagnol：设置对角线的图像类型"
   ]
  }
 ],
 "metadata": {
  "kernelspec": {
   "display_name": "Python 3",
   "language": "python",
   "name": "python3"
  },
  "language_info": {
   "codemirror_mode": {
    "name": "ipython",
    "version": 3
   },
   "file_extension": ".py",
   "mimetype": "text/x-python",
   "name": "python",
   "nbconvert_exporter": "python",
   "pygments_lexer": "ipython3",
   "version": "3.7.1"
  }
 },
 "nbformat": 4,
 "nbformat_minor": 2
}

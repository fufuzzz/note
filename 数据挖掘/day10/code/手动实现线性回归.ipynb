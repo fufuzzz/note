{
 "cells": [
  {
   "cell_type": "code",
   "execution_count": null,
   "id": "e0c50a29",
   "metadata": {},
   "outputs": [],
   "source": [
    "# what we can not create we can not understand"
   ]
  },
  {
   "cell_type": "code",
   "execution_count": 2,
   "id": "99f0c423",
   "metadata": {},
   "outputs": [],
   "source": [
    "import numpy as np\n",
    "import pandas as pd\n",
    "import matplotlib.pyplot as plt"
   ]
  },
  {
   "cell_type": "code",
   "execution_count": null,
   "id": "dd0e3a84",
   "metadata": {},
   "outputs": [],
   "source": [
    "# 手动实现算法的三个步骤\n",
    "1. 找到算法的预测函数. y = theta x\n",
    "2. 找到算法的目标函数即损失函数, 最小二乘法\n",
    "3. 使用梯度下降算法找到损失最小的时候的系数"
   ]
  },
  {
   "cell_type": "code",
   "execution_count": 3,
   "id": "c2650bcb",
   "metadata": {
    "scrolled": false
   },
   "outputs": [
    {
     "data": {
      "text/plain": [
       "<matplotlib.collections.PathCollection at 0x29761bff630>"
      ]
     },
     "execution_count": 3,
     "metadata": {},
     "output_type": "execute_result"
    },
    {
     "data": {
      "image/png": "[encoded data removed]",
      "text/plain": [
       "<Figure size 432x288 with 1 Axes>"
      ]
     },
     "metadata": {
      "needs_background": "light"
     },
     "output_type": "display_data"
    }
   ],
   "source": [
    "x = np.linspace(0, 10, num=20) + np.random.randn(20)\n",
    "y = np.linspace(2, 8, num=20) + np.random.randn(20)\n",
    "plt.scatter(x, y)"
   ]
  },
  {
   "cell_type": "code",
   "execution_count": 70,
   "id": "004b254f",
   "metadata": {
    "collapsed": true
   },
   "outputs": [
    {
     "data": {
      "text/plain": [
       "array([[ 1.        ,  0.35078509],\n",
       "       [ 1.        , -1.10414108],\n",
       "       [ 1.        ,  2.31226247],\n",
       "       [ 1.        ,  3.17434892],\n",
       "       [ 1.        ,  2.43774217],\n",
       "       [ 1.        ,  3.32651482],\n",
       "       [ 1.        ,  2.52227459],\n",
       "       [ 1.        ,  2.69575763],\n",
       "       [ 1.        ,  5.07361781],\n",
       "       [ 1.        ,  5.50286426],\n",
       "       [ 1.        ,  5.90051042],\n",
       "       [ 1.        ,  4.76691115],\n",
       "       [ 1.        ,  7.20655629],\n",
       "       [ 1.        ,  5.99341413],\n",
       "       [ 1.        ,  7.04069709],\n",
       "       [ 1.        ,  8.02860188],\n",
       "       [ 1.        , 10.35537985],\n",
       "       [ 1.        , 10.52601834],\n",
       "       [ 1.        ,  9.71719741],\n",
       "       [ 1.        ,  9.89388264]])"
      ]
     },
     "execution_count": 70,
     "metadata": {},
     "output_type": "execute_result"
    }
   ],
   "source": [
    "X = np.hstack((np.ones(shape=(20, 1)), x.reshape(-1, 1)))\n",
    "X"
   ]
  },
  {
   "cell_type": "code",
   "execution_count": 71,
   "id": "cee6b069",
   "metadata": {},
   "outputs": [],
   "source": [
    "# 定义预测函数\n",
    "def linear(theta):\n",
    "    return np.dot(X, theta)"
   ]
  },
  {
   "cell_type": "code",
   "execution_count": 72,
   "id": "c43d7d44",
   "metadata": {},
   "outputs": [],
   "source": [
    "# 定义损失函数\n",
    "def loss(y_true, y_pred):\n",
    "    return np.sum((y_true - y_pred) ** 2) / (2 * 20)"
   ]
  },
  {
   "cell_type": "code",
   "execution_count": 73,
   "id": "4c7af075",
   "metadata": {
    "scrolled": true
   },
   "outputs": [
    {
     "data": {
      "text/plain": [
       "array([0.00982462, 0.01224696])"
      ]
     },
     "execution_count": 73,
     "metadata": {},
     "output_type": "execute_result"
    }
   ],
   "source": [
    "# 初始化一个theta\n",
    "# 一般theta初始化为比较小的数\n",
    "theta = np.random.randn(2) * 0.01\n",
    "theta"
   ]
  },
  {
   "cell_type": "code",
   "execution_count": 74,
   "id": "1d91338e",
   "metadata": {},
   "outputs": [],
   "source": [
    "# 使用梯度下降去更新theta, 求损失最小的时候的theta\n",
    "learning_rate = 0.01\n",
    "max_iter = 2000\n",
    "i = 0\n",
    "\n",
    "while True:\n",
    "        # 更新theta\n",
    "        y_pred = linear(theta)\n",
    "        \n",
    "        dtheta = -np.dot((y- y_pred), X)/20\n",
    "        theta = theta - learning_rate * dtheta\n",
    "        \n",
    "        # 退出条件\n",
    "        i += 1\n",
    "        if i > max_iter:\n",
    "            break      \n",
    "        \n",
    "        "
   ]
  },
  {
   "cell_type": "code",
   "execution_count": 75,
   "id": "bb2a38b6",
   "metadata": {},
   "outputs": [
    {
     "data": {
      "text/plain": [
       "array([1.46949493, 0.57410421])"
      ]
     },
     "execution_count": 75,
     "metadata": {},
     "output_type": "execute_result"
    }
   ],
   "source": [
    "theta"
   ]
  },
  {
   "cell_type": "code",
   "execution_count": 66,
   "id": "cee6ef8e",
   "metadata": {},
   "outputs": [
    {
     "data": {
      "text/plain": [
       "[<matplotlib.lines.Line2D at 0x29776656978>]"
      ]
     },
     "execution_count": 66,
     "metadata": {},
     "output_type": "execute_result"
    },
    {
     "data": {
      "image/png": "[encoded data removed]",
      "text/plain": [
       "<Figure size 432x288 with 1 Axes>"
      ]
     },
     "metadata": {
      "needs_background": "light"
     },
     "output_type": "display_data"
    }
   ],
   "source": [
    "plt.scatter(x, y)\n",
    "x_test = np.linspace(-2, 10, 20)\n",
    "y_test = 0.57410657 * x_test + 1.46947776\n",
    "plt.plot(x_test, y_test)"
   ]
  },
  {
   "cell_type": "code",
   "execution_count": 48,
   "id": "8cb4730b",
   "metadata": {},
   "outputs": [],
   "source": [
    "from sklearn.linear_model import LinearRegression"
   ]
  },
  {
   "cell_type": "code",
   "execution_count": 50,
   "id": "8923b46c",
   "metadata": {
    "scrolled": true
   },
   "outputs": [
    {
     "data": {
      "text/plain": [
       "LinearRegression()"
      ]
     },
     "execution_count": 50,
     "metadata": {},
     "output_type": "execute_result"
    }
   ],
   "source": [
    "linear = LinearRegression()\n",
    "linear.fit(x.reshape(-1, 1), y)"
   ]
  },
  {
   "cell_type": "code",
   "execution_count": 53,
   "id": "0c52c564",
   "metadata": {},
   "outputs": [
    {
     "data": {
      "text/plain": [
       "array([0.57329988])"
      ]
     },
     "execution_count": 53,
     "metadata": {},
     "output_type": "execute_result"
    }
   ],
   "source": [
    "linear.coef_"
   ]
  },
  {
   "cell_type": "code",
   "execution_count": 54,
   "id": "d557bce9",
   "metadata": {},
   "outputs": [
    {
     "data": {
      "text/plain": [
       "1.4753360343995543"
      ]
     },
     "execution_count": 54,
     "metadata": {},
     "output_type": "execute_result"
    }
   ],
   "source": [
    "linear.intercept_"
   ]
  },
  {
   "cell_type": "code",
   "execution_count": null,
   "id": "62118c7c",
   "metadata": {},
   "outputs": [],
   "source": [
    "# 作业! y=  "
   ]
  }
 ],
 "metadata": {
  "kernelspec": {
   "display_name": "Python 3",
   "language": "python",
   "name": "python3"
  },
  "language_info": {
   "codemirror_mode": {
    "name": "ipython",
    "version": 3
   },
   "file_extension": ".py",
   "mimetype": "text/x-python",
   "name": "python",
   "nbconvert_exporter": "python",
   "pygments_lexer": "ipython3",
   "version": "3.7.1"
  }
 },
 "nbformat": 4,
 "nbformat_minor": 5
}

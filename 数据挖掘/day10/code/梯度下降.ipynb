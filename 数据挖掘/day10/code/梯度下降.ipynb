{
 "cells": [
  {
   "cell_type": "code",
   "execution_count": 1,
   "id": "1874665b",
   "metadata": {},
   "outputs": [],
   "source": [
    "import numpy as np\n",
    "import pandas as pd\n",
    "import matplotlib.pyplot as plt"
   ]
  },
  {
   "cell_type": "code",
   "execution_count": 2,
   "id": "50509372",
   "metadata": {},
   "outputs": [],
   "source": [
    "f = lambda x: (x - 2.5) ** 2 + 5"
   ]
  },
  {
   "cell_type": "code",
   "execution_count": null,
   "id": "c941d3eb",
   "metadata": {},
   "outputs": [],
   "source": [
    "# x取什么值的时候,f能取到最小值.\n",
    "# x=2.5的时候,  f能取到最小值.\n"
   ]
  },
  {
   "cell_type": "code",
   "execution_count": 5,
   "id": "750f2ebc",
   "metadata": {},
   "outputs": [
    {
     "data": {
      "text/plain": [
       "[<matplotlib.lines.Line2D at 0x1e17930b898>]"
      ]
     },
     "execution_count": 5,
     "metadata": {},
     "output_type": "execute_result"
    },
    {
     "data": {
      "image/png": "[encoded data removed]",
      "text/plain": [
       "<Figure size 360x432 with 1 Axes>"
      ]
     },
     "metadata": {
      "needs_background": "light"
     },
     "output_type": "display_data"
    }
   ],
   "source": [
    "plt.figure(figsize=(5, 6))\n",
    "x = np.linspace(-10, 15, 100)\n",
    "y = f(x)\n",
    "plt.plot(x, y)"
   ]
  },
  {
   "cell_type": "code",
   "execution_count": 6,
   "id": "33a515ce",
   "metadata": {},
   "outputs": [],
   "source": [
    "dx = lambda x: 2*(x - 2.5)"
   ]
  },
  {
   "cell_type": "code",
   "execution_count": 25,
   "id": "354c67ed",
   "metadata": {},
   "outputs": [],
   "source": [
    "# 随便取一个点\n",
    "# 初始值\n",
    "x_origin = -8\n",
    "# 学习率/步长\n",
    "learning_rate = 0.01 \n",
    "max_iter = 2000\n",
    "threshold = 1e-5\n",
    "\n",
    "i = 0\n",
    "ret = []\n",
    "while True:\n",
    "    # 不停的genxin x_origin\n",
    "    ret.append(x_origin)\n",
    "    x_origin = x_origin - learning_rate * dx(x_origin)\n",
    "    \n",
    "    i += 1\n",
    "    # 退出条件\n",
    "    # 最简单的退出条件.根据迭代次数退出\n",
    "#     if i > max_iter:\n",
    "#         break\n",
    "        \n",
    "    # 梯度绝对值如果是一个很小的数,说明也可以退出了.\n",
    "#     if abs(dx(x_origin)) < threshold:\n",
    "#         break\n",
    "        \n",
    "    # 相邻两次x的差值的绝对值小于一个很小数\n",
    "    if abs(x_origin - ret[-1]) < threshold:\n",
    "        break"
   ]
  },
  {
   "cell_type": "code",
   "execution_count": 7,
   "id": "6c56529b",
   "metadata": {
    "scrolled": true
   },
   "outputs": [
    {
     "data": {
      "text/plain": [
       "-7.79"
      ]
     },
     "execution_count": 7,
     "metadata": {},
     "output_type": "execute_result"
    }
   ],
   "source": [
    "-8 - 0.01 * dx(-8)"
   ]
  },
  {
   "cell_type": "code",
   "execution_count": 8,
   "id": "652766b5",
   "metadata": {},
   "outputs": [
    {
     "data": {
      "text/plain": [
       "-7.5842"
      ]
     },
     "execution_count": 8,
     "metadata": {},
     "output_type": "execute_result"
    }
   ],
   "source": [
    "-7.79 - 0.01 * dx(-7.79)"
   ]
  },
  {
   "cell_type": "code",
   "execution_count": 9,
   "id": "7bb72b84",
   "metadata": {},
   "outputs": [
    {
     "data": {
      "text/plain": [
       "-7.382516"
      ]
     },
     "execution_count": 9,
     "metadata": {},
     "output_type": "execute_result"
    }
   ],
   "source": [
    "-7.5842 - 0.01 * dx(-7.5842)"
   ]
  },
  {
   "cell_type": "code",
   "execution_count": 11,
   "id": "be9a8c77",
   "metadata": {
    "collapsed": true
   },
   "outputs": [
    {
     "data": {
      "text/plain": [
       "[-8,\n",
       " -7.79,\n",
       " -7.5842,\n",
       " -7.382516,\n",
       " -7.18486568,\n",
       " -6.991168366399999,\n",
       " -6.801344999072,\n",
       " -6.61531809909056,\n",
       " -6.433011737108749,\n",
       " -6.254351502366574]"
      ]
     },
     "execution_count": 11,
     "metadata": {},
     "output_type": "execute_result"
    }
   ],
   "source": [
    "ret[:10]"
   ]
  },
  {
   "cell_type": "code",
   "execution_count": 13,
   "id": "7208af52",
   "metadata": {
    "collapsed": true
   },
   "outputs": [
    {
     "data": {
      "text/plain": [
       "[2.4999999999999893,\n",
       " 2.4999999999999893,\n",
       " 2.4999999999999893,\n",
       " 2.4999999999999893,\n",
       " 2.4999999999999893,\n",
       " 2.4999999999999893,\n",
       " 2.4999999999999893,\n",
       " 2.4999999999999893,\n",
       " 2.4999999999999893,\n",
       " 2.4999999999999893]"
      ]
     },
     "execution_count": 13,
     "metadata": {},
     "output_type": "execute_result"
    }
   ],
   "source": [
    "ret[-10:]"
   ]
  },
  {
   "cell_type": "code",
   "execution_count": 16,
   "id": "65bf777f",
   "metadata": {
    "collapsed": true
   },
   "outputs": [
    {
     "data": {
      "text/plain": [
       "[-8,\n",
       " -7.79,\n",
       " -7.5842,\n",
       " -7.382516,\n",
       " -7.18486568,\n",
       " -6.991168366399999,\n",
       " -6.801344999072,\n",
       " -6.61531809909056,\n",
       " -6.433011737108749,\n",
       " -6.254351502366574,\n",
       " -6.079264472319243,\n",
       " -5.907679182872858,\n",
       " -5.739525599215401,\n",
       " -5.574735087231093,\n",
       " -5.413240385486471,\n",
       " -5.254975577776742,\n",
       " -5.099876066221207,\n",
       " -4.947878544896783,\n",
       " -4.798920973998848,\n",
       " -4.65294255451887,\n",
       " -4.509883703428493,\n",
       " -4.369686029359923,\n",
       " -4.232292308772725,\n",
       " -4.09764646259727,\n",
       " -3.9656935333453247,\n",
       " -3.8363796626784183,\n",
       " -3.70965206942485,\n",
       " -3.585459028036353,\n",
       " -3.463749847475626,\n",
       " -3.3444748505261135,\n",
       " -3.2275853535155914,\n",
       " -3.1130336464452797,\n",
       " -3.000772973516374,\n",
       " -2.890757514046047,\n",
       " -2.782942363765126,\n",
       " -2.6772835164898234,\n",
       " -2.573737846160027,\n",
       " -2.4722630892368263,\n",
       " -2.37281782745209,\n",
       " -2.2753614709030483,\n",
       " -2.1798542414849873,\n",
       " -2.0862571566552877,\n",
       " -1.994532013522182,\n",
       " -1.9046413732517384,\n",
       " -1.8165485457867037,\n",
       " -1.7302175748709696,\n",
       " -1.6456132233735503,\n",
       " -1.5627009589060794,\n",
       " -1.4814469397279577,\n",
       " -1.4018180009333985,\n",
       " -1.3237816409147305,\n",
       " -1.247306008096436,\n",
       " -1.1723598879345072,\n",
       " -1.098912690175817,\n",
       " -1.0269344363723008,\n",
       " -0.9563957476448547,\n",
       " -0.8872678326919576,\n",
       " -0.8195224760381185,\n",
       " -0.7531320265173561,\n",
       " -0.688069385987009,\n",
       " -0.6243079982672688,\n",
       " -0.5618218383019234,\n",
       " -0.5005854015358849,\n",
       " -0.44057369350516723,\n",
       " -0.3817622196350639,\n",
       " -0.3241269752423626,\n",
       " -0.26764443573751534,\n",
       " -0.21229154702276504,\n",
       " -0.15804571608230975,\n",
       " -0.10488480176066355,\n",
       " -0.05278710572545028,\n",
       " -0.0017313636109412764,\n",
       " 0.04830326366127755,\n",
       " 0.09733719838805201,\n",
       " 0.14539045442029097,\n",
       " 0.19248264533188514,\n",
       " 0.23863299242524744,\n",
       " 0.2838603325767425,\n",
       " 0.32818312592520765,\n",
       " 0.3716194634067035,\n",
       " 0.4141870741385694,\n",
       " 0.455903332655798,\n",
       " 0.4967852660026821,\n",
       " 0.5368495606826285,\n",
       " 0.5761125694689759,\n",
       " 0.6145903180795964,\n",
       " 0.6522985117180045,\n",
       " 0.6892525414836443,\n",
       " 0.7254674906539714,\n",
       " 0.760958140840892,\n",
       " 0.7957389780240741,\n",
       " 0.8298241984635927,\n",
       " 0.8632277144943208,\n",
       " 0.8959631602044343,\n",
       " 0.9280438970003456,\n",
       " 0.9594830190603387,\n",
       " 0.9902933586791319,\n",
       " 1.0204874915055493,\n",
       " 1.0500777416754383,\n",
       " 1.0790761868419296,\n",
       " 1.107494663105091,\n",
       " 1.1353447698429893,\n",
       " 1.1626378744461294,\n",
       " 1.189385116957207,\n",
       " 1.2155974146180628,\n",
       " 1.2412854663257016,\n",
       " 1.2664597569991876,\n",
       " 1.2911305618592037,\n",
       " 1.3153079506220196,\n",
       " 1.339001791609579,\n",
       " 1.3622217557773875,\n",
       " 1.3849773206618397,\n",
       " 1.407277774248603,\n",
       " 1.4291322187636308,\n",
       " 1.4505495743883583,\n",
       " 1.4715385829005911,\n",
       " 1.4921078112425794,\n",
       " 1.5122656550177278,\n",
       " 1.5320203419173732,\n",
       " 1.5513799350790258,\n",
       " 1.5703523363774452,\n",
       " 1.5889452896498963,\n",
       " 1.6071663838568984,\n",
       " 1.6250230561797605,\n",
       " 1.6425225950561653,\n",
       " 1.6596721431550419,\n",
       " 1.676478700291941,\n",
       " 1.6929491262861023,\n",
       " 1.7090901437603803,\n",
       " 1.7249083408851726,\n",
       " 1.7404101740674691,\n",
       " 1.7556019705861197,\n",
       " 1.7704899311743973,\n",
       " 1.7850801325509094,\n",
       " 1.7993785298998912,\n",
       " 1.8133909593018933,\n",
       " 1.8271231401158554,\n",
       " 1.8405806773135382,\n",
       " 1.8537690637672675,\n",
       " 1.866693682491922,\n",
       " 1.8793598088420835,\n",
       " 1.8917726126652419,\n",
       " 1.903937160411937,\n",
       " 1.9158584172036983,\n",
       " 1.9275412488596244,\n",
       " 1.9389904238824318,\n",
       " 1.9502106154047831,\n",
       " 1.9612064030966874,\n",
       " 1.9719822750347535,\n",
       " 1.9825426295340585,\n",
       " 1.9928917769433774,\n",
       " 2.0030339414045097,\n",
       " 2.0129732625764194,\n",
       " 2.022713797324891,\n",
       " 2.032259521378393,\n",
       " 2.0416143309508255,\n",
       " 2.0507820443318088,\n",
       " 2.0597664034451726,\n",
       " 2.068571075376269,\n",
       " 2.077199653868744,\n",
       " 2.0856556607913688,\n",
       " 2.0939425475755415,\n",
       " 2.1020636966240307,\n",
       " 2.11002242269155,\n",
       " 2.117821974237719,\n",
       " 2.1254655347529647,\n",
       " 2.1329562240579056,\n",
       " 2.1402970995767476,\n",
       " 2.1474911575852125,\n",
       " 2.154541334433508,\n",
       " 2.161450507744838,\n",
       " 2.168221497589941,\n",
       " 2.1748570676381425,\n",
       " 2.1813599262853796,\n",
       " 2.187732727759672,\n",
       " 2.1939780732044785,\n",
       " 2.200098511740389,\n",
       " 2.206096541505581,\n",
       " 2.2119746106754694,\n",
       " 2.21773511846196,\n",
       " 2.223380416092721,\n",
       " 2.2289128077708664,\n",
       " 2.234334551615449,\n",
       " 2.23964786058314,\n",
       " 2.2448549033714773,\n",
       " 2.2499578053040477,\n",
       " 2.2549586491979667,\n",
       " 2.2598594762140074,\n",
       " 2.2646622866897275,\n",
       " 2.269369040955933,\n",
       " 2.2739816601368146,\n",
       " 2.278502026934078,\n",
       " 2.2829319863953965,\n",
       " 2.2872733466674884,\n",
       " 2.2915278797341387,\n",
       " 2.295697322139456,\n",
       " 2.299783375696667,\n",
       " 2.3037877081827336,\n",
       " 2.307711954019079,\n",
       " 2.3115577149386977,\n",
       " 2.3153265606399236,\n",
       " 2.3190200294271253,\n",
       " 2.3226396288385827,\n",
       " 2.326186836261811,\n",
       " 2.329663099536575,\n",
       " 2.3330698375458434,\n",
       " 2.3364084407949264,\n",
       " 2.3396802719790277,\n",
       " 2.342886666539447,\n",
       " 2.3460289332086584,\n",
       " 2.349108354544485,\n",
       " 2.3521261874535955,\n",
       " 2.3550836637045234,\n",
       " 2.357981990430433,\n",
       " 2.360822350621824,\n",
       " 2.363605903609388,\n",
       " 2.3663337855372,\n",
       " 2.3690071098264562,\n",
       " 2.3716269676299273,\n",
       " 2.374194428277329,\n",
       " 2.3767105397117825,\n",
       " 2.3791763289175467,\n",
       " 2.381592802339196,\n",
       " 2.383960946292412,\n",
       " 2.3862817273665637,\n",
       " 2.3885560928192326,\n",
       " 2.390784970962848,\n",
       " 2.392969271543591,\n",
       " 2.3951098861127194,\n",
       " 2.397207688390465,\n",
       " 2.399263534622656,\n",
       " 2.4012782639302026,\n",
       " 2.4032526986515985,\n",
       " 2.4051876446785667,\n",
       " 2.4070838917849953,\n",
       " 2.4089422139492953,\n",
       " 2.4107633696703092,\n",
       " 2.412548102276903,\n",
       " 2.414297140231365,\n",
       " 2.4160111974267378,\n",
       " 2.417690973478203,\n",
       " 2.419337154008639,\n",
       " 2.420950410928466,\n",
       " 2.4225314027098968,\n",
       " 2.4240807746556987,\n",
       " 2.425599159162585,\n",
       " 2.427087175979333,\n",
       " 2.4285454324597464,\n",
       " 2.4299745238105515,\n",
       " 2.4313750333343402,\n",
       " 2.4327475326676535,\n",
       " 2.4340925820143005,\n",
       " 2.4354107303740142,\n",
       " 2.436702515766534,\n",
       " 2.437968465451203,\n",
       " 2.439209096142179,\n",
       " 2.4404249142193355,\n",
       " 2.441616415934949,\n",
       " 2.44278408761625,\n",
       " 2.443928405863925,\n",
       " 2.4450498377466463,\n",
       " 2.4461488409917136,\n",
       " 2.4472258641718794,\n",
       " 2.4482813468884417,\n",
       " 2.4493157199506728,\n",
       " 2.4503294055516593,\n",
       " 2.451322817440626,\n",
       " 2.4522963610918134,\n",
       " 2.453250433869977,\n",
       " 2.4541854251925774,\n",
       " 2.4551017166887257,\n",
       " 2.455999682354951,\n",
       " 2.456879688707852,\n",
       " 2.4577420949336948,\n",
       " 2.458587253035021,\n",
       " 2.4594155079743207,\n",
       " 2.4602271978148345,\n",
       " 2.461022653858538,\n",
       " 2.461802200781367,\n",
       " 2.4625661567657398,\n",
       " 2.463314833630425,\n",
       " 2.4640485369578164,\n",
       " 2.46476756621866,\n",
       " 2.465472214894287,\n",
       " 2.466162770596401,\n",
       " 2.466839515184473,\n",
       " 2.4675027248807835,\n",
       " 2.468152670383168,\n",
       " 2.4687896169755046,\n",
       " 2.4694138246359945,\n",
       " 2.4700255481432745,\n",
       " 2.470625037180409,\n",
       " 2.4712125364368007,\n",
       " 2.471788285708065,\n",
       " 2.4723525199939034,\n",
       " 2.4729054695940254,\n",
       " 2.4734473602021447,\n",
       " 2.4739784129981017,\n",
       " 2.4744988447381395,\n",
       " 2.4750088678433766,\n",
       " 2.475508690486509,\n",
       " 2.475998516676779,\n",
       " 2.4764785463432433,\n",
       " 2.4769489754163785,\n",
       " 2.477409995908051,\n",
       " 2.47786179598989,\n",
       " 2.478304560070092,\n",
       " 2.4787384688686904,\n",
       " 2.4791636994913167,\n",
       " 2.4795804255014904,\n",
       " 2.479988816991461,\n",
       " 2.4803890406516316,\n",
       " 2.480781259838599,\n",
       " 2.481165634641827,\n",
       " 2.4815423219489903,\n",
       " 2.4819114755100107,\n",
       " 2.4822732459998105,\n",
       " 2.482627781079814,\n",
       " 2.4829752254582176,\n",
       " 2.483315720949053,\n",
       " 2.483649406530072,\n",
       " 2.483976418399471,\n",
       " 2.4842968900314815,\n",
       " 2.484610952230852,\n",
       " 2.484918733186235,\n",
       " 2.48522035852251,\n",
       " 2.4855159513520597,\n",
       " 2.4858056323250186,\n",
       " 2.486089519678518,\n",
       " 2.486367729284948,\n",
       " 2.486640374699249,\n",
       " 2.486907567205264,\n",
       " 2.4871694158611586,\n",
       " 2.4874260275439353,\n",
       " 2.4876775069930566,\n",
       " 2.4879239568531952,\n",
       " 2.4881654777161315,\n",
       " 2.4884021681618087,\n",
       " 2.4886341247985726,\n",
       " 2.488861442302601,\n",
       " 2.4890842134565494,\n",
       " 2.4893025291874182,\n",
       " 2.4895164786036696,\n",
       " 2.489726149031596,\n",
       " 2.4899316260509643,\n",
       " 2.490132993529945,\n",
       " 2.490330333659346,\n",
       " 2.4905237269861593,\n",
       " 2.490713252446436,\n",
       " 2.4908989873975074,\n",
       " 2.4910810076495573,\n",
       " 2.4912593874965663,\n",
       " 2.491434199746635,\n",
       " 2.4916055157517025,\n",
       " 2.4917734054366685,\n",
       " 2.491937937327935,\n",
       " 2.492099178581376,\n",
       " 2.4922571950097483,\n",
       " 2.4924120511095533,\n",
       " 2.492563810087362,\n",
       " 2.492712533885615,\n",
       " 2.4928582832079025,\n",
       " 2.4930011175437445,\n",
       " 2.4931410951928696,\n",
       " 2.4932782732890124,\n",
       " 2.493412707823232,\n",
       " 2.4935444536667677,\n",
       " 2.4936735645934323,\n",
       " 2.4938000933015636,\n",
       " 2.4939240914355323,\n",
       " 2.4940456096068218,\n",
       " 2.494164697414685,\n",
       " 2.4942814034663914,\n",
       " 2.4943957753970634,\n",
       " 2.494507859889122,\n",
       " 2.4946177026913396,\n",
       " 2.494725348637513,\n",
       " 2.4948308416647627,\n",
       " 2.4949342248314674,\n",
       " 2.495035540334838,\n",
       " 2.495134829528141,\n",
       " 2.4952321329375784,\n",
       " 2.495327490278827,\n",
       " 2.4954209404732506,\n",
       " 2.4955125216637857,\n",
       " 2.49560227123051,\n",
       " 2.4956902258059,\n",
       " 2.495776421289782,\n",
       " 2.4958608928639863,\n",
       " 2.4959436750067066,\n",
       " 2.4960248015065725,\n",
       " 2.496104305476441,\n",
       " 2.4961822193669123,\n",
       " 2.4962585749795743,\n",
       " 2.4963334034799827,\n",
       " 2.496406735410383,\n",
       " 2.4964786007021753,\n",
       " 2.4965490286881318,\n",
       " 2.496618048114369,\n",
       " 2.4966856871520817,\n",
       " 2.49675197340904,\n",
       " 2.4968169339408592,\n",
       " 2.496880595262042,\n",
       " 2.496942983356801,\n",
       " 2.497004123689665,\n",
       " 2.497064041215872,\n",
       " 2.4971227603915547,\n",
       " 2.497180305183724,\n",
       " 2.4972366990800494,\n",
       " 2.4972919650984484,\n",
       " 2.4973461257964793,\n",
       " 2.49739920328055,\n",
       " 2.497451219214939,\n",
       " 2.4975021948306404,\n",
       " 2.4975521509340277,\n",
       " 2.4976011079153473,\n",
       " 2.49764908575704,\n",
       " 2.4976961040418995,\n",
       " 2.4977421819610615,\n",
       " 2.49778733832184,\n",
       " 2.4978315915554035,\n",
       " 2.4978749597242955,\n",
       " 2.4979174605298096,\n",
       " 2.497959111319213,\n",
       " 2.497999929092829,\n",
       " 2.4980399305109726,\n",
       " 2.498079131900753,\n",
       " 2.498117549262738,\n",
       " 2.4981551982774834,\n",
       " 2.498192094311934,\n",
       " 2.498228252425695,\n",
       " 2.498263687377181,\n",
       " 2.4982984136296373,\n",
       " 2.4983324453570446,\n",
       " 2.4983657964499035,\n",
       " 2.4983984805209056,\n",
       " 2.4984305109104876,\n",
       " 2.498461900692278,\n",
       " 2.4984926626784323,\n",
       " 2.4985228094248635,\n",
       " 2.498552353236366,\n",
       " 2.498581306171639,\n",
       " 2.4986096800482063,\n",
       " 2.498637486447242,\n",
       " 2.4986647367182973,\n",
       " 2.4986914419839312,\n",
       " 2.498717613144253,\n",
       " 2.498743260881368,\n",
       " 2.4987683956637405,\n",
       " 2.4987930277504655,\n",
       " 2.4988171671954564,\n",
       " 2.4988408238515474,\n",
       " 2.4988640073745163,\n",
       " 2.498886727227026,\n",
       " 2.4989089926824852,\n",
       " 2.4989308128288354,\n",
       " 2.4989521965722585,\n",
       " 2.498973152640813,\n",
       " 2.498993689587997,\n",
       " 2.499013815796237,\n",
       " 2.4990335394803123,\n",
       " 2.499052868690706,\n",
       " 2.4990718113168917,\n",
       " 2.499090375090554,\n",
       " 2.499108567588743,\n",
       " 2.499126396236968,\n",
       " 2.499143868312229,\n",
       " 2.499160990945984,\n",
       " 2.4991777711270644,\n",
       " 2.4991942157045233,\n",
       " 2.499210331390433,\n",
       " 2.4992261247626244,\n",
       " 2.499241602267372,\n",
       " 2.4992567702220247,\n",
       " 2.499271634817584,\n",
       " 2.4992862021212323,\n",
       " 2.4993004780788075,\n",
       " 2.4993144685172313,\n",
       " 2.4993281791468864,\n",
       " 2.4993416155639485,\n",
       " 2.4993547832526697,\n",
       " 2.4993676875876165,\n",
       " 2.499380333835864,\n",
       " 2.499392727159147,\n",
       " 2.499404872615964,\n",
       " 2.499416775163645,\n",
       " 2.499428439660372,\n",
       " 2.499439870867165,\n",
       " 2.4994510734498214,\n",
       " 2.499462051980825,\n",
       " 2.4994728109412083,\n",
       " 2.499483354722384,\n",
       " 2.4994936876279366,\n",
       " 2.499503813875378,\n",
       " 2.4995137375978707,\n",
       " 2.499523462845913,\n",
       " 2.499532993588995,\n",
       " 2.499542333717215,\n",
       " 2.499551487042871,\n",
       " 2.4995604573020134]"
      ]
     },
     "execution_count": 16,
     "metadata": {},
     "output_type": "execute_result"
    }
   ],
   "source": [
    "ret[:500]"
   ]
  },
  {
   "cell_type": "code",
   "execution_count": 20,
   "id": "df646993",
   "metadata": {},
   "outputs": [
    {
     "data": {
      "text/plain": [
       "<matplotlib.collections.PathCollection at 0x1e1794cb710>"
      ]
     },
     "execution_count": 20,
     "metadata": {},
     "output_type": "execute_result"
    },
    {
     "data": {
      "image/png": "[encoded data removed]",
      "text/plain": [
       "<Figure size 360x432 with 1 Axes>"
      ]
     },
     "metadata": {
      "needs_background": "light"
     },
     "output_type": "display_data"
    }
   ],
   "source": [
    "plt.figure(figsize=(5, 6))\n",
    "plt.plot(x, y)\n",
    "plt.scatter(ret[:500], [f(t) for t in ret[:500]], marker='.', c='r')"
   ]
  },
  {
   "cell_type": "code",
   "execution_count": 22,
   "id": "0247e2c3",
   "metadata": {
    "scrolled": true
   },
   "outputs": [
    {
     "data": {
      "text/plain": [
       "721"
      ]
     },
     "execution_count": 22,
     "metadata": {},
     "output_type": "execute_result"
    }
   ],
   "source": [
    "len(ret)"
   ]
  },
  {
   "cell_type": "code",
   "execution_count": 23,
   "id": "1602aae6",
   "metadata": {
    "collapsed": true
   },
   "outputs": [
    {
     "data": {
      "text/plain": [
       "[-8,\n",
       " -7.79,\n",
       " -7.5842,\n",
       " -7.382516,\n",
       " -7.18486568,\n",
       " -6.991168366399999,\n",
       " -6.801344999072,\n",
       " -6.61531809909056,\n",
       " -6.433011737108749,\n",
       " -6.254351502366574]"
      ]
     },
     "execution_count": 23,
     "metadata": {},
     "output_type": "execute_result"
    }
   ],
   "source": [
    "ret[:10]"
   ]
  },
  {
   "cell_type": "code",
   "execution_count": 26,
   "id": "e6b44c90",
   "metadata": {},
   "outputs": [
    {
     "data": {
      "text/plain": [
       "494"
      ]
     },
     "execution_count": 26,
     "metadata": {},
     "output_type": "execute_result"
    }
   ],
   "source": [
    "len(ret)"
   ]
  },
  {
   "cell_type": "code",
   "execution_count": 27,
   "id": "dd8aab57",
   "metadata": {
    "collapsed": true
   },
   "outputs": [
    {
     "data": {
      "text/plain": [
       "[2.499404872615964,\n",
       " 2.499416775163645,\n",
       " 2.499428439660372,\n",
       " 2.499439870867165,\n",
       " 2.4994510734498214,\n",
       " 2.499462051980825,\n",
       " 2.4994728109412083,\n",
       " 2.499483354722384,\n",
       " 2.4994936876279366,\n",
       " 2.499503813875378]"
      ]
     },
     "execution_count": 27,
     "metadata": {},
     "output_type": "execute_result"
    }
   ],
   "source": [
    "ret[-10:]"
   ]
  },
  {
   "cell_type": "code",
   "execution_count": 28,
   "id": "28e4e344",
   "metadata": {},
   "outputs": [],
   "source": [
    "# 研究步长对梯度下降的影响\n",
    "x_origin = -8\n",
    "# 学习率/步长\n",
    "learning_rate = 0.001 \n",
    "max_iter = 2000\n",
    "threshold = 1e-5\n",
    "\n",
    "i = 0\n",
    "ret = []\n",
    "while True:\n",
    "    # 不停的genxin x_origin\n",
    "    ret.append(x_origin)\n",
    "    x_origin = x_origin - learning_rate * dx(x_origin)\n",
    "    \n",
    "    i += 1\n",
    "    # 退出条件\n",
    "    # 最简单的退出条件.根据迭代次数退出\n",
    "#     if i > max_iter:\n",
    "#         break\n",
    "        \n",
    "    # 梯度绝对值如果是一个很小的数,说明也可以退出了.\n",
    "#     if abs(dx(x_origin)) < threshold:\n",
    "#         break\n",
    "        \n",
    "    # 相邻两次x的差值的绝对值小于一个很小数\n",
    "    if abs(x_origin - ret[-1]) < threshold:\n",
    "        break"
   ]
  },
  {
   "cell_type": "code",
   "execution_count": 29,
   "id": "2cf11f1b",
   "metadata": {
    "collapsed": true
   },
   "outputs": [
    {
     "data": {
      "text/plain": [
       "[-8,\n",
       " -7.979,\n",
       " -7.958042,\n",
       " -7.937125916,\n",
       " -7.9162516641680005,\n",
       " -7.895419160839665,\n",
       " -7.874628322517985,\n",
       " -7.853879065872949,\n",
       " -7.833171307741203,\n",
       " -7.812504965125721,\n",
       " -7.79187995519547,\n",
       " -7.771296195285079,\n",
       " -7.750753602894509,\n",
       " -7.73025209568872,\n",
       " -7.709791591497343,\n",
       " -7.689372008314348,\n",
       " -7.668993264297719,\n",
       " -7.648655277769124,\n",
       " -7.628357967213586,\n",
       " -7.608101251279159,\n",
       " -7.5878850487766005,\n",
       " -7.567709278679048,\n",
       " -7.547573860121689,\n",
       " -7.527478712401446,\n",
       " -7.507423754976643,\n",
       " -7.48740890746669,\n",
       " -7.467434089651756,\n",
       " -7.4474992214724525,\n",
       " -7.427604223029507,\n",
       " -7.407749014583448,\n",
       " -7.387933516554281,\n",
       " -7.368157649521173,\n",
       " -7.348421334222131,\n",
       " -7.328724491553687,\n",
       " -7.30906704257058,\n",
       " -7.289448908485438,\n",
       " -7.269870010668467,\n",
       " -7.25033027064713,\n",
       " -7.230829610105836,\n",
       " -7.2113679508856245,\n",
       " -7.191945214983853,\n",
       " -7.172561324553886,\n",
       " -7.153216201904778,\n",
       " -7.133909769500968,\n",
       " -7.114641949961966,\n",
       " -7.095412666062042,\n",
       " -7.076221840729917,\n",
       " -7.0570693970484575,\n",
       " -7.03795525825436,\n",
       " -7.018879347737852,\n",
       " -6.999841589042377,\n",
       " -6.980841905864292,\n",
       " -6.961880222052563,\n",
       " -6.942956461608458,\n",
       " -6.924070548685241,\n",
       " -6.90522240758787,\n",
       " -6.886411962772694,\n",
       " -6.8676391388471485,\n",
       " -6.848903860569454,\n",
       " -6.830206052848315,\n",
       " -6.811545640742618,\n",
       " -6.7929225494611325,\n",
       " -6.77433670436221,\n",
       " -6.755788030953486,\n",
       " -6.737276454891579,\n",
       " -6.718801901981796,\n",
       " -6.700364298177832,\n",
       " -6.681963569581477,\n",
       " -6.663599642442314,\n",
       " -6.645272443157429,\n",
       " -6.626981898271114,\n",
       " -6.6087279344745715,\n",
       " -6.590510478605623,\n",
       " -6.5723294576484115,\n",
       " -6.5541847987331145,\n",
       " -6.536076429135648,\n",
       " -6.518004276277377,\n",
       " -6.499968267724823,\n",
       " -6.481968331189373,\n",
       " -6.464004394526994,\n",
       " -6.44607638573794,\n",
       " -6.428184232966464,\n",
       " -6.410327864500531,\n",
       " -6.39250720877153,\n",
       " -6.374722194353987,\n",
       " -6.356972749965279,\n",
       " -6.339258804465349,\n",
       " -6.321580286856418,\n",
       " -6.303937126282705,\n",
       " -6.286329252030139,\n",
       " -6.268756593526079,\n",
       " -6.251219080339027,\n",
       " -6.233716642178349,\n",
       " -6.216249208893992,\n",
       " -6.198816710476204,\n",
       " -6.181419077055252,\n",
       " -6.164056238901141,\n",
       " -6.146728126423339,\n",
       " -6.129434670170492,\n",
       " -6.112175800830151]"
      ]
     },
     "execution_count": 29,
     "metadata": {},
     "output_type": "execute_result"
    }
   ],
   "source": [
    "ret[:100]"
   ]
  },
  {
   "cell_type": "code",
   "execution_count": 30,
   "id": "5584ebae",
   "metadata": {
    "scrolled": true
   },
   "outputs": [
    {
     "data": {
      "text/plain": [
       "3823"
      ]
     },
     "execution_count": 30,
     "metadata": {},
     "output_type": "execute_result"
    }
   ],
   "source": [
    "# 学习率调小了10倍, 迭代次数也差不多多了10倍的样子.\n",
    "len(ret)"
   ]
  },
  {
   "cell_type": "code",
   "execution_count": 39,
   "id": "8c3f3c4a",
   "metadata": {},
   "outputs": [],
   "source": [
    "x_origin = -8\n",
    "# 学习率/步长\n",
    "learning_rate = 0.7\n",
    "max_iter = 2000\n",
    "threshold = 1e-5\n",
    "\n",
    "i = 0\n",
    "ret = []\n",
    "while True:\n",
    "    # 不停的genxin x_origin\n",
    "    ret.append(x_origin)\n",
    "    x_origin = x_origin - learning_rate * dx(x_origin)\n",
    "    \n",
    "    i += 1\n",
    "    # 退出条件\n",
    "    # 最简单的退出条件.根据迭代次数退出\n",
    "#     if i > max_iter:\n",
    "#         break\n",
    "        \n",
    "    # 梯度绝对值如果是一个很小的数,说明也可以退出了.\n",
    "#     if abs(dx(x_origin)) < threshold:\n",
    "#         break\n",
    "        \n",
    "    # 相邻两次x的差值的绝对值小于一个很小数\n",
    "    if abs(x_origin - ret[-1]) < threshold:\n",
    "        break"
   ]
  },
  {
   "cell_type": "code",
   "execution_count": 32,
   "id": "4e1d1d93",
   "metadata": {},
   "outputs": [
    {
     "data": {
      "text/plain": [
       "56"
      ]
     },
     "execution_count": 32,
     "metadata": {},
     "output_type": "execute_result"
    }
   ],
   "source": [
    "len(ret)"
   ]
  },
  {
   "cell_type": "code",
   "execution_count": 33,
   "id": "14342c23",
   "metadata": {
    "collapsed": true
   },
   "outputs": [
    {
     "data": {
      "text/plain": [
       "[-8,\n",
       " -5.9,\n",
       " -4.220000000000001,\n",
       " -2.8760000000000003,\n",
       " -1.8008000000000002,\n",
       " -0.94064,\n",
       " -0.25251199999999996,\n",
       " 0.2979904,\n",
       " 0.73839232,\n",
       " 1.090713856,\n",
       " 1.3725710848000001,\n",
       " 1.59805686784,\n",
       " 1.778445494272,\n",
       " 1.9227563954176001,\n",
       " 2.03820511633408,\n",
       " 2.1305640930672642,\n",
       " 2.2044512744538114,\n",
       " 2.263561019563049,\n",
       " 2.310848815650439,\n",
       " 2.3486790525203514,\n",
       " 2.3789432420162813,\n",
       " 2.403154593613025,\n",
       " 2.42252367489042,\n",
       " 2.438018939912336,\n",
       " 2.4504151519298687,\n",
       " 2.460332121543895,\n",
       " 2.468265697235116,\n",
       " 2.4746125577880926,\n",
       " 2.4796900462304743,\n",
       " 2.4837520369843795,\n",
       " 2.4870016295875037,\n",
       " 2.489601303670003,\n",
       " 2.491681042936002,\n",
       " 2.4933448343488016,\n",
       " 2.4946758674790415,\n",
       " 2.495740693983233,\n",
       " 2.4965925551865866,\n",
       " 2.497274044149269,\n",
       " 2.4978192353194153,\n",
       " 2.498255388255532,\n",
       " 2.4986043106044256,\n",
       " 2.4988834484835403,\n",
       " 2.4991067587868323,\n",
       " 2.4992854070294657,\n",
       " 2.4994283256235725,\n",
       " 2.499542660498858,\n",
       " 2.4996341283990864,\n",
       " 2.499707302719269,\n",
       " 2.499765842175415,\n",
       " 2.4998126737403323,\n",
       " 2.499850138992266,\n",
       " 2.499880111193813,\n",
       " 2.4999040889550503,\n",
       " 2.4999232711640405,\n",
       " 2.4999386169312325,\n",
       " 2.499950893544986]"
      ]
     },
     "execution_count": 33,
     "metadata": {},
     "output_type": "execute_result"
    }
   ],
   "source": [
    "ret"
   ]
  },
  {
   "cell_type": "code",
   "execution_count": 37,
   "id": "10e9a4d5",
   "metadata": {},
   "outputs": [
    {
     "data": {
      "text/plain": [
       "14463679"
      ]
     },
     "execution_count": 37,
     "metadata": {},
     "output_type": "execute_result"
    }
   ],
   "source": [
    "len(ret)"
   ]
  },
  {
   "cell_type": "code",
   "execution_count": 38,
   "id": "63204d6c",
   "metadata": {},
   "outputs": [
    {
     "data": {
      "text/plain": [
       "[-8, 13.0, -8.0, 13.0, -8.0, 13.0, -8.0, 13.0, -8.0, 13.0]"
      ]
     },
     "execution_count": 38,
     "metadata": {},
     "output_type": "execute_result"
    }
   ],
   "source": [
    "ret[:10]"
   ]
  },
  {
   "cell_type": "code",
   "execution_count": 40,
   "id": "2bd76ca2",
   "metadata": {},
   "outputs": [
    {
     "data": {
      "text/plain": [
       "17"
      ]
     },
     "execution_count": 40,
     "metadata": {},
     "output_type": "execute_result"
    }
   ],
   "source": [
    "len(ret)"
   ]
  },
  {
   "cell_type": "code",
   "execution_count": 42,
   "id": "2da4a768",
   "metadata": {},
   "outputs": [
    {
     "data": {
      "text/plain": [
       "[<matplotlib.lines.Line2D at 0x1e110fcd128>]"
      ]
     },
     "execution_count": 42,
     "metadata": {},
     "output_type": "execute_result"
    },
    {
     "data": {
      "image/png": "[encoded data removed]",
      "text/plain": [
       "<Figure size 360x432 with 1 Axes>"
      ]
     },
     "metadata": {
      "needs_background": "light"
     },
     "output_type": "display_data"
    }
   ],
   "source": [
    "plt.figure(figsize=(5, 6))\n",
    "plt.plot(x, y)\n",
    "plt.plot(ret, [f(t) for t in ret], marker='.', c='r')"
   ]
  }
 ],
 "metadata": {
  "kernelspec": {
   "display_name": "Python 3",
   "language": "python",
   "name": "python3"
  },
  "language_info": {
   "codemirror_mode": {
    "name": "ipython",
    "version": 3
   },
   "file_extension": ".py",
   "mimetype": "text/x-python",
   "name": "python",
   "nbconvert_exporter": "python",
   "pygments_lexer": "ipython3",
   "version": "3.6.8"
  }
 },
 "nbformat": 4,
 "nbformat_minor": 5
}

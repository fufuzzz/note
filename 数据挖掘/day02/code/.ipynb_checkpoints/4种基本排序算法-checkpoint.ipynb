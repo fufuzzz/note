{
 "cells": [
  {
   "cell_type": "code",
   "execution_count": 8,
   "id": "5ace0877",
   "metadata": {},
   "outputs": [],
   "source": [
    "# 冒泡排序\n",
    "# 时间复杂度: 看有几层循环,循环最大能循环到多少. O(n^2)\n",
    "# 空间复杂度; 看有没有额外创建对象去存储.O(1)\n",
    "# 稳定性: 稳定的\n",
    "# 向量的元素进行比较, 每次比较一轮, 最大的那个跑到后面\n",
    "def bubble_sort(arr):\n",
    "    length = len(arr)\n",
    "    for i in range(length - 1):\n",
    "        switched = False\n",
    "        for j in range(length - 1 - i ):\n",
    "            # 一定是相邻的元素比较\n",
    "            if arr[j] > arr[j+1]:\n",
    "                arr[j], arr[j+1] = arr[j+1], arr[j]\n",
    "                # 如果发生了交换,表示数组本身不是有序的,否则表示本身是有序的,就不需要坐后面的比较了\n",
    "                swtiched = True\n",
    "        if not swtiched:\n",
    "            break\n",
    "    return arr"
   ]
  },
  {
   "cell_type": "code",
   "execution_count": 9,
   "id": "d35389ab",
   "metadata": {},
   "outputs": [],
   "source": [
    "arr = [1, 2, 3, 7, 4, 2, 1]"
   ]
  },
  {
   "cell_type": "code",
   "execution_count": 10,
   "id": "130c974a",
   "metadata": {},
   "outputs": [
    {
     "data": {
      "text/plain": [
       "[1, 1, 2, 2, 3, 4, 7]"
      ]
     },
     "execution_count": 10,
     "metadata": {},
     "output_type": "execute_result"
    }
   ],
   "source": [
    "bubble_sort(arr)"
   ]
  },
  {
   "cell_type": "code",
   "execution_count": 11,
   "id": "439f960e",
   "metadata": {},
   "outputs": [],
   "source": [
    "# 快速排序\n",
    "# 原理: 选择一个基准值, 比基准值大 的放到一个数组中,比基准值小的放到另一个数组中,重读这个过程,直到数组只有一个值\n",
    "# 时间复杂度: O(n*logn)\n",
    "# 空间复杂度: 0(n)\n",
    "# 稳定性:稳定\n",
    "def quick_sort(arr):\n",
    "    # 选择基准值\n",
    "    if len(arr)<2:\n",
    "        return arr\n",
    "    pivot = arr.pop()\n",
    "    greater = []\n",
    "    less = []\n",
    "    \n",
    "    for i in range(len(arr)):\n",
    "        if arr[i] > pivot:\n",
    "            greater.append(arr[i])\n",
    "        else:\n",
    "            less.append(arr[i])\n",
    "    return quick_sort(less) + [pivot] + quick_sort(greater)\n",
    "    "
   ]
  },
  {
   "cell_type": "code",
   "execution_count": 12,
   "id": "c18d8cf5",
   "metadata": {},
   "outputs": [],
   "source": [
    "arr = [1, 8, 7, 4, 5]"
   ]
  },
  {
   "cell_type": "code",
   "execution_count": 13,
   "id": "b413b399",
   "metadata": {},
   "outputs": [
    {
     "data": {
      "text/plain": [
       "[1, 4, 5, 7, 8]"
      ]
     },
     "execution_count": 13,
     "metadata": {},
     "output_type": "execute_result"
    }
   ],
   "source": [
    "quick_sort(arr)"
   ]
  },
  {
   "cell_type": "code",
   "execution_count": 21,
   "id": "7e86693a",
   "metadata": {},
   "outputs": [],
   "source": [
    "# 选择排序\n",
    "# 时间复杂度: O(n^2)\n",
    "# 空间复杂度: 0(1)\n",
    "# 稳定性:不稳定\n",
    "def select_sort(arr):\n",
    "    length = len(arr)\n",
    "    for i in range(length - 1):\n",
    "        least = i\n",
    "        for j in range(i+1,length):\n",
    "            if arr[j] < arr[least]:\n",
    "                least = j\n",
    "        # 交换位置\n",
    "        arr[least], arr[i] = arr[i], arr[least]\n",
    "    return arr"
   ]
  },
  {
   "cell_type": "code",
   "execution_count": 22,
   "id": "88a60424",
   "metadata": {},
   "outputs": [],
   "source": [
    "arr = [1, 8, 7, 4, 5]"
   ]
  },
  {
   "cell_type": "code",
   "execution_count": 23,
   "id": "04a08ae0",
   "metadata": {},
   "outputs": [
    {
     "data": {
      "text/plain": [
       "[1, 4, 5, 7, 8]"
      ]
     },
     "execution_count": 23,
     "metadata": {},
     "output_type": "execute_result"
    }
   ],
   "source": [
    "select_sort(arr)"
   ]
  },
  {
   "cell_type": "code",
   "execution_count": 37,
   "id": "65f324f4",
   "metadata": {},
   "outputs": [],
   "source": [
    "# 插入排序\n",
    "# 认为第一个是有序的,遍历后面的元素,和前面的元素作对比,找到合适的位置插入\n",
    "# 时间复杂度: O(n^2)\n",
    "# 空间复杂度: O(1)\n",
    "# 稳定性: 稳定的\n",
    "def insert_sort(arr):\n",
    "    for i in range(1, len(arr)):\n",
    "        loop_index = i\n",
    "        while loop_index > 0 and arr[loop_index] < arr[loop_index-1]:\n",
    "            arr[loop_index], arr[loop_index-1] = arr[loop_index-1], arr[loop_index]\n",
    "            loop_index -= 1\n",
    "    \n",
    "    return arr\n",
    "\n"
   ]
  },
  {
   "cell_type": "code",
   "execution_count": 38,
   "id": "fe33942f",
   "metadata": {},
   "outputs": [],
   "source": [
    "arr = [1, 8, 7, 4, 5]"
   ]
  },
  {
   "cell_type": "code",
   "execution_count": 39,
   "id": "112c4d37",
   "metadata": {},
   "outputs": [
    {
     "data": {
      "text/plain": [
       "[1, 4, 5, 7, 8]"
      ]
     },
     "execution_count": 39,
     "metadata": {},
     "output_type": "execute_result"
    }
   ],
   "source": [
    "insert_sort(arr)"
   ]
  },
  {
   "cell_type": "code",
   "execution_count": null,
   "id": "38b5d2c5",
   "metadata": {},
   "outputs": [],
   "source": []
  }
 ],
 "metadata": {
  "kernelspec": {
   "display_name": "Python 3",
   "language": "python",
   "name": "python3"
  },
  "language_info": {
   "codemirror_mode": {
    "name": "ipython",
    "version": 3
   },
   "file_extension": ".py",
   "mimetype": "text/x-python",
   "name": "python",
   "nbconvert_exporter": "python",
   "pygments_lexer": "ipython3",
   "version": "3.7.1"
  }
 },
 "nbformat": 4,
 "nbformat_minor": 5
}

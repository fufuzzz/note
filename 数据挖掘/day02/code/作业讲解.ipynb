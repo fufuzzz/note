{
 "cells": [
  {
   "cell_type": "code",
   "execution_count": 1,
   "id": "a53a9687",
   "metadata": {},
   "outputs": [],
   "source": [
    "import numpy as np"
   ]
  },
  {
   "cell_type": "markdown",
   "id": "fc474826",
   "metadata": {},
   "source": [
    "### 11、给定一个4维矩阵，如何得到最后两维的和？"
   ]
  },
  {
   "cell_type": "code",
   "execution_count": 2,
   "id": "42925636",
   "metadata": {},
   "outputs": [],
   "source": [
    "n11 = np.random.randint(0, 10, size=(2, 3, 4, 3))"
   ]
  },
  {
   "cell_type": "code",
   "execution_count": null,
   "id": "d65ba27c",
   "metadata": {},
   "outputs": [],
   "source": [
    "np.sum()"
   ]
  },
  {
   "cell_type": "code",
   "execution_count": 7,
   "id": "a9c46690",
   "metadata": {
    "scrolled": true
   },
   "outputs": [
    {
     "data": {
      "text/plain": [
       "array([[64, 48, 51],\n",
       "       [67, 55, 66]])"
      ]
     },
     "execution_count": 7,
     "metadata": {},
     "output_type": "execute_result"
    }
   ],
   "source": [
    "n11.sum(axis=(2, 3))"
   ]
  },
  {
   "cell_type": "code",
   "execution_count": 8,
   "id": "27d0a9b5",
   "metadata": {
    "scrolled": true
   },
   "outputs": [
    {
     "data": {
      "text/plain": [
       "array([[64, 48, 51],\n",
       "       [67, 55, 66]])"
      ]
     },
     "execution_count": 8,
     "metadata": {},
     "output_type": "execute_result"
    }
   ],
   "source": [
    "n11.sum(axis=(-1, -2))"
   ]
  },
  {
   "cell_type": "markdown",
   "id": "3d172ebb",
   "metadata": {},
   "source": [
    "### 12、给定数组[1, 2, 3, 4, 5]，如何得到在这个数组的每个元素之间插入3个0后的新数组？"
   ]
  },
  {
   "cell_type": "code",
   "execution_count": 10,
   "id": "5a7b10c1",
   "metadata": {},
   "outputs": [],
   "source": [
    "# 最简单的方式采用逆向思维.\n",
    "# 创建17个0的ndarray\n",
    "n12 = np.zeros(shape=17)"
   ]
  },
  {
   "cell_type": "code",
   "execution_count": 11,
   "id": "7e4447d1",
   "metadata": {},
   "outputs": [],
   "source": [
    "n12[::4] = [1, 2, 3, 4, 5]"
   ]
  },
  {
   "cell_type": "code",
   "execution_count": 12,
   "id": "e97282bc",
   "metadata": {
    "scrolled": true
   },
   "outputs": [
    {
     "data": {
      "text/plain": [
       "array([1., 0., 0., 0., 2., 0., 0., 0., 3., 0., 0., 0., 4., 0., 0., 0., 5.])"
      ]
     },
     "execution_count": 12,
     "metadata": {},
     "output_type": "execute_result"
    }
   ],
   "source": [
    "n12"
   ]
  },
  {
   "cell_type": "markdown",
   "id": "6e4015e3",
   "metadata": {},
   "source": [
    "### 13、给定一个二维矩阵，如何交换其中两行的元素？"
   ]
  },
  {
   "cell_type": "code",
   "execution_count": 21,
   "id": "ad24a2fb",
   "metadata": {
    "scrolled": true
   },
   "outputs": [
    {
     "data": {
      "text/plain": [
       "array([[2, 0, 4, 8, 2, 3],\n",
       "       [4, 8, 2, 4, 2, 0],\n",
       "       [8, 0, 5, 8, 2, 1],\n",
       "       [0, 5, 1, 7, 0, 2],\n",
       "       [5, 6, 5, 8, 7, 2],\n",
       "       [3, 1, 4, 6, 8, 6]])"
      ]
     },
     "execution_count": 21,
     "metadata": {},
     "output_type": "execute_result"
    }
   ],
   "source": [
    "n13 =  np.random.randint(0, 10, size=(6, 6))\n",
    "n13"
   ]
  },
  {
   "cell_type": "code",
   "execution_count": 22,
   "id": "5a2e8ee2",
   "metadata": {},
   "outputs": [
    {
     "data": {
      "text/plain": [
       "array([[2, 0, 4, 8, 2, 3],\n",
       "       [4, 8, 2, 4, 2, 0],\n",
       "       [0, 5, 1, 7, 0, 2],\n",
       "       [8, 0, 5, 8, 2, 1],\n",
       "       [5, 6, 5, 8, 7, 2],\n",
       "       [3, 1, 4, 6, 8, 6]])"
      ]
     },
     "execution_count": 22,
     "metadata": {},
     "output_type": "execute_result"
    }
   ],
   "source": [
    "# 常规做法.\n",
    "temp2 = n13[2].copy()\n",
    "n13[2] = n13[3]\n",
    "n13[3] = temp2\n",
    "n13"
   ]
  },
  {
   "cell_type": "code",
   "execution_count": 18,
   "id": "9b8e7960",
   "metadata": {
    "collapsed": true
   },
   "outputs": [
    {
     "data": {
      "text/plain": [
       "array([[9, 8, 4, 9, 1, 2],\n",
       "       [7, 0, 8, 0, 3, 3],\n",
       "       [9, 8, 4, 9, 1, 2],\n",
       "       [7, 0, 8, 0, 3, 3],\n",
       "       [5, 5, 6, 6, 6, 7],\n",
       "       [7, 3, 8, 4, 4, 4],\n",
       "       [8, 2, 9, 1, 0, 0],\n",
       "       [9, 8, 4, 9, 1, 2]])"
      ]
     },
     "execution_count": 18,
     "metadata": {},
     "output_type": "execute_result"
    }
   ],
   "source": [
    "# 高级技巧\n",
    "n13[[1, 2, 1, 2, 3, 4, 0, 1]]"
   ]
  },
  {
   "cell_type": "code",
   "execution_count": 19,
   "id": "7bfdadc5",
   "metadata": {
    "collapsed": true
   },
   "outputs": [
    {
     "data": {
      "text/plain": [
       "array([[8, 2, 9, 1, 0, 0],\n",
       "       [9, 8, 4, 9, 1, 2],\n",
       "       [5, 5, 6, 6, 6, 7],\n",
       "       [7, 0, 8, 0, 3, 3],\n",
       "       [7, 3, 8, 4, 4, 4],\n",
       "       [3, 6, 9, 2, 9, 6]])"
      ]
     },
     "execution_count": 19,
     "metadata": {},
     "output_type": "execute_result"
    }
   ],
   "source": [
    "n13[[0, 1, 3, 2, 4, 5]]"
   ]
  },
  {
   "cell_type": "code",
   "execution_count": 20,
   "id": "3733c525",
   "metadata": {
    "collapsed": true
   },
   "outputs": [
    {
     "data": {
      "text/plain": [
       "array([[2, 9, 1, 2, 9, 1],\n",
       "       [8, 4, 9, 8, 4, 9],\n",
       "       [0, 8, 0, 0, 8, 0],\n",
       "       [5, 6, 6, 5, 6, 6],\n",
       "       [3, 8, 4, 3, 8, 4],\n",
       "       [6, 9, 2, 6, 9, 2]])"
      ]
     },
     "execution_count": 20,
     "metadata": {},
     "output_type": "execute_result"
    }
   ],
   "source": [
    "n13[:, [1, 2, 3, 1, 2, 3]]"
   ]
  },
  {
   "cell_type": "markdown",
   "id": "0344980a",
   "metadata": {},
   "source": [
    "### 16、矩阵的每一行的元素都减去该行的平均值"
   ]
  },
  {
   "cell_type": "code",
   "execution_count": 23,
   "id": "adc9104a",
   "metadata": {},
   "outputs": [
    {
     "data": {
      "text/plain": [
       "array([[1, 8, 6, 5, 9],\n",
       "       [4, 5, 2, 0, 7],\n",
       "       [0, 6, 2, 5, 4]])"
      ]
     },
     "execution_count": 23,
     "metadata": {},
     "output_type": "execute_result"
    }
   ],
   "source": [
    "n16 = np.random.randint(0, 10, size=(3, 5))\n",
    "n16"
   ]
  },
  {
   "cell_type": "code",
   "execution_count": 26,
   "id": "a652aabb",
   "metadata": {
    "collapsed": true
   },
   "outputs": [
    {
     "ename": "ValueError",
     "evalue": "operands could not be broadcast together with shapes (3,5) (3,) ",
     "output_type": "error",
     "traceback": [
      "\u001b[1;31m---------------------------------------------------------------------------\u001b[0m",
      "\u001b[1;31mValueError\u001b[0m                                Traceback (most recent call last)",
      "\u001b[1;32m<ipython-input-26-802ca72c85b0>\u001b[0m in \u001b[0;36m<module>\u001b[1;34m\u001b[0m\n\u001b[0;32m      1\u001b[0m \u001b[1;31m# 要求行的平均值,要对列进行聚合.\u001b[0m\u001b[1;33m\u001b[0m\u001b[1;33m\u001b[0m\u001b[1;33m\u001b[0m\u001b[0m\n\u001b[1;32m----> 2\u001b[1;33m \u001b[0mn16\u001b[0m \u001b[1;33m-\u001b[0m \u001b[0mn16\u001b[0m\u001b[1;33m.\u001b[0m\u001b[0mmean\u001b[0m\u001b[1;33m(\u001b[0m\u001b[0maxis\u001b[0m\u001b[1;33m=\u001b[0m\u001b[1;36m1\u001b[0m\u001b[1;33m)\u001b[0m\u001b[1;33m\u001b[0m\u001b[1;33m\u001b[0m\u001b[0m\n\u001b[0m",
      "\u001b[1;31mValueError\u001b[0m: operands could not be broadcast together with shapes (3,5) (3,) "
     ]
    }
   ],
   "source": [
    "# 要求行的平均值,要对列进行聚合.\n",
    "n16 - n16.mean(axis=1)"
   ]
  },
  {
   "cell_type": "code",
   "execution_count": 27,
   "id": "5254c8ff",
   "metadata": {},
   "outputs": [
    {
     "data": {
      "text/plain": [
       "array([5.8, 3.6, 3.4])"
      ]
     },
     "execution_count": 27,
     "metadata": {},
     "output_type": "execute_result"
    }
   ],
   "source": [
    "n16.mean(axis=1)"
   ]
  },
  {
   "cell_type": "code",
   "execution_count": 29,
   "id": "c94cfa3f",
   "metadata": {},
   "outputs": [
    {
     "data": {
      "text/plain": [
       "array([[1, 8, 6, 5, 9],\n",
       "       [4, 5, 2, 0, 7],\n",
       "       [0, 6, 2, 5, 4]])"
      ]
     },
     "execution_count": 29,
     "metadata": {},
     "output_type": "execute_result"
    }
   ],
   "source": [
    "n16"
   ]
  },
  {
   "cell_type": "code",
   "execution_count": 28,
   "id": "b6221135",
   "metadata": {
    "scrolled": false
   },
   "outputs": [
    {
     "data": {
      "text/plain": [
       "array([[-4.8,  2.2,  0.2, -0.8,  3.2],\n",
       "       [ 0.4,  1.4, -1.6, -3.6,  3.4],\n",
       "       [-3.4,  2.6, -1.4,  1.6,  0.6]])"
      ]
     },
     "execution_count": 28,
     "metadata": {},
     "output_type": "execute_result"
    }
   ],
   "source": [
    "n16 - n16.mean(axis=1).reshape(3, 1)"
   ]
  },
  {
   "cell_type": "code",
   "execution_count": 30,
   "id": "58c9edad",
   "metadata": {},
   "outputs": [
    {
     "data": {
      "text/plain": [
       "array([[5.8],\n",
       "       [3.6],\n",
       "       [3.4]])"
      ]
     },
     "execution_count": 30,
     "metadata": {},
     "output_type": "execute_result"
    }
   ],
   "source": [
    "n16.mean(axis=1).reshape(3, 1)"
   ]
  },
  {
   "cell_type": "markdown",
   "id": "826256d3",
   "metadata": {},
   "source": [
    "### 17、打印出以下函数（要求使用np.zeros创建8*8的矩阵）：\n"
   ]
  },
  {
   "cell_type": "code",
   "execution_count": 32,
   "id": "7afa6ad0",
   "metadata": {
    "collapsed": true
   },
   "outputs": [
    {
     "ename": "SyntaxError",
     "evalue": "invalid syntax (<ipython-input-32-8ca7b84a0e91>, line 1)",
     "output_type": "error",
     "traceback": [
      "\u001b[1;36m  File \u001b[1;32m\"<ipython-input-32-8ca7b84a0e91>\"\u001b[1;36m, line \u001b[1;32m1\u001b[0m\n\u001b[1;33m    [[0 1 0 1 0 1 0 1]\u001b[0m\n\u001b[1;37m        ^\u001b[0m\n\u001b[1;31mSyntaxError\u001b[0m\u001b[1;31m:\u001b[0m invalid syntax\n"
     ]
    }
   ],
   "source": [
    "[[0 1 0 1 0 1 0 1]\n",
    " [1 0 1 0 1 0 1 0]\n",
    " [0 1 0 1 0 1 0 1]\n",
    " [1 0 1 0 1 0 1 0]\n",
    " [0 1 0 1 0 1 0 1]\n",
    " [1 0 1 0 1 0 1 0]\n",
    " [0 1 0 1 0 1 0 1]\n",
    " [1 0 1 0 1 0 1 0]]"
   ]
  },
  {
   "cell_type": "code",
   "execution_count": 35,
   "id": "a9708c1b",
   "metadata": {},
   "outputs": [],
   "source": [
    "n17 = np.zeros(shape=(8,8), dtype='int')"
   ]
  },
  {
   "cell_type": "code",
   "execution_count": 36,
   "id": "70b37da8",
   "metadata": {
    "scrolled": true
   },
   "outputs": [
    {
     "data": {
      "text/plain": [
       "array([[0, 0, 0, 0, 0, 0, 0, 0],\n",
       "       [1, 0, 1, 0, 1, 0, 1, 0],\n",
       "       [0, 0, 0, 0, 0, 0, 0, 0],\n",
       "       [1, 0, 1, 0, 1, 0, 1, 0],\n",
       "       [0, 0, 0, 0, 0, 0, 0, 0],\n",
       "       [1, 0, 1, 0, 1, 0, 1, 0],\n",
       "       [0, 0, 0, 0, 0, 0, 0, 0],\n",
       "       [1, 0, 1, 0, 1, 0, 1, 0]])"
      ]
     },
     "execution_count": 36,
     "metadata": {},
     "output_type": "execute_result"
    }
   ],
   "source": [
    "n17[1::2, ::2] = 1\n",
    "n17"
   ]
  },
  {
   "cell_type": "code",
   "execution_count": 37,
   "id": "c77021c2",
   "metadata": {
    "scrolled": true
   },
   "outputs": [
    {
     "data": {
      "text/plain": [
       "array([[0, 1, 0, 1, 0, 1, 0, 1],\n",
       "       [1, 0, 1, 0, 1, 0, 1, 0],\n",
       "       [0, 1, 0, 1, 0, 1, 0, 1],\n",
       "       [1, 0, 1, 0, 1, 0, 1, 0],\n",
       "       [0, 1, 0, 1, 0, 1, 0, 1],\n",
       "       [1, 0, 1, 0, 1, 0, 1, 0],\n",
       "       [0, 1, 0, 1, 0, 1, 0, 1],\n",
       "       [1, 0, 1, 0, 1, 0, 1, 0]])"
      ]
     },
     "execution_count": 37,
     "metadata": {},
     "output_type": "execute_result"
    }
   ],
   "source": [
    "n17[::2, 1::2] =1 \n",
    "n17"
   ]
  },
  {
   "cell_type": "markdown",
   "id": "9e616285",
   "metadata": {},
   "source": [
    "### 18、正则化一个5*5随机矩阵\n",
    "正则的概念：假设a是矩阵中的一个元素，max/min分别是矩阵元素的最大最小值，则正则化后a = (a - min)/(max - min)\n"
   ]
  },
  {
   "cell_type": "code",
   "execution_count": 38,
   "id": "5d8f31ce",
   "metadata": {
    "scrolled": true
   },
   "outputs": [
    {
     "data": {
      "text/plain": [
       "array([[0, 1, 5, 9, 3],\n",
       "       [1, 3, 3, 3, 0],\n",
       "       [4, 1, 6, 9, 7],\n",
       "       [9, 7, 1, 1, 1]])"
      ]
     },
     "execution_count": 38,
     "metadata": {},
     "output_type": "execute_result"
    }
   ],
   "source": [
    "# 正则化, 也叫归一化, 把矩阵内的元素都变成0到1之间的小数\n",
    "n18 = np.random.randint(0, 10, size=(4, 5))\n",
    "n18"
   ]
  },
  {
   "cell_type": "code",
   "execution_count": 39,
   "id": "0233a35a",
   "metadata": {},
   "outputs": [
    {
     "data": {
      "text/plain": [
       "0"
      ]
     },
     "execution_count": 39,
     "metadata": {},
     "output_type": "execute_result"
    }
   ],
   "source": [
    "n18.min()"
   ]
  },
  {
   "cell_type": "code",
   "execution_count": 40,
   "id": "197e0ff1",
   "metadata": {},
   "outputs": [
    {
     "data": {
      "text/plain": [
       "array([[0.        , 0.11111111, 0.55555556, 1.        , 0.33333333],\n",
       "       [0.11111111, 0.33333333, 0.33333333, 0.33333333, 0.        ],\n",
       "       [0.44444444, 0.11111111, 0.66666667, 1.        , 0.77777778],\n",
       "       [1.        , 0.77777778, 0.11111111, 0.11111111, 0.11111111]])"
      ]
     },
     "execution_count": 40,
     "metadata": {},
     "output_type": "execute_result"
    }
   ],
   "source": [
    "(n18 - n18.min()) / (n18.max() - n18.min())"
   ]
  }
 ],
 "metadata": {
  "kernelspec": {
   "display_name": "Python 3",
   "language": "python",
   "name": "python3"
  },
  "language_info": {
   "codemirror_mode": {
    "name": "ipython",
    "version": 3
   },
   "file_extension": ".py",
   "mimetype": "text/x-python",
   "name": "python",
   "nbconvert_exporter": "python",
   "pygments_lexer": "ipython3",
   "version": "3.6.8"
  }
 },
 "nbformat": 4,
 "nbformat_minor": 5
}

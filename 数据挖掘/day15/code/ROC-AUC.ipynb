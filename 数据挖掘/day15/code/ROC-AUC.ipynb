{
 "cells": [
  {
   "cell_type": "code",
   "execution_count": 1,
   "metadata": {},
   "outputs": [],
   "source": [
    "import numpy as np\n",
    "from sklearn.linear_model import LogisticRegression\n",
    "\n",
    "from sklearn.datasets import load_iris"
   ]
  },
  {
   "cell_type": "code",
   "execution_count": 2,
   "metadata": {},
   "outputs": [],
   "source": [
    "iris = load_iris()\n",
    "\n",
    "data = iris['data']\n",
    "target = iris['target']"
   ]
  },
  {
   "cell_type": "code",
   "execution_count": 5,
   "metadata": {},
   "outputs": [],
   "source": [
    "cond = target!=2"
   ]
  },
  {
   "cell_type": "code",
   "execution_count": 6,
   "metadata": {
    "collapsed": true
   },
   "outputs": [
    {
     "data": {
      "text/plain": [
       "(100, 4)"
      ]
     },
     "metadata": {},
     "output_type": "display_data"
    },
    {
     "data": {
      "text/plain": [
       "(100,)"
      ]
     },
     "metadata": {},
     "output_type": "display_data"
    },
    {
     "data": {
      "text/plain": [
       "array([0, 0, 0, 0, 0, 0, 0, 0, 0, 0, 0, 0, 0, 0, 0, 0, 0, 0, 0, 0, 0, 0,\n",
       "       0, 0, 0, 0, 0, 0, 0, 0, 0, 0, 0, 0, 0, 0, 0, 0, 0, 0, 0, 0, 0, 0,\n",
       "       0, 0, 0, 0, 0, 0, 1, 1, 1, 1, 1, 1, 1, 1, 1, 1, 1, 1, 1, 1, 1, 1,\n",
       "       1, 1, 1, 1, 1, 1, 1, 1, 1, 1, 1, 1, 1, 1, 1, 1, 1, 1, 1, 1, 1, 1,\n",
       "       1, 1, 1, 1, 1, 1, 1, 1, 1, 1, 1, 1])"
      ]
     },
     "execution_count": 6,
     "metadata": {},
     "output_type": "execute_result"
    }
   ],
   "source": [
    "X = data[cond]\n",
    "y = target[cond]\n",
    "display(X.shape,y.shape)\n",
    "y"
   ]
  },
  {
   "cell_type": "code",
   "execution_count": 7,
   "metadata": {},
   "outputs": [],
   "source": [
    "from sklearn.model_selection import train_test_split"
   ]
  },
  {
   "cell_type": "code",
   "execution_count": 8,
   "metadata": {},
   "outputs": [],
   "source": [
    "X_train,X_test,y_train,y_test = train_test_split(X,y,test_size = 15)"
   ]
  },
  {
   "cell_type": "code",
   "execution_count": 9,
   "metadata": {},
   "outputs": [
    {
     "data": {
      "text/plain": [
       "array([0, 0, 0, 0, 1, 1, 0, 0, 1, 0, 0, 0, 1, 1, 0])"
      ]
     },
     "execution_count": 9,
     "metadata": {},
     "output_type": "execute_result"
    }
   ],
   "source": [
    "logistic = LogisticRegression()\n",
    "\n",
    "logistic.fit(X_train,y_train)\n",
    "\n",
    "y_ = logistic.predict(X_test)\n",
    "y_"
   ]
  },
  {
   "cell_type": "code",
   "execution_count": 14,
   "metadata": {},
   "outputs": [
    {
     "data": {
      "text/plain": [
       "array([0, 0, 0, 0, 1, 1, 0, 0, 1, 0, 0, 0, 1, 1, 0], dtype=int64)"
      ]
     },
     "execution_count": 14,
     "metadata": {},
     "output_type": "execute_result"
    }
   ],
   "source": [
    "np.argmax(y2_,axis = 1)"
   ]
  },
  {
   "cell_type": "code",
   "execution_count": 12,
   "metadata": {
    "collapsed": true
   },
   "outputs": [
    {
     "data": {
      "text/plain": [
       "array([[0.95391611, 0.04608389],\n",
       "       [0.96880139, 0.03119861],\n",
       "       [0.88838638, 0.11161362],\n",
       "       [0.99490532, 0.00509468],\n",
       "       [0.00406822, 0.99593178],\n",
       "       [0.02697652, 0.97302348],\n",
       "       [0.97971776, 0.02028224],\n",
       "       [0.96063304, 0.03936696],\n",
       "       [0.02016697, 0.97983303],\n",
       "       [0.97769718, 0.02230282],\n",
       "       [0.94103807, 0.05896193],\n",
       "       [0.97700635, 0.02299365],\n",
       "       [0.02232452, 0.97767548],\n",
       "       [0.00731373, 0.99268627],\n",
       "       [0.99049655, 0.00950345]])"
      ]
     },
     "execution_count": 12,
     "metadata": {},
     "output_type": "execute_result"
    }
   ],
   "source": [
    "# 阈值 0.5 大于0.5类别1；小于0.5类别0\n",
    "# 0.6 大于0.6属于类别1；小于0.6类别0\n",
    "\n",
    "# 0.49,0.51\n",
    "y2_ = logistic.predict_proba(X_test)\n",
    "y2_"
   ]
  },
  {
   "cell_type": "code",
   "execution_count": null,
   "metadata": {},
   "outputs": [],
   "source": [
    "# 例如，数据集一共有5个样本，真实类别为（1，0，0，1，0）；\n",
    "# 二分类机器学习模型，得到的预测结果为（0.5，0.6，0.4，0.7，0.3）\n",
    "# 阈值是0.5\n",
    "y = np.array([1,0,0,1,0])\n",
    "\n",
    "# 阈值0.5\n",
    "y1_ = np.array([1,1,0,1,0]) 准确率 0.8\n",
    "\n",
    "# 阈值 0.4\n",
    "y2_ = np.array([1,1,1,1,0]) 准确率 0.6\n",
    "\n",
    "# 阈值 0.6大于类别1，小于等于0.6类别0\n",
    "y3_ = np.array([0,0,0,1,0]) 准确率 0.8"
   ]
  },
  {
   "cell_type": "code",
   "execution_count": 15,
   "metadata": {},
   "outputs": [],
   "source": [
    "from sklearn.metrics import roc_curve,auc\n",
    "\n",
    "# 按照样本比例进行训练和测试数据的划分\n",
    "from sklearn.model_selection import StratifiedKFold\n",
    "\n",
    "import matplotlib.pyplot as plt\n",
    "%matplotlib inline"
   ]
  },
  {
   "cell_type": "code",
   "execution_count": 45,
   "metadata": {},
   "outputs": [],
   "source": [
    "iris = load_iris()\n",
    "\n",
    "data = iris['data']\n",
    "target = iris['target']\n",
    "\n",
    "cond = target!=2\n",
    "\n",
    "X = data[cond]\n",
    "y = target[cond]"
   ]
  },
  {
   "cell_type": "code",
   "execution_count": 17,
   "metadata": {},
   "outputs": [
    {
     "data": {
      "text/plain": [
       "(100, 4)"
      ]
     },
     "execution_count": 17,
     "metadata": {},
     "output_type": "execute_result"
    }
   ],
   "source": [
    "# 属性只有4个\n",
    "X.shape"
   ]
  },
  {
   "cell_type": "code",
   "execution_count": 46,
   "metadata": {},
   "outputs": [],
   "source": [
    "X = np.concatenate([X,np.random.randn(100,800)],axis = 1)"
   ]
  },
  {
   "cell_type": "code",
   "execution_count": 20,
   "metadata": {
    "scrolled": true
   },
   "outputs": [
    {
     "data": {
      "text/plain": [
       "(100, 804)"
      ]
     },
     "execution_count": 20,
     "metadata": {},
     "output_type": "execute_result"
    }
   ],
   "source": [
    "X.shape"
   ]
  },
  {
   "cell_type": "code",
   "execution_count": 34,
   "metadata": {},
   "outputs": [],
   "source": [
    "# 线性插值\n",
    "from scipy import interp"
   ]
  },
  {
   "cell_type": "code",
   "execution_count": 43,
   "metadata": {
    "collapsed": true
   },
   "outputs": [
    {
     "data": {
      "text/plain": [
       "[<matplotlib.lines.Line2D at 0x2af90d297b8>]"
      ]
     },
     "execution_count": 43,
     "metadata": {},
     "output_type": "execute_result"
    },
    {
     "data": {
      "image/png": "[encoded data removed]",
      "text/plain": [
       "<Figure size 864x648 with 1 Axes>"
      ]
     },
     "metadata": {},
     "output_type": "display_data"
    }
   ],
   "source": [
    "plt.figure(figsize=(12,9))\n",
    "x = np.linspace(0,2*np.pi,20)\n",
    "\n",
    "y = np.sin(x)\n",
    "\n",
    "x2 = np.linspace(0,2*np.pi,50)\n",
    "\n",
    "# y2??\n",
    "\n",
    "y2 = interp(x2,x,y)\n",
    "\n",
    "\n",
    "plt.scatter(x,y)\n",
    "\n",
    "plt.plot(x2,y2,color = 'green',marker = '*',markersize = 10)"
   ]
  },
  {
   "cell_type": "code",
   "execution_count": 47,
   "metadata": {},
   "outputs": [
    {
     "data": {
      "text/plain": [
       "<matplotlib.legend.Legend at 0x2af90d5bb70>"
      ]
     },
     "execution_count": 47,
     "metadata": {},
     "output_type": "execute_result"
    },
    {
     "data": {
      "image/png": "[encoded data removed]",
      "text/plain": [
       "<Figure size 432x288 with 1 Axes>"
      ]
     },
     "metadata": {},
     "output_type": "display_data"
    }
   ],
   "source": [
    "sKFold = StratifiedKFold(n_splits=6)\n",
    "\n",
    "from sklearn.svm import SVC\n",
    "\n",
    "svc = SVC(kernel = 'linear',probability=True)\n",
    "\n",
    "aucs = []\n",
    "\n",
    "fpr_mean = np.linspace(0,1,100)\n",
    "\n",
    "tprs = []\n",
    "\n",
    "# 返回训练数据索引，测试数据索引\n",
    "i = 1\n",
    "for train,test in sKFold.split(X,y):\n",
    "#     print(train,test)\n",
    "    svc.fit(X[train],y[train])\n",
    "    \n",
    "    y_ = svc.predict_proba(X[test])\n",
    "#     print(y_)\n",
    "\n",
    "    fpr,tpr,thresholds = roc_curve(y[test],y_[:,1])\n",
    "    \n",
    "    tpr_ = interp(fpr_mean,fpr,tpr)\n",
    "    \n",
    "    tprs.append(tpr_)\n",
    "#     print(fpr,tpr)\n",
    "    \n",
    "#     print('---------------------------------------')\n",
    "    \n",
    "#     print(thresholds)\n",
    "    \n",
    "#     print('++++++++++++++++++++++++++++++++++++++++')\n",
    "#     6个fpr，6个tpr，fpr_mean,tpr_mean\n",
    "    auc_ = auc(fpr,tpr)\n",
    "    \n",
    "    \n",
    "    aucs.append(auc_)\n",
    "    plt.plot(fpr,tpr,label = 'fold %d auc %0.4f'%(i,auc_),alpha = 0.3)\n",
    "    i +=1\n",
    "\n",
    "\n",
    "\n",
    "tpr_mean = np.mean(tprs,axis = 0)\n",
    "\n",
    "tpr_mean[0] = 0\n",
    "tpr_mean[-1] = 1\n",
    "\n",
    "\n",
    "auc_mean = auc(fpr_mean,tpr_mean)\n",
    "\n",
    "auc_std = np.std(aucs)\n",
    "\n",
    "plt.plot(fpr_mean,tpr_mean,label = 'mean auc %0.4f$\\pm$%0.2f'%(auc_mean,auc_std),color = 'green')\n",
    "\n",
    "plt.legend()   "
   ]
  },
  {
   "cell_type": "code",
   "execution_count": 48,
   "metadata": {},
   "outputs": [
    {
     "data": {
      "text/plain": [
       "<matplotlib.legend.Legend at 0x2af90da4518>"
      ]
     },
     "execution_count": 48,
     "metadata": {},
     "output_type": "execute_result"
    },
    {
     "data": {
      "image/png": "[encoded data removed]",
      "text/plain": [
       "<Figure size 432x288 with 1 Axes>"
      ]
     },
     "metadata": {},
     "output_type": "display_data"
    }
   ],
   "source": [
    "sKFold = StratifiedKFold(n_splits=6)\n",
    "\n",
    "logistic = LogisticRegression()\n",
    "\n",
    "aucs = []\n",
    "\n",
    "fpr_mean = np.linspace(0,1,100)\n",
    "\n",
    "tprs = []\n",
    "\n",
    "# 返回训练数据索引，测试数据索引\n",
    "i = 1\n",
    "for train,test in sKFold.split(X,y):\n",
    "#     print(train,test)\n",
    "    logistic.fit(X[train],y[train])\n",
    "    \n",
    "    y_ = logistic.predict_proba(X[test])\n",
    "#     print(y_)\n",
    "\n",
    "    fpr,tpr,thresholds = roc_curve(y[test],y_[:,1])\n",
    "    \n",
    "    tpr_ = interp(fpr_mean,fpr,tpr)\n",
    "    \n",
    "    tprs.append(tpr_)\n",
    "#     print(fpr,tpr)\n",
    "    \n",
    "#     print('---------------------------------------')\n",
    "    \n",
    "#     print(thresholds)\n",
    "    \n",
    "#     print('++++++++++++++++++++++++++++++++++++++++')\n",
    "#     6个fpr，6个tpr，fpr_mean,tpr_mean\n",
    "    auc_ = auc(fpr,tpr)\n",
    "    \n",
    "    \n",
    "    aucs.append(auc_)\n",
    "    plt.plot(fpr,tpr,label = 'fold %d auc %0.4f'%(i,auc_),alpha = 0.3)\n",
    "    i +=1\n",
    "\n",
    "\n",
    "\n",
    "tpr_mean = np.mean(tprs,axis = 0)\n",
    "\n",
    "tpr_mean[0] = 0\n",
    "tpr_mean[-1] = 1\n",
    "\n",
    "\n",
    "auc_mean = auc(fpr_mean,tpr_mean)\n",
    "\n",
    "auc_std = np.std(aucs)\n",
    "\n",
    "plt.plot(fpr_mean,tpr_mean,label = 'mean auc %0.4f$\\pm$%0.2f'%(auc_mean,auc_std),color = 'green')\n",
    "\n",
    "plt.legend()   "
   ]
  }
 ],
 "metadata": {
  "kernelspec": {
   "display_name": "Python 3",
   "language": "python",
   "name": "python3"
  },
  "language_info": {
   "codemirror_mode": {
    "name": "ipython",
    "version": 3
   },
   "file_extension": ".py",
   "mimetype": "text/x-python",
   "name": "python",
   "nbconvert_exporter": "python",
   "pygments_lexer": "ipython3",
   "version": "3.7.1"
  }
 },
 "nbformat": 4,
 "nbformat_minor": 2
}

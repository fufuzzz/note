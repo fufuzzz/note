{
 "cells": [
  {
   "cell_type": "code",
   "execution_count": 2,
   "id": "b34c5d8f",
   "metadata": {},
   "outputs": [],
   "source": [
    "import pandas as pd\n",
    "import numpy as np\n",
    "import matplotlib.pyplot as plt"
   ]
  },
  {
   "cell_type": "code",
   "execution_count": 3,
   "id": "6bbbe7a6",
   "metadata": {},
   "outputs": [],
   "source": [
    "# 什么是交叉验证\n",
    "from sklearn.datasets import load_iris\n",
    "from sklearn.neighbors import KNeighborsClassifier"
   ]
  },
  {
   "cell_type": "code",
   "execution_count": 4,
   "id": "cf54ad8a",
   "metadata": {},
   "outputs": [],
   "source": [
    "iris = load_iris()\n",
    "data = iris.data\n",
    "target = iris.target"
   ]
  },
  {
   "cell_type": "code",
   "execution_count": 5,
   "id": "644a0128",
   "metadata": {},
   "outputs": [],
   "source": [
    "from sklearn.model_selection import train_test_split"
   ]
  },
  {
   "cell_type": "code",
   "execution_count": 6,
   "id": "a9375d43",
   "metadata": {},
   "outputs": [],
   "source": [
    "X_train, X_test, y_train, y_test = train_test_split(data, target, test_size=0.2)"
   ]
  },
  {
   "cell_type": "code",
   "execution_count": 7,
   "id": "64ee5e33",
   "metadata": {},
   "outputs": [
    {
     "data": {
      "text/plain": [
       "1.0"
      ]
     },
     "execution_count": 7,
     "metadata": {},
     "output_type": "execute_result"
    }
   ],
   "source": [
    "knn = KNeighborsClassifier()\n",
    "knn.fit(X_train, y_train)\n",
    "knn.score(X_test, y_test)"
   ]
  },
  {
   "cell_type": "code",
   "execution_count": 8,
   "id": "86c33268",
   "metadata": {},
   "outputs": [],
   "source": [
    "# 因为数据切割产生的影响, 造成模型评估不能客观的反应模型的性能\n",
    "# 如何才能消除因为数据切割对算法性能产生的影响"
   ]
  },
  {
   "cell_type": "code",
   "execution_count": 9,
   "id": "17f7e11f",
   "metadata": {},
   "outputs": [],
   "source": [
    "from sklearn.model_selection import KFold, StratifiedKFold"
   ]
  },
  {
   "cell_type": "code",
   "execution_count": 10,
   "id": "6791bf84",
   "metadata": {},
   "outputs": [],
   "source": [
    "# KFold 普通的交叉验证, 通过把数据分成k折\n",
    "kfold = KFold(n_splits=5, shuffle=True)"
   ]
  },
  {
   "cell_type": "code",
   "execution_count": 29,
   "id": "cef1d34d",
   "metadata": {},
   "outputs": [
    {
     "name": "stdout",
     "output_type": "stream",
     "text": [
      "0.9666666666666667\n",
      "0.9666666666666667\n",
      "0.9666666666666667\n",
      "0.9666666666666667\n",
      "0.9333333333333333\n",
      "0.96\n"
     ]
    }
   ],
   "source": [
    "# 返回训练数据和测试数据的索引\n",
    "scores = []\n",
    "for train, test in kfold.split(data, target):\n",
    "#     print(train)\n",
    "#     print(test)\n",
    "#     print('----------------------------')\n",
    "    # 取数据\n",
    "    X_train = data[train]\n",
    "    y_train = target[train]\n",
    "    X_test = data[test]\n",
    "    y_test = target[test]\n",
    "    \n",
    "    knn = KNeighborsClassifier()\n",
    "    knn.fit(X_train, y_train)\n",
    "    score = knn.score(X_test, y_test)\n",
    "    print(score)\n",
    "    scores.append(score)\n",
    "print(np.array(scores).mean())"
   ]
  },
  {
   "cell_type": "code",
   "execution_count": 11,
   "id": "66933143",
   "metadata": {},
   "outputs": [],
   "source": [
    "skf = StratifiedKFold(n_splits=5, shuffle=True)"
   ]
  },
  {
   "cell_type": "code",
   "execution_count": 12,
   "id": "9eb3e3be",
   "metadata": {},
   "outputs": [
    {
     "name": "stdout",
     "output_type": "stream",
     "text": [
      "0.9333333333333333\n",
      "0.9666666666666667\n",
      "0.9666666666666667\n",
      "1.0\n",
      "0.9666666666666667\n",
      "0.9666666666666666\n"
     ]
    }
   ],
   "source": [
    "# 返回训练数据和测试数据的索引\n",
    "scores = []\n",
    "for train, test in skf.split(data, target):\n",
    "#     print(train)\n",
    "#     print(test)\n",
    "#     print('----------------------------')\n",
    "    # 取数据\n",
    "    X_train = data[train]\n",
    "    y_train = target[train]\n",
    "    X_test = data[test]\n",
    "    y_test = target[test]\n",
    "    \n",
    "    knn = KNeighborsClassifier()\n",
    "    knn.fit(X_train, y_train)\n",
    "    score = knn.score(X_test, y_test)\n",
    "    scores.append(score)\n",
    "    print(score)\n",
    "print(np.array(scores).mean())"
   ]
  },
  {
   "cell_type": "code",
   "execution_count": 34,
   "id": "53c2c6e0",
   "metadata": {},
   "outputs": [
    {
     "name": "stdout",
     "output_type": "stream",
     "text": [
      "2 1 0.9266666666666667\n",
      "2 2 0.9333333333333333\n",
      "3 1 0.9533333333333334\n",
      "3 2 0.9733333333333334\n",
      "4 1 0.9400000000000001\n",
      "4 2 0.96\n",
      "5 1 0.9666666666666668\n",
      "5 2 0.9533333333333334\n",
      "6 1 0.9533333333333334\n",
      "6 2 0.9666666666666666\n",
      "7 1 0.9466666666666667\n",
      "7 2 0.9800000000000001\n",
      "8 1 0.9600000000000002\n",
      "8 2 0.9666666666666666\n",
      "9 1 0.96\n",
      "9 2 0.9666666666666666\n",
      "10 1 0.9533333333333334\n",
      "10 2 0.96\n",
      "11 1 0.9466666666666667\n",
      "11 2 0.9800000000000001\n",
      "12 1 0.9533333333333334\n",
      "12 2 0.9733333333333334\n",
      "13 1 0.9400000000000001\n",
      "13 2 0.9733333333333334\n",
      "14 1 0.96\n",
      "14 2 0.9666666666666668\n",
      "15 1 0.9533333333333334\n",
      "15 2 0.9733333333333334\n",
      "16 1 0.9533333333333334\n",
      "16 2 0.9466666666666667\n",
      "17 1 0.9533333333333334\n",
      "17 2 0.9666666666666668\n",
      "18 1 0.9533333333333334\n",
      "18 2 0.9666666666666666\n",
      "19 1 0.96\n",
      "19 2 0.96\n"
     ]
    }
   ],
   "source": [
    "# 调整k值和p以求达到一个更好的效果\n",
    "# 需要计算每一次参数算法表现\n",
    "for k in range(2, 20):\n",
    "    for p in range(1, 3):\n",
    "        scores = []\n",
    "        for train, test in kfold.split(data, target):\n",
    "        #     print(train)\n",
    "        #     print(test)\n",
    "        #     print('----------------------------')\n",
    "            # 取数据\n",
    "            X_train = data[train]\n",
    "            y_train = target[train]\n",
    "            X_test = data[test]\n",
    "            y_test = target[test]\n",
    "\n",
    "            knn = KNeighborsClassifier(k, p=p)\n",
    "            knn.fit(X_train, y_train)\n",
    "            score = knn.score(X_test, y_test)\n",
    "            scores.append(score)\n",
    "#             print(score)\n",
    "        print(k, p, np.array(scores).mean())"
   ]
  },
  {
   "cell_type": "code",
   "execution_count": 35,
   "id": "0394c89a",
   "metadata": {},
   "outputs": [],
   "source": [
    "from sklearn.model_selection import GridSearchCV  # 网格搜索 CV : cross validation"
   ]
  },
  {
   "cell_type": "code",
   "execution_count": 37,
   "id": "31655dd4",
   "metadata": {},
   "outputs": [],
   "source": [
    "knn = KNeighborsClassifier()\n",
    "# 字典的key必须和算法中的参数一模一样\n",
    "param_grid = {\n",
    "    'n_neighbors': range(2, 20),\n",
    "    'p': [1, 2]\n",
    "}\n",
    "gv = GridSearchCV(estimator=knn, param_grid=param_grid, n_jobs=-1, cv=5, verbose=2)"
   ]
  },
  {
   "cell_type": "code",
   "execution_count": 38,
   "id": "71654b62",
   "metadata": {},
   "outputs": [
    {
     "name": "stdout",
     "output_type": "stream",
     "text": [
      "Fitting 5 folds for each of 36 candidates, totalling 180 fits\n"
     ]
    },
    {
     "data": {
      "text/plain": [
       "GridSearchCV(cv=5, estimator=KNeighborsClassifier(), n_jobs=-1,\n",
       "             param_grid={'n_neighbors': range(2, 20), 'p': [1, 2]}, verbose=2)"
      ]
     },
     "execution_count": 38,
     "metadata": {},
     "output_type": "execute_result"
    }
   ],
   "source": [
    "gv.fit(data, target)"
   ]
  },
  {
   "cell_type": "code",
   "execution_count": 39,
   "id": "9fa312d4",
   "metadata": {},
   "outputs": [
    {
     "data": {
      "text/plain": [
       "{'n_neighbors': 6, 'p': 2}"
      ]
     },
     "execution_count": 39,
     "metadata": {},
     "output_type": "execute_result"
    }
   ],
   "source": [
    "# 最佳参数\n",
    "gv.best_params_"
   ]
  },
  {
   "cell_type": "code",
   "execution_count": 40,
   "id": "c9e62a34",
   "metadata": {},
   "outputs": [
    {
     "data": {
      "text/plain": [
       "0.9800000000000001"
      ]
     },
     "execution_count": 40,
     "metadata": {},
     "output_type": "execute_result"
    }
   ],
   "source": [
    "# 最佳得分\n",
    "gv.best_score_"
   ]
  },
  {
   "cell_type": "code",
   "execution_count": 43,
   "id": "e3c46558",
   "metadata": {},
   "outputs": [
    {
     "data": {
      "text/plain": [
       "KNeighborsClassifier(n_neighbors=6)"
      ]
     },
     "execution_count": 43,
     "metadata": {},
     "output_type": "execute_result"
    }
   ],
   "source": [
    "# 使用最佳参数训练出来的模型\n",
    "gv.best_estimator_"
   ]
  },
  {
   "cell_type": "code",
   "execution_count": 44,
   "id": "babf34f3",
   "metadata": {},
   "outputs": [
    {
     "data": {
      "text/plain": [
       "0.9733333333333334"
      ]
     },
     "execution_count": 44,
     "metadata": {},
     "output_type": "execute_result"
    }
   ],
   "source": [
    "# 或者之家使用gv, gv就相当于是最佳参数训练出来的模型的代理对象\n",
    "gv.score(data, target)"
   ]
  },
  {
   "cell_type": "code",
   "execution_count": null,
   "id": "e1e72849",
   "metadata": {},
   "outputs": [],
   "source": []
  }
 ],
 "metadata": {
  "kernelspec": {
   "display_name": "Python 3",
   "language": "python",
   "name": "python3"
  },
  "language_info": {
   "codemirror_mode": {
    "name": "ipython",
    "version": 3
   },
   "file_extension": ".py",
   "mimetype": "text/x-python",
   "name": "python",
   "nbconvert_exporter": "python",
   "pygments_lexer": "ipython3",
   "version": "3.7.1"
  }
 },
 "nbformat": 4,
 "nbformat_minor": 5
}

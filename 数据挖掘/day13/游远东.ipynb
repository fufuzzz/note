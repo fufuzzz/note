{
 "cells": [
  {
   "cell_type": "markdown",
   "id": "e25c050e",
   "metadata": {},
   "source": [
    "## 对email进行二分类，两种邮件分别在ham和spam目录下"
   ]
  },
  {
   "cell_type": "code",
   "execution_count": 1,
   "id": "415715e8",
   "metadata": {},
   "outputs": [],
   "source": [
    "import numpy as np\n",
    "import pandas as pd\n",
    "import matplotlib.pyplot as plt"
   ]
  },
  {
   "cell_type": "code",
   "execution_count": 2,
   "id": "ec15f5cf",
   "metadata": {},
   "outputs": [],
   "source": [
    "from pandas import DataFrame"
   ]
  },
  {
   "cell_type": "code",
   "execution_count": 3,
   "id": "6d85e7b6",
   "metadata": {},
   "outputs": [],
   "source": [
    "import os"
   ]
  },
  {
   "cell_type": "code",
   "execution_count": 4,
   "id": "792dffe0",
   "metadata": {},
   "outputs": [],
   "source": [
    "df = DataFrame(columns=['分类', '信息'])"
   ]
  },
  {
   "cell_type": "code",
   "execution_count": 5,
   "id": "b536afec",
   "metadata": {},
   "outputs": [],
   "source": [
    "data = DataFrame()\n",
    "list1 = []\n",
    "list2 = []\n",
    "for x1, x2, x3 in os.walk('../day12/data/email/ham'):\n",
    "    for file_name in x3:\n",
    "        file_name = '../day12/data/email/ham/' + file_name\n",
    "        with open(file_name, 'r', encoding='gbk', errors='ignore') as f:\n",
    "            list1.append(f.read().replace('\\n', ''))\n",
    "            list2.append('ham')\n",
    "\n",
    "for x1, x2, x3 in os.walk('../day12/data/email/spam'):\n",
    "    for file_name in x3:\n",
    "        file_name = '../day12/data/email/spam/' + file_name\n",
    "        with open(file_name, 'r', encoding='gbk', errors='ignore') as f:\n",
    "            list1.append(f.read().replace('\\n', ''))\n",
    "            list2.append('spam')\n",
    "\n",
    "\n",
    "df.iloc[:, 0] = list2\n",
    "df.iloc[:, 1] = list1"
   ]
  },
  {
   "cell_type": "code",
   "execution_count": 6,
   "id": "d41c6019",
   "metadata": {
    "scrolled": true
   },
   "outputs": [
    {
     "data": {
      "text/html": [
       "<div>\n",
       "<style scoped>\n",
       "    .dataframe tbody tr th:only-of-type {\n",
       "        vertical-align: middle;\n",
       "    }\n",
       "\n",
       "    .dataframe tbody tr th {\n",
       "        vertical-align: top;\n",
       "    }\n",
       "\n",
       "    .dataframe thead th {\n",
       "        text-align: right;\n",
       "    }\n",
       "</style>\n",
       "<table border=\"1\" class=\"dataframe\">\n",
       "  <thead>\n",
       "    <tr style=\"text-align: right;\">\n",
       "      <th></th>\n",
       "      <th>分类</th>\n",
       "      <th>信息</th>\n",
       "    </tr>\n",
       "  </thead>\n",
       "  <tbody>\n",
       "    <tr>\n",
       "      <th>0</th>\n",
       "      <td>ham</td>\n",
       "      <td>Hi Peter,With Jose out of town, do you want to...</td>\n",
       "    </tr>\n",
       "    <tr>\n",
       "      <th>1</th>\n",
       "      <td>ham</td>\n",
       "      <td>Ryan Whybrew commented on your status.Ryan wro...</td>\n",
       "    </tr>\n",
       "    <tr>\n",
       "      <th>2</th>\n",
       "      <td>ham</td>\n",
       "      <td>Arvind Thirumalai commented on your status.Arv...</td>\n",
       "    </tr>\n",
       "    <tr>\n",
       "      <th>3</th>\n",
       "      <td>ham</td>\n",
       "      <td>Thanks Peter.I'll definitely check in on this....</td>\n",
       "    </tr>\n",
       "    <tr>\n",
       "      <th>4</th>\n",
       "      <td>ham</td>\n",
       "      <td>Jay Stepp commented on your status.Jay wrote:\"...</td>\n",
       "    </tr>\n",
       "    <tr>\n",
       "      <th>5</th>\n",
       "      <td>ham</td>\n",
       "      <td>LinkedInKerry Haloney requested to add you as ...</td>\n",
       "    </tr>\n",
       "    <tr>\n",
       "      <th>6</th>\n",
       "      <td>ham</td>\n",
       "      <td>Hi Peter, The hotels are the ones that rent ou...</td>\n",
       "    </tr>\n",
       "    <tr>\n",
       "      <th>7</th>\n",
       "      <td>ham</td>\n",
       "      <td>yeah I am ready.  I may not be here because Ja...</td>\n",
       "    </tr>\n",
       "    <tr>\n",
       "      <th>8</th>\n",
       "      <td>ham</td>\n",
       "      <td>Benoit Mandelbrot 1924-2010Benoit Mandelbrot 1...</td>\n",
       "    </tr>\n",
       "    <tr>\n",
       "      <th>9</th>\n",
       "      <td>ham</td>\n",
       "      <td>Hi Peter,    Sure thing.  Sounds good.  Let me...</td>\n",
       "    </tr>\n",
       "    <tr>\n",
       "      <th>10</th>\n",
       "      <td>ham</td>\n",
       "      <td>LinkedInJulius O requested to add you as a con...</td>\n",
       "    </tr>\n",
       "    <tr>\n",
       "      <th>11</th>\n",
       "      <td>ham</td>\n",
       "      <td>Yay to you both doing fine!I'm working on an M...</td>\n",
       "    </tr>\n",
       "    <tr>\n",
       "      <th>12</th>\n",
       "      <td>ham</td>\n",
       "      <td>I've thought about this and think it's possibl...</td>\n",
       "    </tr>\n",
       "    <tr>\n",
       "      <th>13</th>\n",
       "      <td>ham</td>\n",
       "      <td>we saw this on the way to the coast...thought ...</td>\n",
       "    </tr>\n",
       "    <tr>\n",
       "      <th>14</th>\n",
       "      <td>ham</td>\n",
       "      <td>Hi Hommies,Just got a phone call from the roof...</td>\n",
       "    </tr>\n",
       "    <tr>\n",
       "      <th>15</th>\n",
       "      <td>ham</td>\n",
       "      <td>SciFinance now automatically generates GPU-ena...</td>\n",
       "    </tr>\n",
       "    <tr>\n",
       "      <th>16</th>\n",
       "      <td>ham</td>\n",
       "      <td>Ok I will be there by 10:00 at the latest.</td>\n",
       "    </tr>\n",
       "    <tr>\n",
       "      <th>17</th>\n",
       "      <td>ham</td>\n",
       "      <td>That is cold.  Is there going to be a retireme...</td>\n",
       "    </tr>\n",
       "    <tr>\n",
       "      <th>18</th>\n",
       "      <td>ham</td>\n",
       "      <td>WHat is going on there?I talked to John on ema...</td>\n",
       "    </tr>\n",
       "    <tr>\n",
       "      <th>19</th>\n",
       "      <td>ham</td>\n",
       "      <td>Yo.  I've been working on my running website. ...</td>\n",
       "    </tr>\n",
       "    <tr>\n",
       "      <th>20</th>\n",
       "      <td>ham</td>\n",
       "      <td>There was a guy at the gas station who told me...</td>\n",
       "    </tr>\n",
       "    <tr>\n",
       "      <th>21</th>\n",
       "      <td>ham</td>\n",
       "      <td>Hello,Since you are an owner of at least one G...</td>\n",
       "    </tr>\n",
       "    <tr>\n",
       "      <th>22</th>\n",
       "      <td>ham</td>\n",
       "      <td>Zach Hamm commented on your status.Zach wrote:...</td>\n",
       "    </tr>\n",
       "    <tr>\n",
       "      <th>23</th>\n",
       "      <td>ham</td>\n",
       "      <td>This e-mail was sent from a notification-only ...</td>\n",
       "    </tr>\n",
       "    <tr>\n",
       "      <th>24</th>\n",
       "      <td>ham</td>\n",
       "      <td>Hi Peter,These are the only good scenic ones a...</td>\n",
       "    </tr>\n",
       "    <tr>\n",
       "      <th>25</th>\n",
       "      <td>spam</td>\n",
       "      <td>--- Codeine 15mg -- 30 for $203.70 -- VISA Onl...</td>\n",
       "    </tr>\n",
       "    <tr>\n",
       "      <th>26</th>\n",
       "      <td>spam</td>\n",
       "      <td>OrderCializViagra Online &amp; Save 75-90%0nline P...</td>\n",
       "    </tr>\n",
       "    <tr>\n",
       "      <th>27</th>\n",
       "      <td>spam</td>\n",
       "      <td>You Have Everything To Gain!Incredib1e gains i...</td>\n",
       "    </tr>\n",
       "    <tr>\n",
       "      <th>28</th>\n",
       "      <td>spam</td>\n",
       "      <td>Buy Ambiem (Zolpidem) 5mg/10mg @ $2.39/- pill3...</td>\n",
       "    </tr>\n",
       "    <tr>\n",
       "      <th>29</th>\n",
       "      <td>spam</td>\n",
       "      <td>OrderCializViagra Online &amp; Save 75-90%0nline P...</td>\n",
       "    </tr>\n",
       "    <tr>\n",
       "      <th>30</th>\n",
       "      <td>spam</td>\n",
       "      <td>BuyVIAGRA 25mg, 50mg, 100mg,BrandViagra, Femal...</td>\n",
       "    </tr>\n",
       "    <tr>\n",
       "      <th>31</th>\n",
       "      <td>spam</td>\n",
       "      <td>You Have Everything To Gain!Incredib1e gains i...</td>\n",
       "    </tr>\n",
       "    <tr>\n",
       "      <th>32</th>\n",
       "      <td>spam</td>\n",
       "      <td>You Have Everything To Gain!Incredib1e gains i...</td>\n",
       "    </tr>\n",
       "    <tr>\n",
       "      <th>33</th>\n",
       "      <td>spam</td>\n",
       "      <td>A home based business opportunity is knocking ...</td>\n",
       "    </tr>\n",
       "    <tr>\n",
       "      <th>34</th>\n",
       "      <td>spam</td>\n",
       "      <td>Codeine (the most competitive price on NET!)Co...</td>\n",
       "    </tr>\n",
       "    <tr>\n",
       "      <th>35</th>\n",
       "      <td>spam</td>\n",
       "      <td>Get Up to 75% OFF at Online WatchesStoreDiscou...</td>\n",
       "    </tr>\n",
       "    <tr>\n",
       "      <th>36</th>\n",
       "      <td>spam</td>\n",
       "      <td>Hydrocodone/Vicodin ES/Brand WatsonVicodin ES ...</td>\n",
       "    </tr>\n",
       "    <tr>\n",
       "      <th>37</th>\n",
       "      <td>spam</td>\n",
       "      <td>Get Up to 75% OFF at Online WatchesStoreDiscou...</td>\n",
       "    </tr>\n",
       "    <tr>\n",
       "      <th>38</th>\n",
       "      <td>spam</td>\n",
       "      <td>Percocet 10/625 mg withoutPrescription 30 tabs...</td>\n",
       "    </tr>\n",
       "    <tr>\n",
       "      <th>39</th>\n",
       "      <td>spam</td>\n",
       "      <td>Get Up to 75% OFF at Online WatchesStoreDiscou...</td>\n",
       "    </tr>\n",
       "    <tr>\n",
       "      <th>40</th>\n",
       "      <td>spam</td>\n",
       "      <td>You Have Everything To Gain!Incredib1e gains i...</td>\n",
       "    </tr>\n",
       "    <tr>\n",
       "      <th>41</th>\n",
       "      <td>spam</td>\n",
       "      <td>You Have Everything To Gain!Incredib1e gains i...</td>\n",
       "    </tr>\n",
       "    <tr>\n",
       "      <th>42</th>\n",
       "      <td>spam</td>\n",
       "      <td>Experience with BiggerPenis Today! Grow 3-inch...</td>\n",
       "    </tr>\n",
       "    <tr>\n",
       "      <th>43</th>\n",
       "      <td>spam</td>\n",
       "      <td>You Have Everything To Gain!Incredib1e gains i...</td>\n",
       "    </tr>\n",
       "    <tr>\n",
       "      <th>44</th>\n",
       "      <td>spam</td>\n",
       "      <td>Percocet 10/625 mg withoutPrescription 30 tabs...</td>\n",
       "    </tr>\n",
       "    <tr>\n",
       "      <th>45</th>\n",
       "      <td>spam</td>\n",
       "      <td>--- Codeine 15mg -- 30 for $203.70 -- VISA Onl...</td>\n",
       "    </tr>\n",
       "    <tr>\n",
       "      <th>46</th>\n",
       "      <td>spam</td>\n",
       "      <td>OEM Adobe &amp; Microsoft softwaresFast order and ...</td>\n",
       "    </tr>\n",
       "    <tr>\n",
       "      <th>47</th>\n",
       "      <td>spam</td>\n",
       "      <td>Bargains Here! Buy Phentermin 37.5 mg (K-25)Bu...</td>\n",
       "    </tr>\n",
       "    <tr>\n",
       "      <th>48</th>\n",
       "      <td>spam</td>\n",
       "      <td>You Have Everything To Gain!Incredib1e gains i...</td>\n",
       "    </tr>\n",
       "    <tr>\n",
       "      <th>49</th>\n",
       "      <td>spam</td>\n",
       "      <td>Bargains Here! Buy Phentermin 37.5 mg (K-25)Bu...</td>\n",
       "    </tr>\n",
       "  </tbody>\n",
       "</table>\n",
       "</div>"
      ],
      "text/plain": [
       "      分类                                                 信息\n",
       "0    ham  Hi Peter,With Jose out of town, do you want to...\n",
       "1    ham  Ryan Whybrew commented on your status.Ryan wro...\n",
       "2    ham  Arvind Thirumalai commented on your status.Arv...\n",
       "3    ham  Thanks Peter.I'll definitely check in on this....\n",
       "4    ham  Jay Stepp commented on your status.Jay wrote:\"...\n",
       "5    ham  LinkedInKerry Haloney requested to add you as ...\n",
       "6    ham  Hi Peter, The hotels are the ones that rent ou...\n",
       "7    ham  yeah I am ready.  I may not be here because Ja...\n",
       "8    ham  Benoit Mandelbrot 1924-2010Benoit Mandelbrot 1...\n",
       "9    ham  Hi Peter,    Sure thing.  Sounds good.  Let me...\n",
       "10   ham  LinkedInJulius O requested to add you as a con...\n",
       "11   ham  Yay to you both doing fine!I'm working on an M...\n",
       "12   ham  I've thought about this and think it's possibl...\n",
       "13   ham  we saw this on the way to the coast...thought ...\n",
       "14   ham  Hi Hommies,Just got a phone call from the roof...\n",
       "15   ham  SciFinance now automatically generates GPU-ena...\n",
       "16   ham         Ok I will be there by 10:00 at the latest.\n",
       "17   ham  That is cold.  Is there going to be a retireme...\n",
       "18   ham  WHat is going on there?I talked to John on ema...\n",
       "19   ham  Yo.  I've been working on my running website. ...\n",
       "20   ham  There was a guy at the gas station who told me...\n",
       "21   ham  Hello,Since you are an owner of at least one G...\n",
       "22   ham  Zach Hamm commented on your status.Zach wrote:...\n",
       "23   ham  This e-mail was sent from a notification-only ...\n",
       "24   ham  Hi Peter,These are the only good scenic ones a...\n",
       "25  spam  --- Codeine 15mg -- 30 for $203.70 -- VISA Onl...\n",
       "26  spam  OrderCializViagra Online & Save 75-90%0nline P...\n",
       "27  spam  You Have Everything To Gain!Incredib1e gains i...\n",
       "28  spam  Buy Ambiem (Zolpidem) 5mg/10mg @ $2.39/- pill3...\n",
       "29  spam  OrderCializViagra Online & Save 75-90%0nline P...\n",
       "30  spam  BuyVIAGRA 25mg, 50mg, 100mg,BrandViagra, Femal...\n",
       "31  spam  You Have Everything To Gain!Incredib1e gains i...\n",
       "32  spam  You Have Everything To Gain!Incredib1e gains i...\n",
       "33  spam  A home based business opportunity is knocking ...\n",
       "34  spam  Codeine (the most competitive price on NET!)Co...\n",
       "35  spam  Get Up to 75% OFF at Online WatchesStoreDiscou...\n",
       "36  spam  Hydrocodone/Vicodin ES/Brand WatsonVicodin ES ...\n",
       "37  spam  Get Up to 75% OFF at Online WatchesStoreDiscou...\n",
       "38  spam  Percocet 10/625 mg withoutPrescription 30 tabs...\n",
       "39  spam  Get Up to 75% OFF at Online WatchesStoreDiscou...\n",
       "40  spam  You Have Everything To Gain!Incredib1e gains i...\n",
       "41  spam  You Have Everything To Gain!Incredib1e gains i...\n",
       "42  spam  Experience with BiggerPenis Today! Grow 3-inch...\n",
       "43  spam  You Have Everything To Gain!Incredib1e gains i...\n",
       "44  spam  Percocet 10/625 mg withoutPrescription 30 tabs...\n",
       "45  spam  --- Codeine 15mg -- 30 for $203.70 -- VISA Onl...\n",
       "46  spam  OEM Adobe & Microsoft softwaresFast order and ...\n",
       "47  spam  Bargains Here! Buy Phentermin 37.5 mg (K-25)Bu...\n",
       "48  spam  You Have Everything To Gain!Incredib1e gains i...\n",
       "49  spam  Bargains Here! Buy Phentermin 37.5 mg (K-25)Bu..."
      ]
     },
     "execution_count": 6,
     "metadata": {},
     "output_type": "execute_result"
    }
   ],
   "source": [
    "df"
   ]
  },
  {
   "cell_type": "code",
   "execution_count": 7,
   "id": "51b3d6eb",
   "metadata": {},
   "outputs": [],
   "source": [
    "data = df[['信息']].values.copy()"
   ]
  },
  {
   "cell_type": "code",
   "execution_count": 25,
   "id": "ada3f99c",
   "metadata": {},
   "outputs": [
    {
     "data": {
      "text/plain": [
       "(50, 1)"
      ]
     },
     "execution_count": 25,
     "metadata": {},
     "output_type": "execute_result"
    }
   ],
   "source": [
    "data.shape"
   ]
  },
  {
   "cell_type": "code",
   "execution_count": 8,
   "id": "428fb90b",
   "metadata": {},
   "outputs": [],
   "source": [
    "target = df[['分类']].values.copy()"
   ]
  },
  {
   "cell_type": "code",
   "execution_count": 27,
   "id": "dd07ddec",
   "metadata": {
    "scrolled": true
   },
   "outputs": [
    {
     "data": {
      "text/plain": [
       "(50, 1)"
      ]
     },
     "execution_count": 27,
     "metadata": {},
     "output_type": "execute_result"
    }
   ],
   "source": [
    "target.shape"
   ]
  },
  {
   "cell_type": "code",
   "execution_count": 9,
   "id": "0c8c8773",
   "metadata": {},
   "outputs": [],
   "source": [
    "from sklearn.feature_extraction.text import TfidfVectorizer"
   ]
  },
  {
   "cell_type": "code",
   "execution_count": 10,
   "id": "9538f4ad",
   "metadata": {},
   "outputs": [],
   "source": [
    "from sklearn.feature_extraction.text import CountVectorizer"
   ]
  },
  {
   "cell_type": "code",
   "execution_count": 11,
   "id": "ab7f4758",
   "metadata": {},
   "outputs": [],
   "source": [
    "tifdf = TfidfVectorizer()\n",
    "data_tifdf = tifdf.fit_transform(data.ravel()).toarray()"
   ]
  },
  {
   "cell_type": "code",
   "execution_count": 12,
   "id": "c623a8a6",
   "metadata": {},
   "outputs": [
    {
     "data": {
      "text/plain": [
       "array([[0.        , 0.        , 0.        , ..., 0.        , 0.        ,\n",
       "        0.        ],\n",
       "       [0.        , 0.        , 0.        , ..., 0.        , 0.        ,\n",
       "        0.        ],\n",
       "       [0.        , 0.        , 0.        , ..., 0.        , 0.        ,\n",
       "        0.        ],\n",
       "       ...,\n",
       "       [0.17413815, 0.        , 0.20091234, ..., 0.        , 0.        ,\n",
       "        0.        ],\n",
       "       [0.        , 0.        , 0.        , ..., 0.        , 0.        ,\n",
       "        0.        ],\n",
       "       [0.17413815, 0.        , 0.20091234, ..., 0.        , 0.        ,\n",
       "        0.        ]])"
      ]
     },
     "execution_count": 12,
     "metadata": {},
     "output_type": "execute_result"
    }
   ],
   "source": [
    "data_tifdf"
   ]
  },
  {
   "cell_type": "code",
   "execution_count": 13,
   "id": "598d0727",
   "metadata": {},
   "outputs": [
    {
     "data": {
      "text/plain": [
       "(50, 766)"
      ]
     },
     "execution_count": 13,
     "metadata": {},
     "output_type": "execute_result"
    }
   ],
   "source": [
    "data_tifdf.shape"
   ]
  },
  {
   "cell_type": "code",
   "execution_count": 14,
   "id": "5d1f64c9",
   "metadata": {},
   "outputs": [],
   "source": [
    "from sklearn.model_selection import train_test_split"
   ]
  },
  {
   "cell_type": "code",
   "execution_count": 15,
   "id": "3c6dc74d",
   "metadata": {},
   "outputs": [],
   "source": [
    "X_train, X_test, y_train, y_test = train_test_split(data_tifdf, target, test_size=0.2)"
   ]
  },
  {
   "cell_type": "code",
   "execution_count": 16,
   "id": "5b75f6c2",
   "metadata": {},
   "outputs": [],
   "source": [
    "from sklearn.naive_bayes import BernoulliNB, GaussianNB, MultinomialNB"
   ]
  },
  {
   "cell_type": "code",
   "execution_count": 17,
   "id": "7a58aef4",
   "metadata": {},
   "outputs": [
    {
     "name": "stderr",
     "output_type": "stream",
     "text": [
      "c:\\users\\ause\\desktop\\python2101\\2101\\env\\lib\\site-packages\\sklearn\\utils\\validation.py:63: DataConversionWarning: A column-vector y was passed when a 1d array was expected. Please change the shape of y to (n_samples, ), for example using ravel().\n",
      "  return f(*args, **kwargs)\n"
     ]
    },
    {
     "data": {
      "text/plain": [
       "GaussianNB()"
      ]
     },
     "execution_count": 17,
     "metadata": {},
     "output_type": "execute_result"
    }
   ],
   "source": [
    "ga_nb = GaussianNB()\n",
    "ga_nb.fit(X_train, y_train)"
   ]
  },
  {
   "cell_type": "code",
   "execution_count": 18,
   "id": "237903f1",
   "metadata": {
    "scrolled": true
   },
   "outputs": [
    {
     "name": "stderr",
     "output_type": "stream",
     "text": [
      "c:\\users\\ause\\desktop\\python2101\\2101\\env\\lib\\site-packages\\sklearn\\utils\\validation.py:63: DataConversionWarning: A column-vector y was passed when a 1d array was expected. Please change the shape of y to (n_samples, ), for example using ravel().\n",
      "  return f(*args, **kwargs)\n"
     ]
    },
    {
     "data": {
      "text/plain": [
       "MultinomialNB()"
      ]
     },
     "execution_count": 18,
     "metadata": {},
     "output_type": "execute_result"
    }
   ],
   "source": [
    "mu_nb = MultinomialNB()\n",
    "mu_nb.fit(X_train, y_train)"
   ]
  },
  {
   "cell_type": "code",
   "execution_count": 19,
   "id": "51ab905b",
   "metadata": {},
   "outputs": [
    {
     "name": "stderr",
     "output_type": "stream",
     "text": [
      "c:\\users\\ause\\desktop\\python2101\\2101\\env\\lib\\site-packages\\sklearn\\utils\\validation.py:63: DataConversionWarning: A column-vector y was passed when a 1d array was expected. Please change the shape of y to (n_samples, ), for example using ravel().\n",
      "  return f(*args, **kwargs)\n"
     ]
    },
    {
     "data": {
      "text/plain": [
       "BernoulliNB()"
      ]
     },
     "execution_count": 19,
     "metadata": {},
     "output_type": "execute_result"
    }
   ],
   "source": [
    "be_nb = BernoulliNB()\n",
    "be_nb.fit(X_train, y_train)"
   ]
  },
  {
   "cell_type": "code",
   "execution_count": 20,
   "id": "cb2125f3",
   "metadata": {},
   "outputs": [
    {
     "data": {
      "text/plain": [
       "1.0"
      ]
     },
     "metadata": {},
     "output_type": "display_data"
    },
    {
     "data": {
      "text/plain": [
       "1.0"
      ]
     },
     "metadata": {},
     "output_type": "display_data"
    },
    {
     "data": {
      "text/plain": [
       "1.0"
      ]
     },
     "metadata": {},
     "output_type": "display_data"
    }
   ],
   "source": [
    "display(ga_nb.score(X_train, y_train), mu_nb.score(X_train, y_train), ga_nb.score(X_train, y_train))"
   ]
  },
  {
   "cell_type": "code",
   "execution_count": 21,
   "id": "d2f22945",
   "metadata": {},
   "outputs": [
    {
     "data": {
      "text/plain": [
       "1.0"
      ]
     },
     "metadata": {},
     "output_type": "display_data"
    },
    {
     "data": {
      "text/plain": [
       "1.0"
      ]
     },
     "metadata": {},
     "output_type": "display_data"
    },
    {
     "data": {
      "text/plain": [
       "1.0"
      ]
     },
     "metadata": {},
     "output_type": "display_data"
    }
   ],
   "source": [
    "display(ga_nb.score(X_test, y_test), mu_nb.score(X_test, y_test), ga_nb.score(X_test, y_test))"
   ]
  },
  {
   "cell_type": "code",
   "execution_count": 22,
   "id": "330bc944",
   "metadata": {},
   "outputs": [
    {
     "data": {
      "text/plain": [
       "array(['spam', 'spam', 'spam', 'ham', 'spam', 'spam', 'spam', 'spam',\n",
       "       'ham', 'ham'], dtype='<U4')"
      ]
     },
     "execution_count": 22,
     "metadata": {},
     "output_type": "execute_result"
    }
   ],
   "source": [
    "ga_nb.predict(X_test)"
   ]
  },
  {
   "cell_type": "code",
   "execution_count": 23,
   "id": "e3ea34b9",
   "metadata": {},
   "outputs": [
    {
     "data": {
      "text/plain": [
       "array([['spam'],\n",
       "       ['spam'],\n",
       "       ['spam'],\n",
       "       ['ham'],\n",
       "       ['spam'],\n",
       "       ['spam'],\n",
       "       ['spam'],\n",
       "       ['spam'],\n",
       "       ['ham'],\n",
       "       ['ham']], dtype=object)"
      ]
     },
     "execution_count": 23,
     "metadata": {},
     "output_type": "execute_result"
    }
   ],
   "source": [
    "y_test"
   ]
  },
  {
   "cell_type": "code",
   "execution_count": null,
   "id": "d3b6103a",
   "metadata": {},
   "outputs": [],
   "source": []
  }
 ],
 "metadata": {
  "kernelspec": {
   "display_name": "Python 3",
   "language": "python",
   "name": "python3"
  },
  "language_info": {
   "codemirror_mode": {
    "name": "ipython",
    "version": 3
   },
   "file_extension": ".py",
   "mimetype": "text/x-python",
   "name": "python",
   "nbconvert_exporter": "python",
   "pygments_lexer": "ipython3",
   "version": "3.7.1"
  }
 },
 "nbformat": 4,
 "nbformat_minor": 5
}

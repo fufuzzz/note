{
 "cells": [
  {
   "cell_type": "code",
   "execution_count": 1,
   "id": "da65a06a",
   "metadata": {},
   "outputs": [],
   "source": [
    "import numpy as np\n",
    "import pandas as pd\n",
    "import matplotlib.pyplot as plt"
   ]
  },
  {
   "cell_type": "code",
   "execution_count": 2,
   "id": "09a795a5",
   "metadata": {},
   "outputs": [],
   "source": [
    "from sklearn.datasets import make_blobs"
   ]
  },
  {
   "cell_type": "code",
   "execution_count": 73,
   "id": "a29e7cb1",
   "metadata": {},
   "outputs": [
    {
     "data": {
      "text/plain": [
       "<matplotlib.collections.PathCollection at 0x29e032107b8>"
      ]
     },
     "execution_count": 73,
     "metadata": {},
     "output_type": "execute_result"
    },
    {
     "data": {
      "image/png": "[encoded data removed]",
      "text/plain": [
       "<Figure size 432x288 with 1 Axes>"
      ]
     },
     "metadata": {
      "needs_background": "light"
     },
     "output_type": "display_data"
    }
   ],
   "source": [
    "data, target = make_blobs(centers=2)\n",
    "plt.scatter(data[:, 0], data[:, 1], c=target)"
   ]
  },
  {
   "cell_type": "code",
   "execution_count": 45,
   "id": "40955baf",
   "metadata": {},
   "outputs": [
    {
     "data": {
      "text/plain": [
       "(100, 2)"
      ]
     },
     "execution_count": 45,
     "metadata": {},
     "output_type": "execute_result"
    }
   ],
   "source": [
    "data.shape"
   ]
  },
  {
   "cell_type": "code",
   "execution_count": 74,
   "id": "ef0a8cf7",
   "metadata": {},
   "outputs": [],
   "source": [
    "X = np.hstack((np.ones(shape=(100, 1)), data))"
   ]
  },
  {
   "cell_type": "code",
   "execution_count": 48,
   "id": "dfb02187",
   "metadata": {},
   "outputs": [
    {
     "data": {
      "text/plain": [
       "(100, 3)"
      ]
     },
     "execution_count": 48,
     "metadata": {},
     "output_type": "execute_result"
    }
   ],
   "source": [
    "X.shape"
   ]
  },
  {
   "cell_type": "code",
   "execution_count": 75,
   "id": "ea597d35",
   "metadata": {},
   "outputs": [],
   "source": [
    "# 定义预测值\n",
    "def sigmoid(theta):\n",
    "    z = np.dot(X, theta)\n",
    "    return 1 / (1 + np.exp(-z))"
   ]
  },
  {
   "cell_type": "code",
   "execution_count": 52,
   "id": "86570dd0",
   "metadata": {},
   "outputs": [
    {
     "data": {
      "text/plain": [
       "array([0, 1, 1, 1, 0, 0, 1, 0, 1, 0, 1, 0, 1, 0, 1, 0, 0, 0, 1, 1, 1, 1,\n",
       "       1, 0, 0, 1, 1, 0, 1, 1, 0, 0, 0, 1, 0, 1, 1, 0, 0, 1, 1, 0, 0, 1,\n",
       "       1, 0, 0, 1, 0, 0, 1, 0, 1, 1, 0, 0, 1, 0, 1, 1, 1, 0, 1, 0, 0, 0,\n",
       "       0, 0, 0, 0, 1, 0, 0, 0, 1, 1, 1, 0, 0, 1, 1, 0, 0, 1, 0, 1, 0, 1,\n",
       "       0, 1, 1, 1, 1, 0, 0, 1, 0, 1, 1, 1])"
      ]
     },
     "execution_count": 52,
     "metadata": {},
     "output_type": "execute_result"
    }
   ],
   "source": [
    "target"
   ]
  },
  {
   "cell_type": "code",
   "execution_count": 56,
   "id": "07cc1f49",
   "metadata": {},
   "outputs": [
    {
     "name": "stderr",
     "output_type": "stream",
     "text": [
      "d:\\2101\\.venv\\lib\\site-packages\\ipykernel_launcher.py:1: RuntimeWarning: divide by zero encountered in log\n",
      "  \"\"\"Entry point for launching an IPython kernel.\n"
     ]
    },
    {
     "data": {
      "text/plain": [
       "-inf"
      ]
     },
     "execution_count": 56,
     "metadata": {},
     "output_type": "execute_result"
    }
   ],
   "source": [
    "np.log(0)"
   ]
  },
  {
   "cell_type": "code",
   "execution_count": 76,
   "id": "380acfa1",
   "metadata": {},
   "outputs": [],
   "source": [
    "# 定义损失.\n",
    "def loss(y_true, y_pred):\n",
    "    return -np.sum((y_true * np.log(y_pred) + (1 - y_true) * np.log(1 - y_pred))) / 100"
   ]
  },
  {
   "cell_type": "code",
   "execution_count": 80,
   "id": "db8d3e83",
   "metadata": {
    "scrolled": false
   },
   "outputs": [
    {
     "name": "stdout",
     "output_type": "stream",
     "text": [
      "第100次训练, 准确率: 0.58, 损失: 0.6378359654066281\n",
      "第200次训练, 准确率: 0.66, 损失: 0.6150052048049612\n",
      "第300次训练, 准确率: 0.68, 损失: 0.5997238601576474\n",
      "第400次训练, 准确率: 0.69, 损失: 0.588497413180136\n",
      "第500次训练, 准确率: 0.71, 损失: 0.5795431319107319\n",
      "第600次训练, 准确率: 0.71, 损失: 0.57192118394646\n",
      "第700次训练, 准确率: 0.71, 损失: 0.5651180795036884\n",
      "第800次训练, 准确率: 0.73, 损失: 0.5588439213404677\n",
      "第900次训练, 准确率: 0.73, 损失: 0.5529302874799228\n",
      "第1000次训练, 准确率: 0.74, 损失: 0.5472768422855785\n",
      "第1100次训练, 准确率: 0.75, 损失: 0.5418224341877452\n",
      "第1200次训练, 准确率: 0.76, 损失: 0.536528963596716\n",
      "第1300次训练, 准确率: 0.77, 损失: 0.5313721410871106\n",
      "第1400次训练, 准确率: 0.78, 损失: 0.5263360762362314\n",
      "第1500次训练, 准确率: 0.8, 损失: 0.5214100516606031\n",
      "第1600次训练, 准确率: 0.8, 损失: 0.5165865711043611\n",
      "第1700次训练, 准确率: 0.8, 损失: 0.5118601640664471\n",
      "第1800次训练, 准确率: 0.8, 损失: 0.5072266465491218\n",
      "第1900次训练, 准确率: 0.81, 损失: 0.5026826602738532\n",
      "第2000次训练, 准确率: 0.82, 损失: 0.49822538365645286\n",
      "第2100次训练, 准确率: 0.82, 损失: 0.493852349607082\n",
      "第2200次训练, 准确率: 0.82, 损失: 0.4895613302125838\n",
      "第2300次训练, 准确率: 0.82, 损失: 0.4853502635128769\n",
      "第2400次训练, 准确率: 0.82, 损失: 0.48121720687638536\n",
      "第2500次训练, 准确率: 0.82, 损失: 0.47716030723210884\n",
      "第2600次训练, 准确率: 0.82, 损失: 0.4731777820045131\n",
      "第2700次训练, 准确率: 0.83, 损失: 0.469267906850226\n",
      "第2800次训练, 准确率: 0.83, 损失: 0.46542900771703943\n",
      "第2900次训练, 准确率: 0.85, 损失: 0.4616594556463798\n",
      "第3000次训练, 准确率: 0.85, 损失: 0.45795766331291404\n",
      "第3100次训练, 准确率: 0.85, 损失: 0.45432208265976065\n",
      "第3200次训练, 准确率: 0.85, 损失: 0.4507512032206485\n",
      "第3300次训练, 准确率: 0.85, 损失: 0.44724355086918777\n",
      "第3400次训练, 准确率: 0.85, 损失: 0.4437976868305766\n",
      "第3500次训练, 准确率: 0.85, 损失: 0.44041220685190047\n",
      "第3600次训练, 准确率: 0.85, 损失: 0.43708574046604054\n",
      "第3700次训练, 准确率: 0.85, 损失: 0.43381695030898504\n",
      "第3800次训练, 准确率: 0.85, 损失: 0.4306045314660849\n",
      "第3900次训练, 准确率: 0.85, 损失: 0.42744721083276976\n",
      "第4000次训练, 准确率: 0.85, 损失: 0.4243437464815085\n",
      "第4100次训练, 准确率: 0.85, 损失: 0.42129292703069937\n",
      "第4200次训练, 准确率: 0.85, 损失: 0.41829357101357934\n",
      "第4300次训练, 准确率: 0.85, 损失: 0.4153445262466726\n",
      "第4400次训练, 准确率: 0.85, 损失: 0.4124446691981416\n",
      "第4500次训练, 准确率: 0.87, 损失: 0.40959290435685525\n",
      "第4600次训练, 准确率: 0.87, 损失: 0.40678816360320924\n",
      "第4700次训练, 准确率: 0.87, 损失: 0.4040294055828152\n",
      "第4800次训练, 准确率: 0.88, 损失: 0.40131561508416097\n",
      "第4900次训练, 准确率: 0.88, 损失: 0.3986458024212942\n",
      "第5000次训练, 准确率: 0.88, 损失: 0.3960190028224943\n",
      "第5100次训练, 准确率: 0.88, 损失: 0.3934342758258065\n",
      "第5200次训练, 准确率: 0.88, 损失: 0.3908907046822106\n",
      "第5300次训练, 准确率: 0.88, 损失: 0.38838739576710707\n",
      "第5400次训练, 准确率: 0.88, 损失: 0.38592347800070365\n",
      "第5500次训练, 准确率: 0.88, 损失: 0.38349810227780906\n",
      "第5600次训练, 准确率: 0.89, 损失: 0.38111044090745316\n",
      "第5700次训练, 准确率: 0.9, 损失: 0.37875968706268887\n",
      "第5800次训练, 准确率: 0.91, 损失: 0.3764450542408586\n",
      "第5900次训练, 准确率: 0.91, 损失: 0.3741657757345538\n",
      "第6000次训练, 准确率: 0.91, 损失: 0.37192110411343854\n",
      "第6100次训练, 准确率: 0.91, 损失: 0.3697103107170645\n",
      "第6200次训练, 准确率: 0.91, 损失: 0.36753268515875676\n",
      "第6300次训练, 准确率: 0.91, 损失: 0.3653875348406161\n",
      "第6400次训练, 准确率: 0.91, 损失: 0.3632741844796446\n",
      "第6500次训练, 准确率: 0.92, 损失: 0.36119197564497313\n",
      "第6600次训练, 准确率: 0.92, 损失: 0.3591402663061427\n",
      "第6700次训练, 准确率: 0.92, 损失: 0.35711843039236657\n",
      "第6800次训练, 准确率: 0.92, 损失: 0.3551258573626758\n",
      "第6900次训练, 准确率: 0.92, 损失: 0.3531619517868416\n",
      "第7000次训练, 准确率: 0.92, 损失: 0.35122613293694094\n",
      "第7100次训练, 准确率: 0.92, 损失: 0.34931783438942177\n",
      "第7200次训练, 准确率: 0.92, 损失: 0.34743650363751777\n",
      "第7300次训练, 准确率: 0.92, 损失: 0.3455816017138427\n",
      "第7400次训练, 准确率: 0.92, 损失: 0.3437526028229906\n",
      "第7500次训练, 准确率: 0.93, 损失: 0.34194899398396544\n",
      "第7600次训练, 准确率: 0.93, 损失: 0.3401702746822454\n",
      "第7700次训练, 准确率: 0.93, 损失: 0.33841595653129586\n",
      "第7800次训练, 准确率: 0.93, 损失: 0.33668556294333135\n",
      "第7900次训练, 准确率: 0.93, 损失: 0.3349786288091301\n",
      "第8000次训练, 准确率: 0.93, 损失: 0.33329470018669966\n",
      "第8100次训练, 准确率: 0.93, 损失: 0.33163333399859235\n",
      "第8200次训练, 准确率: 0.93, 损失: 0.3299940977376663\n",
      "第8300次训练, 准确率: 0.93, 损失: 0.3283765691810943\n",
      "第8400次训练, 准确率: 0.93, 损失: 0.3267803361124137\n",
      "第8500次训练, 准确率: 0.93, 损失: 0.32520499605142206\n",
      "第8600次训练, 准确率: 0.93, 损失: 0.32365015599171687\n",
      "第8700次训练, 准确率: 0.93, 损失: 0.32211543214568245\n",
      "第8800次训练, 准确率: 0.93, 损失: 0.3206004496967319\n",
      "第8900次训练, 准确率: 0.93, 损失: 0.31910484255860994\n",
      "第9000次训练, 准确率: 0.93, 损失: 0.31762825314156895\n",
      "第9100次训练, 准确率: 0.93, 损失: 0.3161703321252316\n",
      "第9200次训练, 准确率: 0.93, 损失: 0.31473073823795694\n",
      "第9300次训练, 准确率: 0.93, 损失: 0.31330913804252997\n",
      "第9400次训练, 准确率: 0.93, 损失: 0.3119052057280011\n",
      "第9500次训练, 准确率: 0.93, 损失: 0.3105186229074992\n",
      "第9600次训练, 准确率: 0.93, 损失: 0.30914907842185063\n",
      "第9700次训练, 准确率: 0.93, 损失: 0.30779626814884187\n",
      "第9800次训练, 准确率: 0.93, 损失: 0.3064598948179602\n",
      "第9900次训练, 准确率: 0.93, 损失: 0.30513966783045543\n",
      "第10000次训练, 准确率: 0.93, 损失: 0.30383530308457074\n",
      "第10100次训练, 准确率: 0.93, 损失: 0.3025465228057904\n",
      "第10200次训练, 准确率: 0.93, 损失: 0.3012730553819584\n",
      "第10300次训练, 准确率: 0.93, 损失: 0.30001463520312494\n",
      "第10400次训练, 准确率: 0.93, 损失: 0.2987710025059827\n",
      "第10500次训练, 准确率: 0.93, 损失: 0.29754190322275564\n",
      "第10600次训练, 准确率: 0.93, 损失: 0.2963270888344105\n",
      "第10700次训练, 准确率: 0.93, 损失: 0.29512631622806135\n",
      "第10800次训练, 准确率: 0.93, 损失: 0.2939393475584422\n",
      "第10900次训练, 准确率: 0.93, 损失: 0.2927659501133286\n",
      "第11000次训练, 准确率: 0.93, 损失: 0.2916058961827876\n",
      "第11100次训练, 准确率: 0.93, 损失: 0.2904589629321436\n",
      "第11200次训练, 准确率: 0.93, 损失: 0.28932493227854816\n",
      "第11300次训练, 准确率: 0.93, 损失: 0.2882035907710451\n",
      "第11400次训练, 准确率: 0.94, 损失: 0.2870947294740267\n",
      "第11500次训练, 准确率: 0.94, 损失: 0.2859981438539803\n",
      "第11600次训练, 准确率: 0.94, 损失: 0.2849136336694242\n",
      "第11700次训练, 准确率: 0.94, 损失: 0.2838410028639379\n",
      "第11800次训练, 准确率: 0.95, 损失: 0.2827800594621949\n",
      "第11900次训练, 准确率: 0.95, 损失: 0.28173061546890693\n",
      "第12000次训练, 准确率: 0.95, 损失: 0.2806924867705902\n",
      "第12100次训练, 准确率: 0.95, 损失: 0.2796654930400736\n",
      "第12200次训练, 准确率: 0.95, 损失: 0.2786494576436598\n",
      "第12300次训练, 准确率: 0.95, 损失: 0.2776442075508676\n",
      "第12400次训练, 准确率: 0.95, 损失: 0.2766495732466706\n",
      "第12500次训练, 准确率: 0.95, 损失: 0.27566538864616147\n",
      "第12600次训练, 准确率: 0.95, 损失: 0.27469149101156987\n",
      "第12700次训练, 准确率: 0.95, 损失: 0.2737277208715584\n",
      "第12800次训练, 准确率: 0.95, 损失: 0.2727739219427355\n",
      "第12900次训练, 准确率: 0.95, 损失: 0.27182994105331404\n",
      "第13000次训练, 准确率: 0.95, 损失: 0.27089562806885203\n",
      "第13100次训练, 准确率: 0.95, 损失: 0.26997083582001635\n",
      "第13200次训练, 准确率: 0.95, 损失: 0.26905542003230604\n",
      "第13300次训练, 准确率: 0.95, 损失: 0.26814923925767853\n",
      "第13400次训练, 准确率: 0.95, 损失: 0.267252154808022\n",
      "第13500次训练, 准确率: 0.95, 损失: 0.2663640306904188\n",
      "第13600次训练, 准确率: 0.95, 损失: 0.26548473354414837\n",
      "第13700次训练, 准确率: 0.95, 损失: 0.2646141325793751\n",
      "第13800次训练, 准确率: 0.95, 损失: 0.2637520995174759\n",
      "第13900次训练, 准确率: 0.95, 损失: 0.2628985085329547\n",
      "第14000次训练, 准确率: 0.95, 损失: 0.2620532361969009\n",
      "第14100次训练, 准确率: 0.95, 损失: 0.26121616142194365\n",
      "第14200次训练, 准确率: 0.95, 损失: 0.26038716540866014\n",
      "第14300次训练, 准确率: 0.95, 损失: 0.2595661315933953\n",
      "第14400次训练, 准确率: 0.95, 损失: 0.2587529455974495\n",
      "第14500次训练, 准确率: 0.95, 损失: 0.25794749517759735\n",
      "第14600次训练, 准确率: 0.95, 损失: 0.25714967017789747\n",
      "第14700次训练, 准确率: 0.95, 损失: 0.25635936248275604\n",
      "第14800次训练, 准确率: 0.95, 损失: 0.25557646597120726\n",
      "第14900次训练, 准确率: 0.95, 损失: 0.25480087647237726\n",
      "第15000次训练, 准确率: 0.95, 损失: 0.25403249172209524\n",
      "第15100次训练, 准确率: 0.95, 损失: 0.2532712113206213\n",
      "第15200次训练, 准确率: 0.95, 损失: 0.25251693669145614\n",
      "第15300次训练, 准确率: 0.95, 损失: 0.2517695710412047\n",
      "第15400次训练, 准确率: 0.95, 损失: 0.2510290193204607\n",
      "第15500次训练, 准确率: 0.95, 损失: 0.25029518818568575\n",
      "第15600次训练, 准确率: 0.95, 损失: 0.24956798596205348\n",
      "第15700次训练, 准确率: 0.95, 损失: 0.24884732260723064\n",
      "第15800次训练, 准确率: 0.95, 损失: 0.24813310967606964\n",
      "第15900次训练, 准确率: 0.95, 损失: 0.24742526028618794\n",
      "第16000次训练, 准确率: 0.95, 损失: 0.2467236890844065\n",
      "第16100次训练, 准确率: 0.95, 损失: 0.24602831221402638\n",
      "第16200次训练, 准确率: 0.95, 损失: 0.2453390472829169\n",
      "第16300次训练, 准确率: 0.95, 损失: 0.24465581333239605\n",
      "第16400次训练, 准确率: 0.95, 损失: 0.24397853080687792\n",
      "第16500次训练, 准确率: 0.95, 损失: 0.2433071215242688\n",
      "第16600次训练, 准确率: 0.95, 损失: 0.24264150864708842\n",
      "第16700次训练, 准确率: 0.95, 损失: 0.24198161665429863\n",
      "第16800次训练, 准确率: 0.95, 损失: 0.24132737131381815\n",
      "第16900次训练, 准确率: 0.95, 损失: 0.24067869965570737\n",
      "第17000次训练, 准确率: 0.95, 损失: 0.24003552994600028\n",
      "第17100次训练, 准确率: 0.95, 损失: 0.2393977916611712\n",
      "第17200次训练, 准确率: 0.95, 损失: 0.23876541546321417\n",
      "第17300次训练, 准确率: 0.95, 损失: 0.23813833317532293\n",
      "第17400次训练, 准确率: 0.95, 损失: 0.23751647775814985\n",
      "第17500次训练, 准确率: 0.95, 损失: 0.23689978328663444\n",
      "第17600次训练, 准确率: 0.95, 损失: 0.2362881849273805\n",
      "第17700次训练, 准确率: 0.95, 损失: 0.23568161891657005\n",
      "第17800次训练, 准确率: 0.95, 损失: 0.23508002253840055\n",
      "第17900次训练, 准确率: 0.95, 损失: 0.23448333410402702\n",
      "第18000次训练, 准确率: 0.95, 损失: 0.2338914929310023\n",
      "第18100次训练, 准确率: 0.95, 损失: 0.23330443932319533\n",
      "第18200次训练, 准确率: 0.95, 损失: 0.23272211455117958\n",
      "第18300次训练, 准确率: 0.95, 损失: 0.2321444608330773\n",
      "第18400次训练, 准确率: 0.95, 损失: 0.23157142131584815\n",
      "第18500次训练, 准确率: 0.95, 损失: 0.23100294005700925\n",
      "第18600次训练, 准确率: 0.95, 损失: 0.2304389620067776\n",
      "第18700次训练, 准确率: 0.95, 损失: 0.22987943299062194\n",
      "第18800次训练, 准确率: 0.95, 损失: 0.22932429969221416\n",
      "第18900次训练, 准确率: 0.95, 损失: 0.22877350963676954\n",
      "第19000次训练, 准确率: 0.95, 损失: 0.22822701117476632\n",
      "第19100次训练, 准确率: 0.95, 损失: 0.22768475346603445\n",
      "第19200次训练, 准确率: 0.95, 损失: 0.22714668646420366\n",
      "第19300次训练, 准确率: 0.95, 损失: 0.2266127609015028\n",
      "第19400次训练, 准确率: 0.95, 损失: 0.2260829282738988\n",
      "第19500次训练, 准确率: 0.95, 损失: 0.22555714082657094\n",
      "第19600次训练, 准确率: 0.95, 损失: 0.22503535153970744\n",
      "第19700次训练, 准确率: 0.95, 损失: 0.22451751411461887\n",
      "第19800次训练, 准确率: 0.95, 损失: 0.22400358296016024\n",
      "第19900次训练, 准确率: 0.95, 损失: 0.2234935131794506\n",
      "第20000次训练, 准确率: 0.95, 损失: 0.2229872605568895\n"
     ]
    }
   ],
   "source": [
    "# 梯度下降算法求损失最小的时候的theta\n",
    "# theta初始化\n",
    "theta = np.random.randn(3) * 0.01\n",
    "\n",
    "learning_rate = 0.01\n",
    "\n",
    "max_iter = 20000\n",
    "\n",
    "i = 0\n",
    "\n",
    "while True:\n",
    "    y_proba = sigmoid(theta)\n",
    "\n",
    "    # 更新theta\n",
    "    dtheta = np.dot((y_proba - target), X) / 100\n",
    "    theta = theta - learning_rate * dtheta\n",
    "    \n",
    "    i += 1\n",
    "    if i % 100 == 0:\n",
    "        y_proba = sigmoid(theta)\n",
    "        # 设定阈值, 把概率转化为预测的类别.\n",
    "        # >= 0.5就认为属于正例.\n",
    "        y_pred = (y_proba >= 0.5)\n",
    "        acc = (y_pred == target).mean()\n",
    "        loss_ = loss(target, y_proba)\n",
    "        print(f'第{i}次训练, 准确率: {acc}, 损失: {loss_}')\n",
    "        \n",
    "    if i > max_iter:\n",
    "        break"
   ]
  },
  {
   "cell_type": "code",
   "execution_count": 78,
   "id": "5e2cc306",
   "metadata": {},
   "outputs": [],
   "source": [
    "from sklearn.linear_model import LogisticRegression"
   ]
  },
  {
   "cell_type": "code",
   "execution_count": 79,
   "id": "081d4ecf",
   "metadata": {},
   "outputs": [
    {
     "data": {
      "text/plain": [
       "0.98"
      ]
     },
     "execution_count": 79,
     "metadata": {},
     "output_type": "execute_result"
    }
   ],
   "source": [
    "logistic = LogisticRegression()\n",
    "logistic.fit(data, target).score(data, target)"
   ]
  }
 ],
 "metadata": {
  "kernelspec": {
   "display_name": "Python 3",
   "language": "python",
   "name": "python3"
  },
  "language_info": {
   "codemirror_mode": {
    "name": "ipython",
    "version": 3
   },
   "file_extension": ".py",
   "mimetype": "text/x-python",
   "name": "python",
   "nbconvert_exporter": "python",
   "pygments_lexer": "ipython3",
   "version": "3.7.1"
  }
 },
 "nbformat": 4,
 "nbformat_minor": 5
}

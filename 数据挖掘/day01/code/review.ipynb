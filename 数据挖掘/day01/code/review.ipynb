{
 "cells": [
  {
   "cell_type": "code",
   "execution_count": 1,
   "id": "265e12da",
   "metadata": {},
   "outputs": [],
   "source": [
    "import numpy as np"
   ]
  },
  {
   "cell_type": "code",
   "execution_count": 4,
   "id": "8eb0f5e4",
   "metadata": {},
   "outputs": [
    {
     "data": {
      "text/plain": [
       "array([[0, 1, 0, 0],\n",
       "       [0, 0, 1, 0],\n",
       "       [0, 0, 0, 1]])"
      ]
     },
     "execution_count": 4,
     "metadata": {},
     "output_type": "execute_result"
    }
   ],
   "source": [
    "np.eye(N=3, M=4, k=1, dtype='int')"
   ]
  },
  {
   "cell_type": "code",
   "execution_count": 7,
   "id": "e451e5f6",
   "metadata": {},
   "outputs": [
    {
     "data": {
      "text/plain": [
       "array([[0., 0.],\n",
       "       [0., 0.],\n",
       "       [0., 0.]])"
      ]
     },
     "execution_count": 7,
     "metadata": {},
     "output_type": "execute_result"
    }
   ],
   "source": [
    "np.zeros(shape=(3,2))"
   ]
  },
  {
   "cell_type": "code",
   "execution_count": 8,
   "id": "da19b8b8",
   "metadata": {},
   "outputs": [
    {
     "data": {
      "text/plain": [
       "array([[1., 1.],\n",
       "       [1., 1.],\n",
       "       [1., 1.]])"
      ]
     },
     "execution_count": 8,
     "metadata": {},
     "output_type": "execute_result"
    }
   ],
   "source": [
    "np.ones(shape=(3,2))"
   ]
  },
  {
   "cell_type": "code",
   "execution_count": 10,
   "id": "f72c57b5",
   "metadata": {},
   "outputs": [
    {
     "data": {
      "text/plain": [
       "array([[2, 2],\n",
       "       [2, 2],\n",
       "       [2, 2]])"
      ]
     },
     "execution_count": 10,
     "metadata": {},
     "output_type": "execute_result"
    }
   ],
   "source": [
    "np.full(shape=(3,2), fill_value=2)"
   ]
  },
  {
   "cell_type": "code",
   "execution_count": 21,
   "id": "8ae078d8",
   "metadata": {},
   "outputs": [
    {
     "data": {
      "text/plain": [
       "(array([ 1,  2,  3,  4,  5,  6,  7,  8,  9, 10, 11, 12, 13, 14, 15, 16, 17,\n",
       "        18, 19, 20, 21, 22, 23, 24, 25, 26, 27, 28, 29, 30, 31, 32, 33, 34,\n",
       "        35, 36, 37, 38, 39, 40, 41, 42, 43, 44, 45, 46, 47, 48, 49, 50]), 1.0)"
      ]
     },
     "execution_count": 21,
     "metadata": {},
     "output_type": "execute_result"
    }
   ],
   "source": [
    "np.linspace(1, 50, num=50, endpoint=True, retstep=True, dtype='int')"
   ]
  },
  {
   "cell_type": "code",
   "execution_count": 23,
   "id": "7a9fdf2f",
   "metadata": {},
   "outputs": [
    {
     "data": {
      "text/plain": [
       "array([1, 3])"
      ]
     },
     "execution_count": 23,
     "metadata": {},
     "output_type": "execute_result"
    }
   ],
   "source": [
    "np.arange(1, 5, 2)"
   ]
  },
  {
   "cell_type": "code",
   "execution_count": 25,
   "id": "fa2c745e",
   "metadata": {},
   "outputs": [
    {
     "data": {
      "text/plain": [
       "array([[[ 0.23383405, -1.36559792,  0.53159114],\n",
       "        [-0.39162614, -0.16300401,  1.23556599]]])"
      ]
     },
     "execution_count": 25,
     "metadata": {},
     "output_type": "execute_result"
    }
   ],
   "source": [
    "np.random.randn(1, 2, 3,)"
   ]
  },
  {
   "cell_type": "code",
   "execution_count": 28,
   "id": "bc3366cc",
   "metadata": {},
   "outputs": [
    {
     "data": {
      "text/plain": [
       "array([[[-0.2970168 , -1.72163308, -0.52929853],\n",
       "        [-1.33907156, -0.2221307 , -2.43592224]]])"
      ]
     },
     "execution_count": 28,
     "metadata": {},
     "output_type": "execute_result"
    }
   ],
   "source": [
    "np.random.normal(loc=0, scale=1, size=(1, 2, 3))"
   ]
  },
  {
   "cell_type": "code",
   "execution_count": 29,
   "id": "489b2849",
   "metadata": {},
   "outputs": [
    {
     "data": {
      "text/plain": [
       "array([[1427, 1483, 1304],\n",
       "       [1318, 1439, 1412],\n",
       "       [1328, 1406, 1218],\n",
       "       [1218, 1443, 1211],\n",
       "       [1472, 1233, 1299]])"
      ]
     },
     "execution_count": 29,
     "metadata": {},
     "output_type": "execute_result"
    }
   ],
   "source": [
    "np.random.randint(1200, 1500, size=(5, 3))"
   ]
  },
  {
   "cell_type": "code",
   "execution_count": 30,
   "id": "678d9e2c",
   "metadata": {},
   "outputs": [
    {
     "data": {
      "text/plain": [
       "array([[0.46345121, 0.82589183, 0.34755601],\n",
       "       [0.69338644, 0.21840643, 0.27944693],\n",
       "       [0.19169975, 0.3203221 , 0.94151944],\n",
       "       [0.42515362, 0.76796286, 0.0105996 ],\n",
       "       [0.78879822, 0.97969391, 0.52414679]])"
      ]
     },
     "execution_count": 30,
     "metadata": {},
     "output_type": "execute_result"
    }
   ],
   "source": [
    "np.random.random(size=(5,3))"
   ]
  },
  {
   "cell_type": "code",
   "execution_count": 31,
   "id": "7a17ec82",
   "metadata": {},
   "outputs": [
    {
     "data": {
      "text/plain": [
       "array([[0.10859014, 0.65559372, 0.08271343],\n",
       "       [0.89501047, 0.43445034, 0.47485166],\n",
       "       [0.42466028, 0.5207989 , 0.92310716],\n",
       "       [0.69636619, 0.78962793, 0.45997257],\n",
       "       [0.67697821, 0.88550703, 0.93907005]])"
      ]
     },
     "execution_count": 31,
     "metadata": {},
     "output_type": "execute_result"
    }
   ],
   "source": [
    "np.random.rand(5,3)"
   ]
  },
  {
   "cell_type": "code",
   "execution_count": null,
   "id": "b257a710",
   "metadata": {},
   "outputs": [],
   "source": []
  }
 ],
 "metadata": {
  "kernelspec": {
   "display_name": "Python 3",
   "language": "python",
   "name": "python3"
  },
  "language_info": {
   "codemirror_mode": {
    "name": "ipython",
    "version": 3
   },
   "file_extension": ".py",
   "mimetype": "text/x-python",
   "name": "python",
   "nbconvert_exporter": "python",
   "pygments_lexer": "ipython3",
   "version": "3.7.1"
  }
 },
 "nbformat": 4,
 "nbformat_minor": 5
}

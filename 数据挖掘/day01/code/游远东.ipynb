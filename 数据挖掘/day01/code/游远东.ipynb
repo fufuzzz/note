{
 "cells": [
  {
   "cell_type": "markdown",
   "id": "46f30c0b",
   "metadata": {},
   "source": [
    "### 1、创建一个长度为10的一维全为0的ndarray对象，然后让第5个元素等于1"
   ]
  },
  {
   "cell_type": "code",
   "execution_count": 3,
   "id": "2e6fc83d",
   "metadata": {},
   "outputs": [],
   "source": [
    "import numpy as np"
   ]
  },
  {
   "cell_type": "code",
   "execution_count": 10,
   "id": "b8b5d7b5",
   "metadata": {},
   "outputs": [
    {
     "data": {
      "text/plain": [
       "array([0., 0., 0., 0., 0., 0., 0., 0., 0., 0.])"
      ]
     },
     "execution_count": 10,
     "metadata": {},
     "output_type": "execute_result"
    }
   ],
   "source": [
    "n = np.zeros(shape=10)\n",
    "n"
   ]
  },
  {
   "cell_type": "code",
   "execution_count": 11,
   "id": "1df3f833",
   "metadata": {},
   "outputs": [
    {
     "data": {
      "text/plain": [
       "array([0., 0., 0., 0., 0., 1., 0., 0., 0., 0.])"
      ]
     },
     "execution_count": 11,
     "metadata": {},
     "output_type": "execute_result"
    }
   ],
   "source": [
    "n[5] = 1\n",
    "n"
   ]
  },
  {
   "cell_type": "markdown",
   "id": "5a7dc71b",
   "metadata": {},
   "source": [
    "### 2、创建一个元素为从10到49的ndarray对象"
   ]
  },
  {
   "cell_type": "code",
   "execution_count": 14,
   "id": "3fc41ab5",
   "metadata": {},
   "outputs": [],
   "source": [
    "n = np.array(range(10, 50))"
   ]
  },
  {
   "cell_type": "code",
   "execution_count": 15,
   "id": "2a0d5791",
   "metadata": {},
   "outputs": [
    {
     "data": {
      "text/plain": [
       "array([10, 11, 12, 13, 14, 15, 16, 17, 18, 19, 20, 21, 22, 23, 24, 25, 26,\n",
       "       27, 28, 29, 30, 31, 32, 33, 34, 35, 36, 37, 38, 39, 40, 41, 42, 43,\n",
       "       44, 45, 46, 47, 48, 49])"
      ]
     },
     "execution_count": 15,
     "metadata": {},
     "output_type": "execute_result"
    }
   ],
   "source": [
    "n"
   ]
  },
  {
   "cell_type": "markdown",
   "id": "e19cd599",
   "metadata": {},
   "source": [
    "### 3、将第2题的所有元素位置反转"
   ]
  },
  {
   "cell_type": "code",
   "execution_count": 18,
   "id": "2a15b095",
   "metadata": {},
   "outputs": [
    {
     "data": {
      "text/plain": [
       "array([49, 48, 47, 46, 45, 44, 43, 42, 41, 40, 39, 38, 37, 36, 35, 34, 33,\n",
       "       32, 31, 30, 29, 28, 27, 26, 25, 24, 23, 22, 21, 20, 19, 18, 17, 16,\n",
       "       15, 14, 13, 12, 11, 10])"
      ]
     },
     "execution_count": 18,
     "metadata": {},
     "output_type": "execute_result"
    }
   ],
   "source": [
    "n[::-1]"
   ]
  },
  {
   "cell_type": "markdown",
   "id": "6d02b77d",
   "metadata": {},
   "source": [
    "### 4、使用np.random.random创建一个10*10的ndarray对象，并打印出最大最小元素"
   ]
  },
  {
   "cell_type": "code",
   "execution_count": 27,
   "id": "5334acda",
   "metadata": {},
   "outputs": [],
   "source": [
    "n = np.random.random(size=(10, 10))"
   ]
  },
  {
   "cell_type": "code",
   "execution_count": 28,
   "id": "c44d2f1b",
   "metadata": {},
   "outputs": [
    {
     "data": {
      "text/plain": [
       "0.014185159662047586"
      ]
     },
     "execution_count": 28,
     "metadata": {},
     "output_type": "execute_result"
    }
   ],
   "source": [
    "n.min()"
   ]
  },
  {
   "cell_type": "code",
   "execution_count": 29,
   "id": "23365914",
   "metadata": {},
   "outputs": [
    {
     "data": {
      "text/plain": [
       "0.014185159662047586"
      ]
     },
     "execution_count": 29,
     "metadata": {},
     "output_type": "execute_result"
    }
   ],
   "source": [
    "np.min(n)"
   ]
  },
  {
   "cell_type": "markdown",
   "id": "09406155",
   "metadata": {},
   "source": [
    "### 5、创建一个10*10的ndarray对象，且矩阵边界全为1，里面全为0"
   ]
  },
  {
   "cell_type": "code",
   "execution_count": 39,
   "id": "da6fef85",
   "metadata": {},
   "outputs": [],
   "source": [
    "n = np.ones(shape=(10, 10), dtype=int)"
   ]
  },
  {
   "cell_type": "code",
   "execution_count": 40,
   "id": "655d2990",
   "metadata": {},
   "outputs": [
    {
     "data": {
      "text/plain": [
       "array([[1, 1, 1, 1, 1, 1, 1, 1, 1, 1],\n",
       "       [1, 0, 0, 0, 0, 0, 0, 0, 0, 1],\n",
       "       [1, 0, 0, 0, 0, 0, 0, 0, 0, 1],\n",
       "       [1, 0, 0, 0, 0, 0, 0, 0, 0, 1],\n",
       "       [1, 0, 0, 0, 0, 0, 0, 0, 0, 1],\n",
       "       [1, 0, 0, 0, 0, 0, 0, 0, 0, 1],\n",
       "       [1, 0, 0, 0, 0, 0, 0, 0, 0, 1],\n",
       "       [1, 0, 0, 0, 0, 0, 0, 0, 0, 1],\n",
       "       [1, 0, 0, 0, 0, 0, 0, 0, 0, 1],\n",
       "       [1, 1, 1, 1, 1, 1, 1, 1, 1, 1]])"
      ]
     },
     "execution_count": 40,
     "metadata": {},
     "output_type": "execute_result"
    }
   ],
   "source": [
    "n[1:-1, 1:-1] = 0\n",
    "n"
   ]
  },
  {
   "cell_type": "markdown",
   "id": "a9240a44",
   "metadata": {},
   "source": [
    "### 6、创建一个每一行都是从0到4的5*5矩阵"
   ]
  },
  {
   "cell_type": "code",
   "execution_count": 43,
   "id": "ea58ae20",
   "metadata": {},
   "outputs": [],
   "source": [
    "n = np.random.randint(0, 5, size=(5,5))"
   ]
  },
  {
   "cell_type": "code",
   "execution_count": 44,
   "id": "9d38023c",
   "metadata": {},
   "outputs": [
    {
     "data": {
      "text/plain": [
       "array([[1, 4, 4, 3, 2],\n",
       "       [3, 2, 2, 4, 4],\n",
       "       [0, 3, 0, 3, 0],\n",
       "       [3, 4, 1, 3, 0],\n",
       "       [2, 4, 3, 1, 1]])"
      ]
     },
     "execution_count": 44,
     "metadata": {},
     "output_type": "execute_result"
    }
   ],
   "source": [
    "n"
   ]
  },
  {
   "cell_type": "markdown",
   "id": "fd2dcbc0",
   "metadata": {},
   "source": [
    "### 7、创建一个范围在(0,1)之间的长度为12的等差数列"
   ]
  },
  {
   "cell_type": "code",
   "execution_count": 75,
   "id": "7e966f78",
   "metadata": {},
   "outputs": [
    {
     "data": {
      "text/plain": [
       "(array([0.        , 0.08333333, 0.16666667, 0.25      , 0.33333333,\n",
       "        0.41666667, 0.5       , 0.58333333, 0.66666667, 0.75      ,\n",
       "        0.83333333, 0.91666667]), 0.08333333333333333)"
      ]
     },
     "execution_count": 75,
     "metadata": {},
     "output_type": "execute_result"
    }
   ],
   "source": [
    "np.linspace(0, 1, num=12, endpoint=False, retstep=True)"
   ]
  },
  {
   "cell_type": "markdown",
   "id": "67a2d017",
   "metadata": {},
   "source": [
    "### 8、创建一个长度为10的随机数组并排序"
   ]
  },
  {
   "cell_type": "code",
   "execution_count": 81,
   "id": "55eb899e",
   "metadata": {},
   "outputs": [
    {
     "data": {
      "text/plain": [
       "array([7, 4, 2, 9, 9, 6, 1, 0, 1, 7])"
      ]
     },
     "execution_count": 81,
     "metadata": {},
     "output_type": "execute_result"
    }
   ],
   "source": [
    "n = np.random.randint(0,10, size=10)\n",
    "n"
   ]
  },
  {
   "cell_type": "code",
   "execution_count": 83,
   "id": "9627d9fb",
   "metadata": {},
   "outputs": [
    {
     "data": {
      "text/plain": [
       "array([0, 1, 1, 2, 4, 6, 7, 7, 9, 9])"
      ]
     },
     "execution_count": 83,
     "metadata": {},
     "output_type": "execute_result"
    }
   ],
   "source": [
    "np.sort(n)"
   ]
  },
  {
   "cell_type": "code",
   "execution_count": null,
   "id": "8dc20420",
   "metadata": {},
   "outputs": [],
   "source": [
    "n.sort\n",
    "n"
   ]
  },
  {
   "cell_type": "markdown",
   "id": "6c3ca045",
   "metadata": {},
   "source": [
    "### 9、创建一个长度为10的随机数组并将最大值替换为0"
   ]
  },
  {
   "cell_type": "code",
   "execution_count": 50,
   "id": "af240f0d",
   "metadata": {},
   "outputs": [
    {
     "data": {
      "text/plain": [
       "array([1, 3, 6, 6, 4, 2, 4, 2, 4, 5])"
      ]
     },
     "execution_count": 50,
     "metadata": {},
     "output_type": "execute_result"
    }
   ],
   "source": [
    "n9 = np.random.randint(1, 10, size=10)\n",
    "n9\n"
   ]
  },
  {
   "cell_type": "code",
   "execution_count": 51,
   "id": "a1ac3c2b",
   "metadata": {},
   "outputs": [
    {
     "data": {
      "text/plain": [
       "2"
      ]
     },
     "execution_count": 51,
     "metadata": {},
     "output_type": "execute_result"
    }
   ],
   "source": [
    "n9.argmax()"
   ]
  },
  {
   "cell_type": "code",
   "execution_count": 52,
   "id": "ab712183",
   "metadata": {},
   "outputs": [
    {
     "data": {
      "text/plain": [
       "array([1, 3, 0, 0, 4, 2, 4, 2, 4, 5])"
      ]
     },
     "execution_count": 52,
     "metadata": {},
     "output_type": "execute_result"
    }
   ],
   "source": [
    "index = [i for i in range(len(n)) if n9[i]==n9.max()]\n",
    "\n",
    "for j in index:\n",
    "    n9[j]=0\n",
    "n9"
   ]
  },
  {
   "cell_type": "markdown",
   "id": "8116af06",
   "metadata": {},
   "source": [
    "### 10、创建一个5*5的矩阵,取出这个矩阵的第三列, 然后对这列数据进行排序."
   ]
  },
  {
   "cell_type": "code",
   "execution_count": 147,
   "id": "abf53543",
   "metadata": {},
   "outputs": [
    {
     "data": {
      "text/plain": [
       "array([[6, 4, 7, 7, 1],\n",
       "       [1, 2, 4, 5, 8],\n",
       "       [9, 6, 7, 2, 4],\n",
       "       [9, 7, 5, 7, 6],\n",
       "       [1, 2, 9, 2, 7]])"
      ]
     },
     "execution_count": 147,
     "metadata": {},
     "output_type": "execute_result"
    }
   ],
   "source": [
    "n = np.random.randint(1, 10, size=(5,5))\n",
    "n"
   ]
  },
  {
   "cell_type": "code",
   "execution_count": 149,
   "id": "662d6486",
   "metadata": {},
   "outputs": [
    {
     "data": {
      "text/plain": [
       "array([[6, 4, 4, 7, 1],\n",
       "       [1, 2, 5, 5, 8],\n",
       "       [9, 6, 7, 2, 4],\n",
       "       [9, 7, 7, 7, 6],\n",
       "       [1, 2, 9, 2, 7]])"
      ]
     },
     "execution_count": 149,
     "metadata": {},
     "output_type": "execute_result"
    }
   ],
   "source": [
    "list = [i[0] for i in n[:, 2:3]]\n",
    "list.sort()\n",
    "list\n",
    "for i in range(5):\n",
    "    n[i,2] = list[i]\n",
    "    \n",
    "n"
   ]
  },
  {
   "cell_type": "markdown",
   "id": "a7ce39fa",
   "metadata": {},
   "source": [
    "### 11、给定一个4维矩阵，如何得到最后两维的和？"
   ]
  },
  {
   "cell_type": "code",
   "execution_count": 4,
   "id": "918c310e",
   "metadata": {
    "collapsed": true
   },
   "outputs": [
    {
     "data": {
      "text/plain": [
       "array([[[[4, 5, 3, 5],\n",
       "         [5, 2, 1, 3],\n",
       "         [2, 6, 8, 1],\n",
       "         [4, 3, 6, 4]],\n",
       "\n",
       "        [[4, 2, 1, 6],\n",
       "         [9, 1, 2, 3],\n",
       "         [9, 7, 8, 6],\n",
       "         [1, 6, 5, 9]],\n",
       "\n",
       "        [[1, 6, 9, 7],\n",
       "         [7, 2, 7, 8],\n",
       "         [5, 3, 8, 7],\n",
       "         [4, 2, 6, 4]],\n",
       "\n",
       "        [[6, 9, 5, 5],\n",
       "         [8, 7, 4, 5],\n",
       "         [8, 3, 8, 1],\n",
       "         [4, 9, 1, 8]]],\n",
       "\n",
       "\n",
       "       [[[1, 5, 9, 6],\n",
       "         [2, 3, 8, 7],\n",
       "         [3, 7, 4, 3],\n",
       "         [6, 5, 5, 9]],\n",
       "\n",
       "        [[9, 7, 7, 4],\n",
       "         [6, 9, 6, 1],\n",
       "         [6, 9, 1, 6],\n",
       "         [9, 2, 5, 6]],\n",
       "\n",
       "        [[4, 5, 5, 2],\n",
       "         [5, 9, 5, 6],\n",
       "         [6, 2, 4, 1],\n",
       "         [7, 3, 1, 4]],\n",
       "\n",
       "        [[2, 2, 5, 5],\n",
       "         [9, 8, 4, 6],\n",
       "         [6, 7, 1, 8],\n",
       "         [6, 7, 3, 4]]],\n",
       "\n",
       "\n",
       "       [[[8, 6, 4, 5],\n",
       "         [7, 9, 2, 5],\n",
       "         [1, 4, 9, 3],\n",
       "         [3, 1, 4, 1]],\n",
       "\n",
       "        [[9, 4, 8, 7],\n",
       "         [8, 9, 7, 3],\n",
       "         [7, 2, 4, 3],\n",
       "         [6, 7, 7, 3]],\n",
       "\n",
       "        [[3, 6, 4, 6],\n",
       "         [4, 9, 9, 6],\n",
       "         [1, 7, 9, 7],\n",
       "         [4, 3, 5, 6]],\n",
       "\n",
       "        [[7, 2, 9, 8],\n",
       "         [2, 1, 5, 8],\n",
       "         [8, 7, 6, 8],\n",
       "         [1, 6, 8, 9]]],\n",
       "\n",
       "\n",
       "       [[[4, 6, 9, 1],\n",
       "         [9, 7, 7, 2],\n",
       "         [3, 7, 7, 6],\n",
       "         [6, 3, 2, 5]],\n",
       "\n",
       "        [[4, 3, 2, 4],\n",
       "         [6, 8, 7, 9],\n",
       "         [4, 2, 3, 6],\n",
       "         [4, 9, 5, 4]],\n",
       "\n",
       "        [[3, 2, 7, 6],\n",
       "         [6, 7, 4, 8],\n",
       "         [4, 5, 6, 5],\n",
       "         [3, 3, 9, 9]],\n",
       "\n",
       "        [[8, 5, 4, 1],\n",
       "         [3, 6, 8, 6],\n",
       "         [8, 4, 3, 4],\n",
       "         [8, 7, 7, 8]]]])"
      ]
     },
     "execution_count": 4,
     "metadata": {},
     "output_type": "execute_result"
    }
   ],
   "source": [
    "n = np.random.randint(1, 10, size=(4,4,4,4))\n",
    "n"
   ]
  },
  {
   "cell_type": "code",
   "execution_count": 5,
   "id": "9a4c73a2",
   "metadata": {},
   "outputs": [
    {
     "data": {
      "text/plain": [
       "array([[62, 79, 86, 91],\n",
       "       [83, 93, 69, 83],\n",
       "       [72, 94, 89, 95],\n",
       "       [84, 80, 87, 90]])"
      ]
     },
     "execution_count": 5,
     "metadata": {},
     "output_type": "execute_result"
    }
   ],
   "source": [
    "n.sum(axis=(2,3))"
   ]
  },
  {
   "cell_type": "markdown",
   "id": "100ea0b1",
   "metadata": {},
   "source": [
    "### 12、给定数组[1, 2, 3, 4, 5]，如何得到在这个数组的每个元素之间插入3个0后的新数组？"
   ]
  },
  {
   "cell_type": "code",
   "execution_count": 17,
   "id": "2d3c71f9",
   "metadata": {},
   "outputs": [
    {
     "data": {
      "text/plain": [
       "array([0, 0, 0, 0, 0, 0, 0, 0, 0, 0, 0, 0, 0, 0, 0, 0, 0])"
      ]
     },
     "execution_count": 17,
     "metadata": {},
     "output_type": "execute_result"
    }
   ],
   "source": [
    "n12 = np.zeros(shape=(17,), dtype=int)\n",
    "n12"
   ]
  },
  {
   "cell_type": "code",
   "execution_count": 18,
   "id": "0d003a59",
   "metadata": {},
   "outputs": [
    {
     "data": {
      "text/plain": [
       "array([1, 0, 0, 0, 2, 0, 0, 0, 3, 0, 0, 0, 4, 0, 0, 0, 5])"
      ]
     },
     "execution_count": 18,
     "metadata": {},
     "output_type": "execute_result"
    }
   ],
   "source": [
    "n12[::4] = [1, 2, 3, 4, 5]\n",
    "n12"
   ]
  },
  {
   "cell_type": "markdown",
   "id": "a58036e8",
   "metadata": {},
   "source": [
    "### 13、给定一个二维矩阵，如何交换其中两行的元素？"
   ]
  },
  {
   "cell_type": "code",
   "execution_count": 19,
   "id": "b0e19d37",
   "metadata": {},
   "outputs": [
    {
     "data": {
      "text/plain": [
       "array([[8, 7, 5, 8, 5],\n",
       "       [5, 9, 9, 7, 2],\n",
       "       [5, 3, 7, 7, 9],\n",
       "       [4, 7, 6, 3, 9],\n",
       "       [4, 8, 8, 5, 8]])"
      ]
     },
     "execution_count": 19,
     "metadata": {},
     "output_type": "execute_result"
    }
   ],
   "source": [
    "n13 = np.random.randint(1, 10, size=(5,5))\n",
    "n13"
   ]
  },
  {
   "cell_type": "code",
   "execution_count": 21,
   "id": "9c0c1824",
   "metadata": {},
   "outputs": [
    {
     "data": {
      "text/plain": [
       "array([[5, 9, 9, 7, 2],\n",
       "       [5, 9, 9, 7, 2],\n",
       "       [5, 3, 7, 7, 9],\n",
       "       [4, 7, 6, 3, 9],\n",
       "       [4, 8, 8, 5, 8]])"
      ]
     },
     "execution_count": 21,
     "metadata": {},
     "output_type": "execute_result"
    }
   ],
   "source": [
    "n13[0], n13[1] = n13[1].copy(), n13[0].copy()\n",
    "n13"
   ]
  },
  {
   "cell_type": "code",
   "execution_count": null,
   "id": "183a601a",
   "metadata": {},
   "outputs": [],
   "source": [
    "# 高级技巧\n",
    "n13[[1, 2, 1, 2, 3, 4, 0, 1]]"
   ]
  },
  {
   "cell_type": "markdown",
   "id": "04af913c",
   "metadata": {},
   "source": [
    "### 14、创建一个100000长度的随机数组，使用两种方法对其求三次方，并比较所用时间"
   ]
  },
  {
   "cell_type": "code",
   "execution_count": 203,
   "id": "7d164ca2",
   "metadata": {},
   "outputs": [],
   "source": [
    "n = np.random.randint(0, 10, size=100000)"
   ]
  },
  {
   "cell_type": "code",
   "execution_count": 200,
   "id": "37b6fdb3",
   "metadata": {
    "collapsed": true
   },
   "outputs": [
    {
     "data": {
      "text/plain": [
       "array([  8,   1,   8, 125, 729, 125, 343,   8,  64,   8,   1,   0, 216,\n",
       "         0,  27, 216, 512, 512, 125, 125,   0, 729, 343,   8,  64, 125,\n",
       "         0,   1,   0,   1,   8, 216,   0,   8,   0, 125, 512, 729,   1,\n",
       "       216,   1,   0, 729,  64,  64, 216, 343,   0, 125, 216, 216, 216,\n",
       "       125, 216,  64, 512, 729, 125,   8, 512, 729,  64, 125, 125,  27,\n",
       "       343,  27, 729,  27, 125,  27, 512,   0,   0,  27, 729, 729, 216,\n",
       "        64, 512,  64,   1, 512, 216,  64,   1, 512,  64,  64, 216, 729,\n",
       "       729,   1,  64,  27,  64, 125, 729, 125,   1,   8, 343,  27, 512,\n",
       "       216,  64, 216,  27, 512,   1, 343,  27,  64, 729,   0, 216,   0,\n",
       "       343,  64,   8, 729,   8,  27, 512, 512, 216,   0,  27, 729, 512,\n",
       "         0,   0, 729,   8,   8, 125, 343,  27, 729,   0, 729,   0, 729,\n",
       "        27, 125, 729, 216,   8, 729, 125, 729,   0, 729,   8,   8,  27,\n",
       "       343, 729,   0, 729, 343, 216, 343,   0,   1,  64, 512, 216, 343,\n",
       "       125,   1,   0, 729,   8, 729, 729, 216, 216,   8,   8,  27, 729,\n",
       "       343,  27,   8, 343,   0, 216,  64, 125, 343,  64,  64,  64,   0,\n",
       "       343, 512,  64,  64,   1, 729, 125,  64,  64, 216,   8, 512, 512,\n",
       "         0,  64,   0,   8,  64,  27,   1,  64,  27,  27,  27, 125,  64,\n",
       "       125,   1, 343, 512, 512,  64, 125, 512, 216, 125, 216, 512, 125,\n",
       "       125, 512, 216, 729, 125,  64, 125, 125, 729, 343,  27, 125, 729,\n",
       "         0, 343, 125,   1, 512,   8, 216,  64,   0, 216,  64,   1, 343,\n",
       "       125, 343,   1,   8, 343, 125, 343,   1, 729,   8, 216,  27,   1,\n",
       "       125, 216,  27, 216, 343,   1, 729, 216,  27, 729, 343,   1,   1,\n",
       "       343,   8,   1, 216,   1, 343,   1,  27, 216, 512, 343,   0,   1,\n",
       "       512, 512, 343,   8,   8, 512,  27,   0, 512,  27, 729,   8, 512,\n",
       "       343, 729,  64, 729, 125, 729,   1, 343,  27, 125,   8,   1, 729,\n",
       "        64,  64, 343, 343, 216,   1, 343,   1,   8,   1,   8, 125, 343,\n",
       "       729, 512, 343,  27,   8, 343,   1,   0,   0,   0, 512, 729, 512,\n",
       "         8, 343,   1,  27,   1,  27,   8,   0,  27, 125,  64,   0,  64,\n",
       "       512, 216, 343,   0,   1,  64,   1,   1, 512,  64,   0,   1,   0,\n",
       "       343,   0, 729,   1,  64, 512,   1,   0,  64,   8, 216, 343,   1,\n",
       "       512, 729, 729,   8, 343,   0,  27, 343, 729,   8, 216, 729,  27,\n",
       "        27, 512, 216, 216,  64, 512,  64, 125, 343, 729,  27, 216,   8,\n",
       "       343, 343,   1,   0, 512, 343, 343,  64, 729,   0,  64,  27,  64,\n",
       "         1, 216, 512, 216, 125, 125,   8, 216,   0, 512,   0,  64,  27,\n",
       "         1, 216,   1,   1, 343, 125, 729, 216, 216,  27,   0,   8, 216,\n",
       "         1,   8,   1,  27,   0, 512,   8, 729,   0, 512,   0, 216, 343,\n",
       "        64,   8, 216, 125, 343,   0, 216,   1, 512,   0, 216,  27,  64,\n",
       "         8, 729, 125, 512, 125, 343,  27, 216,   1, 512, 729,   1, 512,\n",
       "       729, 512, 216, 343,   0, 343, 343, 729, 512, 343,   8,   0,   1,\n",
       "       125, 512,   8, 125, 512,   1,  27,   0, 216, 512, 729,   0,  27,\n",
       "         1, 125,   0, 125,  64, 125,   1,  27, 125, 343,  27,  27, 125,\n",
       "         0, 125,   0,   8, 729,  64, 343, 512,   8,   1,  64, 343, 343,\n",
       "         1,   0,   1,   1, 512, 512, 216, 216,  27, 125, 343, 216,   1,\n",
       "         0,   1,   1, 343, 216, 343,   8, 729,  27,   0, 125,   0, 729,\n",
       "        64, 512,   8,  27,   0,   0,  64,   1, 343,   0,   1, 512,   1,\n",
       "       216,   1, 343, 216,   8, 216,   1,  64,   8, 216,   8,   8, 729,\n",
       "        64,   8, 729, 216, 729,  64, 512, 125, 216,   1, 216,   1, 125,\n",
       "        64,   8,  64,  64, 729,  64, 216, 512,  27,   1, 343,  27,   1,\n",
       "       216,  27,   0,  64, 343, 125,  27, 343, 729, 512, 343,   1, 216,\n",
       "       343, 216, 125,  27,  27,  27, 512, 512,  64, 729,  27,   0, 125,\n",
       "       125, 343,   1, 512, 216, 729, 729, 125,  64,  64, 729, 125,   0,\n",
       "       729,   8,   8, 343,  27, 729,  27, 216, 125, 512,   1, 216,   1,\n",
       "       343, 729,  27, 125,   8,  64,   1, 343,   8,  27, 343,   0,   0,\n",
       "       343,   0,   1,   8,   8, 125,  27, 125,   1, 729,   8, 125,   8,\n",
       "       512, 216,   0, 216,  27, 512, 125, 343, 125,   1, 729, 216, 512,\n",
       "       512,  27,  64, 125, 729,   0, 512, 125, 512, 125, 512,   1, 729,\n",
       "         1, 125, 512,   8, 343, 512,   8, 729,   1, 216, 729, 125, 343,\n",
       "       125,   0,  64, 343, 512,  64,   0, 343,   0,   0, 729, 729, 512,\n",
       "         1, 729, 125,  64, 343,  27, 216, 125,  27, 729, 125,  27, 216,\n",
       "       216,  64, 216, 216,  27,   0, 512,  27,  27,  64, 343,   1, 216,\n",
       "       125,   8,   8, 216,  64, 125,   1, 729,  27, 216,   0,   0,  27,\n",
       "        27, 512,   1,  27,   8, 512, 216, 729, 343, 125, 216,  64,   0,\n",
       "       512, 216, 216,   0, 216,   1,   1,  27, 343,   1, 343, 125,   1,\n",
       "       125, 729, 729,   0, 729, 216,  27,   1,   0,  27, 216, 512, 216,\n",
       "       343,   1, 216,   8, 729, 729, 216, 729, 216,   8, 125,  27, 729,\n",
       "         8,   0,  64, 343,  27, 216,   8,  64, 125, 125,   0,  64,   0,\n",
       "       729, 729, 512, 512,  27, 216, 729, 729,  27, 729, 729,   8,   0,\n",
       "       125,   1, 216,   8, 125,   8, 216,  27,   8,  64, 125, 512,   0,\n",
       "       343, 512, 343, 343,  27, 343,  64, 512, 125, 125, 512, 216,   0,\n",
       "       512,   8, 216,   0, 343,   1,  64, 125, 729,   0,   0,   1, 512,\n",
       "         1, 512, 125, 512,  64, 216, 729, 216,  64, 343,  64, 729,  27,\n",
       "         1, 125,  64,   8, 343, 729,   8, 216, 125,   1,   0, 125, 512,\n",
       "       216, 125,   1,   0, 216, 216,  64,   8,   8, 343,   0,   0,   1,\n",
       "        64,   8,  64,   8, 125,  27,  27, 216, 343,  27,  64,  27, 729,\n",
       "         8,   0, 343, 512, 216,   0,  27, 125, 216,  27, 216, 343, 125,\n",
       "       729,  27,  27, 729,   0, 729,  27, 343,   8,   1,   8,  64,  27,\n",
       "       216,  27,   8, 125,  64, 729,   8, 343,  64,  27, 216,  64])"
      ]
     },
     "execution_count": 200,
     "metadata": {},
     "output_type": "execute_result"
    }
   ],
   "source": [
    "def one(n):\n",
    "    return n*n*n\n"
   ]
  },
  {
   "cell_type": "code",
   "execution_count": 199,
   "id": "3bf3faaa",
   "metadata": {
    "collapsed": true
   },
   "outputs": [
    {
     "data": {
      "text/plain": [
       "array([  8,   1,   8, 125, 729, 125, 343,   8,  64,   8,   1,   0, 216,\n",
       "         0,  27, 216, 512, 512, 125, 125,   0, 729, 343,   8,  64, 125,\n",
       "         0,   1,   0,   1,   8, 216,   0,   8,   0, 125, 512, 729,   1,\n",
       "       216,   1,   0, 729,  64,  64, 216, 343,   0, 125, 216, 216, 216,\n",
       "       125, 216,  64, 512, 729, 125,   8, 512, 729,  64, 125, 125,  27,\n",
       "       343,  27, 729,  27, 125,  27, 512,   0,   0,  27, 729, 729, 216,\n",
       "        64, 512,  64,   1, 512, 216,  64,   1, 512,  64,  64, 216, 729,\n",
       "       729,   1,  64,  27,  64, 125, 729, 125,   1,   8, 343,  27, 512,\n",
       "       216,  64, 216,  27, 512,   1, 343,  27,  64, 729,   0, 216,   0,\n",
       "       343,  64,   8, 729,   8,  27, 512, 512, 216,   0,  27, 729, 512,\n",
       "         0,   0, 729,   8,   8, 125, 343,  27, 729,   0, 729,   0, 729,\n",
       "        27, 125, 729, 216,   8, 729, 125, 729,   0, 729,   8,   8,  27,\n",
       "       343, 729,   0, 729, 343, 216, 343,   0,   1,  64, 512, 216, 343,\n",
       "       125,   1,   0, 729,   8, 729, 729, 216, 216,   8,   8,  27, 729,\n",
       "       343,  27,   8, 343,   0, 216,  64, 125, 343,  64,  64,  64,   0,\n",
       "       343, 512,  64,  64,   1, 729, 125,  64,  64, 216,   8, 512, 512,\n",
       "         0,  64,   0,   8,  64,  27,   1,  64,  27,  27,  27, 125,  64,\n",
       "       125,   1, 343, 512, 512,  64, 125, 512, 216, 125, 216, 512, 125,\n",
       "       125, 512, 216, 729, 125,  64, 125, 125, 729, 343,  27, 125, 729,\n",
       "         0, 343, 125,   1, 512,   8, 216,  64,   0, 216,  64,   1, 343,\n",
       "       125, 343,   1,   8, 343, 125, 343,   1, 729,   8, 216,  27,   1,\n",
       "       125, 216,  27, 216, 343,   1, 729, 216,  27, 729, 343,   1,   1,\n",
       "       343,   8,   1, 216,   1, 343,   1,  27, 216, 512, 343,   0,   1,\n",
       "       512, 512, 343,   8,   8, 512,  27,   0, 512,  27, 729,   8, 512,\n",
       "       343, 729,  64, 729, 125, 729,   1, 343,  27, 125,   8,   1, 729,\n",
       "        64,  64, 343, 343, 216,   1, 343,   1,   8,   1,   8, 125, 343,\n",
       "       729, 512, 343,  27,   8, 343,   1,   0,   0,   0, 512, 729, 512,\n",
       "         8, 343,   1,  27,   1,  27,   8,   0,  27, 125,  64,   0,  64,\n",
       "       512, 216, 343,   0,   1,  64,   1,   1, 512,  64,   0,   1,   0,\n",
       "       343,   0, 729,   1,  64, 512,   1,   0,  64,   8, 216, 343,   1,\n",
       "       512, 729, 729,   8, 343,   0,  27, 343, 729,   8, 216, 729,  27,\n",
       "        27, 512, 216, 216,  64, 512,  64, 125, 343, 729,  27, 216,   8,\n",
       "       343, 343,   1,   0, 512, 343, 343,  64, 729,   0,  64,  27,  64,\n",
       "         1, 216, 512, 216, 125, 125,   8, 216,   0, 512,   0,  64,  27,\n",
       "         1, 216,   1,   1, 343, 125, 729, 216, 216,  27,   0,   8, 216,\n",
       "         1,   8,   1,  27,   0, 512,   8, 729,   0, 512,   0, 216, 343,\n",
       "        64,   8, 216, 125, 343,   0, 216,   1, 512,   0, 216,  27,  64,\n",
       "         8, 729, 125, 512, 125, 343,  27, 216,   1, 512, 729,   1, 512,\n",
       "       729, 512, 216, 343,   0, 343, 343, 729, 512, 343,   8,   0,   1,\n",
       "       125, 512,   8, 125, 512,   1,  27,   0, 216, 512, 729,   0,  27,\n",
       "         1, 125,   0, 125,  64, 125,   1,  27, 125, 343,  27,  27, 125,\n",
       "         0, 125,   0,   8, 729,  64, 343, 512,   8,   1,  64, 343, 343,\n",
       "         1,   0,   1,   1, 512, 512, 216, 216,  27, 125, 343, 216,   1,\n",
       "         0,   1,   1, 343, 216, 343,   8, 729,  27,   0, 125,   0, 729,\n",
       "        64, 512,   8,  27,   0,   0,  64,   1, 343,   0,   1, 512,   1,\n",
       "       216,   1, 343, 216,   8, 216,   1,  64,   8, 216,   8,   8, 729,\n",
       "        64,   8, 729, 216, 729,  64, 512, 125, 216,   1, 216,   1, 125,\n",
       "        64,   8,  64,  64, 729,  64, 216, 512,  27,   1, 343,  27,   1,\n",
       "       216,  27,   0,  64, 343, 125,  27, 343, 729, 512, 343,   1, 216,\n",
       "       343, 216, 125,  27,  27,  27, 512, 512,  64, 729,  27,   0, 125,\n",
       "       125, 343,   1, 512, 216, 729, 729, 125,  64,  64, 729, 125,   0,\n",
       "       729,   8,   8, 343,  27, 729,  27, 216, 125, 512,   1, 216,   1,\n",
       "       343, 729,  27, 125,   8,  64,   1, 343,   8,  27, 343,   0,   0,\n",
       "       343,   0,   1,   8,   8, 125,  27, 125,   1, 729,   8, 125,   8,\n",
       "       512, 216,   0, 216,  27, 512, 125, 343, 125,   1, 729, 216, 512,\n",
       "       512,  27,  64, 125, 729,   0, 512, 125, 512, 125, 512,   1, 729,\n",
       "         1, 125, 512,   8, 343, 512,   8, 729,   1, 216, 729, 125, 343,\n",
       "       125,   0,  64, 343, 512,  64,   0, 343,   0,   0, 729, 729, 512,\n",
       "         1, 729, 125,  64, 343,  27, 216, 125,  27, 729, 125,  27, 216,\n",
       "       216,  64, 216, 216,  27,   0, 512,  27,  27,  64, 343,   1, 216,\n",
       "       125,   8,   8, 216,  64, 125,   1, 729,  27, 216,   0,   0,  27,\n",
       "        27, 512,   1,  27,   8, 512, 216, 729, 343, 125, 216,  64,   0,\n",
       "       512, 216, 216,   0, 216,   1,   1,  27, 343,   1, 343, 125,   1,\n",
       "       125, 729, 729,   0, 729, 216,  27,   1,   0,  27, 216, 512, 216,\n",
       "       343,   1, 216,   8, 729, 729, 216, 729, 216,   8, 125,  27, 729,\n",
       "         8,   0,  64, 343,  27, 216,   8,  64, 125, 125,   0,  64,   0,\n",
       "       729, 729, 512, 512,  27, 216, 729, 729,  27, 729, 729,   8,   0,\n",
       "       125,   1, 216,   8, 125,   8, 216,  27,   8,  64, 125, 512,   0,\n",
       "       343, 512, 343, 343,  27, 343,  64, 512, 125, 125, 512, 216,   0,\n",
       "       512,   8, 216,   0, 343,   1,  64, 125, 729,   0,   0,   1, 512,\n",
       "         1, 512, 125, 512,  64, 216, 729, 216,  64, 343,  64, 729,  27,\n",
       "         1, 125,  64,   8, 343, 729,   8, 216, 125,   1,   0, 125, 512,\n",
       "       216, 125,   1,   0, 216, 216,  64,   8,   8, 343,   0,   0,   1,\n",
       "        64,   8,  64,   8, 125,  27,  27, 216, 343,  27,  64,  27, 729,\n",
       "         8,   0, 343, 512, 216,   0,  27, 125, 216,  27, 216, 343, 125,\n",
       "       729,  27,  27, 729,   0, 729,  27, 343,   8,   1,   8,  64,  27,\n",
       "       216,  27,   8, 125,  64, 729,   8, 343,  64,  27, 216,  64],\n",
       "      dtype=int32)"
      ]
     },
     "execution_count": 199,
     "metadata": {},
     "output_type": "execute_result"
    }
   ],
   "source": [
    "def two(n):\n",
    "    return np.power(n,3)\n"
   ]
  },
  {
   "cell_type": "code",
   "execution_count": 204,
   "id": "3a9f42cf",
   "metadata": {},
   "outputs": [
    {
     "name": "stdout",
     "output_type": "stream",
     "text": [
      "Wall time: 1.01 ms\n"
     ]
    },
    {
     "data": {
      "text/plain": [
       "array([512,   8,   8, ..., 729, 512,  64])"
      ]
     },
     "execution_count": 204,
     "metadata": {},
     "output_type": "execute_result"
    }
   ],
   "source": [
    "%time one(n)"
   ]
  },
  {
   "cell_type": "code",
   "execution_count": 205,
   "id": "24878e6e",
   "metadata": {
    "scrolled": true
   },
   "outputs": [
    {
     "name": "stdout",
     "output_type": "stream",
     "text": [
      "Wall time: 998 µs\n"
     ]
    },
    {
     "data": {
      "text/plain": [
       "array([512,   8,   8, ..., 729, 512,  64], dtype=int32)"
      ]
     },
     "execution_count": 205,
     "metadata": {},
     "output_type": "execute_result"
    }
   ],
   "source": [
    "%time two(n)"
   ]
  },
  {
   "cell_type": "markdown",
   "id": "86c4a2b1",
   "metadata": {},
   "source": [
    "### 15、创建一个5*3随机矩阵和一个3*2随机矩阵，求矩阵积"
   ]
  },
  {
   "cell_type": "code",
   "execution_count": 206,
   "id": "3390878d",
   "metadata": {},
   "outputs": [
    {
     "data": {
      "text/plain": [
       "array([[ 48,  96],\n",
       "       [ 51, 114],\n",
       "       [ 28,  44],\n",
       "       [ 40,  86],\n",
       "       [ 37,  86]])"
      ]
     },
     "execution_count": 206,
     "metadata": {},
     "output_type": "execute_result"
    }
   ],
   "source": [
    "n1 = np.random.randint(0, 10, size=(5,3))\n",
    "n2 = np.random.randint(0, 10, size=(3,2))\n",
    "np.dot(n1, n2)"
   ]
  },
  {
   "cell_type": "markdown",
   "id": "d71de3ad",
   "metadata": {},
   "source": [
    "### 16、矩阵的每一行的元素都减去该行的平均值"
   ]
  },
  {
   "cell_type": "code",
   "execution_count": 29,
   "id": "01f6a747",
   "metadata": {},
   "outputs": [
    {
     "data": {
      "text/plain": [
       "array([3. , 3. , 2.4, 5. , 4.8])"
      ]
     },
     "execution_count": 29,
     "metadata": {},
     "output_type": "execute_result"
    }
   ],
   "source": [
    "n16 = np.random.randint(0, 10, size=(5,5))\n",
    "n16.mean(axis=1)"
   ]
  },
  {
   "cell_type": "code",
   "execution_count": 28,
   "id": "fa32555a",
   "metadata": {},
   "outputs": [
    {
     "data": {
      "text/plain": [
       "array([[ 2.2,  1.2, -2.8,  1.2, -1.8],\n",
       "       [ 2.2, -2.8, -1.8, -0.8,  3.2],\n",
       "       [ 2. ,  2. , -2. ,  0. , -2. ],\n",
       "       [-3.4,  1.6, -0.4,  2.6, -0.4],\n",
       "       [-3. , -2. ,  2. ,  3. ,  0. ]])"
      ]
     },
     "execution_count": 28,
     "metadata": {},
     "output_type": "execute_result"
    }
   ],
   "source": [
    "n16 = n16 - n16.mean(axis=1).reshape(5,1)\n",
    "n16"
   ]
  },
  {
   "cell_type": "markdown",
   "id": "6e645533",
   "metadata": {},
   "source": [
    "### 17、打印出以下函数（要求使用np.zeros创建8*8的矩阵）："
   ]
  },
  {
   "cell_type": "code",
   "execution_count": null,
   "id": "b84497bd",
   "metadata": {},
   "outputs": [],
   "source": [
    "[[0 1 0 1 0 1 0 1]\n",
    " [1 0 1 0 1 0 1 0]\n",
    " [0 1 0 1 0 1 0 1]\n",
    " [1 0 1 0 1 0 1 0]\n",
    " [0 1 0 1 0 1 0 1]\n",
    " [1 0 1 0 1 0 1 0]\n",
    " [0 1 0 1 0 1 0 1]\n",
    " [1 0 1 0 1 0 1 0]]"
   ]
  },
  {
   "cell_type": "code",
   "execution_count": 236,
   "id": "f14d0cec",
   "metadata": {
    "collapsed": true
   },
   "outputs": [
    {
     "data": {
      "text/plain": [
       "array([[0, 0, 0, 0, 0, 0, 0, 0],\n",
       "       [0, 0, 1, 0, 0, 0, 0, 0],\n",
       "       [0, 0, 0, 0, 0, 0, 0, 0],\n",
       "       [0, 0, 0, 0, 0, 0, 0, 0],\n",
       "       [0, 0, 0, 0, 0, 0, 0, 0],\n",
       "       [0, 0, 0, 0, 0, 0, 0, 0],\n",
       "       [0, 0, 0, 0, 0, 0, 0, 0],\n",
       "       [0, 0, 0, 0, 0, 0, 0, 0]])"
      ]
     },
     "execution_count": 236,
     "metadata": {},
     "output_type": "execute_result"
    }
   ],
   "source": [
    "n = np.zeros(shape=(8,8), dtype=int)\n",
    "n"
   ]
  },
  {
   "cell_type": "code",
   "execution_count": 237,
   "id": "5f00a207",
   "metadata": {},
   "outputs": [
    {
     "data": {
      "text/plain": [
       "array([[0, 1, 0, 1, 0, 1, 0, 1],\n",
       "       [1, 0, 1, 0, 1, 0, 1, 0],\n",
       "       [0, 1, 0, 1, 0, 1, 0, 1],\n",
       "       [1, 0, 1, 0, 1, 0, 1, 0],\n",
       "       [0, 1, 0, 1, 0, 1, 0, 1],\n",
       "       [1, 0, 1, 0, 1, 0, 1, 0],\n",
       "       [0, 1, 0, 1, 0, 1, 0, 1],\n",
       "       [1, 0, 1, 0, 1, 0, 1, 0]])"
      ]
     },
     "execution_count": 237,
     "metadata": {},
     "output_type": "execute_result"
    }
   ],
   "source": [
    "for i in range(8):\n",
    "    for j in range(8):\n",
    "        if i % 2 == 0 and j % 2 == 1:\n",
    "            n[i, j] = 1\n",
    "        elif i % 2 ==1 and j % 2 == 0:\n",
    "            n[i, j] = 1\n",
    "        else:\n",
    "            continue\n",
    "\n",
    "n\n"
   ]
  },
  {
   "cell_type": "markdown",
   "id": "bf4348e2",
   "metadata": {},
   "source": [
    "### 18、正则化一个5*5随机矩阵\n",
    "正则的概念：假设a是矩阵中的一个元素，max/min分别是矩阵元素的最大最小值，则正则化后a = (a - min)/(max - min)"
   ]
  },
  {
   "cell_type": "code",
   "execution_count": 39,
   "id": "cffda716",
   "metadata": {},
   "outputs": [],
   "source": [
    "n18 = np.random.randint(0, 10, size=(5, 5))\n",
    "n18"
   ]
  },
  {
   "cell_type": "code",
   "execution_count": 45,
   "id": "2c7cd4e0",
   "metadata": {},
   "outputs": [
    {
     "data": {
      "text/plain": [
       "array([[0.375, 0.375, 0.25 , 0.25 , 0.5  ],\n",
       "       [0.375, 0.875, 0.5  , 0.875, 1.   ],\n",
       "       [0.   , 0.125, 0.75 , 0.   , 0.75 ],\n",
       "       [0.5  , 0.125, 0.25 , 0.125, 0.25 ],\n",
       "       [0.375, 0.75 , 0.625, 0.125, 0.25 ]])"
      ]
     },
     "execution_count": 45,
     "metadata": {},
     "output_type": "execute_result"
    }
   ],
   "source": [
    "(n18-n18.min())/(n18.max()-n18.min())\n",
    "\n"
   ]
  },
  {
   "cell_type": "markdown",
   "id": "aad934fe",
   "metadata": {},
   "source": [
    "### 20、实现快速和选择排序法"
   ]
  },
  {
   "cell_type": "code",
   "execution_count": 55,
   "id": "bbfe9e49",
   "metadata": {},
   "outputs": [
    {
     "data": {
      "text/plain": [
       "array([5, 6, 7, 6, 6, 3, 1, 2, 3, 9])"
      ]
     },
     "metadata": {},
     "output_type": "display_data"
    },
    {
     "data": {
      "text/plain": [
       "array([2, 9, 3, 7, 6, 9, 8, 7, 3, 9])"
      ]
     },
     "metadata": {},
     "output_type": "display_data"
    }
   ],
   "source": [
    "n1 = np.random.randint(0, 10, size=10)\n",
    "n2 = np.random.randint(0, 10, size=10)\n",
    "display(n1,n2)"
   ]
  },
  {
   "cell_type": "code",
   "execution_count": 56,
   "id": "ae8718c0",
   "metadata": {},
   "outputs": [],
   "source": [
    "def quick_sort(n, start, end):\n",
    "    while start >= end:\n",
    "        return\n",
    "    low = start\n",
    "    high = end\n",
    "    mid = n[start]\n",
    "    while low < high:\n",
    "        while n[high] >= mid and low < high:\n",
    "            high -= 1\n",
    "\n",
    "        n[low] = n[high]\n",
    "\n",
    "        while n[low] < mid and low < high:\n",
    "            low += 1\n",
    "\n",
    "        n[high] = n[low]\n",
    "    n[low] = mid\n",
    "\n",
    "    quick_sort(n, low+1, end)\n",
    "    quick_sort(n, start, high-1)\n",
    "    return n"
   ]
  },
  {
   "cell_type": "code",
   "execution_count": 57,
   "id": "14033f52",
   "metadata": {},
   "outputs": [
    {
     "name": "stdout",
     "output_type": "stream",
     "text": [
      "[5 6 6 6 7 3 1 2 3 9]\n"
     ]
    }
   ],
   "source": [
    "print(quick_sort(n1, 0, len(n)-1))"
   ]
  },
  {
   "cell_type": "code",
   "execution_count": 58,
   "id": "abed3380",
   "metadata": {},
   "outputs": [],
   "source": [
    "def select(n):\n",
    "    for i in range(0, len(n)-1):\n",
    "        for j in range(i+1, len(n)):\n",
    "            if n[i] > n[j]:\n",
    "                n[i], n[j] = n[j], n[i]\n",
    "\n",
    "    return n"
   ]
  },
  {
   "cell_type": "code",
   "execution_count": 59,
   "id": "7d0e156d",
   "metadata": {},
   "outputs": [
    {
     "name": "stdout",
     "output_type": "stream",
     "text": [
      "[2 3 3 6 7 7 8 9 9 9]\n"
     ]
    }
   ],
   "source": [
    "print(select(n2))"
   ]
  },
  {
   "cell_type": "code",
   "execution_count": null,
   "id": "1aa49f28",
   "metadata": {},
   "outputs": [],
   "source": []
  }
 ],
 "metadata": {
  "kernelspec": {
   "display_name": "Python 3",
   "language": "python",
   "name": "python3"
  },
  "language_info": {
   "codemirror_mode": {
    "name": "ipython",
    "version": 3
   },
   "file_extension": ".py",
   "mimetype": "text/x-python",
   "name": "python",
   "nbconvert_exporter": "python",
   "pygments_lexer": "ipython3",
   "version": "3.7.1"
  }
 },
 "nbformat": 4,
 "nbformat_minor": 5
}

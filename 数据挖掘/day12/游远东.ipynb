{
 "cells": [
  {
   "cell_type": "markdown",
   "id": "920c0801",
   "metadata": {},
   "source": [
    "1、预测隐形眼镜的类型"
   ]
  },
  {
   "cell_type": "markdown",
   "id": "33c171d3",
   "metadata": {},
   "source": [
    "分析lenses.txt文件"
   ]
  },
  {
   "cell_type": "code",
   "execution_count": 5,
   "id": "d231a7f6",
   "metadata": {},
   "outputs": [],
   "source": [
    "import numpy as np\n",
    "import pandas as pd\n",
    "import matplotlib.pyplot as plt"
   ]
  },
  {
   "cell_type": "code",
   "execution_count": 28,
   "id": "dc773b71",
   "metadata": {},
   "outputs": [],
   "source": [
    "lenses = pd.read_csv('./data/lenses.txt', sep='\\t', header=None)"
   ]
  },
  {
   "cell_type": "code",
   "execution_count": 29,
   "id": "8d0e370c",
   "metadata": {
    "scrolled": true
   },
   "outputs": [
    {
     "data": {
      "text/html": [
       "<div>\n",
       "<style scoped>\n",
       "    .dataframe tbody tr th:only-of-type {\n",
       "        vertical-align: middle;\n",
       "    }\n",
       "\n",
       "    .dataframe tbody tr th {\n",
       "        vertical-align: top;\n",
       "    }\n",
       "\n",
       "    .dataframe thead th {\n",
       "        text-align: right;\n",
       "    }\n",
       "</style>\n",
       "<table border=\"1\" class=\"dataframe\">\n",
       "  <thead>\n",
       "    <tr style=\"text-align: right;\">\n",
       "      <th></th>\n",
       "      <th>0</th>\n",
       "      <th>1</th>\n",
       "      <th>2</th>\n",
       "      <th>3</th>\n",
       "      <th>4</th>\n",
       "    </tr>\n",
       "  </thead>\n",
       "  <tbody>\n",
       "    <tr>\n",
       "      <th>0</th>\n",
       "      <td>young</td>\n",
       "      <td>myope</td>\n",
       "      <td>no</td>\n",
       "      <td>reduced</td>\n",
       "      <td>no lenses</td>\n",
       "    </tr>\n",
       "    <tr>\n",
       "      <th>1</th>\n",
       "      <td>young</td>\n",
       "      <td>myope</td>\n",
       "      <td>no</td>\n",
       "      <td>normal</td>\n",
       "      <td>soft</td>\n",
       "    </tr>\n",
       "    <tr>\n",
       "      <th>2</th>\n",
       "      <td>young</td>\n",
       "      <td>myope</td>\n",
       "      <td>yes</td>\n",
       "      <td>reduced</td>\n",
       "      <td>no lenses</td>\n",
       "    </tr>\n",
       "    <tr>\n",
       "      <th>3</th>\n",
       "      <td>young</td>\n",
       "      <td>myope</td>\n",
       "      <td>yes</td>\n",
       "      <td>normal</td>\n",
       "      <td>hard</td>\n",
       "    </tr>\n",
       "    <tr>\n",
       "      <th>4</th>\n",
       "      <td>young</td>\n",
       "      <td>hyper</td>\n",
       "      <td>no</td>\n",
       "      <td>reduced</td>\n",
       "      <td>no lenses</td>\n",
       "    </tr>\n",
       "  </tbody>\n",
       "</table>\n",
       "</div>"
      ],
      "text/plain": [
       "       0      1    2        3          4\n",
       "0  young  myope   no  reduced  no lenses\n",
       "1  young  myope   no   normal       soft\n",
       "2  young  myope  yes  reduced  no lenses\n",
       "3  young  myope  yes   normal       hard\n",
       "4  young  hyper   no  reduced  no lenses"
      ]
     },
     "execution_count": 29,
     "metadata": {},
     "output_type": "execute_result"
    }
   ],
   "source": [
    "lenses.head()"
   ]
  },
  {
   "cell_type": "code",
   "execution_count": 33,
   "id": "470c3431",
   "metadata": {},
   "outputs": [],
   "source": [
    "for i in range(lenses.shape[1]-1):\n",
    "    lenses[i] = lenses[i].map({n:i for i, n in enumerate(lenses[i].unique())})"
   ]
  },
  {
   "cell_type": "code",
   "execution_count": 34,
   "id": "7b51428a",
   "metadata": {},
   "outputs": [
    {
     "data": {
      "text/html": [
       "<div>\n",
       "<style scoped>\n",
       "    .dataframe tbody tr th:only-of-type {\n",
       "        vertical-align: middle;\n",
       "    }\n",
       "\n",
       "    .dataframe tbody tr th {\n",
       "        vertical-align: top;\n",
       "    }\n",
       "\n",
       "    .dataframe thead th {\n",
       "        text-align: right;\n",
       "    }\n",
       "</style>\n",
       "<table border=\"1\" class=\"dataframe\">\n",
       "  <thead>\n",
       "    <tr style=\"text-align: right;\">\n",
       "      <th></th>\n",
       "      <th>0</th>\n",
       "      <th>1</th>\n",
       "      <th>2</th>\n",
       "      <th>3</th>\n",
       "      <th>4</th>\n",
       "    </tr>\n",
       "  </thead>\n",
       "  <tbody>\n",
       "    <tr>\n",
       "      <th>0</th>\n",
       "      <td>0</td>\n",
       "      <td>0</td>\n",
       "      <td>0</td>\n",
       "      <td>0</td>\n",
       "      <td>no lenses</td>\n",
       "    </tr>\n",
       "    <tr>\n",
       "      <th>1</th>\n",
       "      <td>0</td>\n",
       "      <td>0</td>\n",
       "      <td>0</td>\n",
       "      <td>1</td>\n",
       "      <td>soft</td>\n",
       "    </tr>\n",
       "    <tr>\n",
       "      <th>2</th>\n",
       "      <td>0</td>\n",
       "      <td>0</td>\n",
       "      <td>1</td>\n",
       "      <td>0</td>\n",
       "      <td>no lenses</td>\n",
       "    </tr>\n",
       "    <tr>\n",
       "      <th>3</th>\n",
       "      <td>0</td>\n",
       "      <td>0</td>\n",
       "      <td>1</td>\n",
       "      <td>1</td>\n",
       "      <td>hard</td>\n",
       "    </tr>\n",
       "    <tr>\n",
       "      <th>4</th>\n",
       "      <td>0</td>\n",
       "      <td>1</td>\n",
       "      <td>0</td>\n",
       "      <td>0</td>\n",
       "      <td>no lenses</td>\n",
       "    </tr>\n",
       "  </tbody>\n",
       "</table>\n",
       "</div>"
      ],
      "text/plain": [
       "   0  1  2  3          4\n",
       "0  0  0  0  0  no lenses\n",
       "1  0  0  0  1       soft\n",
       "2  0  0  1  0  no lenses\n",
       "3  0  0  1  1       hard\n",
       "4  0  1  0  0  no lenses"
      ]
     },
     "execution_count": 34,
     "metadata": {},
     "output_type": "execute_result"
    }
   ],
   "source": [
    "lenses.head()"
   ]
  },
  {
   "cell_type": "code",
   "execution_count": 6,
   "id": "58a19d6e",
   "metadata": {},
   "outputs": [],
   "source": [
    "from sklearn.tree import DecisionTreeClassifier"
   ]
  },
  {
   "cell_type": "code",
   "execution_count": 7,
   "id": "995e2c44",
   "metadata": {},
   "outputs": [],
   "source": [
    "from sklearn.model_selection import train_test_split"
   ]
  },
  {
   "cell_type": "code",
   "execution_count": 39,
   "id": "3a0393ca",
   "metadata": {},
   "outputs": [],
   "source": [
    "X_train, X_test, y_train, y_test = train_test_split(lenses.iloc[:, 0:4], lenses.iloc[:, -1], test_size=0.2)"
   ]
  },
  {
   "cell_type": "code",
   "execution_count": 42,
   "id": "73a91cee",
   "metadata": {},
   "outputs": [],
   "source": [
    "tree = DecisionTreeClassifier()"
   ]
  },
  {
   "cell_type": "code",
   "execution_count": 43,
   "id": "c9d7dfa6",
   "metadata": {},
   "outputs": [
    {
     "data": {
      "text/plain": [
       "DecisionTreeClassifier()"
      ]
     },
     "execution_count": 43,
     "metadata": {},
     "output_type": "execute_result"
    }
   ],
   "source": [
    "tree.fit(X_train, y_train)"
   ]
  },
  {
   "cell_type": "code",
   "execution_count": 44,
   "id": "17abc442",
   "metadata": {},
   "outputs": [
    {
     "data": {
      "text/plain": [
       "array(['hard', 'no lenses', 'soft', 'no lenses', 'soft'], dtype=object)"
      ]
     },
     "execution_count": 44,
     "metadata": {},
     "output_type": "execute_result"
    }
   ],
   "source": [
    "tree.predict(X_test)"
   ]
  },
  {
   "cell_type": "code",
   "execution_count": 45,
   "id": "abb2a25f",
   "metadata": {},
   "outputs": [
    {
     "data": {
      "text/plain": [
       "1.0"
      ]
     },
     "execution_count": 45,
     "metadata": {},
     "output_type": "execute_result"
    }
   ],
   "source": [
    "tree.score(X_test, y_test)"
   ]
  },
  {
   "cell_type": "code",
   "execution_count": 46,
   "id": "31d94f78",
   "metadata": {},
   "outputs": [
    {
     "data": {
      "text/plain": [
       "1.0"
      ]
     },
     "execution_count": 46,
     "metadata": {},
     "output_type": "execute_result"
    }
   ],
   "source": [
    "tree.score(X_train, y_train)"
   ]
  },
  {
   "cell_type": "code",
   "execution_count": 8,
   "id": "3c30f834",
   "metadata": {},
   "outputs": [],
   "source": [
    "from sklearn.ensemble import RandomForestClassifier"
   ]
  },
  {
   "cell_type": "code",
   "execution_count": 48,
   "id": "76230ea1",
   "metadata": {},
   "outputs": [
    {
     "data": {
      "text/plain": [
       "array(['hard', 'no lenses', 'soft', 'no lenses', 'soft'], dtype=object)"
      ]
     },
     "execution_count": 48,
     "metadata": {},
     "output_type": "execute_result"
    }
   ],
   "source": [
    "rfc = RandomForestClassifier()\n",
    "rfc.fit(X_train, y_train)\n",
    "rfc.predict(X_test)"
   ]
  },
  {
   "cell_type": "code",
   "execution_count": 49,
   "id": "6e108d4a",
   "metadata": {},
   "outputs": [
    {
     "data": {
      "text/plain": [
       "1.0"
      ]
     },
     "execution_count": 49,
     "metadata": {},
     "output_type": "execute_result"
    }
   ],
   "source": [
    "rfc.score(X_test, y_test)"
   ]
  },
  {
   "cell_type": "markdown",
   "id": "43280223",
   "metadata": {},
   "source": [
    "2、使用make_blobs产生数据，训练模型，并画出类别边界"
   ]
  },
  {
   "cell_type": "code",
   "execution_count": 50,
   "id": "cfddc4ea",
   "metadata": {},
   "outputs": [
    {
     "name": "stderr",
     "output_type": "stream",
     "text": [
      "e:\\mytools\\python\\python37\\lib\\importlib\\_bootstrap.py:219: RuntimeWarning: numpy.ufunc size changed, may indicate binary incompatibility. Expected 192 from C header, got 216 from PyObject\n",
      "  return f(*args, **kwds)\n"
     ]
    }
   ],
   "source": [
    "from sklearn.datasets import make_blobs"
   ]
  },
  {
   "cell_type": "code",
   "execution_count": 52,
   "id": "a5fb873d",
   "metadata": {},
   "outputs": [],
   "source": [
    "data, target = make_blobs()"
   ]
  },
  {
   "cell_type": "code",
   "execution_count": 55,
   "id": "ab12e1a0",
   "metadata": {},
   "outputs": [
    {
     "data": {
      "text/plain": [
       "<matplotlib.collections.PathCollection at 0x21d27128c50>"
      ]
     },
     "execution_count": 55,
     "metadata": {},
     "output_type": "execute_result"
    },
    {
     "data": {
      "image/png": "[encoded data removed]",
      "text/plain": [
       "<Figure size 432x288 with 1 Axes>"
      ]
     },
     "metadata": {
      "needs_background": "light"
     },
     "output_type": "display_data"
    }
   ],
   "source": [
    "plt.scatter(data[:, 0], data[:, 1], c=target)"
   ]
  },
  {
   "cell_type": "code",
   "execution_count": 74,
   "id": "1362365e",
   "metadata": {},
   "outputs": [
    {
     "data": {
      "text/plain": [
       "DecisionTreeClassifier(max_depth=4)"
      ]
     },
     "execution_count": 74,
     "metadata": {},
     "output_type": "execute_result"
    }
   ],
   "source": [
    "tree = DecisionTreeClassifier()\n",
    "tree.fit(data, target)"
   ]
  },
  {
   "cell_type": "code",
   "execution_count": 75,
   "id": "6bfcadb8",
   "metadata": {},
   "outputs": [],
   "source": [
    "x = np.linspace(data[:, 0].min(), data[:, 0].max(), 1000)\n",
    "y = np.linspace(data[:, 1].min(), data[:, 1].max(), 1000)\n",
    "X, Y = np.meshgrid(x, y)"
   ]
  },
  {
   "cell_type": "code",
   "execution_count": 76,
   "id": "6c6791b9",
   "metadata": {},
   "outputs": [],
   "source": [
    "XY = np.c_[X.ravel(), Y.ravel()]"
   ]
  },
  {
   "cell_type": "code",
   "execution_count": 77,
   "id": "d361f334",
   "metadata": {},
   "outputs": [],
   "source": [
    "y_ = tree.predict(XY)"
   ]
  },
  {
   "cell_type": "code",
   "execution_count": 79,
   "id": "e9c9c96c",
   "metadata": {},
   "outputs": [
    {
     "data": {
      "text/plain": [
       "<matplotlib.collections.PathCollection at 0x21d5e1f6400>"
      ]
     },
     "execution_count": 79,
     "metadata": {},
     "output_type": "execute_result"
    },
    {
     "data": {
      "image/png": "[encoded data removed]",
      "text/plain": [
       "<Figure size 432x288 with 1 Axes>"
      ]
     },
     "metadata": {
      "needs_background": "light"
     },
     "output_type": "display_data"
    }
   ],
   "source": [
    "plt.scatter(XY[:, 0], XY[:, 1], c=y_)"
   ]
  },
  {
   "cell_type": "code",
   "execution_count": 78,
   "id": "6ce42bcf",
   "metadata": {
    "scrolled": false
   },
   "outputs": [
    {
     "name": "stderr",
     "output_type": "stream",
     "text": [
      "c:\\users\\ause\\desktop\\python2101\\2101\\env\\lib\\site-packages\\ipykernel_launcher.py:1: MatplotlibDeprecationWarning: shading='flat' when X and Y have the same dimensions as C is deprecated since 3.3.  Either specify the corners of the quadrilaterals with X and Y, or pass shading='auto', 'nearest' or 'gouraud', or set rcParams['pcolor.shading'].  This will become an error two minor releases later.\n",
      "  \"\"\"Entry point for launching an IPython kernel.\n"
     ]
    },
    {
     "data": {
      "text/plain": [
       "<matplotlib.collections.PathCollection at 0x21de5f825f8>"
      ]
     },
     "execution_count": 78,
     "metadata": {},
     "output_type": "execute_result"
    },
    {
     "data": {
      "image/png": "[encoded data removed]",
      "text/plain": [
       "<Figure size 432x288 with 1 Axes>"
      ]
     },
     "metadata": {
      "needs_background": "light"
     },
     "output_type": "display_data"
    }
   ],
   "source": [
    "plt.pcolor(X, Y, y_.reshape(1000, 1000), cmap='rainbow')\n",
    "plt.scatter(data[:, 0], data[:, 1], c=target)"
   ]
  },
  {
   "cell_type": "code",
   "execution_count": 81,
   "id": "ad207665",
   "metadata": {},
   "outputs": [
    {
     "data": {
      "text/plain": [
       "RandomForestClassifier(max_depth=2)"
      ]
     },
     "execution_count": 81,
     "metadata": {},
     "output_type": "execute_result"
    }
   ],
   "source": [
    "rfc = RandomForestClassifier(max_depth=2)\n",
    "rfc.fit(data, target)"
   ]
  },
  {
   "cell_type": "code",
   "execution_count": 82,
   "id": "addf0492",
   "metadata": {},
   "outputs": [],
   "source": [
    "y_r = rfc.predict(XY)"
   ]
  },
  {
   "cell_type": "code",
   "execution_count": 87,
   "id": "85e56bb6",
   "metadata": {},
   "outputs": [
    {
     "data": {
      "text/plain": [
       "<matplotlib.collections.PathCollection at 0x21d8f753518>"
      ]
     },
     "execution_count": 87,
     "metadata": {},
     "output_type": "execute_result"
    },
    {
     "data": {
      "image/png": "[encoded data removed]",
      "text/plain": [
       "<Figure size 432x288 with 1 Axes>"
      ]
     },
     "metadata": {
      "needs_background": "light"
     },
     "output_type": "display_data"
    }
   ],
   "source": [
    "plt.scatter(XY[:, 0], XY[:, 1], c=y_r)\n",
    "plt.scatter(data[:, 0], data[:, 1], c=target, cmap='rainbow')"
   ]
  },
  {
   "cell_type": "markdown",
   "id": "375077af",
   "metadata": {},
   "source": [
    "#### 3. 使用随机森林对手写数字数据集进行预测. 跟其他的算法进行对比. 不光对比得分,还对比训练和预测的时间. 还要对随机森林进行调参, 调到合适拟合的状态."
   ]
  },
  {
   "cell_type": "code",
   "execution_count": 1,
   "id": "af9c50c3",
   "metadata": {},
   "outputs": [],
   "source": [
    "from sklearn.datasets import load_digits"
   ]
  },
  {
   "cell_type": "code",
   "execution_count": 2,
   "id": "a4dc4e9a",
   "metadata": {},
   "outputs": [],
   "source": [
    "digits = load_digits()"
   ]
  },
  {
   "cell_type": "code",
   "execution_count": 3,
   "id": "7f82a453",
   "metadata": {},
   "outputs": [],
   "source": [
    "data = digits.data"
   ]
  },
  {
   "cell_type": "code",
   "execution_count": 9,
   "id": "612b1f88",
   "metadata": {},
   "outputs": [
    {
     "data": {
      "text/plain": [
       "<matplotlib.image.AxesImage at 0x201e4bcae10>"
      ]
     },
     "execution_count": 9,
     "metadata": {},
     "output_type": "execute_result"
    },
    {
     "data": {
      "image/png": "[encoded data removed]",
      "text/plain": [
       "<Figure size 432x288 with 1 Axes>"
      ]
     },
     "metadata": {
      "needs_background": "light"
     },
     "output_type": "display_data"
    }
   ],
   "source": [
    "plt.imshow(digits.images[0], cmap='gray')"
   ]
  },
  {
   "cell_type": "code",
   "execution_count": 10,
   "id": "e1f68f51",
   "metadata": {},
   "outputs": [],
   "source": [
    "target = digits.target"
   ]
  },
  {
   "cell_type": "code",
   "execution_count": 11,
   "id": "09c69bc1",
   "metadata": {},
   "outputs": [],
   "source": [
    "from sklearn.neighbors import KNeighborsClassifier"
   ]
  },
  {
   "cell_type": "code",
   "execution_count": 12,
   "id": "fc5ebb6a",
   "metadata": {},
   "outputs": [],
   "source": [
    "from sklearn.linear_model import LogisticRegression"
   ]
  },
  {
   "cell_type": "code",
   "execution_count": 13,
   "id": "0066ebf0",
   "metadata": {},
   "outputs": [],
   "source": [
    "from sklearn.tree import DecisionTreeClassifier"
   ]
  },
  {
   "cell_type": "code",
   "execution_count": 14,
   "id": "1b12c29f",
   "metadata": {},
   "outputs": [],
   "source": [
    "from sklearn.ensemble import RandomForestClassifier"
   ]
  },
  {
   "cell_type": "code",
   "execution_count": 15,
   "id": "a5137eb2",
   "metadata": {
    "scrolled": true
   },
   "outputs": [],
   "source": [
    "X_train, X_test, y_train, y_test = train_test_split(data, target, test_size=0.2)"
   ]
  },
  {
   "cell_type": "code",
   "execution_count": 97,
   "id": "de4295da",
   "metadata": {},
   "outputs": [],
   "source": [
    "depth = {}\n",
    "for i in range(1,50):\n",
    "    tree = DecisionTreeClassifier(max_depth=i)\n",
    "    tree.fit(X_train, y_train)\n",
    "    if tree.score(X_test, y_test)> 0.6:\n",
    "        n = abs(tree.score(X_test, y_test)-tree.score(X_train, y_train))\n",
    "        depth[i] = n"
   ]
  },
  {
   "cell_type": "code",
   "execution_count": 115,
   "id": "53079311",
   "metadata": {
    "scrolled": true
   },
   "outputs": [
    {
     "ename": "AttributeError",
     "evalue": "'dict' object has no attribute 'iteritems'",
     "output_type": "error",
     "traceback": [
      "\u001b[1;31m---------------------------------------------------------------------------\u001b[0m",
      "\u001b[1;31mAttributeError\u001b[0m                            Traceback (most recent call last)",
      "\u001b[1;32m<ipython-input-115-7a74ecca467e>\u001b[0m in \u001b[0;36m<module>\u001b[1;34m\u001b[0m\n\u001b[1;32m----> 1\u001b[1;33m \u001b[0mdepth\u001b[0m\u001b[1;33m.\u001b[0m\u001b[0mkeys\u001b[0m\u001b[1;33m(\u001b[0m\u001b[0mmin\u001b[0m\u001b[1;33m(\u001b[0m\u001b[0mdepth\u001b[0m\u001b[1;33m.\u001b[0m\u001b[0miteritems\u001b[0m\u001b[1;33m(\u001b[0m\u001b[1;33m)\u001b[0m\u001b[1;33m,\u001b[0m \u001b[0mkey\u001b[0m\u001b[1;33m=\u001b[0m\u001b[1;32mlambda\u001b[0m \u001b[0mdepth\u001b[0m \u001b[1;33m:\u001b[0m \u001b[0mdepth\u001b[0m\u001b[1;33m[\u001b[0m\u001b[1;36m1\u001b[0m\u001b[1;33m]\u001b[0m\u001b[1;33m)\u001b[0m\u001b[1;33m)\u001b[0m\u001b[1;33m\u001b[0m\u001b[1;33m\u001b[0m\u001b[0m\n\u001b[0m",
      "\u001b[1;31mAttributeError\u001b[0m: 'dict' object has no attribute 'iteritems'"
     ]
    }
   ],
   "source": [
    "depth.keys(min(depth.iteritems(), key=lambda depth : depth[1]))"
   ]
  },
  {
   "cell_type": "code",
   "execution_count": 94,
   "id": "12d1a519",
   "metadata": {},
   "outputs": [],
   "source": [
    "depth2 = {}\n",
    "for i in range(1,50):\n",
    "    rfc = RandomForestClassifier(max_depth=i)\n",
    "    rfc.fit(X_train, y_train)\n",
    "    if rfc.score(X_test, y_test)> 0.6:\n",
    "        n = abs(rfc.score(X_test, y_test)-rfc.score(X_train, y_train))\n",
    "        depth2[i] = n"
   ]
  },
  {
   "cell_type": "code",
   "execution_count": 95,
   "id": "9f96eaf2",
   "metadata": {},
   "outputs": [
    {
     "data": {
      "text/plain": [
       "{1: 0.03323474831825568,\n",
       " 2: 0.01695082347483179,\n",
       " 3: 0.02590466249130141,\n",
       " 4: 0.003595453491069378,\n",
       " 5: 0.021468336812804467,\n",
       " 6: 0.009690327070285387,\n",
       " 7: 0.023602412433310183,\n",
       " 8: 0.023608211551844116,\n",
       " 9: 0.01597077244258882,\n",
       " 10: 0.022222222222222254,\n",
       " 11: 0.01388888888888884,\n",
       " 12: 0.025000000000000022,\n",
       " 13: 0.011111111111111072,\n",
       " 14: 0.019444444444444486,\n",
       " 15: 0.01666666666666672,\n",
       " 16: 0.022222222222222254,\n",
       " 17: 0.019444444444444486,\n",
       " 18: 0.01666666666666672,\n",
       " 19: 0.01666666666666672,\n",
       " 20: 0.022222222222222254,\n",
       " 21: 0.01388888888888884,\n",
       " 22: 0.019444444444444486,\n",
       " 23: 0.019444444444444486,\n",
       " 24: 0.022222222222222254,\n",
       " 25: 0.01388888888888884,\n",
       " 26: 0.01666666666666672,\n",
       " 27: 0.01388888888888884,\n",
       " 28: 0.02777777777777779,\n",
       " 29: 0.022222222222222254,\n",
       " 30: 0.01666666666666672,\n",
       " 31: 0.01666666666666672,\n",
       " 32: 0.01388888888888884,\n",
       " 33: 0.011111111111111072,\n",
       " 34: 0.01666666666666672,\n",
       " 35: 0.019444444444444486,\n",
       " 36: 0.019444444444444486,\n",
       " 37: 0.011111111111111072,\n",
       " 38: 0.01666666666666672,\n",
       " 39: 0.01388888888888884,\n",
       " 40: 0.01666666666666672,\n",
       " 41: 0.019444444444444486,\n",
       " 42: 0.01388888888888884,\n",
       " 43: 0.008333333333333304,\n",
       " 44: 0.019444444444444486,\n",
       " 45: 0.019444444444444486,\n",
       " 46: 0.019444444444444486,\n",
       " 47: 0.011111111111111072,\n",
       " 48: 0.019444444444444486,\n",
       " 49: 0.011111111111111072}"
      ]
     },
     "execution_count": 95,
     "metadata": {},
     "output_type": "execute_result"
    }
   ],
   "source": [
    "depth2"
   ]
  },
  {
   "cell_type": "code",
   "execution_count": 89,
   "id": "bdaf421c",
   "metadata": {},
   "outputs": [],
   "source": [
    "knn = KNeighborsClassifier()\n",
    "logistic = LogisticRegression(max_iter=10000)\n",
    "tree = DecisionTreeClassifier(max_depth=depth.index(max(depth))+1)\n",
    "rfc = RandomForestClassifier(max_depth=depth2.index(max(depth2))+1)"
   ]
  },
  {
   "cell_type": "code",
   "execution_count": 90,
   "id": "33021261",
   "metadata": {},
   "outputs": [
    {
     "name": "stdout",
     "output_type": "stream",
     "text": [
      "Wall time: 999 µs\n",
      "Wall time: 3.09 s\n",
      "Wall time: 2.99 ms\n",
      "Wall time: 149 ms\n"
     ]
    },
    {
     "data": {
      "text/plain": [
       "RandomForestClassifier(max_depth=1)"
      ]
     },
     "execution_count": 90,
     "metadata": {},
     "output_type": "execute_result"
    }
   ],
   "source": [
    "%time knn.fit(X_train, y_train)\n",
    "%time logistic.fit(X_train, y_train)\n",
    "%time tree.fit(X_train, y_train)\n",
    "%time rfc.fit(X_train, y_train)"
   ]
  },
  {
   "cell_type": "code",
   "execution_count": 91,
   "id": "5c1ea57d",
   "metadata": {},
   "outputs": [
    {
     "data": {
      "text/plain": [
       "0.988865692414753"
      ]
     },
     "metadata": {},
     "output_type": "display_data"
    },
    {
     "data": {
      "text/plain": [
       "1.0"
      ]
     },
     "metadata": {},
     "output_type": "display_data"
    },
    {
     "data": {
      "text/plain": [
       "0.1990257480862909"
      ]
     },
     "metadata": {},
     "output_type": "display_data"
    },
    {
     "data": {
      "text/plain": [
       "0.6896311760612387"
      ]
     },
     "metadata": {},
     "output_type": "display_data"
    }
   ],
   "source": [
    "display(knn.score(X_train, y_train),logistic.score(X_train, y_train),tree.score(X_train, y_train),rfc.score(X_train, y_train))"
   ]
  },
  {
   "cell_type": "code",
   "execution_count": 92,
   "id": "c9717966",
   "metadata": {},
   "outputs": [
    {
     "data": {
      "text/plain": [
       "0.9916666666666667"
      ]
     },
     "metadata": {},
     "output_type": "display_data"
    },
    {
     "data": {
      "text/plain": [
       "0.9777777777777777"
      ]
     },
     "metadata": {},
     "output_type": "display_data"
    },
    {
     "data": {
      "text/plain": [
       "0.19444444444444445"
      ]
     },
     "metadata": {},
     "output_type": "display_data"
    },
    {
     "data": {
      "text/plain": [
       "0.6944444444444444"
      ]
     },
     "metadata": {},
     "output_type": "display_data"
    }
   ],
   "source": [
    "display(knn.score(X_test, y_test),logistic.score(X_test, y_test),tree.score(X_test, y_test),rfc.score(X_test, y_test))"
   ]
  },
  {
   "cell_type": "code",
   "execution_count": null,
   "id": "b09c5bfa",
   "metadata": {},
   "outputs": [],
   "source": []
  }
 ],
 "metadata": {
  "kernelspec": {
   "display_name": "Python 3",
   "language": "python",
   "name": "python3"
  },
  "language_info": {
   "codemirror_mode": {
    "name": "ipython",
    "version": 3
   },
   "file_extension": ".py",
   "mimetype": "text/x-python",
   "name": "python",
   "nbconvert_exporter": "python",
   "pygments_lexer": "ipython3",
   "version": "3.7.1"
  }
 },
 "nbformat": 4,
 "nbformat_minor": 5
}

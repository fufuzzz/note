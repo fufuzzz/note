{
 "cells": [
  {
   "cell_type": "markdown",
   "metadata": {},
   "source": [
    "# 城市气候与海洋的关系研究"
   ]
  },
  {
   "cell_type": "markdown",
   "metadata": {},
   "source": [
    "导入包"
   ]
  },
  {
   "cell_type": "code",
   "execution_count": 14,
   "metadata": {},
   "outputs": [],
   "source": [
    "import numpy as np\n",
    "import pandas as pd\n",
    "from pandas import DataFrame, Series\n",
    "import matplotlib.pyplot as plt\n",
    "import os"
   ]
  },
  {
   "cell_type": "markdown",
   "metadata": {},
   "source": [
    "导入数据各个海滨城市数据"
   ]
  },
  {
   "cell_type": "code",
   "execution_count": 59,
   "metadata": {},
   "outputs": [],
   "source": [
    "def search_file(df, path):\n",
    "    if not os.path.exists(path):\n",
    "        print('路径不存在')\n",
    "    filename_list = os.listdir(path)\n",
    "    for filename in filename_list:\n",
    "        file_path = os.path.join(path, filename)\n",
    "        if os.path.isfile(file_path):\n",
    "            if file_path.endswith('csv'):\n",
    "                df2 = pd.read_csv(f'./{filename}', index_col=0)\n",
    "                df = pd.concat((df, df2), ignore_index=True)\n",
    "        else:\n",
    "            search_file(df, file_path)\n",
    "    return df\n"
   ]
  },
  {
   "cell_type": "code",
   "execution_count": null,
   "metadata": {},
   "outputs": [],
   "source": [
    "# 写一个函数, 可以打印出指定目录下的普通文件,以及该目录下子目录及子目录的普通文件"
   ]
  },
  {
   "cell_type": "code",
   "execution_count": 67,
   "metadata": {},
   "outputs": [],
   "source": [
    "df = DataFrame()\n",
    "df = search_file(df, '../Sea distance/')"
   ]
  },
  {
   "cell_type": "markdown",
   "metadata": {},
   "source": [
    "查看行数"
   ]
  },
  {
   "cell_type": "code",
   "execution_count": 68,
   "metadata": {},
   "outputs": [
    {
     "data": {
      "text/plain": [
       "RangeIndex(start=0, stop=675, step=1)"
      ]
     },
     "execution_count": 68,
     "metadata": {},
     "output_type": "execute_result"
    }
   ],
   "source": [
    "df.index"
   ]
  },
  {
   "cell_type": "markdown",
   "metadata": {},
   "source": [
    "去除没用的行"
   ]
  },
  {
   "cell_type": "code",
   "execution_count": 142,
   "metadata": {
    "scrolled": false
   },
   "outputs": [
    {
     "data": {
      "text/html": [
       "<div>\n",
       "<style scoped>\n",
       "    .dataframe tbody tr th:only-of-type {\n",
       "        vertical-align: middle;\n",
       "    }\n",
       "\n",
       "    .dataframe tbody tr th {\n",
       "        vertical-align: top;\n",
       "    }\n",
       "\n",
       "    .dataframe thead th {\n",
       "        text-align: right;\n",
       "    }\n",
       "</style>\n",
       "<table border=\"1\" class=\"dataframe\">\n",
       "  <thead>\n",
       "    <tr style=\"text-align: right;\">\n",
       "      <th></th>\n",
       "      <th>temp</th>\n",
       "      <th>humidity</th>\n",
       "      <th>pressure</th>\n",
       "      <th>description</th>\n",
       "      <th>dt</th>\n",
       "      <th>wind_speed</th>\n",
       "      <th>wind_deg</th>\n",
       "      <th>city</th>\n",
       "      <th>day</th>\n",
       "      <th>dist</th>\n",
       "    </tr>\n",
       "  </thead>\n",
       "  <tbody>\n",
       "    <tr>\n",
       "      <th>0</th>\n",
       "      <td>28.05</td>\n",
       "      <td>66</td>\n",
       "      <td>1014.0</td>\n",
       "      <td>Sky is Clear</td>\n",
       "      <td>1436863176</td>\n",
       "      <td>2.57</td>\n",
       "      <td>42.501</td>\n",
       "      <td>Asti</td>\n",
       "      <td>2015-07-14 10:39:36</td>\n",
       "      <td>315</td>\n",
       "    </tr>\n",
       "    <tr>\n",
       "      <th>1</th>\n",
       "      <td>29.51</td>\n",
       "      <td>64</td>\n",
       "      <td>1014.0</td>\n",
       "      <td>Sky is Clear</td>\n",
       "      <td>1436866759</td>\n",
       "      <td>1.54</td>\n",
       "      <td>263.000</td>\n",
       "      <td>Asti</td>\n",
       "      <td>2015-07-14 11:39:19</td>\n",
       "      <td>315</td>\n",
       "    </tr>\n",
       "    <tr>\n",
       "      <th>2</th>\n",
       "      <td>30.39</td>\n",
       "      <td>58</td>\n",
       "      <td>1017.0</td>\n",
       "      <td>Sky is Clear</td>\n",
       "      <td>1436870510</td>\n",
       "      <td>2.60</td>\n",
       "      <td>100.000</td>\n",
       "      <td>Asti</td>\n",
       "      <td>2015-07-14 12:41:50</td>\n",
       "      <td>315</td>\n",
       "    </tr>\n",
       "    <tr>\n",
       "      <th>3</th>\n",
       "      <td>31.10</td>\n",
       "      <td>54</td>\n",
       "      <td>1017.0</td>\n",
       "      <td>Sky is Clear</td>\n",
       "      <td>1436874098</td>\n",
       "      <td>2.10</td>\n",
       "      <td>90.000</td>\n",
       "      <td>Asti</td>\n",
       "      <td>2015-07-14 13:41:38</td>\n",
       "      <td>315</td>\n",
       "    </tr>\n",
       "    <tr>\n",
       "      <th>4</th>\n",
       "      <td>33.23</td>\n",
       "      <td>45</td>\n",
       "      <td>1016.0</td>\n",
       "      <td>few clouds</td>\n",
       "      <td>1436877645</td>\n",
       "      <td>2.10</td>\n",
       "      <td>120.000</td>\n",
       "      <td>Asti</td>\n",
       "      <td>2015-07-14 14:40:45</td>\n",
       "      <td>315</td>\n",
       "    </tr>\n",
       "    <tr>\n",
       "      <th>...</th>\n",
       "      <td>...</td>\n",
       "      <td>...</td>\n",
       "      <td>...</td>\n",
       "      <td>...</td>\n",
       "      <td>...</td>\n",
       "      <td>...</td>\n",
       "      <td>...</td>\n",
       "      <td>...</td>\n",
       "      <td>...</td>\n",
       "      <td>...</td>\n",
       "    </tr>\n",
       "    <tr>\n",
       "      <th>670</th>\n",
       "      <td>20.50</td>\n",
       "      <td>77</td>\n",
       "      <td>1017.0</td>\n",
       "      <td>broken clouds</td>\n",
       "      <td>1435456195</td>\n",
       "      <td>2.10</td>\n",
       "      <td>340.000</td>\n",
       "      <td>Torino</td>\n",
       "      <td>2015-06-28 03:49:55</td>\n",
       "      <td>357</td>\n",
       "    </tr>\n",
       "    <tr>\n",
       "      <th>671</th>\n",
       "      <td>18.94</td>\n",
       "      <td>77</td>\n",
       "      <td>1018.0</td>\n",
       "      <td>few clouds</td>\n",
       "      <td>1435459725</td>\n",
       "      <td>2.60</td>\n",
       "      <td>30.000</td>\n",
       "      <td>Torino</td>\n",
       "      <td>2015-06-28 04:48:45</td>\n",
       "      <td>357</td>\n",
       "    </tr>\n",
       "    <tr>\n",
       "      <th>672</th>\n",
       "      <td>19.07</td>\n",
       "      <td>77</td>\n",
       "      <td>1018.0</td>\n",
       "      <td>Sky is Clear</td>\n",
       "      <td>1435463493</td>\n",
       "      <td>2.10</td>\n",
       "      <td>360.000</td>\n",
       "      <td>Torino</td>\n",
       "      <td>2015-06-28 05:51:33</td>\n",
       "      <td>357</td>\n",
       "    </tr>\n",
       "    <tr>\n",
       "      <th>673</th>\n",
       "      <td>19.05</td>\n",
       "      <td>82</td>\n",
       "      <td>1018.0</td>\n",
       "      <td>Sky is Clear</td>\n",
       "      <td>1435466876</td>\n",
       "      <td>1.50</td>\n",
       "      <td>10.000</td>\n",
       "      <td>Torino</td>\n",
       "      <td>2015-06-28 06:47:56</td>\n",
       "      <td>357</td>\n",
       "    </tr>\n",
       "    <tr>\n",
       "      <th>674</th>\n",
       "      <td>21.20</td>\n",
       "      <td>82</td>\n",
       "      <td>1018.0</td>\n",
       "      <td>Sky is Clear</td>\n",
       "      <td>1435470573</td>\n",
       "      <td>1.00</td>\n",
       "      <td>40.000</td>\n",
       "      <td>Torino</td>\n",
       "      <td>2015-06-28 07:49:33</td>\n",
       "      <td>357</td>\n",
       "    </tr>\n",
       "  </tbody>\n",
       "</table>\n",
       "<p>675 rows × 10 columns</p>\n",
       "</div>"
      ],
      "text/plain": [
       "      temp  humidity  pressure    description          dt  wind_speed  wind_deg    city                  day  dist\n",
       "0    28.05        66    1014.0   Sky is Clear  1436863176        2.57    42.501    Asti  2015-07-14 10:39:36   315\n",
       "1    29.51        64    1014.0   Sky is Clear  1436866759        1.54   263.000    Asti  2015-07-14 11:39:19   315\n",
       "2    30.39        58    1017.0   Sky is Clear  1436870510        2.60   100.000    Asti  2015-07-14 12:41:50   315\n",
       "3    31.10        54    1017.0   Sky is Clear  1436874098        2.10    90.000    Asti  2015-07-14 13:41:38   315\n",
       "4    33.23        45    1016.0     few clouds  1436877645        2.10   120.000    Asti  2015-07-14 14:40:45   315\n",
       "..     ...       ...       ...            ...         ...         ...       ...     ...                  ...   ...\n",
       "670  20.50        77    1017.0  broken clouds  1435456195        2.10   340.000  Torino  2015-06-28 03:49:55   357\n",
       "671  18.94        77    1018.0     few clouds  1435459725        2.60    30.000  Torino  2015-06-28 04:48:45   357\n",
       "672  19.07        77    1018.0   Sky is Clear  1435463493        2.10   360.000  Torino  2015-06-28 05:51:33   357\n",
       "673  19.05        82    1018.0   Sky is Clear  1435466876        1.50    10.000  Torino  2015-06-28 06:47:56   357\n",
       "674  21.20        82    1018.0   Sky is Clear  1435470573        1.00    40.000  Torino  2015-06-28 07:49:33   357\n",
       "\n",
       "[675 rows x 10 columns]"
      ]
     },
     "execution_count": 142,
     "metadata": {},
     "output_type": "execute_result"
    }
   ],
   "source": [
    "df.loc[~(df.isnull().any(axis=1))]"
   ]
  },
  {
   "cell_type": "code",
   "execution_count": 149,
   "metadata": {},
   "outputs": [
    {
     "data": {
      "text/html": [
       "<div>\n",
       "<style scoped>\n",
       "    .dataframe tbody tr th:only-of-type {\n",
       "        vertical-align: middle;\n",
       "    }\n",
       "\n",
       "    .dataframe tbody tr th {\n",
       "        vertical-align: top;\n",
       "    }\n",
       "\n",
       "    .dataframe thead th {\n",
       "        text-align: right;\n",
       "    }\n",
       "</style>\n",
       "<table border=\"1\" class=\"dataframe\">\n",
       "  <thead>\n",
       "    <tr style=\"text-align: right;\">\n",
       "      <th></th>\n",
       "      <th>temp</th>\n",
       "      <th>humidity</th>\n",
       "      <th>pressure</th>\n",
       "      <th>description</th>\n",
       "      <th>dt</th>\n",
       "      <th>wind_speed</th>\n",
       "      <th>wind_deg</th>\n",
       "      <th>city</th>\n",
       "      <th>day</th>\n",
       "      <th>dist</th>\n",
       "    </tr>\n",
       "  </thead>\n",
       "  <tbody>\n",
       "    <tr>\n",
       "      <th>0</th>\n",
       "      <td>28.05</td>\n",
       "      <td>66</td>\n",
       "      <td>1014.0</td>\n",
       "      <td>Sky is Clear</td>\n",
       "      <td>1436863176</td>\n",
       "      <td>2.57</td>\n",
       "      <td>42.501</td>\n",
       "      <td>Asti</td>\n",
       "      <td>2015-07-14 10:39:36</td>\n",
       "      <td>315</td>\n",
       "    </tr>\n",
       "    <tr>\n",
       "      <th>1</th>\n",
       "      <td>29.51</td>\n",
       "      <td>64</td>\n",
       "      <td>1014.0</td>\n",
       "      <td>Sky is Clear</td>\n",
       "      <td>1436866759</td>\n",
       "      <td>1.54</td>\n",
       "      <td>263.000</td>\n",
       "      <td>Asti</td>\n",
       "      <td>2015-07-14 11:39:19</td>\n",
       "      <td>315</td>\n",
       "    </tr>\n",
       "    <tr>\n",
       "      <th>2</th>\n",
       "      <td>30.39</td>\n",
       "      <td>58</td>\n",
       "      <td>1017.0</td>\n",
       "      <td>Sky is Clear</td>\n",
       "      <td>1436870510</td>\n",
       "      <td>2.60</td>\n",
       "      <td>100.000</td>\n",
       "      <td>Asti</td>\n",
       "      <td>2015-07-14 12:41:50</td>\n",
       "      <td>315</td>\n",
       "    </tr>\n",
       "    <tr>\n",
       "      <th>3</th>\n",
       "      <td>31.10</td>\n",
       "      <td>54</td>\n",
       "      <td>1017.0</td>\n",
       "      <td>Sky is Clear</td>\n",
       "      <td>1436874098</td>\n",
       "      <td>2.10</td>\n",
       "      <td>90.000</td>\n",
       "      <td>Asti</td>\n",
       "      <td>2015-07-14 13:41:38</td>\n",
       "      <td>315</td>\n",
       "    </tr>\n",
       "    <tr>\n",
       "      <th>4</th>\n",
       "      <td>33.23</td>\n",
       "      <td>45</td>\n",
       "      <td>1016.0</td>\n",
       "      <td>few clouds</td>\n",
       "      <td>1436877645</td>\n",
       "      <td>2.10</td>\n",
       "      <td>120.000</td>\n",
       "      <td>Asti</td>\n",
       "      <td>2015-07-14 14:40:45</td>\n",
       "      <td>315</td>\n",
       "    </tr>\n",
       "    <tr>\n",
       "      <th>...</th>\n",
       "      <td>...</td>\n",
       "      <td>...</td>\n",
       "      <td>...</td>\n",
       "      <td>...</td>\n",
       "      <td>...</td>\n",
       "      <td>...</td>\n",
       "      <td>...</td>\n",
       "      <td>...</td>\n",
       "      <td>...</td>\n",
       "      <td>...</td>\n",
       "    </tr>\n",
       "    <tr>\n",
       "      <th>670</th>\n",
       "      <td>20.50</td>\n",
       "      <td>77</td>\n",
       "      <td>1017.0</td>\n",
       "      <td>broken clouds</td>\n",
       "      <td>1435456195</td>\n",
       "      <td>2.10</td>\n",
       "      <td>340.000</td>\n",
       "      <td>Torino</td>\n",
       "      <td>2015-06-28 03:49:55</td>\n",
       "      <td>357</td>\n",
       "    </tr>\n",
       "    <tr>\n",
       "      <th>671</th>\n",
       "      <td>18.94</td>\n",
       "      <td>77</td>\n",
       "      <td>1018.0</td>\n",
       "      <td>few clouds</td>\n",
       "      <td>1435459725</td>\n",
       "      <td>2.60</td>\n",
       "      <td>30.000</td>\n",
       "      <td>Torino</td>\n",
       "      <td>2015-06-28 04:48:45</td>\n",
       "      <td>357</td>\n",
       "    </tr>\n",
       "    <tr>\n",
       "      <th>672</th>\n",
       "      <td>19.07</td>\n",
       "      <td>77</td>\n",
       "      <td>1018.0</td>\n",
       "      <td>Sky is Clear</td>\n",
       "      <td>1435463493</td>\n",
       "      <td>2.10</td>\n",
       "      <td>360.000</td>\n",
       "      <td>Torino</td>\n",
       "      <td>2015-06-28 05:51:33</td>\n",
       "      <td>357</td>\n",
       "    </tr>\n",
       "    <tr>\n",
       "      <th>673</th>\n",
       "      <td>19.05</td>\n",
       "      <td>82</td>\n",
       "      <td>1018.0</td>\n",
       "      <td>Sky is Clear</td>\n",
       "      <td>1435466876</td>\n",
       "      <td>1.50</td>\n",
       "      <td>10.000</td>\n",
       "      <td>Torino</td>\n",
       "      <td>2015-06-28 06:47:56</td>\n",
       "      <td>357</td>\n",
       "    </tr>\n",
       "    <tr>\n",
       "      <th>674</th>\n",
       "      <td>21.20</td>\n",
       "      <td>82</td>\n",
       "      <td>1018.0</td>\n",
       "      <td>Sky is Clear</td>\n",
       "      <td>1435470573</td>\n",
       "      <td>1.00</td>\n",
       "      <td>40.000</td>\n",
       "      <td>Torino</td>\n",
       "      <td>2015-06-28 07:49:33</td>\n",
       "      <td>357</td>\n",
       "    </tr>\n",
       "  </tbody>\n",
       "</table>\n",
       "<p>675 rows × 10 columns</p>\n",
       "</div>"
      ],
      "text/plain": [
       "      temp  humidity  pressure    description          dt  wind_speed  wind_deg    city                  day  dist\n",
       "0    28.05        66    1014.0   Sky is Clear  1436863176        2.57    42.501    Asti  2015-07-14 10:39:36   315\n",
       "1    29.51        64    1014.0   Sky is Clear  1436866759        1.54   263.000    Asti  2015-07-14 11:39:19   315\n",
       "2    30.39        58    1017.0   Sky is Clear  1436870510        2.60   100.000    Asti  2015-07-14 12:41:50   315\n",
       "3    31.10        54    1017.0   Sky is Clear  1436874098        2.10    90.000    Asti  2015-07-14 13:41:38   315\n",
       "4    33.23        45    1016.0     few clouds  1436877645        2.10   120.000    Asti  2015-07-14 14:40:45   315\n",
       "..     ...       ...       ...            ...         ...         ...       ...     ...                  ...   ...\n",
       "670  20.50        77    1017.0  broken clouds  1435456195        2.10   340.000  Torino  2015-06-28 03:49:55   357\n",
       "671  18.94        77    1018.0     few clouds  1435459725        2.60    30.000  Torino  2015-06-28 04:48:45   357\n",
       "672  19.07        77    1018.0   Sky is Clear  1435463493        2.10   360.000  Torino  2015-06-28 05:51:33   357\n",
       "673  19.05        82    1018.0   Sky is Clear  1435466876        1.50    10.000  Torino  2015-06-28 06:47:56   357\n",
       "674  21.20        82    1018.0   Sky is Clear  1435470573        1.00    40.000  Torino  2015-06-28 07:49:33   357\n",
       "\n",
       "[675 rows x 10 columns]"
      ]
     },
     "execution_count": 149,
     "metadata": {},
     "output_type": "execute_result"
    }
   ],
   "source": [
    "df.loc[~(df.duplicated(keep='last'))]"
   ]
  },
  {
   "cell_type": "markdown",
   "metadata": {},
   "source": [
    "各城市与海洋距离，最高温度，最低温度，最高湿度，最低湿度"
   ]
  },
  {
   "cell_type": "code",
   "execution_count": 104,
   "metadata": {},
   "outputs": [
    {
     "data": {
      "text/html": [
       "<div>\n",
       "<style scoped>\n",
       "    .dataframe tbody tr th:only-of-type {\n",
       "        vertical-align: middle;\n",
       "    }\n",
       "\n",
       "    .dataframe tbody tr th {\n",
       "        vertical-align: top;\n",
       "    }\n",
       "\n",
       "    .dataframe thead th {\n",
       "        text-align: right;\n",
       "    }\n",
       "</style>\n",
       "<table border=\"1\" class=\"dataframe\">\n",
       "  <thead>\n",
       "    <tr style=\"text-align: right;\">\n",
       "      <th></th>\n",
       "      <th>dist</th>\n",
       "    </tr>\n",
       "    <tr>\n",
       "      <th>city</th>\n",
       "      <th></th>\n",
       "    </tr>\n",
       "  </thead>\n",
       "  <tbody>\n",
       "    <tr>\n",
       "      <th>Asti</th>\n",
       "      <td>315</td>\n",
       "    </tr>\n",
       "    <tr>\n",
       "      <th>Bologna</th>\n",
       "      <td>71</td>\n",
       "    </tr>\n",
       "    <tr>\n",
       "      <th>Cesena</th>\n",
       "      <td>14</td>\n",
       "    </tr>\n",
       "    <tr>\n",
       "      <th>Faenza</th>\n",
       "      <td>37</td>\n",
       "    </tr>\n",
       "    <tr>\n",
       "      <th>Ferrara</th>\n",
       "      <td>47</td>\n",
       "    </tr>\n",
       "    <tr>\n",
       "      <th>Mantova</th>\n",
       "      <td>121</td>\n",
       "    </tr>\n",
       "    <tr>\n",
       "      <th>Milano</th>\n",
       "      <td>250</td>\n",
       "    </tr>\n",
       "    <tr>\n",
       "      <th>Piacenza</th>\n",
       "      <td>200</td>\n",
       "    </tr>\n",
       "    <tr>\n",
       "      <th>Ravenna</th>\n",
       "      <td>8</td>\n",
       "    </tr>\n",
       "    <tr>\n",
       "      <th>Torino</th>\n",
       "      <td>357</td>\n",
       "    </tr>\n",
       "  </tbody>\n",
       "</table>\n",
       "</div>"
      ],
      "text/plain": [
       "          dist\n",
       "city          \n",
       "Asti       315\n",
       "Bologna     71\n",
       "Cesena      14\n",
       "Faenza      37\n",
       "Ferrara     47\n",
       "Mantova    121\n",
       "Milano     250\n",
       "Piacenza   200\n",
       "Ravenna      8\n",
       "Torino     357"
      ]
     },
     "execution_count": 104,
     "metadata": {},
     "output_type": "execute_result"
    }
   ],
   "source": [
    "dist = df.groupby(by='city')[['dist']].mean()\n",
    "dist"
   ]
  },
  {
   "cell_type": "code",
   "execution_count": 106,
   "metadata": {},
   "outputs": [
    {
     "data": {
      "text/html": [
       "<div>\n",
       "<style scoped>\n",
       "    .dataframe tbody tr th:only-of-type {\n",
       "        vertical-align: middle;\n",
       "    }\n",
       "\n",
       "    .dataframe tbody tr th {\n",
       "        vertical-align: top;\n",
       "    }\n",
       "\n",
       "    .dataframe thead th {\n",
       "        text-align: right;\n",
       "    }\n",
       "</style>\n",
       "<table border=\"1\" class=\"dataframe\">\n",
       "  <thead>\n",
       "    <tr style=\"text-align: right;\">\n",
       "      <th></th>\n",
       "      <th>temp</th>\n",
       "    </tr>\n",
       "    <tr>\n",
       "      <th>city</th>\n",
       "      <th></th>\n",
       "    </tr>\n",
       "  </thead>\n",
       "  <tbody>\n",
       "    <tr>\n",
       "      <th>Asti</th>\n",
       "      <td>34.31</td>\n",
       "    </tr>\n",
       "    <tr>\n",
       "      <th>Bologna</th>\n",
       "      <td>33.85</td>\n",
       "    </tr>\n",
       "    <tr>\n",
       "      <th>Cesena</th>\n",
       "      <td>32.81</td>\n",
       "    </tr>\n",
       "    <tr>\n",
       "      <th>Faenza</th>\n",
       "      <td>32.74</td>\n",
       "    </tr>\n",
       "    <tr>\n",
       "      <th>Ferrara</th>\n",
       "      <td>33.43</td>\n",
       "    </tr>\n",
       "    <tr>\n",
       "      <th>Mantova</th>\n",
       "      <td>34.18</td>\n",
       "    </tr>\n",
       "    <tr>\n",
       "      <th>Milano</th>\n",
       "      <td>34.81</td>\n",
       "    </tr>\n",
       "    <tr>\n",
       "      <th>Piacenza</th>\n",
       "      <td>33.92</td>\n",
       "    </tr>\n",
       "    <tr>\n",
       "      <th>Ravenna</th>\n",
       "      <td>32.79</td>\n",
       "    </tr>\n",
       "    <tr>\n",
       "      <th>Torino</th>\n",
       "      <td>34.69</td>\n",
       "    </tr>\n",
       "  </tbody>\n",
       "</table>\n",
       "</div>"
      ],
      "text/plain": [
       "           temp\n",
       "city           \n",
       "Asti      34.31\n",
       "Bologna   33.85\n",
       "Cesena    32.81\n",
       "Faenza    32.74\n",
       "Ferrara   33.43\n",
       "Mantova   34.18\n",
       "Milano    34.81\n",
       "Piacenza  33.92\n",
       "Ravenna   32.79\n",
       "Torino    34.69"
      ]
     },
     "execution_count": 106,
     "metadata": {},
     "output_type": "execute_result"
    }
   ],
   "source": [
    "temp_max = df.groupby(by='city')[['temp']].max()\n",
    "temp_max"
   ]
  },
  {
   "cell_type": "code",
   "execution_count": 108,
   "metadata": {
    "scrolled": true
   },
   "outputs": [
    {
     "data": {
      "text/html": [
       "<div>\n",
       "<style scoped>\n",
       "    .dataframe tbody tr th:only-of-type {\n",
       "        vertical-align: middle;\n",
       "    }\n",
       "\n",
       "    .dataframe tbody tr th {\n",
       "        vertical-align: top;\n",
       "    }\n",
       "\n",
       "    .dataframe thead th {\n",
       "        text-align: right;\n",
       "    }\n",
       "</style>\n",
       "<table border=\"1\" class=\"dataframe\">\n",
       "  <thead>\n",
       "    <tr style=\"text-align: right;\">\n",
       "      <th></th>\n",
       "      <th>temp</th>\n",
       "    </tr>\n",
       "    <tr>\n",
       "      <th>city</th>\n",
       "      <th></th>\n",
       "    </tr>\n",
       "  </thead>\n",
       "  <tbody>\n",
       "    <tr>\n",
       "      <th>Asti</th>\n",
       "      <td>18.01</td>\n",
       "    </tr>\n",
       "    <tr>\n",
       "      <th>Bologna</th>\n",
       "      <td>18.44</td>\n",
       "    </tr>\n",
       "    <tr>\n",
       "      <th>Cesena</th>\n",
       "      <td>18.41</td>\n",
       "    </tr>\n",
       "    <tr>\n",
       "      <th>Faenza</th>\n",
       "      <td>18.62</td>\n",
       "    </tr>\n",
       "    <tr>\n",
       "      <th>Ferrara</th>\n",
       "      <td>18.81</td>\n",
       "    </tr>\n",
       "    <tr>\n",
       "      <th>Mantova</th>\n",
       "      <td>19.03</td>\n",
       "    </tr>\n",
       "    <tr>\n",
       "      <th>Milano</th>\n",
       "      <td>18.28</td>\n",
       "    </tr>\n",
       "    <tr>\n",
       "      <th>Piacenza</th>\n",
       "      <td>18.68</td>\n",
       "    </tr>\n",
       "    <tr>\n",
       "      <th>Ravenna</th>\n",
       "      <td>18.22</td>\n",
       "    </tr>\n",
       "    <tr>\n",
       "      <th>Torino</th>\n",
       "      <td>18.94</td>\n",
       "    </tr>\n",
       "  </tbody>\n",
       "</table>\n",
       "</div>"
      ],
      "text/plain": [
       "           temp\n",
       "city           \n",
       "Asti      18.01\n",
       "Bologna   18.44\n",
       "Cesena    18.41\n",
       "Faenza    18.62\n",
       "Ferrara   18.81\n",
       "Mantova   19.03\n",
       "Milano    18.28\n",
       "Piacenza  18.68\n",
       "Ravenna   18.22\n",
       "Torino    18.94"
      ]
     },
     "execution_count": 108,
     "metadata": {},
     "output_type": "execute_result"
    }
   ],
   "source": [
    "temp_min = df.groupby(by='city')[['temp']].min()\n",
    "temp_min"
   ]
  },
  {
   "cell_type": "code",
   "execution_count": 129,
   "metadata": {},
   "outputs": [
    {
     "data": {
      "text/html": [
       "<div>\n",
       "<style scoped>\n",
       "    .dataframe tbody tr th:only-of-type {\n",
       "        vertical-align: middle;\n",
       "    }\n",
       "\n",
       "    .dataframe tbody tr th {\n",
       "        vertical-align: top;\n",
       "    }\n",
       "\n",
       "    .dataframe thead th {\n",
       "        text-align: right;\n",
       "    }\n",
       "</style>\n",
       "<table border=\"1\" class=\"dataframe\">\n",
       "  <thead>\n",
       "    <tr style=\"text-align: right;\">\n",
       "      <th></th>\n",
       "      <th>humidity</th>\n",
       "    </tr>\n",
       "    <tr>\n",
       "      <th>city</th>\n",
       "      <th></th>\n",
       "    </tr>\n",
       "  </thead>\n",
       "  <tbody>\n",
       "    <tr>\n",
       "      <th>Asti</th>\n",
       "      <td>29</td>\n",
       "    </tr>\n",
       "    <tr>\n",
       "      <th>Bologna</th>\n",
       "      <td>40</td>\n",
       "    </tr>\n",
       "    <tr>\n",
       "      <th>Cesena</th>\n",
       "      <td>61</td>\n",
       "    </tr>\n",
       "    <tr>\n",
       "      <th>Faenza</th>\n",
       "      <td>61</td>\n",
       "    </tr>\n",
       "    <tr>\n",
       "      <th>Ferrara</th>\n",
       "      <td>39</td>\n",
       "    </tr>\n",
       "    <tr>\n",
       "      <th>Mantova</th>\n",
       "      <td>28</td>\n",
       "    </tr>\n",
       "    <tr>\n",
       "      <th>Milano</th>\n",
       "      <td>35</td>\n",
       "    </tr>\n",
       "    <tr>\n",
       "      <th>Piacenza</th>\n",
       "      <td>35</td>\n",
       "    </tr>\n",
       "    <tr>\n",
       "      <th>Ravenna</th>\n",
       "      <td>34</td>\n",
       "    </tr>\n",
       "    <tr>\n",
       "      <th>Torino</th>\n",
       "      <td>45</td>\n",
       "    </tr>\n",
       "  </tbody>\n",
       "</table>\n",
       "</div>"
      ],
      "text/plain": [
       "          humidity\n",
       "city              \n",
       "Asti            29\n",
       "Bologna         40\n",
       "Cesena          61\n",
       "Faenza          61\n",
       "Ferrara         39\n",
       "Mantova         28\n",
       "Milano          35\n",
       "Piacenza        35\n",
       "Ravenna         34\n",
       "Torino          45"
      ]
     },
     "metadata": {},
     "output_type": "display_data"
    },
    {
     "data": {
      "text/html": [
       "<div>\n",
       "<style scoped>\n",
       "    .dataframe tbody tr th:only-of-type {\n",
       "        vertical-align: middle;\n",
       "    }\n",
       "\n",
       "    .dataframe tbody tr th {\n",
       "        vertical-align: top;\n",
       "    }\n",
       "\n",
       "    .dataframe thead th {\n",
       "        text-align: right;\n",
       "    }\n",
       "</style>\n",
       "<table border=\"1\" class=\"dataframe\">\n",
       "  <thead>\n",
       "    <tr style=\"text-align: right;\">\n",
       "      <th></th>\n",
       "      <th>humidity</th>\n",
       "    </tr>\n",
       "    <tr>\n",
       "      <th>city</th>\n",
       "      <th></th>\n",
       "    </tr>\n",
       "  </thead>\n",
       "  <tbody>\n",
       "    <tr>\n",
       "      <th>Asti</th>\n",
       "      <td>93</td>\n",
       "    </tr>\n",
       "    <tr>\n",
       "      <th>Bologna</th>\n",
       "      <td>92</td>\n",
       "    </tr>\n",
       "    <tr>\n",
       "      <th>Cesena</th>\n",
       "      <td>100</td>\n",
       "    </tr>\n",
       "    <tr>\n",
       "      <th>Faenza</th>\n",
       "      <td>100</td>\n",
       "    </tr>\n",
       "    <tr>\n",
       "      <th>Ferrara</th>\n",
       "      <td>85</td>\n",
       "    </tr>\n",
       "    <tr>\n",
       "      <th>Mantova</th>\n",
       "      <td>100</td>\n",
       "    </tr>\n",
       "    <tr>\n",
       "      <th>Milano</th>\n",
       "      <td>100</td>\n",
       "    </tr>\n",
       "    <tr>\n",
       "      <th>Piacenza</th>\n",
       "      <td>100</td>\n",
       "    </tr>\n",
       "    <tr>\n",
       "      <th>Ravenna</th>\n",
       "      <td>94</td>\n",
       "    </tr>\n",
       "    <tr>\n",
       "      <th>Torino</th>\n",
       "      <td>88</td>\n",
       "    </tr>\n",
       "  </tbody>\n",
       "</table>\n",
       "</div>"
      ],
      "text/plain": [
       "          humidity\n",
       "city              \n",
       "Asti            93\n",
       "Bologna         92\n",
       "Cesena         100\n",
       "Faenza         100\n",
       "Ferrara         85\n",
       "Mantova        100\n",
       "Milano         100\n",
       "Piacenza       100\n",
       "Ravenna         94\n",
       "Torino          88"
      ]
     },
     "metadata": {},
     "output_type": "display_data"
    }
   ],
   "source": [
    "humidity_min = df.groupby(by='city')[['humidity']].min()\n",
    "humidity_max = df.groupby(by='city')[['humidity']].max()\n",
    "display(humidity_min, humidity_max)"
   ]
  },
  {
   "cell_type": "markdown",
   "metadata": {},
   "source": [
    "显示最高温度与离海远近的关系"
   ]
  },
  {
   "cell_type": "code",
   "execution_count": 131,
   "metadata": {},
   "outputs": [
    {
     "data": {
      "text/plain": [
       "<matplotlib.collections.PathCollection at 0x1ebb9934780>"
      ]
     },
     "execution_count": 131,
     "metadata": {},
     "output_type": "execute_result"
    },
    {
     "data": {
      "image/png": "[encoded data removed]",
      "text/plain": [
       "<Figure size 432x288 with 1 Axes>"
      ]
     },
     "metadata": {
      "needs_background": "light"
     },
     "output_type": "display_data"
    }
   ],
   "source": [
    "plt.scatter(temp_max['temp'], dist['dist'],  c=np.random.randint(0, 10, size=len(dist['dist'])), marker='*', cmap='rainbow')"
   ]
  },
  {
   "cell_type": "markdown",
   "metadata": {},
   "source": [
    "观察发现，离海近的可以形成一条直线，离海远的也能形成一条直线。\n",
    "\n",
    "首先使用numpy：把列表转换为numpy数组，用于后续计算。\n",
    "\n",
    "分别以100公里和50公里为分界点，划分为离海近和离海远的两组数据"
   ]
  },
  {
   "cell_type": "code",
   "execution_count": 138,
   "metadata": {},
   "outputs": [
    {
     "data": {
      "text/html": [
       "<div>\n",
       "<style scoped>\n",
       "    .dataframe tbody tr th:only-of-type {\n",
       "        vertical-align: middle;\n",
       "    }\n",
       "\n",
       "    .dataframe tbody tr th {\n",
       "        vertical-align: top;\n",
       "    }\n",
       "\n",
       "    .dataframe thead th {\n",
       "        text-align: right;\n",
       "    }\n",
       "</style>\n",
       "<table border=\"1\" class=\"dataframe\">\n",
       "  <thead>\n",
       "    <tr style=\"text-align: right;\">\n",
       "      <th></th>\n",
       "      <th>temp</th>\n",
       "      <th>humidity</th>\n",
       "      <th>pressure</th>\n",
       "      <th>description</th>\n",
       "      <th>dt</th>\n",
       "      <th>wind_speed</th>\n",
       "      <th>wind_deg</th>\n",
       "      <th>city</th>\n",
       "      <th>day</th>\n",
       "      <th>dist</th>\n",
       "    </tr>\n",
       "  </thead>\n",
       "  <tbody>\n",
       "    <tr>\n",
       "      <th>0</th>\n",
       "      <td>28.05</td>\n",
       "      <td>66</td>\n",
       "      <td>1014.0</td>\n",
       "      <td>Sky is Clear</td>\n",
       "      <td>1436863176</td>\n",
       "      <td>2.57</td>\n",
       "      <td>42.501</td>\n",
       "      <td>Asti</td>\n",
       "      <td>2015-07-14 10:39:36</td>\n",
       "      <td>315</td>\n",
       "    </tr>\n",
       "    <tr>\n",
       "      <th>1</th>\n",
       "      <td>29.51</td>\n",
       "      <td>64</td>\n",
       "      <td>1014.0</td>\n",
       "      <td>Sky is Clear</td>\n",
       "      <td>1436866759</td>\n",
       "      <td>1.54</td>\n",
       "      <td>263.000</td>\n",
       "      <td>Asti</td>\n",
       "      <td>2015-07-14 11:39:19</td>\n",
       "      <td>315</td>\n",
       "    </tr>\n",
       "    <tr>\n",
       "      <th>2</th>\n",
       "      <td>30.39</td>\n",
       "      <td>58</td>\n",
       "      <td>1017.0</td>\n",
       "      <td>Sky is Clear</td>\n",
       "      <td>1436870510</td>\n",
       "      <td>2.60</td>\n",
       "      <td>100.000</td>\n",
       "      <td>Asti</td>\n",
       "      <td>2015-07-14 12:41:50</td>\n",
       "      <td>315</td>\n",
       "    </tr>\n",
       "    <tr>\n",
       "      <th>3</th>\n",
       "      <td>31.10</td>\n",
       "      <td>54</td>\n",
       "      <td>1017.0</td>\n",
       "      <td>Sky is Clear</td>\n",
       "      <td>1436874098</td>\n",
       "      <td>2.10</td>\n",
       "      <td>90.000</td>\n",
       "      <td>Asti</td>\n",
       "      <td>2015-07-14 13:41:38</td>\n",
       "      <td>315</td>\n",
       "    </tr>\n",
       "    <tr>\n",
       "      <th>4</th>\n",
       "      <td>33.23</td>\n",
       "      <td>45</td>\n",
       "      <td>1016.0</td>\n",
       "      <td>few clouds</td>\n",
       "      <td>1436877645</td>\n",
       "      <td>2.10</td>\n",
       "      <td>120.000</td>\n",
       "      <td>Asti</td>\n",
       "      <td>2015-07-14 14:40:45</td>\n",
       "      <td>315</td>\n",
       "    </tr>\n",
       "    <tr>\n",
       "      <th>...</th>\n",
       "      <td>...</td>\n",
       "      <td>...</td>\n",
       "      <td>...</td>\n",
       "      <td>...</td>\n",
       "      <td>...</td>\n",
       "      <td>...</td>\n",
       "      <td>...</td>\n",
       "      <td>...</td>\n",
       "      <td>...</td>\n",
       "      <td>...</td>\n",
       "    </tr>\n",
       "    <tr>\n",
       "      <th>670</th>\n",
       "      <td>20.50</td>\n",
       "      <td>77</td>\n",
       "      <td>1017.0</td>\n",
       "      <td>broken clouds</td>\n",
       "      <td>1435456195</td>\n",
       "      <td>2.10</td>\n",
       "      <td>340.000</td>\n",
       "      <td>Torino</td>\n",
       "      <td>2015-06-28 03:49:55</td>\n",
       "      <td>357</td>\n",
       "    </tr>\n",
       "    <tr>\n",
       "      <th>671</th>\n",
       "      <td>18.94</td>\n",
       "      <td>77</td>\n",
       "      <td>1018.0</td>\n",
       "      <td>few clouds</td>\n",
       "      <td>1435459725</td>\n",
       "      <td>2.60</td>\n",
       "      <td>30.000</td>\n",
       "      <td>Torino</td>\n",
       "      <td>2015-06-28 04:48:45</td>\n",
       "      <td>357</td>\n",
       "    </tr>\n",
       "    <tr>\n",
       "      <th>672</th>\n",
       "      <td>19.07</td>\n",
       "      <td>77</td>\n",
       "      <td>1018.0</td>\n",
       "      <td>Sky is Clear</td>\n",
       "      <td>1435463493</td>\n",
       "      <td>2.10</td>\n",
       "      <td>360.000</td>\n",
       "      <td>Torino</td>\n",
       "      <td>2015-06-28 05:51:33</td>\n",
       "      <td>357</td>\n",
       "    </tr>\n",
       "    <tr>\n",
       "      <th>673</th>\n",
       "      <td>19.05</td>\n",
       "      <td>82</td>\n",
       "      <td>1018.0</td>\n",
       "      <td>Sky is Clear</td>\n",
       "      <td>1435466876</td>\n",
       "      <td>1.50</td>\n",
       "      <td>10.000</td>\n",
       "      <td>Torino</td>\n",
       "      <td>2015-06-28 06:47:56</td>\n",
       "      <td>357</td>\n",
       "    </tr>\n",
       "    <tr>\n",
       "      <th>674</th>\n",
       "      <td>21.20</td>\n",
       "      <td>82</td>\n",
       "      <td>1018.0</td>\n",
       "      <td>Sky is Clear</td>\n",
       "      <td>1435470573</td>\n",
       "      <td>1.00</td>\n",
       "      <td>40.000</td>\n",
       "      <td>Torino</td>\n",
       "      <td>2015-06-28 07:49:33</td>\n",
       "      <td>357</td>\n",
       "    </tr>\n",
       "  </tbody>\n",
       "</table>\n",
       "<p>406 rows × 10 columns</p>\n",
       "</div>"
      ],
      "text/plain": [
       "      temp  humidity  pressure    description          dt  wind_speed  wind_deg    city                  day  dist\n",
       "0    28.05        66    1014.0   Sky is Clear  1436863176        2.57    42.501    Asti  2015-07-14 10:39:36   315\n",
       "1    29.51        64    1014.0   Sky is Clear  1436866759        1.54   263.000    Asti  2015-07-14 11:39:19   315\n",
       "2    30.39        58    1017.0   Sky is Clear  1436870510        2.60   100.000    Asti  2015-07-14 12:41:50   315\n",
       "3    31.10        54    1017.0   Sky is Clear  1436874098        2.10    90.000    Asti  2015-07-14 13:41:38   315\n",
       "4    33.23        45    1016.0     few clouds  1436877645        2.10   120.000    Asti  2015-07-14 14:40:45   315\n",
       "..     ...       ...       ...            ...         ...         ...       ...     ...                  ...   ...\n",
       "670  20.50        77    1017.0  broken clouds  1435456195        2.10   340.000  Torino  2015-06-28 03:49:55   357\n",
       "671  18.94        77    1018.0     few clouds  1435459725        2.60    30.000  Torino  2015-06-28 04:48:45   357\n",
       "672  19.07        77    1018.0   Sky is Clear  1435463493        2.10   360.000  Torino  2015-06-28 05:51:33   357\n",
       "673  19.05        82    1018.0   Sky is Clear  1435466876        1.50    10.000  Torino  2015-06-28 06:47:56   357\n",
       "674  21.20        82    1018.0   Sky is Clear  1435470573        1.00    40.000  Torino  2015-06-28 07:49:33   357\n",
       "\n",
       "[406 rows x 10 columns]"
      ]
     },
     "execution_count": 138,
     "metadata": {},
     "output_type": "execute_result"
    }
   ],
   "source": [
    "df.loc[df['dist']>50]"
   ]
  },
  {
   "cell_type": "code",
   "execution_count": 141,
   "metadata": {},
   "outputs": [
    {
     "data": {
      "text/html": [
       "<div>\n",
       "<style scoped>\n",
       "    .dataframe tbody tr th:only-of-type {\n",
       "        vertical-align: middle;\n",
       "    }\n",
       "\n",
       "    .dataframe tbody tr th {\n",
       "        vertical-align: top;\n",
       "    }\n",
       "\n",
       "    .dataframe thead th {\n",
       "        text-align: right;\n",
       "    }\n",
       "</style>\n",
       "<table border=\"1\" class=\"dataframe\">\n",
       "  <thead>\n",
       "    <tr style=\"text-align: right;\">\n",
       "      <th></th>\n",
       "      <th>temp</th>\n",
       "      <th>humidity</th>\n",
       "      <th>pressure</th>\n",
       "      <th>description</th>\n",
       "      <th>dt</th>\n",
       "      <th>wind_speed</th>\n",
       "      <th>wind_deg</th>\n",
       "      <th>city</th>\n",
       "      <th>day</th>\n",
       "      <th>dist</th>\n",
       "    </tr>\n",
       "  </thead>\n",
       "  <tbody>\n",
       "    <tr>\n",
       "      <th>136</th>\n",
       "      <td>29.15</td>\n",
       "      <td>83</td>\n",
       "      <td>1015.0</td>\n",
       "      <td>moderate rain</td>\n",
       "      <td>1436863101</td>\n",
       "      <td>3.62</td>\n",
       "      <td>94.001</td>\n",
       "      <td>Cesena</td>\n",
       "      <td>2015-07-14 10:38:21</td>\n",
       "      <td>14</td>\n",
       "    </tr>\n",
       "    <tr>\n",
       "      <th>137</th>\n",
       "      <td>29.37</td>\n",
       "      <td>74</td>\n",
       "      <td>1015.0</td>\n",
       "      <td>moderate rain</td>\n",
       "      <td>1436866691</td>\n",
       "      <td>3.60</td>\n",
       "      <td>20.000</td>\n",
       "      <td>Cesena</td>\n",
       "      <td>2015-07-14 11:38:11</td>\n",
       "      <td>14</td>\n",
       "    </tr>\n",
       "    <tr>\n",
       "      <th>138</th>\n",
       "      <td>29.51</td>\n",
       "      <td>78</td>\n",
       "      <td>1015.0</td>\n",
       "      <td>moderate rain</td>\n",
       "      <td>1436870392</td>\n",
       "      <td>3.60</td>\n",
       "      <td>70.000</td>\n",
       "      <td>Cesena</td>\n",
       "      <td>2015-07-14 12:39:52</td>\n",
       "      <td>14</td>\n",
       "    </tr>\n",
       "    <tr>\n",
       "      <th>139</th>\n",
       "      <td>29.88</td>\n",
       "      <td>70</td>\n",
       "      <td>1016.0</td>\n",
       "      <td>moderate rain</td>\n",
       "      <td>1436874000</td>\n",
       "      <td>4.60</td>\n",
       "      <td>60.000</td>\n",
       "      <td>Cesena</td>\n",
       "      <td>2015-07-14 13:40:00</td>\n",
       "      <td>14</td>\n",
       "    </tr>\n",
       "    <tr>\n",
       "      <th>140</th>\n",
       "      <td>30.12</td>\n",
       "      <td>70</td>\n",
       "      <td>1016.0</td>\n",
       "      <td>moderate rain</td>\n",
       "      <td>1436877549</td>\n",
       "      <td>4.10</td>\n",
       "      <td>70.000</td>\n",
       "      <td>Cesena</td>\n",
       "      <td>2015-07-14 14:39:09</td>\n",
       "      <td>14</td>\n",
       "    </tr>\n",
       "    <tr>\n",
       "      <th>...</th>\n",
       "      <td>...</td>\n",
       "      <td>...</td>\n",
       "      <td>...</td>\n",
       "      <td>...</td>\n",
       "      <td>...</td>\n",
       "      <td>...</td>\n",
       "      <td>...</td>\n",
       "      <td>...</td>\n",
       "      <td>...</td>\n",
       "      <td>...</td>\n",
       "    </tr>\n",
       "    <tr>\n",
       "      <th>602</th>\n",
       "      <td>19.81</td>\n",
       "      <td>81</td>\n",
       "      <td>1016.0</td>\n",
       "      <td>very heavy rain</td>\n",
       "      <td>1435453234</td>\n",
       "      <td>2.01</td>\n",
       "      <td>107.004</td>\n",
       "      <td>Ravenna</td>\n",
       "      <td>2015-06-28 03:00:34</td>\n",
       "      <td>8</td>\n",
       "    </tr>\n",
       "    <tr>\n",
       "      <th>603</th>\n",
       "      <td>19.20</td>\n",
       "      <td>82</td>\n",
       "      <td>1016.0</td>\n",
       "      <td>very heavy rain</td>\n",
       "      <td>1435456489</td>\n",
       "      <td>1.06</td>\n",
       "      <td>132.503</td>\n",
       "      <td>Ravenna</td>\n",
       "      <td>2015-06-28 03:54:49</td>\n",
       "      <td>8</td>\n",
       "    </tr>\n",
       "    <tr>\n",
       "      <th>604</th>\n",
       "      <td>18.68</td>\n",
       "      <td>88</td>\n",
       "      <td>1015.0</td>\n",
       "      <td>very heavy rain</td>\n",
       "      <td>1435460044</td>\n",
       "      <td>1.06</td>\n",
       "      <td>132.503</td>\n",
       "      <td>Ravenna</td>\n",
       "      <td>2015-06-28 04:54:04</td>\n",
       "      <td>8</td>\n",
       "    </tr>\n",
       "    <tr>\n",
       "      <th>605</th>\n",
       "      <td>18.22</td>\n",
       "      <td>85</td>\n",
       "      <td>1016.0</td>\n",
       "      <td>very heavy rain</td>\n",
       "      <td>1435463895</td>\n",
       "      <td>1.06</td>\n",
       "      <td>132.503</td>\n",
       "      <td>Ravenna</td>\n",
       "      <td>2015-06-28 05:58:15</td>\n",
       "      <td>8</td>\n",
       "    </tr>\n",
       "    <tr>\n",
       "      <th>606</th>\n",
       "      <td>19.20</td>\n",
       "      <td>87</td>\n",
       "      <td>1016.0</td>\n",
       "      <td>very heavy rain</td>\n",
       "      <td>1435467179</td>\n",
       "      <td>1.54</td>\n",
       "      <td>251.000</td>\n",
       "      <td>Ravenna</td>\n",
       "      <td>2015-06-28 06:52:59</td>\n",
       "      <td>8</td>\n",
       "    </tr>\n",
       "  </tbody>\n",
       "</table>\n",
       "<p>269 rows × 10 columns</p>\n",
       "</div>"
      ],
      "text/plain": [
       "      temp  humidity  pressure      description          dt  wind_speed  wind_deg     city                  day  dist\n",
       "136  29.15        83    1015.0    moderate rain  1436863101        3.62    94.001   Cesena  2015-07-14 10:38:21    14\n",
       "137  29.37        74    1015.0    moderate rain  1436866691        3.60    20.000   Cesena  2015-07-14 11:38:11    14\n",
       "138  29.51        78    1015.0    moderate rain  1436870392        3.60    70.000   Cesena  2015-07-14 12:39:52    14\n",
       "139  29.88        70    1016.0    moderate rain  1436874000        4.60    60.000   Cesena  2015-07-14 13:40:00    14\n",
       "140  30.12        70    1016.0    moderate rain  1436877549        4.10    70.000   Cesena  2015-07-14 14:39:09    14\n",
       "..     ...       ...       ...              ...         ...         ...       ...      ...                  ...   ...\n",
       "602  19.81        81    1016.0  very heavy rain  1435453234        2.01   107.004  Ravenna  2015-06-28 03:00:34     8\n",
       "603  19.20        82    1016.0  very heavy rain  1435456489        1.06   132.503  Ravenna  2015-06-28 03:54:49     8\n",
       "604  18.68        88    1015.0  very heavy rain  1435460044        1.06   132.503  Ravenna  2015-06-28 04:54:04     8\n",
       "605  18.22        85    1016.0  very heavy rain  1435463895        1.06   132.503  Ravenna  2015-06-28 05:58:15     8\n",
       "606  19.20        87    1016.0  very heavy rain  1435467179        1.54   251.000  Ravenna  2015-06-28 06:52:59     8\n",
       "\n",
       "[269 rows x 10 columns]"
      ]
     },
     "execution_count": 141,
     "metadata": {},
     "output_type": "execute_result"
    }
   ],
   "source": [
    "df.loc[~(df['dist']>50)]"
   ]
  },
  {
   "cell_type": "markdown",
   "metadata": {},
   "source": [
    "使用支持向量机计算回归参数"
   ]
  },
  {
   "cell_type": "code",
   "execution_count": null,
   "metadata": {
    "collapsed": true
   },
   "outputs": [],
   "source": []
  },
  {
   "cell_type": "code",
   "execution_count": null,
   "metadata": {
    "collapsed": true
   },
   "outputs": [],
   "source": []
  },
  {
   "cell_type": "markdown",
   "metadata": {
    "collapsed": true
   },
   "source": [
    "查看最低温度与海洋距离的关系"
   ]
  },
  {
   "cell_type": "code",
   "execution_count": 133,
   "metadata": {},
   "outputs": [
    {
     "data": {
      "text/plain": [
       "<matplotlib.collections.PathCollection at 0x1ebb7e8a6a0>"
      ]
     },
     "execution_count": 133,
     "metadata": {},
     "output_type": "execute_result"
    },
    {
     "data": {
      "image/png": "[encoded data removed]",
      "text/plain": [
       "<Figure size 432x288 with 1 Axes>"
      ]
     },
     "metadata": {
      "needs_background": "light"
     },
     "output_type": "display_data"
    }
   ],
   "source": [
    "plt.scatter(temp_min['temp'], dist['dist'],  c=np.random.randint(0, 10, size=len(dist['dist'])), marker='*', cmap='rainbow')"
   ]
  },
  {
   "cell_type": "code",
   "execution_count": null,
   "metadata": {
    "collapsed": true
   },
   "outputs": [],
   "source": []
  },
  {
   "cell_type": "markdown",
   "metadata": {},
   "source": [
    "最低湿度与海洋距离的关系"
   ]
  },
  {
   "cell_type": "code",
   "execution_count": 135,
   "metadata": {},
   "outputs": [
    {
     "data": {
      "text/plain": [
       "<matplotlib.collections.PathCollection at 0x1ebb7ff0198>"
      ]
     },
     "execution_count": 135,
     "metadata": {},
     "output_type": "execute_result"
    },
    {
     "data": {
      "image/png": "[encoded data removed]",
      "text/plain": [
       "<Figure size 432x288 with 1 Axes>"
      ]
     },
     "metadata": {
      "needs_background": "light"
     },
     "output_type": "display_data"
    }
   ],
   "source": [
    "plt.scatter(humidity_min['humidity'], dist['dist'],  c=np.random.randint(0, 10, size=len(dist['dist'])), marker='*', cmap='rainbow')"
   ]
  },
  {
   "cell_type": "code",
   "execution_count": null,
   "metadata": {
    "collapsed": true
   },
   "outputs": [],
   "source": []
  },
  {
   "cell_type": "markdown",
   "metadata": {},
   "source": [
    "最高湿度与海洋距离的关系"
   ]
  },
  {
   "cell_type": "code",
   "execution_count": 136,
   "metadata": {},
   "outputs": [
    {
     "data": {
      "text/plain": [
       "<matplotlib.collections.PathCollection at 0x1ebb9d7c470>"
      ]
     },
     "execution_count": 136,
     "metadata": {},
     "output_type": "execute_result"
    },
    {
     "data": {
      "image/png": "[encoded data removed]",
      "text/plain": [
       "<Figure size 432x288 with 1 Axes>"
      ]
     },
     "metadata": {
      "needs_background": "light"
     },
     "output_type": "display_data"
    }
   ],
   "source": [
    "plt.scatter(humidity_max['humidity'], dist['dist'],  c=np.random.randint(0, 10, size=len(dist['dist'])), marker='*', cmap='rainbow')"
   ]
  },
  {
   "cell_type": "markdown",
   "metadata": {},
   "source": [
    "平均湿度与海洋距离的关系"
   ]
  },
  {
   "cell_type": "code",
   "execution_count": 137,
   "metadata": {},
   "outputs": [
    {
     "data": {
      "text/plain": [
       "<matplotlib.collections.PathCollection at 0x1ebbb9eecf8>"
      ]
     },
     "execution_count": 137,
     "metadata": {},
     "output_type": "execute_result"
    },
    {
     "data": {
      "image/png": "[encoded data removed]",
      "text/plain": [
       "<Figure size 432x288 with 1 Axes>"
      ]
     },
     "metadata": {
      "needs_background": "light"
     },
     "output_type": "display_data"
    }
   ],
   "source": [
    "humidity_mean = df.groupby(by='city')[['humidity']].mean()\n",
    "plt.scatter(humidity_min['humidity'], dist['dist'],  c=np.random.randint(0, 10, size=len(dist['dist'])), marker='*', cmap='rainbow')"
   ]
  },
  {
   "cell_type": "markdown",
   "metadata": {},
   "source": [
    "思考：模仿最高温度，得到平均湿度与海洋距离的回归曲线"
   ]
  },
  {
   "cell_type": "markdown",
   "metadata": {},
   "source": [
    "风向与风速的关系"
   ]
  },
  {
   "cell_type": "code",
   "execution_count": 154,
   "metadata": {},
   "outputs": [
    {
     "data": {
      "text/plain": [
       "Text(0, 0.5, 'wind_deg')"
      ]
     },
     "execution_count": 154,
     "metadata": {},
     "output_type": "execute_result"
    },
    {
     "data": {
      "image/png": "[encoded data removed]",
      "text/plain": [
       "<Figure size 432x288 with 1 Axes>"
      ]
     },
     "metadata": {
      "needs_background": "light"
     },
     "output_type": "display_data"
    }
   ],
   "source": [
    "plt.scatter(df['wind_speed'], df['wind_deg'],  c=np.random.randint(0, 675, size=len(df['wind_deg'])), marker='*', cmap='rainbow')\n",
    "plt.xlabel('wind_speed')\n",
    "plt.ylabel('wind_deg')"
   ]
  },
  {
   "cell_type": "code",
   "execution_count": null,
   "metadata": {
    "collapsed": true
   },
   "outputs": [],
   "source": []
  },
  {
   "cell_type": "markdown",
   "metadata": {},
   "source": [
    "在子图中，同时比较风向与湿度和风力的关系"
   ]
  },
  {
   "cell_type": "code",
   "execution_count": 175,
   "metadata": {},
   "outputs": [
    {
     "data": {
      "text/plain": [
       "<matplotlib.collections.PathCollection at 0x1eb80cccc18>"
      ]
     },
     "execution_count": 175,
     "metadata": {},
     "output_type": "execute_result"
    },
    {
     "data": {
      "image/png": "[encoded data removed]",
      "text/plain": [
       "<Figure size 1080x576 with 2 Axes>"
      ]
     },
     "metadata": {
      "needs_background": "light"
     },
     "output_type": "display_data"
    }
   ],
   "source": [
    "plt.figure(figsize=(3*5, 2*4))\n",
    "axes1 = plt.subplot(1, 2, 1)\n",
    "axes1.scatter(df['wind_speed'], df['wind_deg'],  c=np.random.randint(0, 675, size=len(df['wind_deg'])), marker='*', cmap='rainbow')\n",
    "axes2 = plt.subplot(1, 2, 2)\n",
    "axes2.scatter(df['humidity'], df['wind_deg'],  c=np.random.randint(0, 675, size=len(df['wind_deg'])), marker='*', cmap='rainbow')"
   ]
  },
  {
   "cell_type": "code",
   "execution_count": null,
   "metadata": {
    "collapsed": true
   },
   "outputs": [],
   "source": []
  },
  {
   "cell_type": "markdown",
   "metadata": {},
   "source": [
    "可以看到散点图显示效果不好"
   ]
  },
  {
   "cell_type": "markdown",
   "metadata": {},
   "source": [
    "由于风向是360度，我们可以考虑使用玫瑰图（极坐标条形图）"
   ]
  },
  {
   "cell_type": "markdown",
   "metadata": {},
   "source": [
    "首先自定义一个画图函数"
   ]
  },
  {
   "cell_type": "code",
   "execution_count": null,
   "metadata": {
    "collapsed": true
   },
   "outputs": [],
   "source": []
  },
  {
   "cell_type": "code",
   "execution_count": null,
   "metadata": {
    "collapsed": true
   },
   "outputs": [],
   "source": []
  },
  {
   "cell_type": "markdown",
   "metadata": {},
   "source": [
    "用numpy创建一个直方图，将360度划分为8个面元，将数据分类到这8个面元中"
   ]
  },
  {
   "cell_type": "code",
   "execution_count": null,
   "metadata": {
    "collapsed": true
   },
   "outputs": [],
   "source": []
  },
  {
   "cell_type": "code",
   "execution_count": null,
   "metadata": {
    "collapsed": true
   },
   "outputs": [],
   "source": []
  },
  {
   "cell_type": "markdown",
   "metadata": {
    "collapsed": true
   },
   "source": [
    "计算米兰各个方向上的风速"
   ]
  },
  {
   "cell_type": "code",
   "execution_count": null,
   "metadata": {
    "collapsed": true
   },
   "outputs": [],
   "source": []
  },
  {
   "cell_type": "markdown",
   "metadata": {},
   "source": [
    "将各个方向的风速保存在列表中"
   ]
  },
  {
   "cell_type": "code",
   "execution_count": null,
   "metadata": {
    "collapsed": true
   },
   "outputs": [],
   "source": []
  },
  {
   "cell_type": "code",
   "execution_count": null,
   "metadata": {
    "collapsed": true
   },
   "outputs": [],
   "source": []
  },
  {
   "cell_type": "markdown",
   "metadata": {},
   "source": [
    "画出各个方向的风速"
   ]
  },
  {
   "cell_type": "code",
   "execution_count": null,
   "metadata": {
    "collapsed": true
   },
   "outputs": [],
   "source": []
  },
  {
   "cell_type": "code",
   "execution_count": null,
   "metadata": {
    "collapsed": true
   },
   "outputs": [],
   "source": []
  },
  {
   "cell_type": "markdown",
   "metadata": {},
   "source": [
    "将上面步骤写成函数"
   ]
  },
  {
   "cell_type": "code",
   "execution_count": null,
   "metadata": {
    "collapsed": true
   },
   "outputs": [],
   "source": []
  },
  {
   "cell_type": "code",
   "execution_count": null,
   "metadata": {
    "collapsed": true
   },
   "outputs": [],
   "source": []
  },
  {
   "cell_type": "code",
   "execution_count": null,
   "metadata": {
    "collapsed": true
   },
   "outputs": [],
   "source": []
  }
 ],
 "metadata": {
  "kernelspec": {
   "display_name": "Python 3",
   "language": "python",
   "name": "python3"
  },
  "language_info": {
   "codemirror_mode": {
    "name": "ipython",
    "version": 3
   },
   "file_extension": ".py",
   "mimetype": "text/x-python",
   "name": "python",
   "nbconvert_exporter": "python",
   "pygments_lexer": "ipython3",
   "version": "3.7.1"
  }
 },
 "nbformat": 4,
 "nbformat_minor": 1
}
